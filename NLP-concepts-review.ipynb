{
 "cells": [
  {
   "cell_type": "markdown",
   "metadata": {},
   "source": [
    "### NLP: What are we doing with text?"
   ]
  },
  {
   "cell_type": "markdown",
   "metadata": {},
   "source": [
    "\n",
    "* sentiment analysis\n",
    "* translation\n",
    "* text to speech\n",
    "* document retrieval\n",
    "* information extraction\n",
    "    * detecting events in emails for scheduling\n",
    "* opinion mining\n",
    "* text classification\n",
    "    * Spam detection\n",
    "    * authorship attribution\n",
    "* question answering\n",
    "* conversational agents\n",
    "    * chat bots\n",
    "    * digital assistants\n",
    "* summarization\n",
    "* topic modeling"
   ]
  },
  {
   "cell_type": "markdown",
   "metadata": {},
   "source": [
    "### Key challenges:\n",
    "* how can we represent text in a way where useful information is accessible?\n",
    "* how can we map semantically equivalent utterances to something identifiable as such?\n",
    "* removing low level noise\n",
    "    * errors, typos, formatting,\n",
    "* removing high level noise\n",
    "    * removing things that are irrelavant"
   ]
  },
  {
   "cell_type": "markdown",
   "metadata": {},
   "source": [
    "### Meta Algorithm:\n",
    "\n",
    "* Choose a token representation\n",
    "    * Examples: raw, stemmed, lowercase, tagged, classified\n",
    "* Choose a data structure for sentence or document representation\n",
    "    * Examples: graphs/trees, tuples, matrices, tensors\n",
    "* Choose an algorithm for populating data structures with values\n",
    "    * Examples: existance, tfidf, neural embedding\n"
   ]
  },
  {
   "cell_type": "markdown",
   "metadata": {},
   "source": [
    "* phonology\n",
    "* morphology\n",
    "* syntax\n",
    "* semantics\n",
    "* pragmatics"
   ]
  },
  {
   "cell_type": "code",
   "execution_count": null,
   "metadata": {
    "collapsed": true
   },
   "outputs": [],
   "source": []
  }
 ],
 "metadata": {
  "kernelspec": {
   "display_name": "Python 3",
   "language": "python",
   "name": "python3"
  },
  "language_info": {
   "codemirror_mode": {
    "name": "ipython",
    "version": 3
   },
   "file_extension": ".py",
   "mimetype": "text/x-python",
   "name": "python",
   "nbconvert_exporter": "python",
   "pygments_lexer": "ipython3",
   "version": "3.6.1"
  }
 },
 "nbformat": 4,
 "nbformat_minor": 2
}
