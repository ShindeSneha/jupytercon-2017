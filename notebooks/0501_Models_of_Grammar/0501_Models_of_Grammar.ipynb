{
 "cells": [
  {
   "cell_type": "code",
   "execution_count": 5,
   "metadata": {
    "_datascience": {},
    "collapsed": false
   },
   "outputs": [
    {
     "name": "stderr",
     "output_type": "stream",
     "text": [
      "/usr/local/lib/python2.7/dist-packages/matplotlib/__init__.py:872: UserWarning: axes.color_cycle is deprecated and replaced with axes.prop_cycle; please use the latter.\n",
      "  warnings.warn(self.msg_depr % (key, alt_key))\n"
     ]
    }
   ],
   "source": [
    "%matplotlib inline\n",
    "from IPython.display import HTML\n",
    "import networkx as nx\n",
    "from matplotlib import pyplot as plt\n",
    "plt.rcParams['figure.figsize'] = (16, 7)"
   ]
  },
  {
   "cell_type": "markdown",
   "metadata": {
    "_datascience": {}
   },
   "source": [
    "<center>\n",
    "<h3> Models of Grammar </h3>\n",
    "<br>\n",
    "<div style=\"width: 25%; margin-left: auto; margin-right: auto;\">\n",
    "<ul>\n",
    "<li>What is a grammar model? </li>\n",
    "<li>What is Valency Grammar (precursor to Dependency Grammar)?</li>\n",
    "</ul>\n",
    "</div>\n",
    "</center>"
   ]
  },
  {
   "cell_type": "code",
   "execution_count": 17,
   "metadata": {
    "_datascience": {},
    "collapsed": false
   },
   "outputs": [
    {
     "data": {
      "text/html": [
       "\n",
       "<center>\n",
       "<style>\n",
       "    .un {\n",
       "    background-color:'red';\n",
       "    }\n",
       "    .reach {\n",
       "    background-color:'green';\n",
       "    }\n",
       "    .able {\n",
       "    background-color:'blue';\n",
       "    }\n",
       "</style>\n",
       "<h3>Morphology</h3>\n",
       "<h5>'<span class='un'>Un</span><span class='reach'>reach</span><span class='able'>able</span>'</h5>\n",
       "<br>\n",
       "<table border=\"1\" class=\"dataframe\">\n",
       "<thead>\n",
       "    \n",
       "<tr style=\"text-align: right;\">\n",
       "<th></th>\n",
       "<th>Effect</th>\n",
       "<th>Morpheme</th>\n",
       "</tr>\n",
       "    <tr>\n",
       "      <th></th>\n",
       "      <th></th>\n",
       "      <th></th>\n",
       "    </tr>\n",
       "  </thead>\n",
       "  <tbody>\n",
       "    <tr>\n",
       "      <th>un</th>\n",
       "      <td>Negation</td>\n",
       "      <td>Prefix</td>\n",
       "    </tr>\n",
       "    <tr>\n",
       "      <th>reach</th>\n",
       "      <td>Verb</td>\n",
       "      <td>Root</td>\n",
       "    </tr>\n",
       "    <tr>\n",
       "      <th>able</th>\n",
       "      <td>To Adjective</td>\n",
       "      <td>Suffix</td>\n",
       "    </tr>\n",
       "  </tbody>\n",
       "</table>'\n",
       "</center>\n"
      ],
      "text/plain": [
       "<IPython.core.display.HTML object>"
      ]
     },
     "execution_count": 17,
     "metadata": {},
     "output_type": "execute_result"
    }
   ],
   "source": [
    "HTML(morphology)"
   ]
  },
  {
   "cell_type": "code",
   "execution_count": 11,
   "metadata": {
    "_datascience": {},
    "collapsed": false
   },
   "outputs": [
    {
     "data": {
      "text/html": [
       "\n",
       "<center>\n",
       "<h3> Syntax </h3>\n",
       "<br>\n",
       "<h5> Exchangeability within syntactic classes. </h5>\n",
       "<br>\n",
       "<br>\n",
       "<svg class=\"displacy\" width=\"950\" height=\"220\" viewBox=\"0 0 950 220\" preserveAspectRatio=\"xMinYMax meet\" data-format=\"spacy\" id=\"displacy-svg\" style=\"color: rgb(245, 244, 240); background: rgb(39, 40, 34); font-family: inherit;\">\n",
       "\n",
       "\t<text class=\"displacy-token\" fill=\"currentColor\" data-tag=\"PRP\" text-anchor=\"middle\" y=\"140\">\n",
       "\t\t<tspan class=\"displacy-word\" x=\"300\" fill=\"currentColor\" data-tag=\"PRP\">He</tspan>\n",
       "\n",
       "\t</text>\n",
       "\n",
       "\t<text class=\"displacy-token\" fill=\"currentColor\" data-tag=\"VBD\" text-anchor=\"middle\" y=\"140\">\n",
       "\t\t<tspan class=\"displacy-word\" x=\"340\" fill=\"currentColor\" data-tag=\"VBD\">went</tspan>\n",
       "\n",
       "\t</text>\n",
       "\t<text class=\"displacy-token\" fill=\"currentColor\" data-tag=\"VBD\" text-anchor=\"middle\" y=\"140\">\n",
       "\t\t<tspan class=\"displacy-word\" x=\"380\" fill=\"currentColor\" data-tag=\"VBD\">to</tspan>\n",
       "\n",
       "\t</text>\n",
       "\n",
       "\t\t<text class=\"displacy-token\" fill=\"currentColor\" data-tag=\"VBD\" text-anchor=\"middle\" y=\"140\">\n",
       "\t\t<tspan class=\"displacy-word\" x=\"420\" fill=\"currentColor\" data-tag=\"VBD\">the</tspan>\n",
       "\n",
       "\t</text>\n",
       "\n",
       "\t\t<text class=\"displacy-token\" fill=\"currentColor\" data-tag=\"VBD\" text-anchor=\"middle\" y=\"140\">\n",
       "\t\t<tspan class=\"displacy-word\" x=\"460\" fill=\"currentColor\" data-tag=\"VBD\">store.</tspan>\n",
       "\n",
       "\t</text>\n",
       "\n",
       "\n",
       "\n",
       "\n",
       "\t\t<text class=\"displacy-token\" fill=\"currentColor\" data-tag=\"VBD\" text-anchor=\"middle\" y=\"140\">\n",
       "\t\t<tspan class=\"displacy-word\" x=\"50\" fill=\"currentColor\" data-tag=\"VBD\">She</tspan>\n",
       "\t\t<tspan class=\"displacy-word\" x=\"50\" fill=\"currentColor\" dy=\"1em\" data-tag=\"VBD\">John</tspan>\n",
       "\t\t<tspan class=\"displacy-word\" x=\"50\" fill=\"currentColor\" dy=\"1em\" data-tag=\"VBD\">The man</tspan>\n",
       "\n",
       "\n",
       "\t</text>\n",
       "\n",
       "\n",
       "\n",
       "\n",
       "\n",
       "\n",
       "\t<g class=\"displacy-arrow\" data-dir=\"left\" data-label=\"nsubj\">\n",
       "\t\t<path class=\"displacy-arc\" d=\"M50,100 C150,0 300,0 300,100\" stroke-width=\"2px\" fill=\"none\" stroke=\"currentColor\" data-dir=\"left\" data-label=\"nsubj\" id=\"arrow-0\"></path>\n",
       "\t\t<text dy=\"1em\">\n",
       "\t\t\t<textPath class=\"displacy-label\" startOffset=\"50%\" fill=\"currentColor\" text-anchor=\"middle\" data-label=\"nsubj\" data-dir=\"left\" xmlns:xlink=\"http://www.w3.org/1999/xlink\" xlink:href=\"#arrow-0\">Exchangeable subjects</textPath>\n",
       "\t\t</text>\n",
       "\t\t<path class=\"displacy-arrowhead\" d=\"M300,102 L294,92 306,92\" fill=\"currentColor\" data-label=\"nsubj\" data-dir=\"left\"></path>\n",
       "\t</g>\n",
       "\n",
       "</svg>\n",
       "\n",
       "<br>\n",
       "<br>\n",
       "<h5>Compiling Syntactic Units</h5>\n",
       "<br>\n",
       "\n",
       "<style type=\"text/css\">\n",
       ".tg  {border-collapse:collapse;border-spacing:0;}\n",
       ".tg td{font-family:Arial, sans-serif;font-size:14px;padding:10px 5px;border-style:solid;border-width:1px;overflow:hidden;word-break:normal;}\n",
       ".tg th{font-family:Arial, sans-serif;font-size:14px;font-weight:normal;padding:10px 5px;border-style:solid;border-width:1px;overflow:hidden;word-break:normal;}\n",
       ".tg .tg-yw4l{vertical-align:top}\n",
       "</style>\n",
       "<table class=\"tg\">\n",
       "  <tr>\n",
       "    <th class=\"tg-yw4l\">The</th>\n",
       "    <th class=\"tg-yw4l\">man</th>\n",
       "    <th class=\"tg-yw4l\">went</th>\n",
       "    <th class=\"tg-yw4l\">to </th>\n",
       "    <th class=\"tg-yw4l\">the</th>\n",
       "    <th class=\"tg-yw4l\">store</th>\n",
       "  </tr>\n",
       "  <tr>\n",
       "    <td class=\"tg-yw4l\">determiner</td>\n",
       "    <td class=\"tg-yw4l\">simple subject</td>\n",
       "    <td class=\"tg-yw4l\">verb</td>\n",
       "    <td class=\"tg-yw4l\">preposition<br></td>\n",
       "    <td class=\"tg-yw4l\">determiner</td>\n",
       "    <td class=\"tg-yw4l\">object (of preposition)</td>\n",
       "  </tr>\n",
       "  <tr>\n",
       "    <td class=\"tg-yw4l\" colspan=\"2\">subject phrase</td>\n",
       "    <td class=\"tg-yw4l\"></td>\n",
       "    <td class=\"tg-yw4l\" colspan=\"3\">prepositional phrase</td>\n",
       "  </tr>\n",
       "  <tr>\n",
       "    <td class=\"tg-yw4l\" colspan=\"2\"></td>\n",
       "    <td class=\"tg-yw4l\" colspan=\"4\">verb phrase</td>\n",
       "  </tr>\n",
       "</table>\n",
       "</center>\n"
      ],
      "text/plain": [
       "<IPython.core.display.HTML object>"
      ]
     },
     "execution_count": 11,
     "metadata": {},
     "output_type": "execute_result"
    }
   ],
   "source": [
    "\n",
    "HTML(syntax)"
   ]
  },
  {
   "cell_type": "code",
   "execution_count": 8,
   "metadata": {
    "_datascience": {},
    "collapsed": false
   },
   "outputs": [
    {
     "data": {
      "text/html": [
       "\n",
       "\n",
       "<center>\n",
       "<h3> The importance of Morphology and Syntax:</h3>\n",
       "<h5> Word order affects semantics:</h5>\n",
       "<br>\n",
       "\n",
       "<strong>Original sentence:</strong>\n",
       "<br>\n",
       "He did not like the movie, and told the cashier he wanted his money back.\n",
       "<br>\n",
       "<br>\n",
       "<strong>With mutated morpology and word order:</strong>\n",
       "<br>\n",
       "The cashier liked the movie, and told him he did not want his money back\n",
       "<br>\n",
       "<br>\n",
       "<br>\n",
       "<br>\n",
       "<br>\n",
       "<br>\n",
       "<h5> Sometimes only syntax can reveal meaning:</h5>\n",
       "<br>\n",
       "Who was wearing the pajamas?\n",
       "<br>\n",
       "<svg class=\"displacy\" width=\"1550\" height=\"320\" viewBox=\"0 0 1550 320\" preserveAspectRatio=\"xMinYMax meet\" data-format=\"spacy\" id=\"displacy-svg\" style=\"color: rgb(245, 244, 240); background: rgb(39, 40, 34); font-family: inherit;\">\n",
       "\n",
       "\t<text class=\"displacy-token\" fill=\"currentColor\" data-tag=\"DT\" text-anchor=\"middle\" y=\"240\">\n",
       "\t\t<tspan class=\"displacy-word\" x=\"150\" fill=\"currentColor\" data-tag=\"DT\">This\n",
       "\t\t</tspan>\n",
       "\n",
       "\t\t<tspan class=\"displacy-tag\" x=\"150\" dy=\"2em\" fill=\"currentColor\" data-tag=\"DT\">DT\n",
       "\t\t</tspan>\n",
       "\t</text>\n",
       "\n",
       "\t<text class=\"displacy-token\" fill=\"currentColor\" data-tag=\"NN\" text-anchor=\"middle\" y=\"240\">\n",
       "\t\t<tspan class=\"displacy-word\" x=\"350\" fill=\"currentColor\" data-tag=\"NN\">morning</tspan>\n",
       "\n",
       "\t\t<tspan class=\"displacy-tag\" x=\"350\" dy=\"2em\" fill=\"currentColor\" data-tag=\"NN\">NN</tspan>\n",
       "\n",
       "\t</text>\n",
       "\n",
       "\t<text class=\"displacy-token\" fill=\"currentColor\" data-tag=\"PRP\" text-anchor=\"middle\" y=\"240\">\n",
       "\n",
       "\t\t<tspan class=\"displacy-word\" x=\"550\" fill=\"currentColor\" data-tag=\"PRP\">I</tspan>\n",
       "\n",
       "\t\t<tspan class=\"displacy-tag\" x=\"550\" dy=\"2em\" fill=\"currentColor\" data-tag=\"PRP\">PRP</tspan>\n",
       "\n",
       "\t</text>\n",
       "\t<text class=\"displacy-token\" fill=\"currentColor\" data-tag=\"VBD\" text-anchor=\"middle\" y=\"240\">\n",
       "\t\t<tspan class=\"displacy-word\" x=\"750\" fill=\"currentColor\" data-tag=\"VBD\">shot</tspan>\n",
       "\n",
       "\t\t<tspan class=\"displacy-tag\" x=\"750\" dy=\"2em\" fill=\"currentColor\" data-tag=\"VBD\">VBD</tspan>\n",
       "\t</text>\n",
       "\n",
       "\t<text class=\"displacy-token\" fill=\"currentColor\" data-tag=\"NN\" text-anchor=\"middle\" y=\"240\">\n",
       "\t\t<tspan class=\"displacy-word\" x=\"950\" fill=\"currentColor\" data-tag=\"NN\">an elephant</tspan>\n",
       "\n",
       "\t\t<tspan class=\"displacy-tag\" x=\"950\" dy=\"2em\" fill=\"currentColor\" data-tag=\"NN\">NN</tspan>\n",
       "\t</text>\n",
       "\n",
       "\t<text class=\"displacy-token\" fill=\"currentColor\" data-tag=\"IN\" text-anchor=\"middle\" y=\"240\">\n",
       "\t\t<tspan class=\"displacy-word\" x=\"1150\" fill=\"currentColor\" data-tag=\"IN\">in</tspan>\n",
       "\n",
       "\t\t<tspan class=\"displacy-tag\" x=\"1150\" dy=\"2em\" fill=\"currentColor\" data-tag=\"IN\">IN</tspan>\n",
       "\t</text>\n",
       "\n",
       "\t<text class=\"displacy-token\" fill=\"currentColor\" data-tag=\"NNS\" text-anchor=\"middle\" y=\"240\">\n",
       "\t\t<tspan class=\"displacy-word\" x=\"1350\" fill=\"currentColor\" data-tag=\"NNS\">my pajamas</tspan>\n",
       "\n",
       "\t\t<tspan class=\"displacy-tag\" x=\"1350\" dy=\"2em\" fill=\"currentColor\" data-tag=\"NNS\">NNS</tspan></text><g class=\"displacy-arrow\" data-dir=\"left\" data-label=\"det\">\n",
       "\n",
       "<!--\n",
       "\t<path class=\"displacy-arc\" d=\"M152.5,200 C152.5,100 347.5,100 347.5,200\" stroke-width=\"2px\" fill=\"none\" stroke=\"currentColor\" data-dir=\"left\" data-label=\"det\" id=\"arrow-0\"></path>\n",
       "\n",
       "\t<text dy=\"1em\">\n",
       "\t<textPath class=\"displacy-label\" startOffset=\"50%\" fill=\"currentColor\" text-anchor=\"middle\" data-label=\"det\" data-dir=\"left\" xmlns:xlink=\"http://www.w3.org/1999/xlink\" xlink:href=\"#arrow-0\">det</textPath>\n",
       "\n",
       "\t</text>\n",
       "\n",
       "\t<path class=\"displacy-arrowhead\" d=\"M152.5,202 L146.5,192 158.5,192\" fill=\"currentColor\" data-label=\"det\" data-dir=\"left\"></path></g>\n",
       "\n",
       "\t<g class=\"displacy-arrow\" data-dir=\"left\" data-label=\"npadvmod\"><path class=\"displacy-arc\" d=\"M350,200 C350,0 750,0 750,200\" stroke-width=\"2px\" fill=\"none\" stroke=\"currentColor\" data-dir=\"left\" data-label=\"npadvmod\" id=\"arrow-1\"></path><text dy=\"1em\">\n",
       "\n",
       "\n",
       "\t<textPath class=\"displacy-label\" startOffset=\"50%\" fill=\"currentColor\" text-anchor=\"middle\" data-label=\"npadvmod\" data-dir=\"left\" xmlns:xlink=\"http://www.w3.org/1999/xlink\" xlink:href=\"#arrow-1\">npadvmod</textPath></text><path class=\"displacy-arrowhead\" d=\"M350,202 L344,192 356,192\" fill=\"currentColor\" data-label=\"npadvmod\" data-dir=\"left\"></path></g><g class=\"displacy-arrow\" data-dir=\"left\" data-label=\"nsubj\"><path class=\"displacy-arc\" d=\"M552.5,200 C552.5,100 747.5,100 747.5,200\" stroke-width=\"2px\" fill=\"none\" stroke=\"currentColor\" data-dir=\"left\" data-label=\"nsubj\" id=\"arrow-2\"></path><text dy=\"1em\"><textPath class=\"displacy-label\" startOffset=\"50%\" fill=\"currentColor\" text-anchor=\"middle\" data-label=\"nsubj\" data-dir=\"left\" xmlns:xlink=\"http://www.w3.org/1999/xlink\" xlink:href=\"#arrow-2\">nsubj</textPath></text>\n",
       "\n",
       "\n",
       "\n",
       "\t<path class=\"displacy-arrowhead\" d=\"M552.5,202 L546.5,192 558.5,192\" fill=\"currentColor\" data-label=\"nsubj\" data-dir=\"left\"></path></g>\n",
       "-->\n",
       "\t<g class=\"displacy-arrow\" data-dir=\"right\" data-label=\"dobj\"><path class=\"displacy-arc\" d=\"M752.5,200 C752.5,100 947.5,100 947.5,200\" stroke-width=\"2px\" fill=\"none\" stroke=\"currentColor\" data-dir=\"right\" data-label=\"dobj\" id=\"arrow-3\"></path><text dy=\"1em\"><textPath class=\"displacy-label\" startOffset=\"50%\" fill=\"currentColor\" text-anchor=\"middle\" data-label=\"dobj\" data-dir=\"right\" xmlns:xlink=\"http://www.w3.org/1999/xlink\" xlink:href=\"#arrow-3\">dobj</textPath></text><path class=\"displacy-arrowhead\" d=\"M947.5,202 L953.5,192 941.5,192\" fill=\"currentColor\" data-label=\"dobj\" data-dir=\"right\"></path></g><g class=\"displacy-arrow\" data-dir=\"right\" data-label=\"prep\"><path class=\"displacy-arc\" d=\"M750,200 C750,0 1150,0 1150,200\" stroke-width=\"2px\" fill=\"none\" stroke=\"currentColor\" data-dir=\"right\" data-label=\"prep\" id=\"arrow-4\"></path><text dy=\"1em\">\n",
       "\n",
       "\t<textPath class=\"displacy-label\" startOffset=\"50%\" fill=\"currentColor\" text-anchor=\"middle\" data-label=\"prep\" data-dir=\"right\" xmlns:xlink=\"http://www.w3.org/1999/xlink\" xlink:href=\"#arrow-4\">prep</textPath></text><path class=\"displacy-arrowhead\" d=\"M1150,202 L1156,192 1144,192\" fill=\"currentColor\" data-label=\"prep\" data-dir=\"right\"></path></g><g class=\"displacy-arrow\" data-dir=\"right\" data-label=\"pobj\"><path class=\"displacy-arc\" d=\"M1152.5,200 C1152.5,100 1347.5,100 1347.5,200\" stroke-width=\"2px\" fill=\"none\" stroke=\"currentColor\" data-dir=\"right\" data-label=\"pobj\" id=\"arrow-5\"></path><text dy=\"1em\"><textPath class=\"displacy-label\" startOffset=\"50%\" fill=\"currentColor\" text-anchor=\"middle\" data-label=\"pobj\" data-dir=\"right\" xmlns:xlink=\"http://www.w3.org/1999/xlink\" xlink:href=\"#arrow-5\">pobj</textPath></text><path class=\"displacy-arrowhead\" d=\"M1347.5,202 L1353.5,192 1341.5,192\" fill=\"currentColor\" data-label=\"pobj\" data-dir=\"right\"></path></g>\n",
       "\n",
       "\t</svg>\n",
       "<br>\n",
       "<br>\n",
       "<svg class=\"displacy\" width=\"1550\" height=\"320\" viewBox=\"0 0 1550 320\" preserveAspectRatio=\"xMinYMax meet\" data-format=\"spacy\" id=\"displacy-svg\" style=\"color: rgb(245, 244, 240); background: rgb(39, 40, 34); font-family: inherit;\">\n",
       "\n",
       "\t<text class=\"displacy-token\" fill=\"currentColor\" data-tag=\"DT\" text-anchor=\"middle\" y=\"240\">\n",
       "\t\t<tspan class=\"displacy-word\" x=\"150\" fill=\"currentColor\" data-tag=\"DT\">This\n",
       "\t\t</tspan>\n",
       "\n",
       "\t\t<tspan class=\"displacy-tag\" x=\"150\" dy=\"2em\" fill=\"currentColor\" data-tag=\"DT\">DT\n",
       "\t\t</tspan>\n",
       "\t</text>\n",
       "\n",
       "\t<text class=\"displacy-token\" fill=\"currentColor\" data-tag=\"NN\" text-anchor=\"middle\" y=\"240\">\n",
       "\t\t<tspan class=\"displacy-word\" x=\"350\" fill=\"currentColor\" data-tag=\"NN\">morning</tspan>\n",
       "\n",
       "\t\t<tspan class=\"displacy-tag\" x=\"350\" dy=\"2em\" fill=\"currentColor\" data-tag=\"NN\">NN</tspan>\n",
       "\n",
       "\t</text>\n",
       "\n",
       "\t<text class=\"displacy-token\" fill=\"currentColor\" data-tag=\"PRP\" text-anchor=\"middle\" y=\"240\">\n",
       "\n",
       "\t\t<tspan class=\"displacy-word\" x=\"550\" fill=\"currentColor\" data-tag=\"PRP\">I</tspan>\n",
       "\n",
       "\t\t<tspan class=\"displacy-tag\" x=\"550\" dy=\"2em\" fill=\"currentColor\" data-tag=\"PRP\">PRP</tspan>\n",
       "\n",
       "\t</text>\n",
       "\t<text class=\"displacy-token\" fill=\"currentColor\" data-tag=\"VBD\" text-anchor=\"middle\" y=\"240\">\n",
       "\t\t<tspan class=\"displacy-word\" x=\"750\" fill=\"currentColor\" data-tag=\"VBD\">shot</tspan>\n",
       "\n",
       "\t\t<tspan class=\"displacy-tag\" x=\"750\" dy=\"2em\" fill=\"currentColor\" data-tag=\"VBD\">VBD</tspan>\n",
       "\t</text>\n",
       "\n",
       "\t<text class=\"displacy-token\" fill=\"currentColor\" data-tag=\"NN\" text-anchor=\"middle\" y=\"240\">\n",
       "\t\t<tspan class=\"displacy-word\" x=\"950\" fill=\"currentColor\" data-tag=\"NN\">an elephant</tspan>\n",
       "\n",
       "\t\t<tspan class=\"displacy-tag\" x=\"950\" dy=\"2em\" fill=\"currentColor\" data-tag=\"NN\">NN</tspan>\n",
       "\t</text>\n",
       "\n",
       "\t<text class=\"displacy-token\" fill=\"currentColor\" data-tag=\"IN\" text-anchor=\"middle\" y=\"240\">\n",
       "\t\t<tspan class=\"displacy-word\" x=\"1150\" fill=\"currentColor\" data-tag=\"IN\">in</tspan>\n",
       "\n",
       "\t\t<tspan class=\"displacy-tag\" x=\"1150\" dy=\"2em\" fill=\"currentColor\" data-tag=\"IN\">IN</tspan>\n",
       "\t</text>\n",
       "\n",
       "\t<text class=\"displacy-token\" fill=\"currentColor\" data-tag=\"NNS\" text-anchor=\"middle\" y=\"240\">\n",
       "\t\t<tspan class=\"displacy-word\" x=\"1350\" fill=\"currentColor\" data-tag=\"NNS\">my pajamas</tspan>\n",
       "\n",
       "\t\t<tspan class=\"displacy-tag\" x=\"1350\" dy=\"2em\" fill=\"currentColor\" data-tag=\"NNS\">NNS</tspan></text><g class=\"displacy-arrow\" data-dir=\"left\" data-label=\"det\">\n",
       "\n",
       "<!--\n",
       "\t<path class=\"displacy-arc\" d=\"M152.5,200 C152.5,100 347.5,100 347.5,200\" stroke-width=\"2px\" fill=\"none\" stroke=\"currentColor\" data-dir=\"left\" data-label=\"det\" id=\"arrow-0\"></path>\n",
       "\n",
       "\t<text dy=\"1em\">\n",
       "\t<textPath class=\"displacy-label\" startOffset=\"50%\" fill=\"currentColor\" text-anchor=\"middle\" data-label=\"det\" data-dir=\"left\" xmlns:xlink=\"http://www.w3.org/1999/xlink\" xlink:href=\"#arrow-0\">det</textPath>\n",
       "\n",
       "\t</text>\n",
       "\n",
       "\t<path class=\"displacy-arrowhead\" d=\"M152.5,202 L146.5,192 158.5,192\" fill=\"currentColor\" data-label=\"det\" data-dir=\"left\"></path></g>\n",
       "\n",
       "\t<g class=\"displacy-arrow\" data-dir=\"left\" data-label=\"npadvmod\"><path class=\"displacy-arc\" d=\"M350,200 C350,0 750,0 750,200\" stroke-width=\"2px\" fill=\"none\" stroke=\"currentColor\" data-dir=\"left\" data-label=\"npadvmod\" id=\"arrow-1\"></path><text dy=\"1em\">\n",
       "\n",
       "\n",
       "\t<textPath class=\"displacy-label\" startOffset=\"50%\" fill=\"currentColor\" text-anchor=\"middle\" data-label=\"npadvmod\" data-dir=\"left\" xmlns:xlink=\"http://www.w3.org/1999/xlink\" xlink:href=\"#arrow-1\">npadvmod</textPath></text><path class=\"displacy-arrowhead\" d=\"M350,202 L344,192 356,192\" fill=\"currentColor\" data-label=\"npadvmod\" data-dir=\"left\"></path></g><g class=\"displacy-arrow\" data-dir=\"left\" data-label=\"nsubj\"><path class=\"displacy-arc\" d=\"M552.5,200 C552.5,100 747.5,100 747.5,200\" stroke-width=\"2px\" fill=\"none\" stroke=\"currentColor\" data-dir=\"left\" data-label=\"nsubj\" id=\"arrow-2\"></path><text dy=\"1em\"><textPath class=\"displacy-label\" startOffset=\"50%\" fill=\"currentColor\" text-anchor=\"middle\" data-label=\"nsubj\" data-dir=\"left\" xmlns:xlink=\"http://www.w3.org/1999/xlink\" xlink:href=\"#arrow-2\">nsubj</textPath></text>\n",
       "\n",
       "\n",
       "\n",
       "\t<path class=\"displacy-arrowhead\" d=\"M552.5,202 L546.5,192 558.5,192\" fill=\"currentColor\" data-label=\"nsubj\" data-dir=\"left\"></path></g>\n",
       "-->\n",
       "\t<g class=\"displacy-arrow\" data-dir=\"right\" data-label=\"dobj\"><path class=\"displacy-arc\" d=\"M752.5,200 C752.5,100 947.5,100 947.5,200\" stroke-width=\"2px\" fill=\"none\" stroke=\"currentColor\" data-dir=\"right\" data-label=\"dobj\" id=\"arrow-3\"></path><text dy=\"1em\"><textPath class=\"displacy-label\" startOffset=\"50%\" fill=\"currentColor\" text-anchor=\"middle\" data-label=\"dobj\" data-dir=\"right\" xmlns:xlink=\"http://www.w3.org/1999/xlink\" xlink:href=\"#arrow-3\">dobj</textPath></text><path class=\"displacy-arrowhead\" d=\"M947.5,202 L953.5,192 941.5,192\" fill=\"currentColor\" data-label=\"dobj\" data-dir=\"right\"></path></g><g class=\"displacy-arrow\" data-dir=\"right\" data-label=\"prep\"><path class=\"displacy-arc\" d=\"M947.5,200 C947.5,100 1150,100 1150,200\"   stroke-width=\"2px\" fill=\"none\" stroke=\"currentColor\" data-dir=\"right\" data-label=\"prep\" id=\"arrow-51\"></path><text dy=\"1em\">\n",
       "\n",
       "\t<textPath class=\"displacy-label\" startOffset=\"50%\" fill=\"currentColor\" text-anchor=\"middle\" data-label=\"prep\" data-dir=\"right\" xmlns:xlink=\"http://www.w3.org/1999/xlink\" xlink:href=\"#arrow-51\">prep</textPath>\n",
       "\n",
       "\n",
       "\n",
       "</text><path class=\"displacy-arrowhead\" d=\"M1150,202 L1156,192 1144,192\" fill=\"currentColor\" data-label=\"prep\" data-dir=\"right\"></path></g><g class=\"displacy-arrow\" data-dir=\"right\" data-label=\"pobj\"><path class=\"displacy-arc\" d=\"M1152.5,200 C1152.5,100 1347.5,100 1347.5,200\" stroke-width=\"2px\" fill=\"none\" stroke=\"currentColor\" data-dir=\"right\" data-label=\"pobj\" id=\"arrow-5\"></path><text dy=\"1em\"><textPath class=\"displacy-label\" startOffset=\"50%\" fill=\"currentColor\" text-anchor=\"middle\" data-label=\"pobj\" data-dir=\"right\" xmlns:xlink=\"http://www.w3.org/1999/xlink\" xlink:href=\"#arrow-5\">pobj</textPath></text><path class=\"displacy-arrowhead\" d=\"M1347.5,202 L1353.5,192 1341.5,192\" fill=\"currentColor\" data-label=\"pobj\" data-dir=\"right\"></path></g>\n",
       "\n",
       "\t</svg>\n"
      ],
      "text/plain": [
       "<IPython.core.display.HTML object>"
      ]
     },
     "execution_count": 8,
     "metadata": {},
     "output_type": "execute_result"
    }
   ],
   "source": [
    "HTML(morph_and_syntax)"
   ]
  },
  {
   "cell_type": "code",
   "execution_count": 39,
   "metadata": {
    "_datascience": {},
    "collapsed": false
   },
   "outputs": [],
   "source": [
    "import numpy as np\n",
    "from collections import deque\n",
    "\n",
    "santas = deque(['Harry','Tuck','Aaron','Ruslana','Dave','Andrea','JR','John', 'Pramit'])\n",
    "np.random.shuffle(santas)\n",
    "santees = deque(santas)\n",
    "santees.rotate(1)\n",
    "santas_and_santees = dict(zip(santas, santees))"
   ]
  },
  {
   "cell_type": "code",
   "execution_count": 40,
   "metadata": {
    "_datascience": {},
    "collapsed": false
   },
   "outputs": [
    {
     "data": {
      "text/plain": [
       "{'Aaron': 'Tuck',\n",
       " 'Andrea': 'Ruslana',\n",
       " 'Dave': 'John',\n",
       " 'Harry': 'JR',\n",
       " 'JR': 'Andrea',\n",
       " 'John': 'Harry',\n",
       " 'Pramit': 'Dave',\n",
       " 'Ruslana': 'Aaron',\n",
       " 'Tuck': 'Pramit'}"
      ]
     },
     "execution_count": 40,
     "metadata": {},
     "output_type": "execute_result"
    }
   ],
   "source": [
    "santas_and_santees"
   ]
  },
  {
   "cell_type": "code",
   "execution_count": 34,
   "metadata": {
    "_datascience": {},
    "collapsed": false
   },
   "outputs": [
    {
     "data": {
      "text/plain": [
       "deque(['Tuck',\n",
       "       'Aaron',\n",
       "       'Pramit',\n",
       "       'JR',\n",
       "       'Andrea',\n",
       "       'Harry',\n",
       "       'Dave',\n",
       "       'John',\n",
       "       'Ruslana'])"
      ]
     },
     "execution_count": 34,
     "metadata": {},
     "output_type": "execute_result"
    }
   ],
   "source": [
    "santees"
   ]
  },
  {
   "cell_type": "code",
   "execution_count": 33,
   "metadata": {
    "_datascience": {},
    "collapsed": false
   },
   "outputs": [
    {
     "data": {
      "text/plain": [
       "{'Aaron': 'Pramit',\n",
       " 'Andrea': 'Harry',\n",
       " 'Dave': 'Andrea',\n",
       " 'Harry': 'Tuck',\n",
       " 'JR': 'Dave',\n",
       " 'John': 'John',\n",
       " 'Pramit': 'Ruslana',\n",
       " 'Ruslana': 'JR',\n",
       " 'Tuck': 'Aaron'}"
      ]
     },
     "execution_count": 33,
     "metadata": {},
     "output_type": "execute_result"
    }
   ],
   "source": [
    "santas_and_santees"
   ]
  },
  {
   "cell_type": "code",
   "execution_count": 31,
   "metadata": {
    "_datascience": {},
    "collapsed": false
   },
   "outputs": [
    {
     "ename": "IndexError",
     "evalue": "deque index out of range",
     "output_type": "error",
     "traceback": [
      "\u001b[1;31m---------------------------------------------------------------------------\u001b[0m",
      "\u001b[1;31mIndexError\u001b[0m                                Traceback (most recent call last)",
      "\u001b[1;32m<ipython-input-31-c693ea1bc565>\u001b[0m in \u001b[0;36m<module>\u001b[1;34m()\u001b[0m\n\u001b[1;32m----> 1\u001b[1;33m \u001b[0manalysts\u001b[0m\u001b[1;33m[\u001b[0m\u001b[0mN\u001b[0m\u001b[1;33m]\u001b[0m\u001b[1;33m\u001b[0m\u001b[0m\n\u001b[0m",
      "\u001b[1;31mIndexError\u001b[0m: deque index out of range"
     ]
    }
   ],
   "source": [
    "analysts."
   ]
  },
  {
   "cell_type": "code",
   "execution_count": 14,
   "metadata": {
    "_datascience": {},
    "collapsed": false
   },
   "outputs": [
    {
     "data": {
      "text/html": [
       "\n",
       "<center>\n",
       "<h3>Valency Grammar:</h3></center>\n",
       "\n",
       "<br>\n",
       "<!-- HTML generated using hilite.me --><div style=\"background: #ffffff; overflow:auto;width:auto;border:solid gray;border-width:.1em .1em .1em .8em;padding:.2em .6em;\"><pre style=\"margin: 0; line-height: 125%\"><span style=\"color: #008800; font-weight: bold\">def</span> transitive_verb <span style=\"color: #333333\">(</span>subject<span style=\"color: #008800; font-weight: bold\">:</span> <span style=\"color: #333399; font-weight: bold\">noun</span><span style=\"color: #333333\">,</span> object<span style=\"color: #008800; font-weight: bold\">:</span> <span style=\"color: #333399; font-weight: bold\">noun</span><span style=\"color: #333333\">)</span><span style=\"color: #008800; font-weight: bold\">:</span> <span style=\"color: #333399; font-weight: bold\">verb_phrase</span>  <span style=\"color: #333333\">=</span> <span style=\"color: #333333\">{</span>\n",
       "\n",
       "    <span style=\"color: #333333\">...</span>\n",
       "<span style=\"color: #333333\">}</span>\n",
       "</pre></div>\n",
       "\n"
      ],
      "text/plain": [
       "<IPython.core.display.HTML object>"
      ]
     },
     "execution_count": 14,
     "metadata": {},
     "output_type": "execute_result"
    }
   ],
   "source": [
    "HTML(valency)"
   ]
  },
  {
   "cell_type": "code",
   "execution_count": null,
   "metadata": {
    "_datascience": {},
    "collapsed": true
   },
   "outputs": [],
   "source": []
  },
  {
   "cell_type": "code",
   "execution_count": null,
   "metadata": {
    "_datascience": {},
    "collapsed": true
   },
   "outputs": [],
   "source": []
  },
  {
   "cell_type": "code",
   "execution_count": null,
   "metadata": {
    "_datascience": {},
    "collapsed": true
   },
   "outputs": [],
   "source": []
  },
  {
   "cell_type": "code",
   "execution_count": null,
   "metadata": {
    "_datascience": {},
    "collapsed": true
   },
   "outputs": [],
   "source": []
  },
  {
   "cell_type": "code",
   "execution_count": 1,
   "metadata": {
    "_datascience": {},
    "collapsed": false
   },
   "outputs": [],
   "source": [
    "g1 = open('../elephant1.html').read()\n",
    "g2 = open('../elephant2.html').read()\n",
    "g3 = open('../elephant3.html').read()\n",
    "morph_and_syntax = \"\"\"\n",
    "\n",
    "<center>\n",
    "<h3> The importance of Morphology and Syntax:</h3>\n",
    "<h5> Word order affects semantics:</h5>\n",
    "<br>\n",
    "\n",
    "<strong>Original sentence:</strong>\n",
    "<br>\n",
    "He did not like the movie, and told the cashier he wanted his money back.\n",
    "<br>\n",
    "<br>\n",
    "<strong>With mutated morpology and word order:</strong>\n",
    "<br>\n",
    "The cashier liked the movie, and told him he did not want his money back\n",
    "<br>\n",
    "<br>\n",
    "<br>\n",
    "<br>\n",
    "<br>\n",
    "<br>\n",
    "<h5> Sometimes only syntax can reveal meaning:</h5>\n",
    "<br>\n",
    "Who was wearing the pajamas?\n",
    "<br>\n",
    "\"\"\" +g1+ \"\"\"\n",
    "<br>\n",
    "<br>\n",
    "\"\"\" +g3+ \"\"\"\n",
    "\"\"\" "
   ]
  },
  {
   "cell_type": "code",
   "execution_count": 13,
   "metadata": {
    "_datascience": {},
    "collapsed": false
   },
   "outputs": [],
   "source": [
    "valency = \"\"\"\n",
    "<center>\n",
    "<h3>Valency Grammar:</h3></center>\n",
    "\n",
    "<br>\n",
    "<!-- HTML generated using hilite.me --><div style=\"background: #ffffff; overflow:auto;width:auto;border:solid gray;border-width:.1em .1em .1em .8em;padding:.2em .6em;\"><pre style=\"margin: 0; line-height: 125%\"><span style=\"color: #008800; font-weight: bold\">def</span> transitive_verb <span style=\"color: #333333\">(</span>subject<span style=\"color: #008800; font-weight: bold\">:</span> <span style=\"color: #333399; font-weight: bold\">noun</span><span style=\"color: #333333\">,</span> object<span style=\"color: #008800; font-weight: bold\">:</span> <span style=\"color: #333399; font-weight: bold\">noun</span><span style=\"color: #333333\">)</span><span style=\"color: #008800; font-weight: bold\">:</span> <span style=\"color: #333399; font-weight: bold\">verb_phrase</span>  <span style=\"color: #333333\">=</span> <span style=\"color: #333333\">{</span>\n",
    "\n",
    "    <span style=\"color: #333333\">...</span>\n",
    "<span style=\"color: #333333\">}</span>\n",
    "</pre></div>\n",
    "\n",
    "\"\"\""
   ]
  },
  {
   "cell_type": "code",
   "execution_count": 10,
   "metadata": {
    "_datascience": {},
    "collapsed": true
   },
   "outputs": [],
   "source": [
    "syntax = \"\"\"\n",
    "<center>\n",
    "<h3> Syntax </h3>\n",
    "<br>\n",
    "<h5> Exchangeability within syntactic classes. </h5>\n",
    "<br>\n",
    "<br>\n",
    "<svg class=\"displacy\" width=\"950\" height=\"220\" viewBox=\"0 0 950 220\" preserveAspectRatio=\"xMinYMax meet\" data-format=\"spacy\" id=\"displacy-svg\" style=\"color: rgb(245, 244, 240); background: rgb(39, 40, 34); font-family: inherit;\">\n",
    "\n",
    "\t<text class=\"displacy-token\" fill=\"currentColor\" data-tag=\"PRP\" text-anchor=\"middle\" y=\"140\">\n",
    "\t\t<tspan class=\"displacy-word\" x=\"300\" fill=\"currentColor\" data-tag=\"PRP\">He</tspan>\n",
    "\n",
    "\t</text>\n",
    "\n",
    "\t<text class=\"displacy-token\" fill=\"currentColor\" data-tag=\"VBD\" text-anchor=\"middle\" y=\"140\">\n",
    "\t\t<tspan class=\"displacy-word\" x=\"340\" fill=\"currentColor\" data-tag=\"VBD\">went</tspan>\n",
    "\n",
    "\t</text>\n",
    "\t<text class=\"displacy-token\" fill=\"currentColor\" data-tag=\"VBD\" text-anchor=\"middle\" y=\"140\">\n",
    "\t\t<tspan class=\"displacy-word\" x=\"380\" fill=\"currentColor\" data-tag=\"VBD\">to</tspan>\n",
    "\n",
    "\t</text>\n",
    "\n",
    "\t\t<text class=\"displacy-token\" fill=\"currentColor\" data-tag=\"VBD\" text-anchor=\"middle\" y=\"140\">\n",
    "\t\t<tspan class=\"displacy-word\" x=\"420\" fill=\"currentColor\" data-tag=\"VBD\">the</tspan>\n",
    "\n",
    "\t</text>\n",
    "\n",
    "\t\t<text class=\"displacy-token\" fill=\"currentColor\" data-tag=\"VBD\" text-anchor=\"middle\" y=\"140\">\n",
    "\t\t<tspan class=\"displacy-word\" x=\"460\" fill=\"currentColor\" data-tag=\"VBD\">store.</tspan>\n",
    "\n",
    "\t</text>\n",
    "\n",
    "\n",
    "\n",
    "\n",
    "\t\t<text class=\"displacy-token\" fill=\"currentColor\" data-tag=\"VBD\" text-anchor=\"middle\" y=\"140\">\n",
    "\t\t<tspan class=\"displacy-word\" x=\"50\" fill=\"currentColor\" data-tag=\"VBD\">She</tspan>\n",
    "\t\t<tspan class=\"displacy-word\" x=\"50\" fill=\"currentColor\" dy=\"1em\" data-tag=\"VBD\">John</tspan>\n",
    "\t\t<tspan class=\"displacy-word\" x=\"50\" fill=\"currentColor\" dy=\"1em\" data-tag=\"VBD\">The man</tspan>\n",
    "\n",
    "\n",
    "\t</text>\n",
    "\n",
    "\n",
    "\n",
    "\n",
    "\n",
    "\n",
    "\t<g class=\"displacy-arrow\" data-dir=\"left\" data-label=\"nsubj\">\n",
    "\t\t<path class=\"displacy-arc\" d=\"M50,100 C150,0 300,0 300,100\" stroke-width=\"2px\" fill=\"none\" stroke=\"currentColor\" data-dir=\"left\" data-label=\"nsubj\" id=\"arrow-0\"></path>\n",
    "\t\t<text dy=\"1em\">\n",
    "\t\t\t<textPath class=\"displacy-label\" startOffset=\"50%\" fill=\"currentColor\" text-anchor=\"middle\" data-label=\"nsubj\" data-dir=\"left\" xmlns:xlink=\"http://www.w3.org/1999/xlink\" xlink:href=\"#arrow-0\">Exchangeable subjects</textPath>\n",
    "\t\t</text>\n",
    "\t\t<path class=\"displacy-arrowhead\" d=\"M300,102 L294,92 306,92\" fill=\"currentColor\" data-label=\"nsubj\" data-dir=\"left\"></path>\n",
    "\t</g>\n",
    "\n",
    "</svg>\n",
    "\n",
    "<br>\n",
    "<br>\n",
    "<h5>Compiling Syntactic Units</h5>\n",
    "<br>\n",
    "\n",
    "<style type=\"text/css\">\n",
    ".tg  {border-collapse:collapse;border-spacing:0;}\n",
    ".tg td{font-family:Arial, sans-serif;font-size:14px;padding:10px 5px;border-style:solid;border-width:1px;overflow:hidden;word-break:normal;}\n",
    ".tg th{font-family:Arial, sans-serif;font-size:14px;font-weight:normal;padding:10px 5px;border-style:solid;border-width:1px;overflow:hidden;word-break:normal;}\n",
    ".tg .tg-yw4l{vertical-align:top}\n",
    "</style>\n",
    "<table class=\"tg\">\n",
    "  <tr>\n",
    "    <th class=\"tg-yw4l\">The</th>\n",
    "    <th class=\"tg-yw4l\">man</th>\n",
    "    <th class=\"tg-yw4l\">went</th>\n",
    "    <th class=\"tg-yw4l\">to </th>\n",
    "    <th class=\"tg-yw4l\">the</th>\n",
    "    <th class=\"tg-yw4l\">store</th>\n",
    "  </tr>\n",
    "  <tr>\n",
    "    <td class=\"tg-yw4l\">determiner</td>\n",
    "    <td class=\"tg-yw4l\">simple subject</td>\n",
    "    <td class=\"tg-yw4l\">verb</td>\n",
    "    <td class=\"tg-yw4l\">preposition<br></td>\n",
    "    <td class=\"tg-yw4l\">determiner</td>\n",
    "    <td class=\"tg-yw4l\">object (of preposition)</td>\n",
    "  </tr>\n",
    "  <tr>\n",
    "    <td class=\"tg-yw4l\" colspan=\"2\">subject phrase</td>\n",
    "    <td class=\"tg-yw4l\"></td>\n",
    "    <td class=\"tg-yw4l\" colspan=\"3\">prepositional phrase</td>\n",
    "  </tr>\n",
    "  <tr>\n",
    "    <td class=\"tg-yw4l\" colspan=\"2\"></td>\n",
    "    <td class=\"tg-yw4l\" colspan=\"4\">verb phrase</td>\n",
    "  </tr>\n",
    "</table>\n",
    "</center>\n",
    "\"\"\""
   ]
  },
  {
   "cell_type": "code",
   "execution_count": 16,
   "metadata": {
    "_datascience": {},
    "collapsed": false
   },
   "outputs": [],
   "source": [
    "\n",
    "morphology = '''\n",
    "<center>\n",
    "<style>\n",
    "    .un {\n",
    "    background-color:'red';\n",
    "    }\n",
    "    .reach {\n",
    "    background-color:'green';\n",
    "    }\n",
    "    .able {\n",
    "    background-color:'blue';\n",
    "    }\n",
    "</style>\n",
    "<h3>Morphology</h3>\n",
    "<h5>'<span class='un'>Un</span><span class='reach'>reach</span><span class='able'>able</span>\\'</h5>\n",
    "<br>\n",
    "<table border=\"1\" class=\"dataframe\">\n",
    "<thead>\\n    \n",
    "<tr style=\"text-align: right;\">\n",
    "<th></th>\n",
    "<th>Effect</th>\n",
    "<th>Morpheme</th>\n",
    "</tr>\\n    <tr>\\n      <th></th>\\n      <th></th>\\n      <th></th>\\n    </tr>\\n  </thead>\\n  <tbody>\\n    <tr>\\n      <th>un</th>\\n      <td>Negation</td>\\n      <td>Prefix</td>\\n    </tr>\\n    <tr>\\n      <th>reach</th>\\n      <td>Verb</td>\\n      <td>Root</td>\\n    </tr>\\n    <tr>\\n      <th>able</th>\\n      <td>To Adjective</td>\\n      <td>Suffix</td>\\n    </tr>\\n  </tbody>\\n</table>'\n",
    "</center>\n",
    "'''"
   ]
  },
  {
   "cell_type": "code",
   "execution_count": 16,
   "metadata": {
    "_datascience": {},
    "collapsed": false
   },
   "outputs": [],
   "source": [
    "# from IPython.display import IFrame\n",
    "# import requests\n",
    "# from bs4 import BeautifulSoup\n",
    "\n",
    "# def show_in_notebook(sent):\n",
    "#     sent = \"%20\".join(sent.split(\" \"))\n",
    "#     class_name = 'displacy'\n",
    "#     url = 'https://demos.explosion.ai/displacy/?text={}&model=en&cpu=1&cph=1'.format(sent)\n",
    "#     print url\n",
    "    \n",
    "    \n",
    "#     return IFrame(url, width = 1200, height = 400)\n",
    "# show_in_notebook('She should have given the money to John')"
   ]
  },
  {
   "cell_type": "code",
   "execution_count": null,
   "metadata": {
    "_datascience": {},
    "collapsed": false
   },
   "outputs": [],
   "source": []
  },
  {
   "cell_type": "code",
   "execution_count": 17,
   "metadata": {
    "_datascience": {},
    "collapsed": false
   },
   "outputs": [],
   "source": [
    "# import spacy\n",
    "# nlp = spacy.load('en')\n",
    "# doc = nlp(u'John put his money in the envelope')\n",
    "# token = doc[-1]\n",
    "# print token.doc#.head\n",
    "# sent = list(doc.sents)[0]\n",
    "# print token\n",
    "# print token.head.head == sent.root"
   ]
  },
  {
   "cell_type": "code",
   "execution_count": 18,
   "metadata": {
    "_datascience": {},
    "collapsed": false
   },
   "outputs": [],
   "source": [
    "# morphology_html"
   ]
  },
  {
   "cell_type": "code",
   "execution_count": 19,
   "metadata": {
    "_datascience": {},
    "collapsed": false
   },
   "outputs": [],
   "source": [
    "# def get_verb_valency(spacy_sent):\n",
    "#     \"\"\"\n",
    "#     This function will return the valency class of the root verb\n",
    "#     of the sentence passed as argument. For best results, the sentence should be\n",
    "#     simple :)\n",
    "    \n",
    "    \n",
    "#     Parameters:\n",
    "#         spacy_sent(spacy.tokens.span.Span)\n",
    "        \n",
    "#     \"\"\"\n",
    "    \n",
    "#     #grab root, subject(s), indirect object(s), and indirect object(s) from sentence\n",
    "#     root = spacy_sent.root\n",
    "    \n",
    "#     #subjects\n",
    "#     subject = filter(lambda token: \n",
    "#                      sent.root.is_ancestor(token)\n",
    "#                      and token.dep_ == 'nsubj'\n",
    "#                      ,sent)\n",
    "    \n",
    "#     #direct objects\n",
    "#     direct_object = filter(lambda token: \n",
    "#                            sent.root.is_ancestor(token)\n",
    "#                            and token.dep_ == 'dobj'\n",
    "#                            ,sent)    \n",
    "#     #indirect objects\n",
    "#     indirect_object = filter(lambda token: \n",
    "#                              sent.root.is_ancestor(token) \n",
    "#                              and token.head.tag_ == 'IN' \n",
    "#                              and token.dep_ == 'pobj' \n",
    "#                              and token.head.head == root\n",
    "#                              ,sent)\n",
    "\n",
    "        \n",
    "#     if not direct_object and not indirect_object and not subject:\n",
    "#         verb_type = 'Impersonal or Intransitive with Implied Subject'\n",
    "\n",
    "#     elif not direct_object and not indirect_object and subject[0].lower_ != 'it':\n",
    "#         verb_type = 'Intransitive'\n",
    "\n",
    "#     elif not direct_object and not indirect_object and subject[0].lower_ == 'it':\n",
    "#         verb_type = 'Intransitive or Impersonal'\n",
    "\n",
    "#     elif direct_object and not indirect_object and subject:\n",
    "#         verb_type = 'Transitive'\n",
    "\n",
    "#     elif direct_object and indirect_object and subject:\n",
    "#         verb_type = 'Multi-Transitive'        \n",
    "    \n",
    "#     return {sent.root: verb_type}\n",
    "        \n",
    "\n",
    "    \n",
    "    \n",
    "# docs = [\n",
    "#     u'She gave a present to John'\n",
    "#     ,u'It rained today'\n",
    "#     ,u\"It's cold\"\n",
    "#     ,u'I love it'\n",
    "#     ,u'Exercise everyday!'\n",
    "# ]\n",
    "\n",
    "# for doc in nlp.pipe(docs):\n",
    "#     for sent in doc.sents:\n",
    "#         print \"{}: {}\".format(*[sent, get_verb_valency(sent)])\n",
    "#         print "
   ]
  },
  {
   "cell_type": "code",
   "execution_count": 20,
   "metadata": {
    "_datascience": {},
    "collapsed": false
   },
   "outputs": [],
   "source": [
    "# doc = nlp(u'I gave some money to him')\n",
    "# verb = doc[1]\n",
    "# print get_subject_of_verb(verb)\n",
    "# print get_objects_of_verb(verb)"
   ]
  },
  {
   "cell_type": "code",
   "execution_count": 21,
   "metadata": {
    "_datascience": {},
    "collapsed": false
   },
   "outputs": [],
   "source": [
    "# dependency_type_dictionary = {\n",
    "#     'subject':\n",
    "#         {'dep':['nsubj'],'nbor':['lefts']}\n",
    "#     ,'direct_object':\n",
    "#         {'dep':['dobj'],'nbor':['rights']}\n",
    "#     ,'indirect_object':\n",
    "#         {'dep':['pobj'],'nbor':['rights']}\n",
    "# }\n",
    "\n",
    "\n",
    "# def get_deps_by_type(word, dep_type):\n",
    "#     \"\"\"Return all dependents of a word of a given type.\"\"\"\n",
    "    \n",
    "#     word_type = dependency_type_dictionary[dep_type]\n",
    "#     dep, nbors = word_type['dep'], word_type['nbor']\n",
    "    \n",
    "#     results = []\n",
    "#     for nbor in nbors:\n",
    "#          results.extend(tok for tok in getattr(word, nbor) if tok.dep_ in (dep))\n",
    "    \n",
    "#     #get additional conjunct results\n",
    "#     results.extend(token for result in results for token in result.conjuncts)\n",
    "#     return results\n",
    "\n"
   ]
  },
  {
   "cell_type": "code",
   "execution_count": 22,
   "metadata": {
    "_datascience": {},
    "collapsed": false
   },
   "outputs": [],
   "source": [
    "# def get_span_for_verb_auxiliaries(verb):\n",
    "#     \"\"\"\n",
    "#     Return document indexes spanning all (adjacent) tokens\n",
    "#     around a verb that are auxiliary verbs or negations.\n",
    "#     \"\"\"\n",
    "#     min_i = verb.i - sum(1 for _ in takewhile(lambda x: x.dep_ in {'aux', 'auxpass', 'neg'},\n",
    "#                                               reversed(list(verb.lefts))))\n",
    "#     max_i = verb.i + sum(1 for _ in takewhile(lambda x: x.dep_ in {'aux', 'auxpass', 'neg'},\n",
    "#                                               verb.rights))\n",
    "#     return slice(min_i,max_i + 1)\n",
    "\n",
    "\n",
    "# def get_span_for_compound_noun(noun):\n",
    "#     \"\"\"\n",
    "#     Return document indexes spanning all (adjacent) tokens\n",
    "#     in a compound noun.\n",
    "#     \"\"\"\n",
    "#     min_i = noun.i - sum(1 for _ in takewhile(lambda x: x.dep_ == 'compound',\n",
    "#                                               reversed(list(noun.children))))\n",
    "#     return slice(min_i, noun.i + 1)"
   ]
  },
  {
   "cell_type": "code",
   "execution_count": 23,
   "metadata": {
    "_datascience": {},
    "collapsed": false
   },
   "outputs": [],
   "source": [
    "\n",
    "\n",
    "# def get_verb_valency(spacy_sent):\n",
    "#     \"\"\"\n",
    "#     This function will return the valency class of the root verb\n",
    "#     of the sentence passed as argument. For best results, the sentence should be\n",
    "#     simple :)\n",
    "    \n",
    "    \n",
    "#     Parameters:\n",
    "#         spacy_sent(spacy.tokens.span.Span)\n",
    "        \n",
    "#     \"\"\"\n",
    "    \n",
    "#     #grab root, subject(s), indirect object(s), and indirect object(s) from sentence\n",
    "#     root = spacy_sent.root\n",
    "#     start_i = spacy_sent[0].i\n",
    "\n",
    "    \n",
    "#     #subjects\n",
    "#     subject = get_deps_by_type(root, 'subject')\n",
    "#     dobjects = get_deps_by_type(root, 'direct_object')\n",
    "#     iobjects = get_deps_by_type(root, 'indirect_object')\n",
    "    \n",
    "    \n",
    "#     verb = spacy_sent[get_span_for_verb_auxiliaries(root)]\n",
    "    \n",
    "#     if subject:\n",
    "#         subject = spacy_sent[get_span_for_compound_noun(subject[0])]\n",
    "\n",
    "    \n",
    "#     metadata = {\"Verb\":verb, \"Subject\":subject, 'Direct Objects':[], 'Indirect Objects':[]}\n",
    "    \n",
    "\n",
    "#     for obj in dobjects:\n",
    "#         if obj.pos_ in (\"PROPN\",\"NOUN\"):\n",
    "#             metadata['Direct Objects'].extend(spacy_sent[get_span_for_compound_noun(obj)])\n",
    "#         elif obj.pos_ in (\"VERB\"):\n",
    "#             metadata['Direct Objects'].extend(spacy_sent[get_span_for_verb_auxiliaries(obj)])\n",
    "#         else:\n",
    "#             metadata['Direct Objects'].append(obj)\n",
    "\n",
    "#     for obj in iobjects:\n",
    "#         if obj.pos_ in (\"PROPN\",\"NOUN\"):\n",
    "#             metadata['Indirect Objects'].extend(get_span_for_compound_noun(obj))\n",
    "#         elif obj.pos_ in (\"VERB\"):\n",
    "#             metadata['Indirect Objects'].extend(get_span_for_verb_auxiliaries(obj))\n",
    "#         else:\n",
    "#             metadata['Indirect Objects'].append(obj)   \n",
    "                \n",
    "#     if metadata['Direct Objects'] and metadata['Indirect Objects']:\n",
    "#         metadata['Verb Type'] = 'Multitransitive'\n",
    "#     elif metadata['Direct Objects']:\n",
    "#         metadata['Verb Type'] = 'Transitive'\n",
    "#     elif metadata['Subject'] and metadata['Subject'].orth_.lower() !='it':\n",
    "#         metadata['Verb Type'] ='Intransitive'\n",
    "#     elif metadata['Subject'] and metadata['Subject'].orth_.lower() =='it':        \n",
    "#         metadata['Verb Type'] ='Impersonal or Intransitive'\n",
    "#     else:\n",
    "#         metadata['Verb Type'] ='Impersonal, Implied Subject or Ungrammatical'\n",
    "\n",
    "#     return metadata\n"
   ]
  },
  {
   "cell_type": "code",
   "execution_count": 24,
   "metadata": {
    "_datascience": {},
    "collapsed": false
   },
   "outputs": [],
   "source": [
    "# docs = [\n",
    "#     u'She gave a mattress topper to John'\n",
    "#     ,u'It rained today'\n",
    "#     ,u\"It's cold\"\n",
    "#     ,u'I love it'\n",
    "#     ,u'Exercise everyday!'\n",
    "# ]    \n",
    "\n",
    "# for doc in nlp.pipe(docs):\n",
    "#     for sent in doc.sents:\n",
    "#         print \"{}: {}\".format(*[sent, list(get_verb_valency(sent))])\n",
    "#         print "
   ]
  },
  {
   "cell_type": "code",
   "execution_count": 25,
   "metadata": {
    "_datascience": {},
    "collapsed": true
   },
   "outputs": [],
   "source": [
    "# def get_subject_of_verb(verb):\n",
    "    \n",
    "#     \"\"\"Return all subjects of a verb according to the dependency parse.\"\"\"\n",
    "#     subjects = [tok for tok in verb.lefts if tok.dep_ in ('nsubj')]\n",
    "    \n",
    "#     # get additional conjunct subjects\n",
    "#     subjects.extend(token for subject in subjects for token in subject.conjuncts)\n",
    "#     return subjects\n",
    "\n",
    "\n",
    "# def get_objects_of_verb(verb):\n",
    "    \n",
    "#     \"\"\"Return all subjects of a verb according to the dependency parse.\"\"\"\n",
    "#     objects = [tok for tok in verb.rights if tok.dep_ in ('dobj')]\n",
    "    \n",
    "#     # get additional conjunct subjects\n",
    "#     objects.extend(token for obj in objects for token in obj.conjuncts)\n",
    "#     return objects\n",
    "\n",
    "# def get_iobjects_of_verb(verb):\n",
    "    \n",
    "#     \"\"\"Return all subjects of a verb according to the dependency parse.\"\"\"\n",
    "#     objects = [tok for tok in verb.rights if tok.dep_ in ('pobj')]\n",
    "    \n",
    "#     # get additional conjunct subjects\n",
    "#     objects.extend(token for obj in objects for token in obj.conjuncts)\n",
    "#     return objects\n"
   ]
  },
  {
   "cell_type": "code",
   "execution_count": 2,
   "metadata": {
    "_datascience": {},
    "collapsed": false
   },
   "outputs": [
    {
     "data": {
      "text/plain": [
       "1"
      ]
     },
     "execution_count": 2,
     "metadata": {},
     "output_type": "execute_result"
    }
   ],
   "source": [
    "1"
   ]
  },
  {
   "cell_type": "code",
   "execution_count": null,
   "metadata": {
    "_datascience": {},
    "collapsed": true
   },
   "outputs": [],
   "source": []
  }
 ],
 "metadata": {
  "_datascience": {},
  "kernelspec": {
   "display_name": "Python 2",
   "language": "python",
   "name": "python2"
  },
  "language_info": {
   "codemirror_mode": {
    "name": "ipython",
    "version": 2
   },
   "file_extension": ".py",
   "mimetype": "text/x-python",
   "name": "python",
   "nbconvert_exporter": "python",
   "pygments_lexer": "ipython2",
   "version": "2.7.6"
  }
 },
 "nbformat": 4,
 "nbformat_minor": 0
}
