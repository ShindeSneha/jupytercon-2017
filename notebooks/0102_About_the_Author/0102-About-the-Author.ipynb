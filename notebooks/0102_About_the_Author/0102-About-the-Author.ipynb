{
 "cells": [
  {
   "cell_type": "code",
   "execution_count": null,
   "metadata": {
    "_datascience": {},
    "collapsed": false
   },
   "outputs": [],
   "source": [
    "html = \"\"\"\n",
    "<!DOCTYPE html>\n",
    "<head>\n",
    "<meta http-equiv=\"content-type\" content=\"text/html; charset=utf-8\">\n",
    "<link rel=\"stylesheet\" type=\"text/css\" href=\"blended_layout.css\">\n",
    "<title>Page Title</title>\n",
    "<meta name=\"description\" content=\"Write some words to describe your html page\">\n",
    "<style>\n",
    "*{\n",
    "padding : 0;\n",
    "margin : 0;\n",
    "border : 0;\n",
    "}\n",
    ".blended_grid{\n",
    "display : block;\n",
    "width : 800px;\n",
    "overflow : auto;\n",
    "margin : 0 auto;\n",
    "}\n",
    ".headingdiv{\n",
    "clear : none;\n",
    "float : left;\n",
    "position : relative;\n",
    "width : 750px;\n",
    "height : 50px;\n",
    "}\n",
    ".user7973{\n",
    "clear : none;\n",
    "float : left;\n",
    "position : relative;\n",
    "width : 500px;\n",
    "height : 250px;\n",
    "}\n",
    ".user9397{\n",
    "clear : none;\n",
    "float : left;\n",
    "position : relative;\n",
    "width : 250px;\n",
    "height : 250px;\n",
    "}\n",
    "</style>\n",
    "\n",
    "</head>\n",
    "<body>\n",
    "<div class=\"blended_grid\">\n",
    "<div class=\"headingdiv\">\n",
    "<center>\n",
    "Aaron Kramer\n",
    "</center>\n",
    "</div>\n",
    "<div class=\"user7973\">\n",
    "About me\n",
    "</div>\n",
    "<div class=\"user9397\">\n",
    "<img src=\"aaron-kramer-photo2.JPG\" style=\"width:200px;height:300px;\">\n",
    "</div>\n",
    "</div>\n",
    "</body>\n",
    "</html>\n",
    "\"\"\"\n",
    "\n",
    "from IPython.display import HTML\n",
    "HTML(html)"
   ]
  }
 ],
 "metadata": {
  "_datascience": {
   "notebookId": 588
  },
  "kernelspec": {
   "display_name": "Python 2",
   "language": "python",
   "name": "python2"
  },
  "language_info": {
   "codemirror_mode": {
    "name": "ipython",
    "version": 2
   },
   "file_extension": ".py",
   "mimetype": "text/x-python",
   "name": "python",
   "nbconvert_exporter": "python",
   "pygments_lexer": "ipython2",
   "version": "2.7.6"
  }
 },
 "nbformat": 4,
 "nbformat_minor": 2
}
