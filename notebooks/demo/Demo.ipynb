{
 "cells": [
  {
   "cell_type": "code",
   "execution_count": 20,
   "metadata": {
    "_datascience": {},
    "collapsed": false
   },
   "outputs": [],
   "source": [
    "import re\n",
    "string = 'Looking forward to the holidays! #shopping'"
   ]
  },
  {
   "cell_type": "code",
   "execution_count": 21,
   "metadata": {
    "_datascience": {},
    "collapsed": false
   },
   "outputs": [],
   "source": [
    "#White list characters\n",
    "Spaces = ' '\n",
    "CapitalLetters = r'A-Z'\n",
    "LowerCaseLetters = r'a-z'\n",
    "Numbers = r'0-9'\n",
    "Punctuation = r'\\.\\,\\?\\!'\n",
    "\n",
    "#match if NOT in white list\n",
    "pattern = '[^{}{}{}{}{}]'.format(*[Spaces\n",
    "                                  , CapitalLetters\n",
    "                                  , LowerCaseLetters\n",
    "                                  , Numbers\n",
    "                                  , Punctuation])"
   ]
  },
  {
   "cell_type": "code",
   "execution_count": 22,
   "metadata": {
    "_datascience": {},
    "collapsed": false
   },
   "outputs": [
    {
     "data": {
      "text/plain": [
       "'Looking forward to the holidays! shopping'"
      ]
     },
     "execution_count": 22,
     "metadata": {},
     "output_type": "execute_result"
    }
   ],
   "source": [
    "#substitute matches\n",
    "filter_characters = lambda string: re.sub(pattern, \"\", string)\n",
    "\n",
    "#call function on our string\n",
    "filter_characters(string)\n"
   ]
  },
  {
   "cell_type": "code",
   "execution_count": null,
   "metadata": {
    "_datascience": {},
    "collapsed": true
   },
   "outputs": [],
   "source": []
  }
 ],
 "metadata": {
  "_datascience": {},
  "kernelspec": {
   "display_name": "Python 2",
   "language": "python",
   "name": "python2"
  },
  "language_info": {
   "codemirror_mode": {
    "name": "ipython",
    "version": 2
   },
   "file_extension": ".py",
   "mimetype": "text/x-python",
   "name": "python",
   "nbconvert_exporter": "python",
   "pygments_lexer": "ipython2",
   "version": "2.7.6"
  }
 },
 "nbformat": 4,
 "nbformat_minor": 0
}
