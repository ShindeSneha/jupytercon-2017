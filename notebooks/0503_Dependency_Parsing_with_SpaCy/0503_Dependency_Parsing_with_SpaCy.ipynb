{
 "cells": [
  {
   "cell_type": "code",
   "execution_count": null,
   "metadata": {
    "_datascience": {},
    "collapsed": true
   },
   "outputs": [],
   "source": [
    "!sudo pip install networkx==1.10"
   ]
  },
  {
   "cell_type": "code",
   "execution_count": 1,
   "metadata": {
    "_datascience": {},
    "collapsed": false,
    "scrolled": false
   },
   "outputs": [
    {
     "data": {
      "text/html": [
       "\n",
       "<center>\n",
       "<h1>Accessing Dependents</h1>\n",
       "<br>\n",
       "\n",
       "<br>\n",
       "<h2>token.subtree</h2><br>\n",
       "\n",
       "<object data=\"subtree.svg\" type=\"image/svg+xml\">\n",
       "  <img src=\"subtree.jpg\" width = 50/>\n",
       "</object>\n",
       "</center>\n",
       "\n",
       "<!-- HTML generated using hilite.me --><div style=\"background: #ffffff; overflow:auto;width:auto;border:solid gray;border-width:.1em .1em .1em .8em;padding:.2em .6em;\"><pre style=\"margin: 0; line-height: 125%\">doc <span style=\"color: #333333\">=</span> nlp(<span style=\"background-color: #fff0f0\">u&#39;Harry and little Sally like to eat&#39;</span>)\n",
       "<span style=\"color: #008800; font-weight: bold\">for</span> word <span style=\"color: #000000; font-weight: bold\">in</span> doc:\n",
       "    <span style=\"color: #008800; font-weight: bold\">if</span> word<span style=\"color: #333333\">.</span>dep_ <span style=\"color: #333333\">==</span> <span style=\"background-color: #fff0f0\">u&#39;conj&#39;</span>:\n",
       "        <span style=\"color: #008800; font-weight: bold\">print</span>(<span style=\"background-color: #fff0f0\">&#39; &#39;</span><span style=\"color: #333333\">.</span>join(w<span style=\"color: #333333\">.</span>text <span style=\"color: #008800; font-weight: bold\">for</span> w <span style=\"color: #000000; font-weight: bold\">in</span> word<span style=\"color: #333333\">.</span>subtree))\n",
       "</pre></div>\n",
       "\n",
       "<br>\n",
       "<br>\n",
       "\n",
       "\n",
       "\n",
       "<br>\n",
       "<br>\n",
       "<center>\n",
       "<h2>token.children</h2><br>\n",
       "\n",
       "<object data=\"children.svg\" type=\"image/svg+xml\">\n",
       "  <img src=\"children.jpg\" width = 50/>\n",
       "</object>\n",
       "</center>\n",
       "<!-- HTML generated using hilite.me --><div style=\"background: #ffffff; overflow:auto;width:auto;border:solid gray;border-width:.1em .1em .1em .8em;padding:.2em .6em;\"><pre style=\"margin: 0; line-height: 125%\"><span style=\"color: #008800; font-weight: bold\">from</span> <span style=\"color: #0e84b5; font-weight: bold\">spacy.symbols</span> <span style=\"color: #008800; font-weight: bold\">import</span> nsubj, VERB\n",
       "\n",
       "<span style=\"color: #008800; font-weight: bold\">def</span> <span style=\"color: #0066BB; font-weight: bold\">get_subject_verb_pairs</span>(doc):\n",
       "    <span style=\"color: #008800; font-weight: bold\">for</span> word <span style=\"color: #000000; font-weight: bold\">in</span> doc:\n",
       "        <span style=\"color: #008800; font-weight: bold\">if</span> word<span style=\"color: #333333\">.</span>pos <span style=\"color: #333333\">==</span> VERB:\n",
       "            <span style=\"color: #008800; font-weight: bold\">for</span> child <span style=\"color: #000000; font-weight: bold\">in</span> word<span style=\"color: #333333\">.</span>children:\n",
       "                <span style=\"color: #008800; font-weight: bold\">if</span> child<span style=\"color: #333333\">.</span>dep <span style=\"color: #333333\">==</span> nsubj:\n",
       "                    <span style=\"color: #008800; font-weight: bold\">yield</span> ({<span style=\"background-color: #fff0f0\">&#39;subject&#39;</span>:child, <span style=\"background-color: #fff0f0\">&#39;verb&#39;</span>:word})\n",
       "</pre></div>\n",
       "<br>\n",
       "<br>\n",
       "\n",
       "\n",
       "\n",
       "\n",
       "\n",
       "<br>\n",
       "<br>\n",
       "<center>\n",
       "<h2>token.head</h2><br>\n",
       "\n",
       "<object data=\"head.svg\" type=\"image/svg+xml\">\n",
       "  <img src=\"head.jpg\" width = 50/>\n",
       "</object>\n",
       "</center>\n",
       "<!-- HTML generated using hilite.me --><div style=\"background: #ffffff; overflow:auto;width:auto;border:solid gray;border-width:.1em .1em .1em .8em;padding:.2em .6em;\"><pre style=\"margin: 0; line-height: 125%\"><span style=\"color: #008800; font-weight: bold\">def</span> <span style=\"color: #0066BB; font-weight: bold\">degrees_from_root</span>(token):\n",
       "    <span style=\"color: #008800; font-weight: bold\">def</span> <span style=\"color: #0066BB; font-weight: bold\">recurse_token</span>(token, count):\n",
       "        <span style=\"color: #008800; font-weight: bold\">if</span> token<span style=\"color: #333333\">.</span>dep_ <span style=\"color: #333333\">==</span> <span style=\"background-color: #fff0f0\">&#39;ROOT&#39;</span>:\n",
       "            <span style=\"color: #008800; font-weight: bold\">return</span> count\n",
       "        <span style=\"color: #008800; font-weight: bold\">else</span>:\n",
       "            <span style=\"color: #008800; font-weight: bold\">return</span> recurse_token(token<span style=\"color: #333333\">.</span>head, count <span style=\"color: #333333\">+</span> <span style=\"color: #0000DD; font-weight: bold\">1</span>)\n",
       "    <span style=\"color: #008800; font-weight: bold\">return</span> recurse_token(token, <span style=\"color: #0000DD; font-weight: bold\">0</span>)\n",
       "</pre></div>\n",
       "\n",
       "\n",
       "<br>\n",
       "<br>\n",
       "\n",
       "\n",
       "\n",
       "\n",
       "\n",
       "\n",
       "\n",
       "\n",
       "\n",
       "\n",
       "\n",
       "<br>\n",
       "<br>\n",
       "<center>\n",
       "<h2>token.lefts and token.rights</h2><br>\n",
       "\n",
       "<object data=\"lefts_and_rights.svg\" type=\"image/svg+xml\">\n",
       "  <img src=\"lefts_and_rights.jpg\" width = 50/>\n",
       "</object>\n",
       "</center>\n",
       "\n",
       "\n",
       "<br>\n",
       "<br>\n",
       "\n",
       "\n",
       "\n",
       "\n",
       "\n",
       "\n",
       "\n",
       "<br>\n",
       "<br>\n",
       "<center>\n",
       "<h2>token.left_edge and token.right_edge</h2><br>\n",
       "<object data=\"edges.svg\" type=\"image/svg+xml\">\n",
       "  <img src=\"edges.jpg\" width = 50/>\n",
       "</object>\n",
       "</center>\n",
       "<!-- HTML generated using hilite.me --><div style=\"background: #ffffff; overflow:auto;width:auto;border:solid gray;border-width:.1em .1em .1em .8em;padding:.2em .6em;\"><pre style=\"margin: 0; line-height: 125%\"><span style=\"color: #008800; font-weight: bold\">def</span> <span style=\"color: #0066BB; font-weight: bold\">sub_span</span>(token):\n",
       "    <span style=\"color: #DD4422\">&quot;&quot;&quot;</span>\n",
       "<span style=\"color: #DD4422\">    Returns the span of tokens that span the bounds of a token&#39;s subtree</span>\n",
       "<span style=\"color: #DD4422\">    &quot;&quot;&quot;</span>\n",
       "    \n",
       "    left_idx, right_idx <span style=\"color: #333333\">=</span> token<span style=\"color: #333333\">.</span>left_edge<span style=\"color: #333333\">.</span>i, token<span style=\"color: #333333\">.</span>right_edge<span style=\"color: #333333\">.</span>i\n",
       "    <span style=\"color: #008800; font-weight: bold\">return</span> token<span style=\"color: #333333\">.</span>doc[left_idx:right_idx <span style=\"color: #333333\">+</span> <span style=\"color: #0000DD; font-weight: bold\">1</span>]\n",
       "</pre></div>\n",
       "\n",
       "\n",
       "\n",
       "\n",
       "\n",
       "\n",
       "\n",
       "<br>\n",
       "<br>\n",
       "<center>\n",
       "<h2>token.ancestors</h2><br>\n",
       "\n",
       "<object data=\"ancestors.svg\" type=\"image/svg+xml\">\n",
       "  <img src=\"ancestors.jpg\" width = 50/>\n",
       "</object>\n",
       "</center>\n",
       "<br>\n",
       "<br>\n",
       "\n",
       "\n",
       "<br>\n",
       "<br>\n",
       "<center>\n",
       "<h2>token.nbor</h2><br>\n",
       "\n",
       "\n",
       "<object data=\"nbor.svg\" type=\"image/svg+xml\">\n",
       "  <img src=\"nbor.jpg\" width = 50/>\n",
       "</object>\n",
       "</center>\n",
       "<!-- HTML generated using hilite.me --><div style=\"background: #ffffff; overflow:auto;width:auto;border:solid gray;border-width:.1em .1em .1em .8em;padding:.2em .6em;\"><pre style=\"margin: 0; line-height: 125%\"><span style=\"color: #008800; font-weight: bold\">def</span> <span style=\"color: #0066BB; font-weight: bold\">mergeHashTags</span>(doc):\n",
       "    <span style=\"color: #DD4422\">&quot;&quot;&quot;Merges a token with its previous neighbor if its previous neighbor is a hashtag.&quot;&quot;&quot;</span>\n",
       "    \n",
       "    tag_idx <span style=\"color: #333333\">=</span> []\n",
       "    <span style=\"color: #008800; font-weight: bold\">for</span> token <span style=\"color: #000000; font-weight: bold\">in</span> doc:\n",
       "        <span style=\"color: #008800; font-weight: bold\">if</span> token<span style=\"color: #333333\">.</span>i <span style=\"color: #333333\">&gt;</span> <span style=\"color: #0000DD; font-weight: bold\">0</span> <span style=\"color: #000000; font-weight: bold\">and</span> token<span style=\"color: #333333\">.</span>nbor(<span style=\"color: #333333\">-</span><span style=\"color: #0000DD; font-weight: bold\">1</span>)<span style=\"color: #333333\">.</span>text <span style=\"color: #333333\">==</span> <span style=\"background-color: #fff0f0\">&quot;#&quot;</span>:\n",
       "            <span style=\"color: #008800; font-weight: bold\">if</span> <span style=\"color: #000000; font-weight: bold\">not</span> token<span style=\"color: #333333\">.</span>nbor(<span style=\"color: #333333\">-</span><span style=\"color: #0000DD; font-weight: bold\">1</span>)<span style=\"color: #333333\">.</span>whitespace_:\n",
       "                tag_idx<span style=\"color: #333333\">.</span>append((token<span style=\"color: #333333\">.</span>i <span style=\"color: #333333\">-</span> <span style=\"color: #0000DD; font-weight: bold\">1</span>, token<span style=\"color: #333333\">.</span>i <span style=\"color: #333333\">+</span> <span style=\"color: #0000DD; font-weight: bold\">1</span>))\n",
       "            \n",
       "    <span style=\"color: #008800; font-weight: bold\">for</span> idx_pair <span style=\"color: #000000; font-weight: bold\">in</span> tag_idx:\n",
       "        doc[<span style=\"color: #007020\">slice</span>(<span style=\"color: #333333\">*</span>idx_pair)]<span style=\"color: #333333\">.</span>merge()\n",
       "</pre></div>\n",
       "\n",
       "\n",
       "<br>\n",
       "<br>\n",
       "\n",
       "\n",
       "<br>\n",
       "<br>\n",
       "<center>\n",
       "<h2>token.conjuncts</h2><br>\n",
       "\n",
       "<object data=\"conjuncts.svg\" type=\"image/svg+xml\">\n",
       "  <img src=\"conjuncts.jpg\" width = 50/>\n",
       "</object>\n",
       "</center>\n",
       "<!-- HTML generated using hilite.me --><div style=\"background: #ffffff; overflow:auto;width:auto;border:solid gray;border-width:.1em .1em .1em .8em;padding:.2em .6em;\"><pre style=\"margin: 0; line-height: 125%\"><span style=\"color: #008800; font-weight: bold\">def</span> <span style=\"color: #0066BB; font-weight: bold\">get_conjuctive_phrases</span>(doc):\n",
       "    <span style=\"color: #DD4422\">&quot;&quot;&quot;</span>\n",
       "<span style=\"color: #DD4422\">    Looks for conjuncts, Uses the subspan function to convert the subtree to a span</span>\n",
       "<span style=\"color: #DD4422\">    &quot;&quot;&quot;</span>\n",
       "    <span style=\"color: #008800; font-weight: bold\">for</span> token <span style=\"color: #000000; font-weight: bold\">in</span> doc:\n",
       "        <span style=\"color: #008800; font-weight: bold\">for</span> conj <span style=\"color: #000000; font-weight: bold\">in</span> token<span style=\"color: #333333\">.</span>conjuncts:\n",
       "            <span style=\"color: #008800; font-weight: bold\">yield</span> sub_span(conj)\n",
       "</pre></div>\n",
       "\n",
       "<br>\n",
       "<br>\n",
       "\n",
       "\n",
       "</center>\n",
       "\n"
      ],
      "text/plain": [
       "<IPython.core.display.HTML object>"
      ]
     },
     "execution_count": 1,
     "metadata": {},
     "output_type": "execute_result"
    }
   ],
   "source": [
    "from IPython.display import HTML\n",
    "html = open('accessing-dependencies.html').read()\n",
    "HTML(html)"
   ]
  },
  {
   "cell_type": "markdown",
   "metadata": {
    "_datascience": {}
   },
   "source": [
    "### Examples of Traversing the Tree\n",
    "\n",
    "##### Merge compound verb phrases\n",
    "\n",
    "I, do, not, like, pizza, . $\\rightarrow$ I, do not like, pizza, .\n"
   ]
  },
  {
   "cell_type": "code",
   "execution_count": 1,
   "metadata": {
    "_datascience": {},
    "collapsed": false
   },
   "outputs": [],
   "source": [
    "import spacy\n",
    "from spacy.symbols import aux, auxpass, neg, VERB\n",
    "\n",
    "is_auxiliary_to_verb = lambda token: token.dep in (aux, auxpass, neg)\n",
    "is_non_auxiliary_verb = lambda token: token.pos == VERB and not is_auxiliary_to_verb(token)\n",
    "\n",
    "def merge_compound_verb_phrases(doc):\n",
    "    #find all non auxiliary verbs in document\n",
    "    verbs = filter(is_non_auxiliary_verb, doc)\n",
    "    \n",
    "    #get surrounding spans of verbs\n",
    "    verb_spans = map(get_span_of_surrounding_verbs, verbs)\n",
    "    \n",
    "    #merge each span\n",
    "    for span in verb_spans:\n",
    "        span.merge()\n",
    "\n",
    "\n",
    "def get_span_of_surrounding_verbs(verb):\n",
    "    left_idx, right_idx = 0,0\n",
    "    \n",
    "    #grab left dependencies (closest first) that are auxiliary verbs\n",
    "    for left in list(verb.lefts)[::-1]:\n",
    "        if is_auxiliary_to_verb(left):\n",
    "            left_idx -= 1 #expand span to include word\n",
    "        else:\n",
    "            break\n",
    "       \n",
    "    #grab right dependencies (closest first) that are auxiliary verbs\n",
    "    for right in verb.rights:\n",
    "        if is_auxiliary_to_verb(right):\n",
    "            right_idx += 1 #expand span to include word\n",
    "        else:\n",
    "            break            \n",
    "        \n",
    "    #return slice of contiguous, related verbs\n",
    "    span = verb.doc[verb.i + left_idx: verb.i + 1 + right_idx]\n",
    "    return span\n",
    "\n"
   ]
  },
  {
   "cell_type": "code",
   "execution_count": 2,
   "metadata": {
    "_datascience": {},
    "collapsed": false
   },
   "outputs": [],
   "source": [
    "def new_pipeline(nlp):\n",
    "    return (\n",
    "        nlp.tagger,\n",
    "        nlp.parser,\n",
    "        nlp.matcher,\n",
    "        nlp.entity,\n",
    "        merge_compound_verb_phrases\n",
    "        )\n",
    "\n",
    "nlp_with_verb_merging = spacy.load('en', create_pipeline = new_pipeline)"
   ]
  },
  {
   "cell_type": "code",
   "execution_count": 22,
   "metadata": {
    "_datascience": {},
    "collapsed": false
   },
   "outputs": [
    {
     "name": "stdout",
     "output_type": "stream",
     "text": [
      "[the, man, does not like, the, pizza]\n"
     ]
    }
   ],
   "source": [
    "doc = nlp_with_verb_merging(u'the man does not like the pizza')\n",
    "print list(doc)"
   ]
  },
  {
   "cell_type": "code",
   "execution_count": 21,
   "metadata": {
    "_datascience": {},
    "collapsed": false
   },
   "outputs": [
    {
     "data": {
      "text/html": [
       "\n",
       "        <iframe\n",
       "            width=\"800\"\n",
       "            height=\"400\"\n",
       "            src=\"https://demos.explosion.ai/displacy/?text=The%20man%20ate.&model=en&cpu=1&cph=1\"\n",
       "            frameborder=\"0\"\n",
       "            allowfullscreen\n",
       "        ></iframe>\n",
       "        "
      ],
      "text/plain": [
       "<IPython.lib.display.IFrame at 0x7f420818d2d0>"
      ]
     },
     "execution_count": 21,
     "metadata": {},
     "output_type": "execute_result"
    }
   ],
   "source": [
    "from IPython.display import IFrame\n",
    "IFrame(src='https://demos.explosion.ai/displacy/?text=The%20man%20ate.&model=en&cpu=1&cph=1', width = 800, height = 400)"
   ]
  },
  {
   "cell_type": "code",
   "execution_count": 56,
   "metadata": {
    "_datascience": {},
    "collapsed": false
   },
   "outputs": [],
   "source": [
    "%matplotlib inline\n",
    "import networkx as nx\n",
    "import matplotlib.pyplot as plt\n",
    "plt.rcParams['figure.figsize'] = (16, 7)\n",
    "\n",
    "class DependencyGraph(object):\n",
    "    \"\"\"\n",
    "    Create networkx object holding parse. Plot the graph\n",
    "    \"\"\"\n",
    "    \n",
    "    \n",
    "    def __init__(self, spacy_sentence):\n",
    "        \"\"\"\n",
    "        Parameters\n",
    "        ----------\n",
    "        spacy_sentence (spacy.span.span.Span):\n",
    "            Span of a sentence or phrase in spacy\n",
    "        \"\"\"\n",
    "        self.sentence = spacy_sentence\n",
    "        self.graph = self.sentToGraph()\n",
    "        \n",
    "        \n",
    "    \n",
    "    def sentToGraph(self):\n",
    "        \n",
    "        def recurseOnGraph(token, graph):\n",
    "            for child in token.children:\n",
    "                graph.add_node(child.i, {'word':child.orth_,'tag':child.tag_})\n",
    "                graph.add_edge(token.i, child.i, {'dep':child.dep_})\n",
    "                recurseOnGraph(child, graph)\n",
    "            return graph\n",
    "        \n",
    "        graph = nx.DiGraph()\n",
    "        root = self.sentence.root\n",
    "        graph.add_node(root.i, {'word':root.orth_,'tag':root.tag_})        \n",
    "        return recurseOnGraph(root, graph)   \n",
    "    \n",
    "    def plot_graph(self, with_labels=True,arrows=False, font_size=18, node_size=2000, **kwargs):\n",
    "        f, ax = plt.subplots(1)\n",
    "        edge_labels = edge_labels=dict([((u,v,),d['dep']) for u,v,d in self.graph.edges(data=True)])\n",
    "        node_labels = {i:g.graph.node[i]['word'] for i in g.graph.node.keys()}\n",
    "\n",
    "        pos = nx.graphviz_layout(self.graph,prog='dot')\n",
    "        \n",
    "        nx.draw(self.graph,\n",
    "                pos,\n",
    "                labels = node_labels,\n",
    "                with_labels = with_labels,\n",
    "                arrows=arrows, \n",
    "                font_size=font_size, \n",
    "                node_size=node_size, \n",
    "                ax=ax, \n",
    "                **kwargs\n",
    "        )\n",
    "        \n",
    "        nx.draw_networkx_edge_labels(graph, pos, edge_labels=edge_labels,ax=ax, font_size=14)\n",
    "        \n",
    "        ax.set_title(self.sentence.text_with_ws, size = 22)\n",
    "        return ax"
   ]
  },
  {
   "cell_type": "code",
   "execution_count": 57,
   "metadata": {
    "_datascience": {},
    "collapsed": false
   },
   "outputs": [
    {
     "data": {
      "image/png": "[encoded data removed]",
      "text/plain": [
       "<matplotlib.figure.Figure at 0x7f4207bfa0d0>"
      ]
     },
     "metadata": {},
     "output_type": "display_data"
    }
   ],
   "source": [
    "g = DependencyGraph(list(doc.sents)[0])\n",
    "g.plot_graph()\n",
    "plt.show()"
   ]
  },
  {
   "cell_type": "code",
   "execution_count": null,
   "metadata": {
    "_datascience": {},
    "collapsed": true
   },
   "outputs": [],
   "source": []
  }
 ],
 "metadata": {
  "_datascience": {},
  "kernelspec": {
   "display_name": "Python 2",
   "language": "python",
   "name": "python2"
  },
  "language_info": {
   "codemirror_mode": {
    "name": "ipython",
    "version": 2
   },
   "file_extension": ".py",
   "mimetype": "text/x-python",
   "name": "python",
   "nbconvert_exporter": "python",
   "pygments_lexer": "ipython2",
   "version": "2.7.6"
  }
 },
 "nbformat": 4,
 "nbformat_minor": 0
}
