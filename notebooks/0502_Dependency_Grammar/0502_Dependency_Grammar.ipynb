{
 "cells": [
  {
   "cell_type": "code",
   "execution_count": 106,
   "metadata": {
    "_datascience": {},
    "collapsed": true
   },
   "outputs": [],
   "source": [
    "import spacy\n",
    "nlp = spacy.load('en')"
   ]
  },
  {
   "cell_type": "code",
   "execution_count": 111,
   "metadata": {
    "_datascience": {},
    "collapsed": false
   },
   "outputs": [
    {
     "data": {
      "text/plain": [
       "hi"
      ]
     },
     "execution_count": 111,
     "metadata": {},
     "output_type": "execute_result"
    }
   ],
   "source": [
    "nlp(u'hi')"
   ]
  },
  {
   "cell_type": "code",
   "execution_count": 105,
   "metadata": {
    "_datascience": {},
    "collapsed": true
   },
   "outputs": [],
   "source": [
    "\n",
    "class Parse(object):\n",
    "    def __init__(self, nlp, text, collapse_punctuation, collapse_phrases):\n",
    "        self.doc = nlp(text)\n",
    "        if collapse_punctuation:\n",
    "            spans = []\n",
    "            for word in self.doc[:-1]:\n",
    "                if word.is_punct:\n",
    "                    continue\n",
    "                if not word.nbor(1).is_punct:\n",
    "                    continue\n",
    "                start = word.i\n",
    "                end = word.i + 1\n",
    "                while end < len(self.doc) and self.doc[end].is_punct:\n",
    "                    end += 1\n",
    "                span = self.doc[start : end]\n",
    "                spans.append(\n",
    "                    (span.start_char, span.end_char, word.tag_, word.lemma_, word.ent_type_)\n",
    "                )\n",
    "            for span_props in spans:\n",
    "                self.doc.merge(*span_props)\n",
    "\n",
    "        if collapse_phrases:\n",
    "            for np in list(self.doc.noun_chunks):\n",
    "                np.merge(np.root.tag_, np.root.lemma_, np.root.ent_type_)\n",
    "\n",
    "    def to_json(self):\n",
    "        words = [{'text': w.text, 'tag': w.tag_} for w in self.doc]\n",
    "        arcs = []\n",
    "        for word in self.doc:\n",
    "            if word.i < word.head.i:\n",
    "                arcs.append(\n",
    "                    {\n",
    "                        'start': word.i,\n",
    "                        'end': word.head.i,\n",
    "                        'label': word.dep_,\n",
    "                        'dir': 'left'\n",
    "                    })\n",
    "            elif word.i > word.head.i:\n",
    "                arcs.append(\n",
    "                    {\n",
    "                        'start': word.head.i,\n",
    "                        'end': word.i,\n",
    "                        'label': word.dep_,\n",
    "                        'dir': 'right'\n",
    "                    })\n",
    "        return {'words': words, 'arcs': arcs}"
   ]
  },
  {
   "cell_type": "code",
   "execution_count": 67,
   "metadata": {
    "_datascience": {},
    "collapsed": false
   },
   "outputs": [
    {
     "data": {
      "image/png": "[encoded data removed]",
      "text/plain": [
       "<matplotlib.figure.Figure at 0x7f0189bf0950>"
      ]
     },
     "metadata": {},
     "output_type": "display_data"
    }
   ],
   "source": [
    "%matplotlib inline\n",
    "plt.rcParams['figure.figsize'] = (16, 7)\n",
    "from matplotlib import pyplot as plt\n",
    "import networkx as nx\n",
    "from IPython.display import SVG, HTML\n",
    "\n",
    "\n",
    "ax = draw_consituency('He went to the store.')\n"
   ]
  },
  {
   "cell_type": "code",
   "execution_count": 95,
   "metadata": {
    "_datascience": {},
    "collapsed": false
   },
   "outputs": [
    {
     "data": {
      "text/html": [
       "<?xml version=\"1.0\" standalone=\"no\"?>\r\n",
       "<style>\r\n",
       "\tsvg {\r\n",
       "\tfont-size: 150%;\r\n",
       "}\r\n",
       "</style>\r\n",
       "\r\n",
       "<center>\r\n",
       "\r\n",
       "\t<h3>Dependency Grammar</h3>\r\n",
       "\t<br>\r\n",
       "<svg xmlns=\"http://www.w3.org/2000/svg\" class=\"displacy\" width=\"900\" height=\"200\" viewBox=\"0 0 1150 320\" preserveAspectRatio=\"xMinYMax meet\" data-format=\"spacy\" id=\"displacy-svg\" style=\"color: rgb(245, 244, 240); background: rgb(39, 40, 34); font-family: inherit;\"><text class=\"displacy-token\" fill=\"currentColor\" data-tag=\"DT\" text-anchor=\"middle\" y=\"240\"><tspan class=\"displacy-word\" x=\"150\" fill=\"currentColor\" data-tag=\"DT\">This</tspan><tspan class=\"displacy-tag\" x=\"150\" dy=\"2em\" fill=\"currentColor\" data-tag=\"DT\">DT</tspan></text><text class=\"displacy-token\" fill=\"currentColor\" data-tag=\"NN\" text-anchor=\"middle\" y=\"240\"><tspan class=\"displacy-word\" x=\"350\" fill=\"currentColor\" data-tag=\"NN\">tree</tspan><tspan class=\"displacy-tag\" x=\"350\" dy=\"2em\" fill=\"currentColor\" data-tag=\"NN\">NN</tspan></text><text class=\"displacy-token\" fill=\"currentColor\" data-tag=\"VBZ\" text-anchor=\"middle\" y=\"240\"><tspan class=\"displacy-word\" x=\"550\" fill=\"currentColor\" data-tag=\"VBZ\">provides</tspan><tspan class=\"displacy-tag\" x=\"550\" dy=\"2em\" fill=\"currentColor\" data-tag=\"VBZ\">VBZ</tspan></text><text class=\"displacy-token\" fill=\"currentColor\" data-tag=\"NN\" text-anchor=\"middle\" y=\"240\"><tspan class=\"displacy-word\" x=\"750\" fill=\"currentColor\" data-tag=\"NN\">dependency</tspan><tspan class=\"displacy-tag\" x=\"750\" dy=\"2em\" fill=\"currentColor\" data-tag=\"NN\">NN</tspan></text><text class=\"displacy-token\" fill=\"currentColor\" data-tag=\"NNS\" text-anchor=\"middle\" y=\"240\"><tspan class=\"displacy-word\" x=\"950\" fill=\"currentColor\" data-tag=\"NNS\">annotations</tspan><tspan class=\"displacy-tag\" x=\"950\" dy=\"2em\" fill=\"currentColor\" data-tag=\"NNS\">NNS</tspan></text><g class=\"displacy-arrow\" data-dir=\"left\" data-label=\"det\"><path class=\"displacy-arc\" d=\"M152.5,200 C152.5,100 347.5,100 347.5,200\" stroke-width=\"2px\" fill=\"none\" stroke=\"currentColor\" data-dir=\"left\" data-label=\"det\" id=\"arrow-0\"/><text dy=\"1em\"><textPath class=\"displacy-label\" startOffset=\"50%\" fill=\"currentColor\" text-anchor=\"middle\" data-label=\"det\" data-dir=\"left\" xmlns:xlink=\"http://www.w3.org/1999/xlink\" xlink:href=\"#arrow-0\">det</textPath></text><path class=\"displacy-arrowhead\" d=\"M152.5,202 L146.5,192 158.5,192\" fill=\"currentColor\" data-label=\"det\" data-dir=\"left\"/></g><g class=\"displacy-arrow\" data-dir=\"left\" data-label=\"nsubj\"><path class=\"displacy-arc\" d=\"M352.5,200 C352.5,100 547.5,100 547.5,200\" stroke-width=\"2px\" fill=\"none\" stroke=\"currentColor\" data-dir=\"left\" data-label=\"nsubj\" id=\"arrow-1\"/><text dy=\"1em\"><textPath class=\"displacy-label\" startOffset=\"50%\" fill=\"currentColor\" text-anchor=\"middle\" data-label=\"nsubj\" data-dir=\"left\" xmlns:xlink=\"http://www.w3.org/1999/xlink\" xlink:href=\"#arrow-1\">nsubj</textPath></text><path class=\"displacy-arrowhead\" d=\"M352.5,202 L346.5,192 358.5,192\" fill=\"currentColor\" data-label=\"nsubj\" data-dir=\"left\"/></g><g class=\"displacy-arrow\" data-dir=\"left\" data-label=\"compound\"><path class=\"displacy-arc\" d=\"M752.5,200 C752.5,100 947.5,100 947.5,200\" stroke-width=\"2px\" fill=\"none\" stroke=\"currentColor\" data-dir=\"left\" data-label=\"compound\" id=\"arrow-2\"/><text dy=\"1em\"><textPath class=\"displacy-label\" startOffset=\"50%\" fill=\"currentColor\" text-anchor=\"middle\" data-label=\"compound\" data-dir=\"left\" xmlns:xlink=\"http://www.w3.org/1999/xlink\" xlink:href=\"#arrow-2\">compound</textPath></text><path class=\"displacy-arrowhead\" d=\"M752.5,202 L746.5,192 758.5,192\" fill=\"currentColor\" data-label=\"compound\" data-dir=\"left\"/></g><g class=\"displacy-arrow\" data-dir=\"right\" data-label=\"dobj\"><path class=\"displacy-arc\" d=\"M550,200 C550,0 950,0 950,200\" stroke-width=\"2px\" fill=\"none\" stroke=\"currentColor\" data-dir=\"right\" data-label=\"dobj\" id=\"arrow-3\"/><text dy=\"1em\"><textPath class=\"displacy-label\" startOffset=\"50%\" fill=\"currentColor\" text-anchor=\"middle\" data-label=\"dobj\" data-dir=\"right\" xmlns:xlink=\"http://www.w3.org/1999/xlink\" xlink:href=\"#arrow-3\">dobj</textPath></text><path class=\"displacy-arrowhead\" d=\"M950,202 L956,192 944,192\" fill=\"currentColor\" data-label=\"dobj\" data-dir=\"right\"/></g></svg>\r\n",
       "\r\n",
       "</center>"
      ],
      "text/plain": [
       "<IPython.core.display.HTML object>"
      ]
     },
     "execution_count": 95,
     "metadata": {},
     "output_type": "execute_result"
    }
   ],
   "source": [
    "HTML('dep_parse.html')"
   ]
  },
  {
   "cell_type": "code",
   "execution_count": 96,
   "metadata": {
    "_datascience": {},
    "collapsed": false
   },
   "outputs": [
    {
     "data": {
      "text/html": [
       "\n",
       "<svg class=\"displacy\" width=\"1550\" height=\"320\" viewBox=\"0 0 1550 320\" preserveAspectRatio=\"xMinYMax meet\" data-format=\"spacy\" id=\"displacy-svg\" style=\"color: rgb(245, 244, 240); background: rgb(39, 40, 34); font-family: inherit;\"><text class=\"displacy-token\" fill=\"currentColor\" data-tag=\"DT\" text-anchor=\"middle\" y=\"240\"><tspan class=\"displacy-word\" x=\"150\" fill=\"currentColor\" data-tag=\"DT\">This</tspan><tspan class=\"displacy-tag\" x=\"150\" dy=\"2em\" fill=\"currentColor\" data-tag=\"DT\">DT</tspan></text><text class=\"displacy-token\" fill=\"currentColor\" data-tag=\"NN\" text-anchor=\"middle\" y=\"240\"><tspan class=\"displacy-word\" x=\"350\" fill=\"currentColor\" data-tag=\"NN\">morning</tspan><tspan class=\"displacy-tag\" x=\"350\" dy=\"2em\" fill=\"currentColor\" data-tag=\"NN\">NN</tspan></text><text class=\"displacy-token\" fill=\"currentColor\" data-tag=\"PRP\" text-anchor=\"middle\" y=\"240\"><tspan class=\"displacy-word\" x=\"550\" fill=\"currentColor\" data-tag=\"PRP\">I</tspan><tspan class=\"displacy-tag\" x=\"550\" dy=\"2em\" fill=\"currentColor\" data-tag=\"PRP\">PRP</tspan></text><text class=\"displacy-token\" fill=\"currentColor\" data-tag=\"VBD\" text-anchor=\"middle\" y=\"240\"><tspan class=\"displacy-word\" x=\"750\" fill=\"currentColor\" data-tag=\"VBD\">shot</tspan><tspan class=\"displacy-tag\" x=\"750\" dy=\"2em\" fill=\"currentColor\" data-tag=\"VBD\">VBD</tspan></text><text class=\"displacy-token\" fill=\"currentColor\" data-tag=\"NN\" text-anchor=\"middle\" y=\"240\"><tspan class=\"displacy-word\" x=\"950\" fill=\"currentColor\" data-tag=\"NN\">an elephant</tspan><tspan class=\"displacy-tag\" x=\"950\" dy=\"2em\" fill=\"currentColor\" data-tag=\"NN\">NN</tspan></text><text class=\"displacy-token\" fill=\"currentColor\" data-tag=\"IN\" text-anchor=\"middle\" y=\"240\"><tspan class=\"displacy-word\" x=\"1150\" fill=\"currentColor\" data-tag=\"IN\">in</tspan><tspan class=\"displacy-tag\" x=\"1150\" dy=\"2em\" fill=\"currentColor\" data-tag=\"IN\">IN</tspan></text><text class=\"displacy-token\" fill=\"currentColor\" data-tag=\"NNS\" text-anchor=\"middle\" y=\"240\"><tspan class=\"displacy-word\" x=\"1350\" fill=\"currentColor\" data-tag=\"NNS\">my pajamas</tspan><tspan class=\"displacy-tag\" x=\"1350\" dy=\"2em\" fill=\"currentColor\" data-tag=\"NNS\">NNS</tspan></text><g class=\"displacy-arrow\" data-dir=\"left\" data-label=\"det\"><path class=\"displacy-arc\" d=\"M152.5,200 C152.5,100 347.5,100 347.5,200\" stroke-width=\"2px\" fill=\"none\" stroke=\"currentColor\" data-dir=\"left\" data-label=\"det\" id=\"arrow-0\"></path><text dy=\"1em\"><textPath class=\"displacy-label\" startOffset=\"50%\" fill=\"currentColor\" text-anchor=\"middle\" data-label=\"det\" data-dir=\"left\" xmlns:xlink=\"http://www.w3.org/1999/xlink\" xlink:href=\"#arrow-0\">det</textPath></text><path class=\"displacy-arrowhead\" d=\"M152.5,202 L146.5,192 158.5,192\" fill=\"currentColor\" data-label=\"det\" data-dir=\"left\"></path></g><g class=\"displacy-arrow\" data-dir=\"left\" data-label=\"npadvmod\"><path class=\"displacy-arc\" d=\"M350,200 C350,0 750,0 750,200\" stroke-width=\"2px\" fill=\"none\" stroke=\"currentColor\" data-dir=\"left\" data-label=\"npadvmod\" id=\"arrow-1\"></path><text dy=\"1em\"><textPath class=\"displacy-label\" startOffset=\"50%\" fill=\"currentColor\" text-anchor=\"middle\" data-label=\"npadvmod\" data-dir=\"left\" xmlns:xlink=\"http://www.w3.org/1999/xlink\" xlink:href=\"#arrow-1\">npadvmod</textPath></text><path class=\"displacy-arrowhead\" d=\"M350,202 L344,192 356,192\" fill=\"currentColor\" data-label=\"npadvmod\" data-dir=\"left\"></path></g><g class=\"displacy-arrow\" data-dir=\"left\" data-label=\"nsubj\"><path class=\"displacy-arc\" d=\"M552.5,200 C552.5,100 747.5,100 747.5,200\" stroke-width=\"2px\" fill=\"none\" stroke=\"currentColor\" data-dir=\"left\" data-label=\"nsubj\" id=\"arrow-2\"></path><text dy=\"1em\"><textPath class=\"displacy-label\" startOffset=\"50%\" fill=\"currentColor\" text-anchor=\"middle\" data-label=\"nsubj\" data-dir=\"left\" xmlns:xlink=\"http://www.w3.org/1999/xlink\" xlink:href=\"#arrow-2\">nsubj</textPath></text><path class=\"displacy-arrowhead\" d=\"M552.5,202 L546.5,192 558.5,192\" fill=\"currentColor\" data-label=\"nsubj\" data-dir=\"left\"></path></g><g class=\"displacy-arrow\" data-dir=\"right\" data-label=\"dobj\"><path class=\"displacy-arc\" d=\"M752.5,200 C752.5,100 947.5,100 947.5,200\" stroke-width=\"2px\" fill=\"none\" stroke=\"currentColor\" data-dir=\"right\" data-label=\"dobj\" id=\"arrow-3\"></path><text dy=\"1em\"><textPath class=\"displacy-label\" startOffset=\"50%\" fill=\"currentColor\" text-anchor=\"middle\" data-label=\"dobj\" data-dir=\"right\" xmlns:xlink=\"http://www.w3.org/1999/xlink\" xlink:href=\"#arrow-3\">dobj</textPath></text><path class=\"displacy-arrowhead\" d=\"M947.5,202 L953.5,192 941.5,192\" fill=\"currentColor\" data-label=\"dobj\" data-dir=\"right\"></path></g><g class=\"displacy-arrow\" data-dir=\"right\" data-label=\"prep\"><path class=\"displacy-arc\" d=\"M750,200 C750,0 1150,0 1150,200\" stroke-width=\"2px\" fill=\"none\" stroke=\"currentColor\" data-dir=\"right\" data-label=\"prep\" id=\"arrow-4\"></path><text dy=\"1em\"><textPath class=\"displacy-label\" startOffset=\"50%\" fill=\"currentColor\" text-anchor=\"middle\" data-label=\"prep\" data-dir=\"right\" xmlns:xlink=\"http://www.w3.org/1999/xlink\" xlink:href=\"#arrow-4\">prep</textPath></text><path class=\"displacy-arrowhead\" d=\"M1150,202 L1156,192 1144,192\" fill=\"currentColor\" data-label=\"prep\" data-dir=\"right\"></path></g><g class=\"displacy-arrow\" data-dir=\"right\" data-label=\"pobj\"><path class=\"displacy-arc\" d=\"M1152.5,200 C1152.5,100 1347.5,100 1347.5,200\" stroke-width=\"2px\" fill=\"none\" stroke=\"currentColor\" data-dir=\"right\" data-label=\"pobj\" id=\"arrow-5\"></path><text dy=\"1em\"><textPath class=\"displacy-label\" startOffset=\"50%\" fill=\"currentColor\" text-anchor=\"middle\" data-label=\"pobj\" data-dir=\"right\" xmlns:xlink=\"http://www.w3.org/1999/xlink\" xlink:href=\"#arrow-5\">pobj</textPath></text><path class=\"displacy-arrowhead\" d=\"M1347.5,202 L1353.5,192 1341.5,192\" fill=\"currentColor\" data-label=\"pobj\" data-dir=\"right\"></path></g></svg>\n"
      ],
      "text/plain": [
       "<IPython.core.display.HTML object>"
      ]
     },
     "execution_count": 96,
     "metadata": {},
     "output_type": "execute_result"
    }
   ],
   "source": [
    "HTML(elephant_parse)"
   ]
  },
  {
   "cell_type": "code",
   "execution_count": 139,
   "metadata": {
    "_datascience": {},
    "collapsed": false
   },
   "outputs": [
    {
     "data": {
      "text/html": [
       "\n",
       "\n",
       "<center>\n",
       "<h3> Axioms of Dependency Grammar: </h3>\n",
       "<br>\n",
       "<h4>1) Each sentence has exactly one root.</h4>\n",
       "<br>\n",
       "<object data=\"axiom1.svg\" type=\"image/svg+xml\">\n",
       "  <img src=\"axiom1.jpg\" />\n",
       "</object>\n",
       "<br>\n",
       "<h4>2) Every word other than the root depends on another element.</h4>\n",
       "<br>\n",
       "<object data=\"singlehead.svg\" type=\"image/svg+xml\">\n",
       "  <img src=\"singlehead.jpg\" width = 50/>\n",
       "</object>\n",
       "<br>\n",
       "<h4>3) No word can depend on more than one element.</h4>\n",
       "<br>\n",
       "<object data=\"non-multi-headed.svg\" type=\"image/svg+xml\">\n",
       "  <img src=\"non-multi-headed.jpg\" width = 50/>\n",
       "</object>\n",
       "\n",
       "<br>\n",
       "<object data=\"non-multi-headed-normative.svg\" type=\"image/svg+xml\">\n",
       "  <img src=\"non-multi-headed-normative.jpg\" width = 50/>\n",
       "</object>\n",
       "<br>\n",
       "<h4>4) Dependencies do not cross each other (planar trees).</h4>\n",
       "<br>\n",
       "<object data=\"planar-parse.svg\" type=\"image/svg+xml\">\n",
       "  <img src=\"planar-parse.jpg\" width = 50/>\n",
       "</object>\n",
       "\n",
       "<br>\n",
       "<object data=\"non-planar-parse.svg\" type=\"image/svg+xml\">\n",
       "  <img src=\"non-planar-parse.jpg\" width = 50/>\n",
       "</object>\n",
       "\n",
       "</center>\n",
       "\n"
      ],
      "text/plain": [
       "<IPython.core.display.HTML object>"
      ]
     },
     "execution_count": 139,
     "metadata": {},
     "output_type": "execute_result"
    }
   ],
   "source": [
    "axioms = \"\"\"\n",
    "\n",
    "<center>\n",
    "<h3> Axioms of Dependency Grammar: </h3>\n",
    "<br>\n",
    "<h4>1) Each sentence has exactly one root.</h4>\n",
    "<br>\n",
    "<object data=\"axiom1.svg\" type=\"image/svg+xml\">\n",
    "  <img src=\"axiom1.jpg\" />\n",
    "</object>\n",
    "<br>\n",
    "<h4>2) Every word other than the root depends on another element.</h4>\n",
    "<br>\n",
    "<object data=\"singlehead.svg\" type=\"image/svg+xml\">\n",
    "  <img src=\"singlehead.jpg\" width = 50/>\n",
    "</object>\n",
    "<br>\n",
    "<h4>3) No word can depend on more than one element.</h4>\n",
    "<br>\n",
    "<object data=\"non-multi-headed.svg\" type=\"image/svg+xml\">\n",
    "  <img src=\"non-multi-headed.jpg\" width = 50/>\n",
    "</object>\n",
    "\n",
    "<br>\n",
    "<object data=\"non-multi-headed-normative.svg\" type=\"image/svg+xml\">\n",
    "  <img src=\"non-multi-headed-normative.jpg\" width = 50/>\n",
    "</object>\n",
    "<br>\n",
    "<h4>4) Dependencies do not cross each other (planar trees).</h4>\n",
    "<br>\n",
    "<object data=\"planar-parse.svg\" type=\"image/svg+xml\">\n",
    "  <img src=\"planar-parse.jpg\" width = 50/>\n",
    "</object>\n",
    "\n",
    "<br>\n",
    "<object data=\"non-planar-parse.svg\" type=\"image/svg+xml\">\n",
    "  <img src=\"non-planar-parse.jpg\" width = 50/>\n",
    "</object>\n",
    "\n",
    "</center>\n",
    "\n",
    "\"\"\"\n",
    "\n",
    "HTML(axioms)"
   ]
  },
  {
   "cell_type": "code",
   "execution_count": 42,
   "metadata": {
    "_datascience": {},
    "collapsed": true
   },
   "outputs": [],
   "source": [
    "def hierarchy_pos(G, root, width=1., vert_gap = 0.2, vert_loc = 0, xcenter = 0.5, \n",
    "                  pos = None, parent = None):\n",
    "    '''If there is a cycle that is reachable from root, then this will see infinite recursion.\n",
    "       G: the graph\n",
    "       root: the root node of current branch\n",
    "       width: horizontal space allocated for this branch - avoids overlap with other branches\n",
    "       vert_gap: gap between levels of hierarchy\n",
    "       vert_loc: vertical location of root\n",
    "       xcenter: horizontal location of root\n",
    "       pos: a dict saying where all nodes go if they have been assigned\n",
    "       parent: parent of this branch.'''\n",
    "    \n",
    "\n",
    "    \n",
    "    if pos == None:\n",
    "        pos = {root:(xcenter,vert_loc)}\n",
    "    else:\n",
    "        pos[root] = (xcenter, vert_loc)\n",
    "        \n",
    "    \n",
    "    neighbors = G.neighbors(root)\n",
    "    if parent != None:\n",
    "        if parent in neighbors:\n",
    "            neighbors.remove(parent)\n",
    "    if len(neighbors)!=0:\n",
    "        dx = width/len(neighbors) \n",
    "        nextx = xcenter - width/2 - dx/2\n",
    "        for neighbor in neighbors:\n",
    "            nextx += dx\n",
    "            pos = hierarchy_pos(G,neighbor, width = dx, vert_gap = vert_gap, \n",
    "                                vert_loc = vert_loc-vert_gap, xcenter=nextx, pos=pos, \n",
    "                                parent = root)\n",
    "    return pos\n",
    "\n",
    "def get_pos(G, root, width=1., vert_gap = 0.2, vert_loc = 0, xcenter = 0.5, pos = None, parent = None, reflectx = True):\n",
    "    \n",
    "    leaves = [x for x in G.nodes_iter() if G.out_degree(x)==0 and G.in_degree(x)==1]\n",
    "    pos = hierarchy_pos(G, root)\n",
    "    lowest_y = min(map(lambda x: x[1], pos.values()))\n",
    "    for leaf in leaves:\n",
    "        pos[leaf] = (pos[leaf][0], lowest_y)\n",
    "        \n",
    "    if reflectx:\n",
    "        for key in pos:\n",
    "            pos[key] = (1 - pos[key][0], pos[key][1])\n",
    "    return pos\n",
    "\n",
    "\n",
    "\n",
    "\n",
    "def draw_consituency(title):\n",
    "    f, ax = plt.subplots(1)\n",
    "    ax.set_title(title)\n",
    "    \n",
    "    g = nx.DiGraph()\n",
    "    g.add_node('Sentence')\n",
    "\n",
    "    g.add_node('N')\n",
    "    g.add_edge('Sentence','N')\n",
    "\n",
    "\n",
    "    g.add_node('VP')\n",
    "    g.add_edge('Sentence','VP')\n",
    "\n",
    "    g.add_node('V')\n",
    "    g.add_edge('VP','V')\n",
    "\n",
    "\n",
    "    g.add_node('PP')\n",
    "    g.add_edge('VP', 'PP')\n",
    "\n",
    "    g.add_node('Prep')\n",
    "    g.add_edge('PP','Prep')\n",
    "\n",
    "\n",
    "    g.add_node('NP')\n",
    "    g.add_edge('PP','NP')\n",
    "\n",
    "    g.add_node('Det')\n",
    "    g.add_edge('NP','Det')\n",
    "\n",
    "    g.add_node('N ')\n",
    "    g.add_edge('NP','N ')\n",
    "    \n",
    "\n",
    "    g.add_node('He')\n",
    "    g.add_edge('N', 'He')    \n",
    "\n",
    "    g.add_node(\"went\")\n",
    "    g.add_edge('V','went')    \n",
    "    \n",
    "    g.add_node('to')\n",
    "    g.add_edge('Prep','to')    \n",
    "\n",
    "    g.add_node('the')\n",
    "    g.add_edge('Det','the')\n",
    "\n",
    "    g.add_node('store')\n",
    "    g.add_edge('N ','store')\n",
    "\n",
    "    pos = get_pos(g, 'Sentence', reflectx=True)\n",
    "    nx.draw(g, pos=pos,with_labels=True, ax = ax, node_size=1500, arrows=False)\n",
    "\n",
    "    \n",
    "    for t in ax.texts:\n",
    "        if t.get_text() in ['He','went','to','the','store']:\n",
    "            t.set_fontweight(1000)\n",
    "    return ax"
   ]
  },
  {
   "cell_type": "code",
   "execution_count": 25,
   "metadata": {
    "_datascience": {},
    "collapsed": false
   },
   "outputs": [
    {
     "data": {
      "text/plain": [
       "u'PP'"
      ]
     },
     "execution_count": 25,
     "metadata": {},
     "output_type": "execute_result"
    }
   ],
   "source": [
    "valency_html = \"\"\"\n",
    "\n",
    "<!-- HTML generated using hilite.me --><div style=\"background: #ffffff; overflow:auto;width:auto;border:solid gray;border-width:.1em .1em .1em .8em;padding:.2em .6em;\"><pre style=\"margin: 0; line-height: 125%\"><span style=\"color: #008800; font-weight: bold\">def</span> transitive_verb <span style=\"color: #333333\">(</span>subject<span style=\"color: #008800; font-weight: bold\">:</span> <span style=\"color: #333399; font-weight: bold\">noun</span><span style=\"color: #333333\">,</span> object<span style=\"color: #008800; font-weight: bold\">:</span> <span style=\"color: #333399; font-weight: bold\">noun</span><span style=\"color: #333333\">)</span><span style=\"color: #008800; font-weight: bold\">:</span> <span style=\"color: #333399; font-weight: bold\">verb_phrase</span>  <span style=\"color: #333333\">=</span> <span style=\"color: #333333\">{</span>\n",
    "\n",
    "    <span style=\"color: #333333\">...</span>\n",
    "<span style=\"color: #333333\">}</span>\n",
    "</pre></div>\n",
    "\n",
    "\n",
    "\"\"\""
   ]
  },
  {
   "cell_type": "code",
   "execution_count": null,
   "metadata": {
    "_datascience": {},
    "collapsed": true
   },
   "outputs": [],
   "source": [
    "elephant_parse = \"\"\"\n",
    "<svg class=\"displacy\" width=\"1550\" height=\"320\" viewBox=\"0 0 1550 320\" preserveAspectRatio=\"xMinYMax meet\" data-format=\"spacy\" id=\"displacy-svg\" style=\"color: rgb(245, 244, 240); background: rgb(39, 40, 34); font-family: inherit;\"><text class=\"displacy-token\" fill=\"currentColor\" data-tag=\"DT\" text-anchor=\"middle\" y=\"240\"><tspan class=\"displacy-word\" x=\"150\" fill=\"currentColor\" data-tag=\"DT\">This</tspan><tspan class=\"displacy-tag\" x=\"150\" dy=\"2em\" fill=\"currentColor\" data-tag=\"DT\">DT</tspan></text><text class=\"displacy-token\" fill=\"currentColor\" data-tag=\"NN\" text-anchor=\"middle\" y=\"240\"><tspan class=\"displacy-word\" x=\"350\" fill=\"currentColor\" data-tag=\"NN\">morning</tspan><tspan class=\"displacy-tag\" x=\"350\" dy=\"2em\" fill=\"currentColor\" data-tag=\"NN\">NN</tspan></text><text class=\"displacy-token\" fill=\"currentColor\" data-tag=\"PRP\" text-anchor=\"middle\" y=\"240\"><tspan class=\"displacy-word\" x=\"550\" fill=\"currentColor\" data-tag=\"PRP\">I</tspan><tspan class=\"displacy-tag\" x=\"550\" dy=\"2em\" fill=\"currentColor\" data-tag=\"PRP\">PRP</tspan></text><text class=\"displacy-token\" fill=\"currentColor\" data-tag=\"VBD\" text-anchor=\"middle\" y=\"240\"><tspan class=\"displacy-word\" x=\"750\" fill=\"currentColor\" data-tag=\"VBD\">shot</tspan><tspan class=\"displacy-tag\" x=\"750\" dy=\"2em\" fill=\"currentColor\" data-tag=\"VBD\">VBD</tspan></text><text class=\"displacy-token\" fill=\"currentColor\" data-tag=\"NN\" text-anchor=\"middle\" y=\"240\"><tspan class=\"displacy-word\" x=\"950\" fill=\"currentColor\" data-tag=\"NN\">an elephant</tspan><tspan class=\"displacy-tag\" x=\"950\" dy=\"2em\" fill=\"currentColor\" data-tag=\"NN\">NN</tspan></text><text class=\"displacy-token\" fill=\"currentColor\" data-tag=\"IN\" text-anchor=\"middle\" y=\"240\"><tspan class=\"displacy-word\" x=\"1150\" fill=\"currentColor\" data-tag=\"IN\">in</tspan><tspan class=\"displacy-tag\" x=\"1150\" dy=\"2em\" fill=\"currentColor\" data-tag=\"IN\">IN</tspan></text><text class=\"displacy-token\" fill=\"currentColor\" data-tag=\"NNS\" text-anchor=\"middle\" y=\"240\"><tspan class=\"displacy-word\" x=\"1350\" fill=\"currentColor\" data-tag=\"NNS\">my pajamas</tspan><tspan class=\"displacy-tag\" x=\"1350\" dy=\"2em\" fill=\"currentColor\" data-tag=\"NNS\">NNS</tspan></text><g class=\"displacy-arrow\" data-dir=\"left\" data-label=\"det\"><path class=\"displacy-arc\" d=\"M152.5,200 C152.5,100 347.5,100 347.5,200\" stroke-width=\"2px\" fill=\"none\" stroke=\"currentColor\" data-dir=\"left\" data-label=\"det\" id=\"arrow-0\"></path><text dy=\"1em\"><textPath class=\"displacy-label\" startOffset=\"50%\" fill=\"currentColor\" text-anchor=\"middle\" data-label=\"det\" data-dir=\"left\" xmlns:xlink=\"http://www.w3.org/1999/xlink\" xlink:href=\"#arrow-0\">det</textPath></text><path class=\"displacy-arrowhead\" d=\"M152.5,202 L146.5,192 158.5,192\" fill=\"currentColor\" data-label=\"det\" data-dir=\"left\"></path></g><g class=\"displacy-arrow\" data-dir=\"left\" data-label=\"npadvmod\"><path class=\"displacy-arc\" d=\"M350,200 C350,0 750,0 750,200\" stroke-width=\"2px\" fill=\"none\" stroke=\"currentColor\" data-dir=\"left\" data-label=\"npadvmod\" id=\"arrow-1\"></path><text dy=\"1em\"><textPath class=\"displacy-label\" startOffset=\"50%\" fill=\"currentColor\" text-anchor=\"middle\" data-label=\"npadvmod\" data-dir=\"left\" xmlns:xlink=\"http://www.w3.org/1999/xlink\" xlink:href=\"#arrow-1\">npadvmod</textPath></text><path class=\"displacy-arrowhead\" d=\"M350,202 L344,192 356,192\" fill=\"currentColor\" data-label=\"npadvmod\" data-dir=\"left\"></path></g><g class=\"displacy-arrow\" data-dir=\"left\" data-label=\"nsubj\"><path class=\"displacy-arc\" d=\"M552.5,200 C552.5,100 747.5,100 747.5,200\" stroke-width=\"2px\" fill=\"none\" stroke=\"currentColor\" data-dir=\"left\" data-label=\"nsubj\" id=\"arrow-2\"></path><text dy=\"1em\"><textPath class=\"displacy-label\" startOffset=\"50%\" fill=\"currentColor\" text-anchor=\"middle\" data-label=\"nsubj\" data-dir=\"left\" xmlns:xlink=\"http://www.w3.org/1999/xlink\" xlink:href=\"#arrow-2\">nsubj</textPath></text><path class=\"displacy-arrowhead\" d=\"M552.5,202 L546.5,192 558.5,192\" fill=\"currentColor\" data-label=\"nsubj\" data-dir=\"left\"></path></g><g class=\"displacy-arrow\" data-dir=\"right\" data-label=\"dobj\"><path class=\"displacy-arc\" d=\"M752.5,200 C752.5,100 947.5,100 947.5,200\" stroke-width=\"2px\" fill=\"none\" stroke=\"currentColor\" data-dir=\"right\" data-label=\"dobj\" id=\"arrow-3\"></path><text dy=\"1em\"><textPath class=\"displacy-label\" startOffset=\"50%\" fill=\"currentColor\" text-anchor=\"middle\" data-label=\"dobj\" data-dir=\"right\" xmlns:xlink=\"http://www.w3.org/1999/xlink\" xlink:href=\"#arrow-3\">dobj</textPath></text><path class=\"displacy-arrowhead\" d=\"M947.5,202 L953.5,192 941.5,192\" fill=\"currentColor\" data-label=\"dobj\" data-dir=\"right\"></path></g><g class=\"displacy-arrow\" data-dir=\"right\" data-label=\"prep\"><path class=\"displacy-arc\" d=\"M750,200 C750,0 1150,0 1150,200\" stroke-width=\"2px\" fill=\"none\" stroke=\"currentColor\" data-dir=\"right\" data-label=\"prep\" id=\"arrow-4\"></path><text dy=\"1em\"><textPath class=\"displacy-label\" startOffset=\"50%\" fill=\"currentColor\" text-anchor=\"middle\" data-label=\"prep\" data-dir=\"right\" xmlns:xlink=\"http://www.w3.org/1999/xlink\" xlink:href=\"#arrow-4\">prep</textPath></text><path class=\"displacy-arrowhead\" d=\"M1150,202 L1156,192 1144,192\" fill=\"currentColor\" data-label=\"prep\" data-dir=\"right\"></path></g><g class=\"displacy-arrow\" data-dir=\"right\" data-label=\"pobj\"><path class=\"displacy-arc\" d=\"M1152.5,200 C1152.5,100 1347.5,100 1347.5,200\" stroke-width=\"2px\" fill=\"none\" stroke=\"currentColor\" data-dir=\"right\" data-label=\"pobj\" id=\"arrow-5\"></path><text dy=\"1em\"><textPath class=\"displacy-label\" startOffset=\"50%\" fill=\"currentColor\" text-anchor=\"middle\" data-label=\"pobj\" data-dir=\"right\" xmlns:xlink=\"http://www.w3.org/1999/xlink\" xlink:href=\"#arrow-5\">pobj</textPath></text><path class=\"displacy-arrowhead\" d=\"M1347.5,202 L1353.5,192 1341.5,192\" fill=\"currentColor\" data-label=\"pobj\" data-dir=\"right\"></path></g></svg>\n",
    "\"\"\""
   ]
  },
  {
   "cell_type": "code",
   "execution_count": 47,
   "metadata": {
    "_datascience": {},
    "collapsed": false
   },
   "outputs": [
    {
     "data": {
      "text/html": [
       "<!-- HTML generated using hilite.me -->\n",
       "<div style=\"background: #ffffff; overflow:auto;width:auto;border:solid gray;border-width:.1em .1em .1em .8em;padding:.2em .6em;\">\n",
       "<pre style=\"margin: 0; line-height: 125%\"><span style=\"color: #008800; font-weight: bold\">def</span> transitive_verb <span style=\"color: #333333\">(</span>subject<span style=\"color: #008800; font-weight: bold\">:</span> <span style=\"color: #333399; font-weight: bold\">noun</span><span style=\"color: #333333\">,</span> object<span style=\"color: #008800; font-weight: bold\">:</span> <span style=\"color: #333399; font-weight: bold\">noun</span><span style=\"color: #333333\">)</span><span style=\"color: #008800; font-weight: bold\">:</span> <span style=\"color: #333399; font-weight: bold\">verb_phrase</span>  <span style=\"color: #333333\">=</span> <span style=\"color: #333333\">{</span>\n",
       "\n",
       "    <span style=\"color: #333333\">...</span>\n",
       "<span style=\"color: #333333\">}</span>\n",
       "</pre></div>"
      ],
      "text/plain": [
       "<IPython.core.display.HTML object>"
      ]
     },
     "metadata": {},
     "output_type": "display_data"
    }
   ],
   "source": [
    "%%HTML\n",
    "<!-- HTML generated using hilite.me -->\n",
    "<div style=\"background: #ffffff; overflow:auto;width:auto;border:solid gray;border-width:.1em .1em .1em .8em;padding:.2em .6em;\">\n",
    "<pre style=\"margin: 0; line-height: 125%\"><span style=\"color: #008800; font-weight: bold\">def</span> transitive_verb <span style=\"color: #333333\">(</span>subject<span style=\"color: #008800; font-weight: bold\">:</span> <span style=\"color: #333399; font-weight: bold\">noun</span><span style=\"color: #333333\">,</span> object<span style=\"color: #008800; font-weight: bold\">:</span> <span style=\"color: #333399; font-weight: bold\">noun</span><span style=\"color: #333333\">)</span><span style=\"color: #008800; font-weight: bold\">:</span> <span style=\"color: #333399; font-weight: bold\">verb_phrase</span>  <span style=\"color: #333333\">=</span> <span style=\"color: #333333\">{</span>\n",
    "\n",
    "    <span style=\"color: #333333\">...</span>\n",
    "<span style=\"color: #333333\">}</span>\n",
    "</pre></div>"
   ]
  },
  {
   "cell_type": "code",
   "execution_count": null,
   "metadata": {
    "_datascience": {},
    "collapsed": false
   },
   "outputs": [],
   "source": [
    "def noun_phrase()"
   ]
  },
  {
   "cell_type": "code",
   "execution_count": null,
   "metadata": {
    "_datascience": {},
    "collapsed": true
   },
   "outputs": [],
   "source": []
  }
 ],
 "metadata": {
  "_datascience": {},
  "kernelspec": {
   "display_name": "Python 2",
   "language": "python",
   "name": "python2"
  },
  "language_info": {
   "codemirror_mode": {
    "name": "ipython",
    "version": 2
   },
   "file_extension": ".py",
   "mimetype": "text/x-python",
   "name": "python",
   "nbconvert_exporter": "python",
   "pygments_lexer": "ipython2",
   "version": "2.7.6"
  }
 },
 "nbformat": 4,
 "nbformat_minor": 0
}
