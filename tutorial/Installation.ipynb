{
 "cells": [
  {
   "cell_type": "markdown",
   "metadata": {
    "_datascience": {}
   },
   "source": [
    "### Environment for Tutorial\n",
    "\n",
    "**Everyone: Make sure you have a github account!**\n",
    "\n",
    "If you do not have one, please go to <a href=\"http://www.github.com\">www.github.com</a> and register.\n",
    "\n",
    "### First 25 Attendees:\n",
    "\n",
    "\n",
    "* navigate to nsf.datascience.com\n",
    "* Login with your username and password.\n",
    "* Enter \"JupyterCon 2017\" Project.\n",
    "* Go to Settings\n",
    "![Session](assets/Settings.png)\n",
    "* Select the JupyterCon 2017 Project\n",
    "* Create a session: \n",
    "\n",
    "![CreateSession](assets/CreateSession.png)\n",
    "\n",
    "Pick the compute resources **assigned to you** (yes some of us have smaller instances, thats ok! Theyre still a good size).\n",
    "\n",
    "![Session](assets/ComputeType.png)\n",
    "\n",
    "\n",
    "\n",
    "\n",
    "### Remaining Attendees:\n",
    "\n",
    "* Install git: https://git-scm.com/book/en/v2/Getting-Started-Installing-Git\n",
    "* Install Docker: https://docs.docker.com/engine/installation/#desktop\n",
    "* git clone https://github.com/aikramer2/docker-stacks\n",
    "\n"
   ]
  },
  {
   "cell_type": "code",
   "execution_count": null,
   "metadata": {
    "_datascience": {},
    "collapsed": true
   },
   "outputs": [],
   "source": []
  }
 ],
 "metadata": {
  "_datascience": {},
  "kernelspec": {
   "display_name": "Python 3",
   "language": "python",
   "name": "python3"
  },
  "language_info": {
   "codemirror_mode": {
    "name": "ipython",
    "version": 3
   },
   "file_extension": ".py",
   "mimetype": "text/x-python",
   "name": "python",
   "nbconvert_exporter": "python",
   "pygments_lexer": "ipython3",
   "version": "3.6.1"
  }
 },
 "nbformat": 4,
 "nbformat_minor": 2
}
