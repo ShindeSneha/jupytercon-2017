{
 "cells": [
  {
   "cell_type": "markdown",
   "metadata": {},
   "source": [
    "### POS Tagging: Agenda\n",
    "* <a href=\"#section1\">What are parts of speech? Why are they useful?</a>\n",
    "* <a href=\"#section2\">How do you use them with SpaCy?</a>\n",
    "* <a href=\"#section3\">How do we infer them?</a>\n",
    "* <a href=\"#section4\"> How do we learn them with SpaCy?</a>\n"
   ]
  },
  {
   "cell_type": "code",
   "execution_count": 1,
   "metadata": {},
   "outputs": [
    {
     "name": "stdout",
     "output_type": "stream",
     "text": [
      "Enabling notebook extension jupyter-js-widgets/extension...\r\n",
      "      - Validating: \u001b[32mOK\u001b[0m\r\n"
     ]
    },
    {
     "name": "stderr",
     "output_type": "stream",
     "text": [
      "/opt/conda/envs/python3/lib/python3.5/site-packages/ipykernel_launcher.py:7: UserWarning: Refresh notebook to reflect widget availability.\n",
      "  import sys\n"
     ]
    }
   ],
   "source": [
    "from warnings import warn\n",
    "def from_scratch():\n",
    "    !pip install gensim >> ~/gensim.log\n",
    "    !pip install spacy >> ~/spacy.log\n",
    "    !python -m spacy download en >> ~/spacy.log\n",
    "    !jupyter nbextension enable --py --sys-prefix widgetsnbextension\n",
    "    warn(\"Refresh notebook to reflect widget availability.\")\n",
    "\n",
    "    \n",
    "from_scratch()"
   ]
  },
  {
   "cell_type": "code",
   "execution_count": 2,
   "metadata": {},
   "outputs": [
    {
     "name": "stdout",
     "output_type": "stream",
     "text": [
      "[nltk_data] Downloading package tagsets to /home/jupyter/nltk_data...\n",
      "[nltk_data]   Unzipping help/tagsets.zip.\n",
      "[nltk_data] Downloading package universal_tagset to\n",
      "[nltk_data]     /home/jupyter/nltk_data...\n",
      "[nltk_data]   Unzipping taggers/universal_tagset.zip.\n"
     ]
    }
   ],
   "source": [
    "import pandas as pd\n",
    "import spacy\n",
    "from spacy.matcher import Matcher\n",
    "from spacy.attrs import POS\n",
    "from spacy.en import English\n",
    "import matplotlib.pyplot as plt\n",
    "from functools import partial\n",
    "import nltk\n",
    "from operator import itemgetter\n",
    "from itertools import groupby\n",
    "from nltk.corpus import brown\n",
    "from collections import defaultdict, Counter\n",
    "import numpy as np\n",
    "from spacy.tokens import Doc\n",
    "from IPython.display import HTML\n",
    "import warnings\n",
    "import pandas as pd\n",
    "from functools import wraps\n",
    "\n",
    "def as_list(f):\n",
    "    @wraps(f)\n",
    "    def wrapper(*args, **kwargs):\n",
    "        return list(f(*args, **kwargs))\n",
    "    \n",
    "    return wrapper\n",
    "    \n",
    "\n",
    "\n",
    "warnings.filterwarnings('ignore')\n",
    "%matplotlib inline\n",
    "\n",
    "map_ = as_list(map)\n",
    "filter_ = as_list(filter)\n",
    "zip_ = as_list(zip)\n",
    "\n",
    "def rep_sentences(texts):\n",
    "    html = []\n",
    "    for text in texts:\n",
    "        html.append(rep_sentence(text))\n",
    "    return HTML(\"\".join(html))\n",
    "\n",
    "def rep_sentence(text, display_pos = True):\n",
    "    html_colors = ['SkyBlue'\n",
    "               ,'red'\n",
    "               ,'YellowGreen'\n",
    "               ,'yellow'\n",
    "               ,'orange'\n",
    "               ,'pink'\n",
    "               ,'brown'\n",
    "               ,'purple'\n",
    "               , 'CadetBlue'\n",
    "                ,'DarkKhaki'\n",
    "                ,'DarkSalmon'\n",
    "                ,'Gold'    \n",
    "              ]\n",
    "    doc = nlp(text)\n",
    "    n_words = len(doc)\n",
    "    unique_pos = list(set(map(lambda x: x.pos_, doc)))\n",
    "    pos_to_color = {i:html_colors[unique_pos.index(i)] for i in unique_pos}\n",
    "    css = [\"<style>.word{font-weight:bold;}</style>\"]\n",
    "    for pos in unique_pos:\n",
    "        css.append('<style>.{}{{background-color:{};}}</style>'.format(*[pos, pos_to_color[pos]]))\n",
    "    css = \"\".join(css)\n",
    "\n",
    "    html = [\"<table width=100%>\"]\n",
    "    html.append(css)\n",
    "    html.append(\"<tr>\")            \n",
    "    for i in range(n_words):\n",
    "        word_string= doc[i].orth_\n",
    "        html.append(\"<td><span class='word'>{0}</span></td>\".format(word_string))\n",
    "    html.append(\"</tr>\")\n",
    "    if display_pos:\n",
    "        html.append(\"<tr>\")            \n",
    "        for i in range(n_words):\n",
    "            pos = doc[i].pos_\n",
    "            color = pos_to_color[pos]\n",
    "            html.append(\"<td><span class='{0}'>{0}</span></td>\".format(pos))\n",
    "        html.append(\"</tr>\")\n",
    "    html = \"\".join(html)\n",
    "    return html\n",
    "\n",
    "\n",
    "\n",
    "def custom_tag_table(list_of_word_tag_tuples):\n",
    "    html_colors = ['SkyBlue'\n",
    "               ,'red'\n",
    "               ,'YellowGreen'\n",
    "               ,'yellow'\n",
    "               ,'orange'\n",
    "               ,'pink'\n",
    "               ,'brown'\n",
    "               ,'MediumPurple'\n",
    "               , 'CadetBlue'\n",
    "                ,'DarkKhaki'\n",
    "                ,'DarkSalmon'\n",
    "                ,'Gold'    \n",
    "              ]\n",
    "    \n",
    "    n_words = len(list_of_word_tag_tuples)\n",
    "    words, pos_list = zip(*list_of_word_tag_tuples)\n",
    "    unique_pos = list(set([pos for pair in pos_list for pos in pair]))\n",
    "    pos_to_color = {i:html_colors[unique_pos.index(i)] for i in unique_pos}\n",
    "    css = [\"<style>.word{font-weight:bold;}</style>\"]\n",
    "    for pos in unique_pos:\n",
    "        css.append('<style>.{}{{background-color:{};}}</style>'.format(*[pos, pos_to_color[pos]]))\n",
    "    css = \"\".join(css)\n",
    "\n",
    "    html = [\"<table width=100%>\"]\n",
    "    html.append(css)\n",
    "    for i in range(n_words):\n",
    "        html.append(\"<tr>\")            \n",
    "        word_string= words[i]\n",
    "        html.append(\"<td><span class='word'>{0}</span></td>\".format(word_string))\n",
    "        row = []\n",
    "        pos_sublist = pos_list[i]\n",
    "        for pos in pos_sublist:\n",
    "            entry = \"<span class='{0}'>{0}</span> \".format(pos)\n",
    "            #print entry\n",
    "            row.append(entry)\n",
    "        row = \"\".join(row)\n",
    "        html.append(\"<td>{}</td>\".format(row))\n",
    "        html.append(\"</tr>\")\n",
    "    return \"\".join(html)\n",
    "        \n",
    "    \n",
    "\n",
    "def nltk_corpus(corpus_name):\n",
    "    corpus = getattr(nltk.corpus, corpus_name)\n",
    "    try:\n",
    "        corpus.ensure_loaded()\n",
    "    except:\n",
    "        nltk.download(corpus_name)\n",
    "    return corpus\n",
    "\n",
    "#read nltk corpora\n",
    "def nltk_reader(corpus_name, limit = None):\n",
    "    corpus = nltk_corpus(corpus_name)\n",
    "    fileids = corpus.fileids()\n",
    "    \n",
    "    if limit:\n",
    "        doc_iter = (\" \".join([\" \".join(j) for j in corpus.sents(fileid)]) for fileid in fileids[:limit])\n",
    "    else:\n",
    "        doc_iter = (\" \".join([\" \".join(j) for j in corpus.sents(fileid)]) for fileid in fileids)\n",
    "    return doc_iter\n",
    "\n",
    "universal_tags = [\n",
    "     ['Open Class Words','ADJ','adjective', 'happy, great, technical']\n",
    "    ,['Open Class Words','ADV','adverb', 'happily, greatly, technically']\n",
    "    ,['Open Class Words','INTJ','interjection', 'ouch, wow']\n",
    "    ,['Open Class Words','NOUN','noun', 'happiness, greatness, technicality']\n",
    "    ,['Open Class Words','PROPN','proper noun', 'Jupyter, Lakers']\n",
    "    ,['Open Class Words','VERB','verb', 'run, enlighten']\n",
    "    ,['Closed Class Words','ADP','adposition', 'in, under, towards']\n",
    "    ,['Closed Class Words','AUX','auxiliary', 'should [eat], had [been]']\n",
    "    ,['Closed Class Words','CCONJ','coordination conjunction', 'and, or, but']\n",
    "    ,['Closed Class Words','DET','determiner', 'the, a']\n",
    "    ,['Closed Class Words','NUM','numeral', 'five, 5']\n",
    "    ,['Closed Class Words','PART','particle', \"'s, not\"]\n",
    "    ,['Closed Class Words','PRON','pronoun', 'him, she']\n",
    "    ,['Closed Class Words','SCONJ','subordinating conjection', 'that, if']\n",
    "    ,['Other','PUNCT','punctuation', \"., ,\"]\n",
    "    ,['Other','SYM','symbol', \"#, $\"]\n",
    "    ,['Other','X','other', \"#2017, @JupyterCon\"]\n",
    "]\n",
    "tag_table = pd.DataFrame(universal_tags, columns = ['Category','Abbrev','Part of Speech', 'Example'])\n",
    "tag_table = tag_table.set_index(['Category','Abbrev'])\n",
    "\n",
    "nltk.download('tagsets')\n",
    "nltk.download('universal_tagset')\n",
    "nlp = spacy.load('en')"
   ]
  },
  {
   "cell_type": "markdown",
   "metadata": {},
   "source": [
    "<a name=\"section1\"></a>\n",
    "\n",
    "### What are Parts of Speech?\n",
    "\n",
    "<a name=\"universaltags\"></a>"
   ]
  },
  {
   "cell_type": "code",
   "execution_count": 3,
   "metadata": {},
   "outputs": [
    {
     "data": {
      "text/html": [
       "<div>\n",
       "<style>\n",
       "    .dataframe thead tr:only-child th {\n",
       "        text-align: right;\n",
       "    }\n",
       "\n",
       "    .dataframe thead th {\n",
       "        text-align: left;\n",
       "    }\n",
       "\n",
       "    .dataframe tbody tr th {\n",
       "        vertical-align: top;\n",
       "    }\n",
       "</style>\n",
       "<table border=\"1\" class=\"dataframe\">\n",
       "  <thead>\n",
       "    <tr style=\"text-align: right;\">\n",
       "      <th></th>\n",
       "      <th></th>\n",
       "      <th>Part of Speech</th>\n",
       "      <th>Example</th>\n",
       "    </tr>\n",
       "    <tr>\n",
       "      <th>Category</th>\n",
       "      <th>Abbrev</th>\n",
       "      <th></th>\n",
       "      <th></th>\n",
       "    </tr>\n",
       "  </thead>\n",
       "  <tbody>\n",
       "    <tr>\n",
       "      <th rowspan=\"6\" valign=\"top\">Open Class Words</th>\n",
       "      <th>ADJ</th>\n",
       "      <td>adjective</td>\n",
       "      <td>happy, great, technical</td>\n",
       "    </tr>\n",
       "    <tr>\n",
       "      <th>ADV</th>\n",
       "      <td>adverb</td>\n",
       "      <td>happily, greatly, technically</td>\n",
       "    </tr>\n",
       "    <tr>\n",
       "      <th>INTJ</th>\n",
       "      <td>interjection</td>\n",
       "      <td>ouch, wow</td>\n",
       "    </tr>\n",
       "    <tr>\n",
       "      <th>NOUN</th>\n",
       "      <td>noun</td>\n",
       "      <td>happiness, greatness, technicality</td>\n",
       "    </tr>\n",
       "    <tr>\n",
       "      <th>PROPN</th>\n",
       "      <td>proper noun</td>\n",
       "      <td>Jupyter, Lakers</td>\n",
       "    </tr>\n",
       "    <tr>\n",
       "      <th>VERB</th>\n",
       "      <td>verb</td>\n",
       "      <td>run, enlighten</td>\n",
       "    </tr>\n",
       "    <tr>\n",
       "      <th rowspan=\"8\" valign=\"top\">Closed Class Words</th>\n",
       "      <th>ADP</th>\n",
       "      <td>adposition</td>\n",
       "      <td>in, under, towards</td>\n",
       "    </tr>\n",
       "    <tr>\n",
       "      <th>AUX</th>\n",
       "      <td>auxiliary</td>\n",
       "      <td>should [eat], had [been]</td>\n",
       "    </tr>\n",
       "    <tr>\n",
       "      <th>CCONJ</th>\n",
       "      <td>coordination conjunction</td>\n",
       "      <td>and, or, but</td>\n",
       "    </tr>\n",
       "    <tr>\n",
       "      <th>DET</th>\n",
       "      <td>determiner</td>\n",
       "      <td>the, a</td>\n",
       "    </tr>\n",
       "    <tr>\n",
       "      <th>NUM</th>\n",
       "      <td>numeral</td>\n",
       "      <td>five, 5</td>\n",
       "    </tr>\n",
       "    <tr>\n",
       "      <th>PART</th>\n",
       "      <td>particle</td>\n",
       "      <td>'s, not</td>\n",
       "    </tr>\n",
       "    <tr>\n",
       "      <th>PRON</th>\n",
       "      <td>pronoun</td>\n",
       "      <td>him, she</td>\n",
       "    </tr>\n",
       "    <tr>\n",
       "      <th>SCONJ</th>\n",
       "      <td>subordinating conjection</td>\n",
       "      <td>that, if</td>\n",
       "    </tr>\n",
       "    <tr>\n",
       "      <th rowspan=\"3\" valign=\"top\">Other</th>\n",
       "      <th>PUNCT</th>\n",
       "      <td>punctuation</td>\n",
       "      <td>., ,</td>\n",
       "    </tr>\n",
       "    <tr>\n",
       "      <th>SYM</th>\n",
       "      <td>symbol</td>\n",
       "      <td>#, $</td>\n",
       "    </tr>\n",
       "    <tr>\n",
       "      <th>X</th>\n",
       "      <td>other</td>\n",
       "      <td>#2017, @JupyterCon</td>\n",
       "    </tr>\n",
       "  </tbody>\n",
       "</table>\n",
       "</div>"
      ],
      "text/plain": [
       "                                     Part of Speech  \\\n",
       "Category           Abbrev                             \n",
       "Open Class Words   ADJ                    adjective   \n",
       "                   ADV                       adverb   \n",
       "                   INTJ                interjection   \n",
       "                   NOUN                        noun   \n",
       "                   PROPN                proper noun   \n",
       "                   VERB                        verb   \n",
       "Closed Class Words ADP                   adposition   \n",
       "                   AUX                    auxiliary   \n",
       "                   CCONJ   coordination conjunction   \n",
       "                   DET                   determiner   \n",
       "                   NUM                      numeral   \n",
       "                   PART                    particle   \n",
       "                   PRON                     pronoun   \n",
       "                   SCONJ   subordinating conjection   \n",
       "Other              PUNCT                punctuation   \n",
       "                   SYM                       symbol   \n",
       "                   X                          other   \n",
       "\n",
       "                                                      Example  \n",
       "Category           Abbrev                                      \n",
       "Open Class Words   ADJ                happy, great, technical  \n",
       "                   ADV          happily, greatly, technically  \n",
       "                   INTJ                             ouch, wow  \n",
       "                   NOUN    happiness, greatness, technicality  \n",
       "                   PROPN                      Jupyter, Lakers  \n",
       "                   VERB                        run, enlighten  \n",
       "Closed Class Words ADP                     in, under, towards  \n",
       "                   AUX               should [eat], had [been]  \n",
       "                   CCONJ                         and, or, but  \n",
       "                   DET                                 the, a  \n",
       "                   NUM                                five, 5  \n",
       "                   PART                               's, not  \n",
       "                   PRON                              him, she  \n",
       "                   SCONJ                             that, if  \n",
       "Other              PUNCT                                 ., ,  \n",
       "                   SYM                                   #, $  \n",
       "                   X                       #2017, @JupyterCon  "
      ]
     },
     "execution_count": 3,
     "metadata": {},
     "output_type": "execute_result"
    }
   ],
   "source": [
    "tag_table"
   ]
  },
  {
   "cell_type": "code",
   "execution_count": 4,
   "metadata": {},
   "outputs": [
    {
     "data": {
      "text/html": [
       "<table width=100%><style>.word{font-weight:bold;}</style><style>.PRON{background-color:SkyBlue;}</style><style>.DET{background-color:red;}</style><style>.NOUN{background-color:YellowGreen;}</style><style>.VERB{background-color:yellow;}</style><style>.PUNCT{background-color:orange;}</style><style>.ADP{background-color:pink;}</style><tr><td><span class='word'>I</span></td><td><span class='word'>get</span></td><td><span class='word'>a</span></td><td><span class='word'>discount</span></td><td><span class='word'>on</span></td><td><span class='word'>newspapers</span></td><td><span class='word'>.</span></td></tr><tr><td><span class='PRON'>PRON</span></td><td><span class='VERB'>VERB</span></td><td><span class='DET'>DET</span></td><td><span class='NOUN'>NOUN</span></td><td><span class='ADP'>ADP</span></td><td><span class='NOUN'>NOUN</span></td><td><span class='PUNCT'>PUNCT</span></td></tr><table width=100%><style>.word{font-weight:bold;}</style><style>.PRON{background-color:SkyBlue;}</style><style>.NOUN{background-color:red;}</style><style>.VERB{background-color:YellowGreen;}</style><style>.ADP{background-color:yellow;}</style><style>.PUNCT{background-color:orange;}</style><tr><td><span class='word'>I</span></td><td><span class='word'>discount</span></td><td><span class='word'>that</span></td><td><span class='word'>newspaper</span></td><td><span class='word'>.</span></td></tr><tr><td><span class='PRON'>PRON</span></td><td><span class='VERB'>VERB</span></td><td><span class='ADP'>ADP</span></td><td><span class='NOUN'>NOUN</span></td><td><span class='PUNCT'>PUNCT</span></td></tr>"
      ],
      "text/plain": [
       "<IPython.core.display.HTML object>"
      ]
     },
     "execution_count": 4,
     "metadata": {},
     "output_type": "execute_result"
    }
   ],
   "source": [
    "sentence1 = 'I get a discount on newspapers.'\n",
    "sentence2 = 'I discount that newspaper.'\n",
    "\n",
    "rep_sentences([sentence1, sentence2])"
   ]
  },
  {
   "cell_type": "markdown",
   "metadata": {},
   "source": [
    "<a name='applications'></a>\n",
    "### Applications\n",
    "* Rule based systems:\n",
    "    * <a href=\"#qacode\">Example of rule based question answering component</a>\n",
    "* Feature engineering for statistical models\n",
    "    * <a href=\"#wordsense\">Feature for word disambiguation</a>"
   ]
  },
  {
   "cell_type": "markdown",
   "metadata": {},
   "source": [
    "<a name=\"section2\"></a>\n",
    "### Parts of Speech with SpaCy\n",
    "Lets see how we can access parts of speech with spacy:"
   ]
  },
  {
   "cell_type": "code",
   "execution_count": 11,
   "metadata": {},
   "outputs": [
    {
     "data": {
      "text/html": [
       "<div>\n",
       "<style>\n",
       "    .dataframe thead tr:only-child th {\n",
       "        text-align: right;\n",
       "    }\n",
       "\n",
       "    .dataframe thead th {\n",
       "        text-align: left;\n",
       "    }\n",
       "\n",
       "    .dataframe tbody tr th {\n",
       "        vertical-align: top;\n",
       "    }\n",
       "</style>\n",
       "<table border=\"1\" class=\"dataframe\">\n",
       "  <thead>\n",
       "    <tr style=\"text-align: right;\">\n",
       "      <th></th>\n",
       "      <th>lemma</th>\n",
       "      <th>pos (coarse)</th>\n",
       "      <th>pos (fine)</th>\n",
       "    </tr>\n",
       "  </thead>\n",
       "  <tbody>\n",
       "    <tr>\n",
       "      <th>I</th>\n",
       "      <td>-PRON-</td>\n",
       "      <td>PRON</td>\n",
       "      <td>PRP</td>\n",
       "    </tr>\n",
       "    <tr>\n",
       "      <th>a</th>\n",
       "      <td>a</td>\n",
       "      <td>DET</td>\n",
       "      <td>DT</td>\n",
       "    </tr>\n",
       "    <tr>\n",
       "      <th>discount</th>\n",
       "      <td>discount</td>\n",
       "      <td>NOUN</td>\n",
       "      <td>NN</td>\n",
       "    </tr>\n",
       "    <tr>\n",
       "      <th>get</th>\n",
       "      <td>get</td>\n",
       "      <td>VERB</td>\n",
       "      <td>VBP</td>\n",
       "    </tr>\n",
       "    <tr>\n",
       "      <th>newspapers</th>\n",
       "      <td>newspaper</td>\n",
       "      <td>NOUN</td>\n",
       "      <td>NNS</td>\n",
       "    </tr>\n",
       "    <tr>\n",
       "      <th>on</th>\n",
       "      <td>on</td>\n",
       "      <td>ADP</td>\n",
       "      <td>IN</td>\n",
       "    </tr>\n",
       "  </tbody>\n",
       "</table>\n",
       "</div>"
      ],
      "text/plain": [
       "                lemma pos (coarse) pos (fine)\n",
       "I              -PRON-         PRON        PRP\n",
       "a                   a          DET         DT\n",
       "discount     discount         NOUN         NN\n",
       "get               get         VERB        VBP\n",
       "newspapers  newspaper         NOUN        NNS\n",
       "on                 on          ADP         IN"
      ]
     },
     "execution_count": 11,
     "metadata": {},
     "output_type": "execute_result"
    }
   ],
   "source": [
    "### Accessing\n",
    "doc = nlp('I get a discount on newspapers')\n",
    "tags = {}\n",
    "\n",
    "for word in doc:\n",
    "    tags[word.orth_] = {'lemma': word.lemma_, \n",
    "                        'pos (coarse)': word.pos_, \n",
    "                        'pos (fine)':word.tag_}\n",
    "pd.DataFrame(tags).T"
   ]
  },
  {
   "cell_type": "markdown",
   "metadata": {},
   "source": [
    "### Exercise: Building word vectors that are Part of Speech specific\n",
    "Steps:\n",
    "* get documents\n",
    "* tokenize the documents, and append the part of speech to each token, e.g. dog||||NOUN\n",
    "* train a word2vec model with gensim\n",
    "* compare the most similar words of 'back||||VERB' vs 'back||||NOUN' (or other combo)\n",
    "\n",
    "* Hints:\n",
    "    * model.wv.vocab contains the vocabulary.\n",
    "    * using a completely unique join character will make it easier to split later."
   ]
  },
  {
   "cell_type": "code",
   "execution_count": 12,
   "metadata": {},
   "outputs": [
    {
     "name": "stderr",
     "output_type": "stream",
     "text": [
      "Downloading dataset from http://people.csail.mit.edu/jrennie/20Newsgroups/20news-bydate.tar.gz (14 MB)\n"
     ]
    }
   ],
   "source": [
    "from gensim.models import Word2Vec\n",
    "\n",
    "def return_documents():\n",
    "    from sklearn.datasets import fetch_20newsgroups\n",
    "    dataset = fetch_20newsgroups()\n",
    "    corpus = dataset.data\n",
    "    return corpus\n",
    "\n",
    "def tokenize_and_tag_documents(documents, nlp, sep_char=\"||||\"):\n",
    "    pass\n",
    "\n",
    "def build_model(tokenized_docs):\n",
    "    pass\n",
    "\n",
    "def compare_most_similar_words_across_pos(word):\n",
    "    pass\n",
    "\n",
    "documents = return_documents()\n",
    "tokenized_and_tagged_documents = tokenize_and_tag_documents(documents, nlp)\n",
    "model = build_model(tokenized_and_tagged_documents)\n",
    "compare_most_similar_words_across_pos('back')"
   ]
  },
  {
   "cell_type": "markdown",
   "metadata": {},
   "source": [
    "<a name=\"section3\"></a>\n",
    "### How do we infer parts of speech?"
   ]
  },
  {
   "cell_type": "code",
   "execution_count": 19,
   "metadata": {},
   "outputs": [
    {
     "data": {
      "text/html": [
       "<table width=100%><style>.word{font-weight:bold;}</style><style>.PRON{background-color:SkyBlue;}</style><style>.ADJ{background-color:red;}</style><style>.DET{background-color:YellowGreen;}</style><style>.NOUN{background-color:yellow;}</style><style>.PROPN{background-color:orange;}</style><style>.VERB{background-color:pink;}</style><style>.PUNCT{background-color:brown;}</style><style>.PART{background-color:purple;}</style><style>.ADP{background-color:CadetBlue;}</style><tr><td><span class='word'>I</span></td><td><span class='word'>was</span></td><td><span class='word'>loble</span></td><td><span class='word'>to</span></td><td><span class='word'>find</span></td><td><span class='word'>the</span></td><td><span class='word'>effix</span></td><td><span class='word'>by</span></td><td><span class='word'>klepping</span></td><td><span class='word'>the</span></td><td><span class='word'>Dongle</span></td><td><span class='word'>search</span></td><td><span class='word'>engine</span></td><td><span class='word'>.</span></td></tr>"
      ],
      "text/plain": [
       "<IPython.core.display.HTML object>"
      ]
     },
     "metadata": {},
     "output_type": "display_data"
    }
   ],
   "source": [
    "from IPython.display import clear_output, display\n",
    "from ipywidgets import Button\n",
    "class reveal(object):\n",
    "    def __init__(self):\n",
    "        self.text = 'I was loble to find the effix by klepping the Dongle search engine.'\n",
    "        self.toggle = Button(description='Toggle POS', )\n",
    "        self.toggle.on_click(self.toggle_pos)\n",
    "        self.state = False\n",
    "        display(self.toggle)\n",
    "        self.display()\n",
    "        \n",
    "    def toggle_pos(self, b):\n",
    "        self.state = not self.state\n",
    "        self.display()\n",
    "        \n",
    "    def display(self):\n",
    "        clear_output()\n",
    "        display(HTML(rep_sentence(self.text, display_pos = self.state)))\n",
    "        \n",
    "r = reveal()"
   ]
  },
  {
   "cell_type": "markdown",
   "metadata": {},
   "source": [
    "### Determinants of Part of Speech:\n",
    "\n",
    "| Feature | Notes | Example|\n",
    "|------|------|------|\n",
    "|   Word Identity  | Some words can only be used in a single way; we can memorize these.| \"the\" -> determiner| \n",
    "| Word Shape|Capitalization, dashes,  |\"I stayed at the Park Hotel.\"|\n",
    "|Neighboring parts of speech|There are common patterns what tags can neighbor others|\"to the beach\" (noun following determiner)|\n",
    "|Morphological Structures|Word prefixes and suffixes can rule out certain tag types|\"-ly\" -> adverb|\n",
    "|Syntactic Dependencies|Syntax may establish expectations that only certain tags can logically fill|\"I was told __\" -> adpositional phrase or object entity|\n",
    "|?|?|?|\n"
   ]
  },
  {
   "cell_type": "markdown",
   "metadata": {},
   "source": [
    "<a name=\"section4\"></a>\n",
    "### Training your own tagger\n",
    "\n",
    "**Steps** : \n",
    "* load <a href=\"#load_data\">**training data**</a>, where each observation is represented as (list_of_words, list_of_tags)\n",
    "* Pick a <a href=\"#model_dir\">**model directory**</a>. Using the existing English model will allow us to leverage lexeme information, including Brown clusters, which is an excellent feature for tagging.\n",
    "* Look at your dataset. Build a <a href=\"#tagmap\">**tag map**</a> mapping from the part of speech tags to the <a href=\"#universaltagset\">universal tagset</a>.\n",
    "* Decide which <a href=\"#featureextractors\">**features**</a> to use\n",
    "* create a <a href=\"#vocab\">**vocabulary object, a statistical model, and a tagger**</a>\n",
    "* <a href=\"#training\">**Train the model**</a>\n",
    "* <a href=\"#save\">**Save the model**</a>"
   ]
  },
  {
   "cell_type": "markdown",
   "metadata": {},
   "source": [
    "<a name=\"load_data\"></a>"
   ]
  },
  {
   "cell_type": "code",
   "execution_count": 20,
   "metadata": {},
   "outputs": [
    {
     "name": "stdout",
     "output_type": "stream",
     "text": [
      "[nltk_data] Downloading package conll2000 to\n",
      "[nltk_data]     /home/jupyter/nltk_data...\n",
      "[nltk_data]   Unzipping corpora/conll2000.zip.\n"
     ]
    }
   ],
   "source": [
    "#load conll2000 corpus\n",
    "from sklearn.model_selection import train_test_split\n",
    "import nltk\n",
    "def nltk_corpus(corpus_name):\n",
    "    '''returns nltk corpus by name. if not loaded, download.'''\n",
    "    corpus = getattr(nltk.corpus, corpus_name)\n",
    "    try:\n",
    "        corpus.ensure_loaded()\n",
    "    except:\n",
    "        nltk.download(corpus_name)\n",
    "    return corpus\n",
    "\n",
    "\n",
    "def clean(x):\n",
    "    if x == '-LCB-':\n",
    "        return '{'\n",
    "    elif x=='-RCB-':\n",
    "        return '}'\n",
    "    elif x == '-RRB-':\n",
    "        return \")\"\n",
    "    elif x == '-LRB-':\n",
    "        return \"(\"\n",
    "    else:\n",
    "        return x\n",
    "    \n",
    "def conll_to_data():\n",
    "    corpus = nltk_corpus('conll2000')\n",
    "    all_data= map_(lambda x: [(clean(i[0]), i[1]) for i in x], corpus.iob_sents())\n",
    "    all_data = [zip_(*i) for i in all_data]\n",
    "    return all_data\n",
    "\n",
    "c2000 = conll_to_data()\n",
    "training_data, testing_data = train_test_split(c2000, test_size = .1)"
   ]
  },
  {
   "cell_type": "markdown",
   "metadata": {},
   "source": [
    "<a href=\"#section4\">Back</a>\n",
    "<a name=\"model_dir\"></a>"
   ]
  },
  {
   "cell_type": "code",
   "execution_count": 22,
   "metadata": {
    "collapsed": true
   },
   "outputs": [],
   "source": [
    "from pathlib import PosixPath\n",
    "modelpath = PosixPath('/home/jupyter/mymodel')\n",
    "if not modelpath.exists():\n",
    "    modelpath.mkdir()\n",
    "    \n",
    "nlp.save_to_directory(modelpath)"
   ]
  },
  {
   "cell_type": "markdown",
   "metadata": {},
   "source": [
    "<a href=\"#section4\">Back</a>\n",
    "<a href=\"tagmap\"></a>"
   ]
  },
  {
   "cell_type": "code",
   "execution_count": 21,
   "metadata": {
    "collapsed": true
   },
   "outputs": [],
   "source": [
    "from spacy.language_data import TAG_MAP\n",
    "from spacy.attrs import POS\n",
    "from spacy.symbols import PUNCT\n",
    "\n",
    "def adjust_tagmap(tagmap):\n",
    "    tagmap['('] = tagmap['-LRB-']\n",
    "    tagmap[')'] = tagmap['-RRB-']\n",
    "    tagmap['{'] = tagmap['-LRB-']\n",
    "    tagmap['}'] = tagmap['-RRB-']\n",
    "    tagmap['$'] = {POS: PUNCT}\n",
    "    return tagmap\n",
    "\n",
    "tagmap = adjust_tagmap(TAG_MAP)"
   ]
  },
  {
   "cell_type": "markdown",
   "metadata": {},
   "source": [
    "<a href=\"#section4\">Back</a>\n",
    "<a name=\"featureextractors\"></a>\n",
    "### Features\n",
    "\n",
    "* Example features: pos of previous word, identity of current word, etc...\n",
    "* spacy.tagger.N1_cluster, spacy.tagger.N1_pos, etc...\n",
    "* which word?\n",
    "    * N1: Next\n",
    "    * N0: Current\n",
    "    * P1: Previous\n",
    "    * etc...\n",
    "* which attribute:\n",
    "    * prefix\n",
    "    * tag\n",
    "    * cluster\n",
    "    * etc..."
   ]
  },
  {
   "cell_type": "code",
   "execution_count": 23,
   "metadata": {
    "collapsed": true
   },
   "outputs": [],
   "source": [
    "from spacy.tagger import *\n",
    "\n",
    "\n",
    "features = [\n",
    "    #current word attributes\n",
    "    (W_orth,),(W_shape,),(W_cluster,),(W_flags,),(W_suffix,),(W_prefix,),\n",
    "\n",
    "    #-1 word attributes    \n",
    "    (P1_pos,),(P1_cluster,),(P1_flags,),(P1_suffix,),\n",
    "\n",
    "    #-2 word attributes     \n",
    "    (P2_pos,),(P2_cluster,),(P2_flags,),\n",
    "\n",
    "    #+1 word attributes    \n",
    "    (N1_orth,),(N1_suffix,),(N1_cluster,),(N1_flags,),    \n",
    "\n",
    "    #+2 word attributes    \n",
    "    (N2_orth,),(N2_cluster,),(N2_flags,),\n",
    "\n",
    "    #combination attributes\n",
    "    (P1_lemma, P1_pos),(P2_lemma, P2_pos), (P1_pos, P2_pos),(P1_pos, W_orth)\n",
    "]"
   ]
  },
  {
   "cell_type": "markdown",
   "metadata": {},
   "source": [
    "<a href=\"#section4\">Back</a>\n",
    "<a name=\"vocab\"></a>\n",
    "### Vocabulary, Tagger, and Statistical Model\n",
    "* The **Vocab** object will receive all the lexeme data (Brown clusters, word vectors, etc) from the English model.\n",
    "* The **Statistical Model**  will consume the features we defined, using them to make predictions.\n",
    "* The **Tagger** will consume our vocabulary object, and our statistical model."
   ]
  },
  {
   "cell_type": "code",
   "execution_count": 24,
   "metadata": {},
   "outputs": [
    {
     "data": {
      "text/plain": [
       "{1: <function spacy.orth.is_alpha>,\n",
       " 2: <function spacy.orth.is_ascii>,\n",
       " 3: <function spacy.language.BaseDefaults.<lambda>>,\n",
       " 4: <function spacy.orth.is_lower>,\n",
       " 5: <function spacy.orth.is_punct>,\n",
       " 6: <function spacy.language.BaseDefaults.<lambda>>,\n",
       " 7: <function spacy.orth.is_title>,\n",
       " 8: <function spacy.orth.is_upper>,\n",
       " 9: <function spacy.orth.like_url>,\n",
       " 10: <function spacy.orth.like_number>,\n",
       " 11: <function spacy.orth.like_email>,\n",
       " 12: <function spacy.language.BaseDefaults.<lambda>>,\n",
       " 13: <function spacy.language.BaseDefaults.<lambda>>,\n",
       " 14: <function spacy.orth.is_bracket>,\n",
       " 15: <function spacy.orth.is_quote>,\n",
       " 16: <function spacy.orth.is_left_punct>,\n",
       " 17: <function spacy.orth.is_right_punct>,\n",
       " 66: <function spacy.language.BaseDefaults.<lambda>>,\n",
       " 67: <function spacy.language.BaseDefaults.<lambda>>,\n",
       " 68: <function spacy.orth.word_shape>,\n",
       " 69: <function spacy.language.BaseDefaults.<lambda>>,\n",
       " 70: <function spacy.language.BaseDefaults.<lambda>>,\n",
       " 72: <function spacy.language.BaseDefaults.<lambda>>,\n",
       " 81: <cyfunction load.<locals>.<lambda> at 0x7ff17781eea8>,\n",
       " 82: <function spacy.en.English.Defaults.<lambda>>}"
      ]
     },
     "execution_count": 24,
     "metadata": {},
     "output_type": "execute_result"
    }
   ],
   "source": [
    "nlp.Defaults.lex_attr_getters"
   ]
  },
  {
   "cell_type": "code",
   "execution_count": 25,
   "metadata": {
    "collapsed": true
   },
   "outputs": [],
   "source": [
    "from spacy.vocab import Vocab\n",
    "\n",
    "def get_lemmatizer():\n",
    "    return None\n",
    "\n",
    "def make_tagger(vocab, templates):\n",
    "    model = spacy.tagger.TaggerModel(templates)\n",
    "    return spacy.tagger.Tagger(vocab,model)\n",
    "\n",
    "def get_feature_extractors(nlp):\n",
    "    #return nlp.vocab.lex_attr_getters\n",
    "    return nlp.Defaults.lex_attr_getters\n",
    "\n",
    "#get requirements\n",
    "\n",
    "feature_extractors = get_feature_extractors(nlp)\n",
    "lemmatizer = get_lemmatizer()\n",
    "vocab = Vocab.load(modelpath, feature_extractors, lemmatizer, tagmap)\n",
    "statistical_model = spacy.tagger.TaggerModel(features)\n",
    "tagger = spacy.tagger.Tagger(vocab, statistical_model)"
   ]
  },
  {
   "cell_type": "code",
   "execution_count": 26,
   "metadata": {},
   "outputs": [
    {
     "data": {
      "text/plain": [
       "[('You', 'PUNCT'),\n",
       " ('can', 'PUNCT'),\n",
       " ('always', 'PUNCT'),\n",
       " ('learn', 'PUNCT'),\n",
       " ('more', 'PUNCT'),\n",
       " ('by', 'PUNCT'),\n",
       " ('reading', 'PUNCT')]"
      ]
     },
     "execution_count": 26,
     "metadata": {},
     "output_type": "execute_result"
    }
   ],
   "source": [
    "# The untrained tagger is awful...\n",
    "words = ['You','can','always','learn','more','by','reading']\n",
    "doc = Doc(vocab, words = words)\n",
    "tagger(doc)\n",
    "map_(lambda x: (x.orth_, x.pos_), doc)"
   ]
  },
  {
   "cell_type": "markdown",
   "metadata": {},
   "source": [
    "<a href=\"#section4\">Back</a>\n",
    "<a name=\"training\"></a>\n",
    "### Training the Model\n",
    "\n",
    "##### Neuron Prediction:\n",
    "\n",
    "**Inputs:** \n",
    "\n",
    "$<x_1, x_2, ..., x_n>$\n",
    "\n",
    "**Each Neuron j:**\n",
    "\n",
    "$prediction_j  = \\bigg[\\sum_{d=1}^D w_dx_{dj} \\bigg] + b > 0$\n",
    "\n",
    "##### Perceptron Learning:\n",
    "```\n",
    "For each training epoch:\n",
    "    For each document, label:\n",
    "        prediction = weights * document + bias\n",
    "\n",
    "        if sign(label) != sign(prediction):\n",
    "            weights = weights + (label*features)\n",
    "            bias = bias + label\n",
    "shuffle data\n",
    "```\n",
    "\n",
    "### Exercise: \n",
    "Implement a perceptron algorithm:"
   ]
  },
  {
   "cell_type": "code",
   "execution_count": 61,
   "metadata": {},
   "outputs": [
    {
     "data": {
      "text/plain": [
       "array([ 0.])"
      ]
     },
     "execution_count": 61,
     "metadata": {},
     "output_type": "execute_result"
    }
   ],
   "source": [
    "np.ndarray((1,))"
   ]
  },
  {
   "cell_type": "code",
   "execution_count": 234,
   "metadata": {
    "collapsed": true
   },
   "outputs": [],
   "source": [
    "from sklearn.utils import shuffle\n",
    "class PerceptronClassifier(object):\n",
    "    def __init__(self):\n",
    "        self.weights = None\n",
    "        self.bias = None\n",
    "        self.iter = 0\n",
    "\n",
    "    def fit(self, X, y, epochs=100):\n",
    "        \"\"\"Fits self.weights, self.biases \"\"\"\n",
    "        self.initialize(X)\n",
    "        \n",
    "        for _ in range(epochs):\n",
    "            for row, label in zip(X, y):\n",
    "                prediction = self.predict(row)\n",
    "                self.update(prediction, label, row)\n",
    "                self.iter += 1\n",
    "            X, y = shuffle(X, y) #important to reshuffle to avoid getting trapped\n",
    "            \n",
    "    def initialize(self, X):\n",
    "        self.bias = 0\n",
    "        self.weights = np.zeros(X.shape[1])#[:, np.newaxis]\n",
    "                    \n",
    "    def update(self, prediction, label, row):\n",
    "        \"\"\"Updates weights and biases based on the ground truth label\n",
    "        and the row\"\"\"\n",
    "        \n",
    "        if prediction*label <= 0:\n",
    "            update = label *  row            \n",
    "            self.weights += update\n",
    "            self.bias += label\n",
    "        \n",
    "    def predict_score(self, x):\n",
    "        \"\"\"Generates scores of \"x\". Uses self.weights and self.bias\"\"\"\n",
    "        return np.dot(x, self.weights) + self.bias\n",
    "    \n",
    "    def predict(self, x):\n",
    "        \"\"\" Converts prediction scores to 1s ands 0s.\"\"\"\n",
    "        predictions = np.where(self.predict_score(x) > 0, 1, -1)\n",
    "        return predictions"
   ]
  },
  {
   "cell_type": "code",
   "execution_count": 282,
   "metadata": {},
   "outputs": [
    {
     "name": "stdout",
     "output_type": "stream",
     "text": [
      "Training Accuracy Rate: 1.0\n"
     ]
    }
   ],
   "source": [
    "#generate some data\n",
    "def generate_data(dim=1, N=1000):\n",
    "    dim = 1\n",
    "    true_b = np.random.normal(0, 2)\n",
    "    X = np.random.normal(0, 10, size=(1000, dim))\n",
    "    true_w = np.random.normal(0, 2, size=(dim,))\n",
    "\n",
    "    labels = (np.dot(X, true_w) > true_b).astype(float)\n",
    "    labels[np.where(labels==0)] = -1\n",
    "    return X, labels, true_w, true_b\n",
    "\n",
    "X, labels, true_w, true_b = generate_data()\n",
    "b = PerceptronClassifier()\n",
    "b.fit(X, labels, epochs=100)\n",
    "\n",
    "acc_rate = (((b.predict(X) * labels) > 0).mean())\n",
    "print(\"Training Accuracy Rate: {}\".format(acc_rate))"
   ]
  },
  {
   "cell_type": "code",
   "execution_count": 339,
   "metadata": {
    "scrolled": false
   },
   "outputs": [
    {
     "name": "stdout",
     "output_type": "stream",
     "text": [
      "True bias: -0.5030108247457876\n",
      "True weights: [-2.87948709]\n",
      "Current x: [ 1.49506588]\n",
      "Current bias: 1.0\n",
      "Current weights: [-16.49955806]\n",
      "Current Score: [ 1.49506588] * [-16.49955806] + 1.0 = -23.66792631187846\n",
      "Current Prediction: -1\n",
      "Current True Label: -1\n",
      "Error: False\n",
      "Bias Update: 0\n",
      "Weights Update: 0\n",
      "\n"
     ]
    },
    {
     "data": {
      "image/png": "[encoded data removed]",
      "text/plain": [
       "<matplotlib.figure.Figure at 0x7ff141a0bb38>"
      ]
     },
     "metadata": {},
     "output_type": "display_data"
    }
   ],
   "source": [
    "from ipywidgets import Button, Textarea\n",
    "from IPython.display import clear_output, display\n",
    "\n",
    "class PerceptronAnimator(object):\n",
    "    def __init__(self, X, y, true_w, true_b):\n",
    "        self.y_min = -1.1 \n",
    "        self.y_max = 1.1        \n",
    "        self.row_i = 0\n",
    "        self.advance_button = Button(description=\"Advance\")\n",
    "        self.advance_button.on_click(self.advance)\n",
    "        self.reverse_botton = Button(description=\"Reverse\")\n",
    "        self.reverse_botton.on_click(self.reverse)\n",
    "        self.X = X\n",
    "        self.y = y\n",
    "        self.model = PerceptronClassifier\n",
    "        display(self.advance_button)\n",
    "        display(self.reverse_botton)\n",
    "        self.true_b = true_b\n",
    "        self.true_w = true_w\n",
    "        self.thresholds = []\n",
    "        self.errors = []\n",
    "        self.advance(self.advance_button)\n",
    "\n",
    "        \n",
    "    def get_data(self, row_i):\n",
    "        return self.X[:row_i], self.y[:row_i]\n",
    "    \n",
    "    def get_model(self, X, y):\n",
    "        model = self.model()\n",
    "        model.fit(X, y, epochs=1)\n",
    "        return model\n",
    "    \n",
    "    def make_plots(self, ):\n",
    "        f, (ax1, ax2) = plt.subplots(1, 2, figsize=(16, 7))\n",
    "        ax1.set_ylim(self.y_min, self.y_max)\n",
    "        ax1.set_xlabel(\"X\")\n",
    "        ax1.set_ylabel(\"Predict(X) / Y\")\n",
    "        ax2.set_ylabel(\"Steps\")\n",
    "        ax2.set_xlabel(\"Weight Adjustment\")        \n",
    "        return ax1, ax2\n",
    "    \n",
    "    def advance(self, b):\n",
    "        ax1, ax2 = self.make_plots()\n",
    "        next_x, next_y, ax1 = self.display_next(ax1)        \n",
    "        threshold, error, ax1 = self.display_state(next_x, next_y, ax1)\n",
    "        self.row_i += 1\n",
    "        self.thresholds.append(threshold)\n",
    "        self.display_thresholds(ax1)\n",
    "        self.errors.append(error)\n",
    "        self.plot_errors(ax2)\n",
    "        \n",
    "    def reverse(self, b):\n",
    "        ax1, ax2 = self.make_plots()\n",
    "        if self.row_i > 0:\n",
    "            self.row_i -= 1\n",
    "            x, y, ax1 = self.display_next(ax1)            \n",
    "            threshold, error, ax1 = self.display_state(x, y, ax1)\n",
    "             \n",
    "            self.thresholds = self.thresholds[:-1]\n",
    "            self.display_thresholds(ax)\n",
    "            self.errors = self.errors[:-1]\n",
    "            self.plot_errors(ax2)\n",
    "            \n",
    "    def plot_errors(self, ax):\n",
    "        \n",
    "        for i, err in enumerate(self.errors):\n",
    "            ax.barh(i, err)\n",
    "        largest_bar = max(max(self.errors), abs(min(self.errors)))\n",
    "        ax.set_ylim(-1, len(self.errors) + 2)\n",
    "        ax.set_xlim(min(-1, -1*largest_bar), max(1, largest_bar))\n",
    "        ax.axvline(0)\n",
    "    def display_thresholds(self, ax):\n",
    "        if len(self.thresholds) == 1:\n",
    "            ax.axvline(self.thresholds[0], color='green', label='current threshold value')\n",
    "        elif len(self.thresholds) > 1:\n",
    "            ax.axvline(self.thresholds[-1], color='green', label='current threshold value')            \n",
    "            ax.axvline(self.thresholds[-2], color='green', linestyle=\"--\", label='last threshold value')  \n",
    "        plt.legend()\n",
    "\n",
    "    def display_next(self, ax):\n",
    "        x, y = self.get_data(self.row_i +1)\n",
    "        model = self.get_model(x[:-1], y[:-1])\n",
    "        x, y = x[-1], y[-1]\n",
    "        correct = int(y) == int(model.predict(x))\n",
    "\n",
    "        #raise ValueError(\"\")\n",
    "        if correct:\n",
    "            ax.scatter(x, y, color='black', s=100.)\n",
    "        else:\n",
    "            ax.scatter(x, y, color='black', s=100., marker = 'X')\n",
    "        return x, y, ax\n",
    "        \n",
    "        \n",
    "    def display_state(self, next_x, next_y, ax):\n",
    "        \n",
    "        \n",
    "        clear_output()\n",
    "        X, Y = self.get_data(self.row_i)\n",
    "        model = self.get_model(X, Y)\n",
    "        threshold = self.find_threshold(model)\n",
    "        color_direction = self.pick_color_direction(model, threshold[-1])\n",
    "        ax.scatter(X, Y)\n",
    "        x_, y_ = self.make_line(ax, model)   \n",
    "        ax.plot(x_, y_)            \n",
    "        \n",
    "        error = self.update_text_box(model, next_x, next_y) \n",
    "        plt.legend()\n",
    "        ax = self.shade_plot(threshold[-1], ax, color_direction)\n",
    "        return threshold, error, ax\n",
    "    \n",
    "    def shade_plot(self, threshold, ax, color_direction):\n",
    "        y = range(int(self.y_min - 1), int(self.y_max + 1))\n",
    "        min_x = min(ax.get_xticks())\n",
    "        max_x = max(ax.get_xticks())\n",
    "        if color_direction: \n",
    "            ax.fill_betweenx(y, threshold, max_x, color='green', alpha=.2)\n",
    "            ax.fill_betweenx(y, min_x, threshold, color='red', alpha=.2)\n",
    "        else:\n",
    "            ax.fill_betweenx(y, threshold, max_x, color='red', alpha=.2)\n",
    "            ax.fill_betweenx(y, min_x, threshold, color='green', alpha=.2)            \n",
    "        return ax\n",
    "        \n",
    "        \n",
    "    def update_text_box(self, model, next_x, next_y):\n",
    "        next_pred = model.predict(next_x)\n",
    "        if next_pred == 0:\n",
    "            next_pred = -1\n",
    "        error = next_pred * next_y < 0\n",
    "        update_b = next_y if error else 0\n",
    "        update_w = next_y * next_x if error else 0\n",
    "        msg = \"True bias: {}\".format(self.true_b)\n",
    "        msg += \"\\n\"\n",
    "        msg +=\"True weights: {}\".format(self.true_w)\n",
    "        msg += \"\\n\"              \n",
    "        msg += \"Current x: {}\".format(next_x)\n",
    "        msg += \"\\n\"        \n",
    "        msg += \"Current bias: {}\".format(model.bias)\n",
    "        msg += \"\\n\"\n",
    "        msg +=\"Current weights: {}\".format(model.weights) \n",
    "        msg += \"\\n\"\n",
    "        msg +=\"Current Score: {0} * {1} + {2} = {3}\".format(next_x, model.weights, model.bias, model.predict_score(next_x)) \n",
    "        msg += \"\\n\"        \n",
    "        msg += \"Current Prediction: {}\".format(next_pred)        \n",
    "        msg += \"\\n\"\n",
    "        msg += \"Current True Label: {}\".format(int(next_y))        \n",
    "        msg += \"\\n\"        \n",
    "        msg += \"Error: {}\".format(error)\n",
    "        msg += \"\\n\"\n",
    "        msg += \"Bias Update: {}\".format(update_b)\n",
    "        msg += \"\\n\"        \n",
    "        msg += \"Weights Update: {}\".format(update_w)\n",
    "        msg += \"\\n\"        \n",
    "        print(msg)\n",
    "        return update_w\n",
    "        \n",
    "        \n",
    "    def make_line(self, ax, model):\n",
    "        x = [i / 10. for i in range(-300, 300)]\n",
    "        y = np.array([(model.bias + i * model.weights[0]) > 0 for i in x]).astype(float)\n",
    "        y[np.where(y==0)] = -1\n",
    "        return x, y\n",
    "    \n",
    "    def find_threshold(self, model):\n",
    "        x_range = np.array([i/10. for i in range(-300, 300)])[:, np.newaxis]\n",
    "        y = abs(model.predict_score(x_range))\n",
    "        \n",
    "        idx = abs(y).argmin()\n",
    "        return x_range[idx]\n",
    "    \n",
    "    def pick_color_direction(self, model, threshold):\n",
    "        if model.predict(threshold + 1) > 0:\n",
    "            return True\n",
    "        else:\n",
    "            return False\n",
    "    \n",
    "    \n",
    "X, labels, true_w, true_b = generate_data()\n",
    "p = PerceptronAnimator(X, labels, true_w, true_b)"
   ]
  },
  {
   "cell_type": "markdown",
   "metadata": {},
   "source": [
    "What/how the model learns is sensitive to the ordering of the Xs. If X is multidimensional, and the last value is an outlier, our updates can be large, throwing the weights out of wack.\n",
    "\n",
    "Solution: averaging the weights over an epoch, so that weights **that usually work, and thus stick around** are used.\n",
    "\n",
    "##### Averaged Perceptron Learning:\n",
    "```\n",
    "list_of_weights, list_of_biases = list(), list()\n",
    "For each training epoch:\n",
    "    For each document, label:\n",
    "        prediction = weights * document + bias\n",
    "\n",
    "        if sign(label) != sign(prediction):\n",
    "            weights = weights + (label*features)\n",
    "            bias = bias + label\n",
    "        add weights to list_of_weights\n",
    "        add bias to list_of_biases\n",
    "shuffle data\n",
    "```\n",
    "\n",
    "##### Averaged Perceptron Prediction:\n",
    "```\n",
    "weights = average(list_of_weights)\n",
    "bias = average(list_of_bias)\n",
    "\n",
    "For each training epoch:\n",
    "    For each document, label:\n",
    "        prediction = weights * document + bias\n",
    "\n",
    "        if sign(label) != sign(prediction):\n",
    "            weights = weights + (label*features)\n",
    "            bias = bias + label\n",
    "        add weights to list_of_weights\n",
    "        add bias to list_of_biases\n",
    "shuffle data\n",
    "```\n",
    "\n",
    "\n",
    "##### Optional exercise:\n",
    "Modify your perceptron model to implement an **averaged perceptron** model.\n"
   ]
  },
  {
   "cell_type": "code",
   "execution_count": 189,
   "metadata": {},
   "outputs": [
    {
     "name": "stdout",
     "output_type": "stream",
     "text": [
      "Pre Training Accuracy: 0.0 Pre Test Accuracy 0.0\n",
      "Iteration 0 Training Accuracy: 94.6284744833259 Test Accuracy 93.4171597633136\n",
      "Iteration 1 Training Accuracy: 96.83783459574322 Test Accuracy 95.48816568047337\n",
      "Iteration 2 Training Accuracy: 98.09396099667546 Test Accuracy 96.5587044534413\n",
      "Iteration 3 Training Accuracy: 98.58107413373548 Test Accuracy 96.7650264715042\n",
      "Iteration 4 Training Accuracy: 99.12859444082667 Test Accuracy 97.38788539395827\n",
      "Iteration 5 Training Accuracy: 99.1024608424444 Test Accuracy 97.12706322018063\n",
      "Iteration 6 Training Accuracy: 99.62856016725503 Test Accuracy 97.71099345998131\n",
      "Iteration 7 Training Accuracy: 99.6088528635569 Test Accuracy 97.59810028028652\n",
      "Iteration 8 Training Accuracy: 99.43791342495801 Test Accuracy 97.38009965742759\n",
      "Iteration 9 Training Accuracy: 99.70096308736333 Test Accuracy 97.67595764559327\n"
     ]
    }
   ],
   "source": [
    "#train\n",
    "from spacy.scorer import Scorer\n",
    "from spacy.gold import GoldParse\n",
    "\n",
    "def predict_cycle(vocab, tagger, data, train=True):\n",
    "    \"\"\"For each document in data, creates a document and tags\n",
    "    it. Creates a goldparse object to hold the ground truth label.\n",
    "    If train=True, the tagger's statistical model is updated with the \n",
    "    result.\"\"\"\n",
    "    \n",
    "    scorer = Scorer()\n",
    "    \n",
    "    for words, tags in data:\n",
    "        #create a document, passing in words to become tokens\n",
    "        doc = Doc(vocab, words = words)\n",
    "        tagger(doc)\n",
    "        gold = GoldParse(doc, tags=tags)   \n",
    "\n",
    "        scorer.score(doc, gold)              \n",
    "        \n",
    "        if train:\n",
    "            #train the model        \n",
    "            tagger.update(doc, gold)\n",
    "    return tagger, scorer\n",
    "\n",
    "def train(vocab, tagger, training_data, testing_data, epochs = 10):\n",
    "    \"\"\"\n",
    "    Parameters\n",
    "    ----------\n",
    "    tagger (spacy.tagger.Tagger): \n",
    "        The tagger to train.\n",
    "        \n",
    "    training_data (list):\n",
    "        Training data containing words and annotated tags. \n",
    "        Should have form: [(word1, word2,...),(tag1, tag2, .....)]\n",
    "        \n",
    "    epochs (int):\n",
    "        number of training iterations\n",
    "        \n",
    "    verbose (Bool):\n",
    "        whether to track and print training accuracy\n",
    "    \"\"\"\n",
    "    \n",
    "    tagger, pre_train_scorer = predict_cycle(vocab, tagger, training_data, train=False)\n",
    "    tagger, pre_test_scorer = predict_cycle(vocab, tagger, testing_data, train=False)\n",
    "    \n",
    "    print(\"Pre Training Accuracy: {0} Pre Test Accuracy {1}\".format(pre_train_scorer.tags_acc, \n",
    "                                                                    pre_test_scorer.tags_acc))\n",
    "    \n",
    "    for train_cycle in range(epochs):\n",
    "            \n",
    "        tagger, _ = predict_cycle(vocab, tagger, training_data, train=True)\n",
    "        \n",
    "        \n",
    "        tagger, train_scorer = predict_cycle(vocab, tagger, training_data, train=False)\n",
    "        tagger, test_scorer = predict_cycle(vocab, tagger, testing_data, train=False)\n",
    "\n",
    "        print(\"Iteration {0} Training Accuracy: {1} Test Accuracy {2}\".format(train_cycle, \n",
    "                                                                              train_scorer.tags_acc, \n",
    "                                                                              test_scorer.tags_acc))\n",
    "        #shuffle data    \n",
    "        np.random.shuffle(training_data)\n",
    "    \n",
    "    tagger.model.end_training()\n",
    "        \n",
    "    return tagger\n",
    "\n",
    "tagger = train(vocab, tagger, training_data, testing_data)"
   ]
  },
  {
   "cell_type": "markdown",
   "metadata": {},
   "source": [
    "<a name=\"save\"></a>\n",
    "### Saving the Model"
   ]
  },
  {
   "cell_type": "code",
   "execution_count": 88,
   "metadata": {
    "collapsed": true
   },
   "outputs": [],
   "source": [
    "def save_tagger(tagger, model_dir):\n",
    "    if model_dir is not None:\n",
    "        tagger.model.dump(str(model_dir / 'pos' / 'model'))\n",
    "        with (model_dir / 'vocab' / 'strings.json').open('w') as file_:\n",
    "            tagger.vocab.strings.dump(file_)\n",
    "            \n",
    "save_tagger(tagger, modelpath)            "
   ]
  },
  {
   "cell_type": "markdown",
   "metadata": {},
   "source": [
    "### Limitations of the Averaged Perceptron Model:\n",
    "* Can only learn linear decision boundaries.\n",
    "    * Solution: Multi-layered perceptron, neural network.\n",
    "    * Coming in SpaCy 2.0!"
   ]
  },
  {
   "cell_type": "markdown",
   "metadata": {},
   "source": [
    "### Appendix"
   ]
  },
  {
   "cell_type": "markdown",
   "metadata": {},
   "source": [
    "<a name='qacode'></a>\n",
    "### Example Rule Based QA Component Code"
   ]
  },
  {
   "cell_type": "code",
   "execution_count": 5,
   "metadata": {
    "collapsed": true
   },
   "outputs": [],
   "source": [
    "def get_answer_requirements(token):\n",
    "    if token.tag_ == 'WRB':\n",
    "        if token.lower_ == 'where':\n",
    "            #Where was Star Wars Filmed\n",
    "            return ['LOCATION']\n",
    "        elif token.lower_ == 'when':\n",
    "            #When was Star Wars Filmed\n",
    "            return ['DATE']\n",
    "        elif token.lower_ == 'how':\n",
    "            #How much did Star Wars make?\n",
    "            if token.nbor().lower_ in ('much', 'many'):\n",
    "                return ['QUANTITY']\n",
    "\n",
    "            #How old is star wars?\n",
    "            elif token.nbor().lower_ in ('long', 'old'):\n",
    "                return ['DURATION']\n",
    "            else:\n",
    "                return False\n",
    "        elif token.lower() == 'whom':\n",
    "            #Whom did you see?\n",
    "            return ['PERSON','ORG']      \n",
    "        else:\n",
    "            return False\n",
    "    elif token.tag_ == 'WP':\n",
    "        #Asking for Identity\n",
    "        if token.lower_ in ('who', 'whose'):\n",
    "            #Who directed Star Wars?\n",
    "            return ['PERSON','ORG']\n",
    "        if token.lower_ in ('which','what'):\n",
    "            #What is Star Wars\n",
    "            return False \n",
    "        else: \n",
    "            return False\n",
    "    elif token.tag_ == 'WDT':\n",
    "        #asking for a choice among options\n",
    "        if token.lower_ in ('which','what'):\n",
    "            #which Star Wars did you like best?\n",
    "            return [token.nbor().lower_] #return neighbor\n",
    "        else:\n",
    "            return False\n",
    "    else:\n",
    "        return False"
   ]
  },
  {
   "cell_type": "code",
   "execution_count": 6,
   "metadata": {},
   "outputs": [
    {
     "data": {
      "text/plain": [
       "[['LOCATION'], False, False, False, False, False]"
      ]
     },
     "execution_count": 6,
     "metadata": {},
     "output_type": "execute_result"
    }
   ],
   "source": [
    "list(map(get_answer_requirements, nlp('Where was Star Wars filmed?')))"
   ]
  },
  {
   "cell_type": "code",
   "execution_count": 7,
   "metadata": {},
   "outputs": [
    {
     "data": {
      "text/plain": [
       "[['PERSON', 'ORG'], False, False, False, False]"
      ]
     },
     "execution_count": 7,
     "metadata": {},
     "output_type": "execute_result"
    }
   ],
   "source": [
    "list(map(get_answer_requirements, nlp('Who directed Star Wars?')))"
   ]
  },
  {
   "cell_type": "code",
   "execution_count": 10,
   "metadata": {},
   "outputs": [
    {
     "data": {
      "text/plain": [
       "[['movie'], False, False, False, False, False]"
      ]
     },
     "execution_count": 10,
     "metadata": {},
     "output_type": "execute_result"
    }
   ],
   "source": [
    "list(map(get_answer_requirements, nlp('Which movie was first released?')))"
   ]
  },
  {
   "cell_type": "code",
   "execution_count": 8,
   "metadata": {},
   "outputs": [
    {
     "data": {
      "text/plain": [
       "[False, ['country'], False, False, False, False, False, False]"
      ]
     },
     "execution_count": 8,
     "metadata": {},
     "output_type": "execute_result"
    }
   ],
   "source": [
    "list(map(get_answer_requirements, nlp('In which country was Star Wars filmed?')))"
   ]
  },
  {
   "cell_type": "markdown",
   "metadata": {},
   "source": [
    "<a href='#applications'>back</a>\n",
    "<a name=\"wordsense\"></a>\n",
    "##### Word sense disambiguation"
   ]
  },
  {
   "cell_type": "code",
   "execution_count": 131,
   "metadata": {},
   "outputs": [
    {
     "name": "stdout",
     "output_type": "stream",
     "text": [
      "[nltk_data] Downloading package wordnet to /home/jupyter/nltk_data...\n",
      "[nltk_data]   Package wordnet is already up-to-date!\n",
      "Synset('shower.n.01') a plumbing fixture that sprays water over you\n",
      "Synset('shower.n.02') washing yourself by standing upright under water sprayed from a nozzle\n",
      "Synset('shower.n.03') a brief period of precipitation\n",
      "Synset('shower.n.04') a sudden downpour (as of tears or sparks etc) likened to a rain shower\n",
      "Synset('exhibitor.n.01') someone who organizes an exhibit for others to see\n",
      "Synset('shower.n.06') a party of friends assembled to present gifts (usually of a specified kind) to a person\n",
      "Synset('lavish.v.01') expend profusely; also used with abstract nouns\n",
      "Synset('shower.v.02') spray or sprinkle with\n",
      "Synset('shower.v.03') take a shower; wash one's body in the shower\n",
      "Synset('shower.v.04') rain abundantly\n",
      "Synset('shower.v.05') provide abundantly with\n"
     ]
    }
   ],
   "source": [
    "nltk.download('wordnet')\n",
    "from nltk.corpus import wordnet as wn\n",
    "for syn in wn.synsets('shower'):\n",
    "    print(syn, syn.definition())"
   ]
  },
  {
   "cell_type": "markdown",
   "metadata": {},
   "source": [
    "<a href='#applications'>back</a>"
   ]
  },
  {
   "cell_type": "code",
   "execution_count": null,
   "metadata": {
    "collapsed": true
   },
   "outputs": [],
   "source": []
  }
 ],
 "metadata": {
  "kernelspec": {
   "display_name": "Python 3",
   "language": "python",
   "name": "python3"
  },
  "language_info": {
   "codemirror_mode": {
    "name": "ipython",
    "version": 3
   },
   "file_extension": ".py",
   "mimetype": "text/x-python",
   "name": "python",
   "nbconvert_exporter": "python",
   "pygments_lexer": "ipython3",
   "version": "3.5.3"
  }
 },
 "nbformat": 4,
 "nbformat_minor": 2
}
