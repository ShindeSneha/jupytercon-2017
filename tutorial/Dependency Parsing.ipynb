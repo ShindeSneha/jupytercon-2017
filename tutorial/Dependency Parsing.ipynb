{
 "cells": [
  {
   "cell_type": "code",
   "execution_count": null,
   "metadata": {},
   "outputs": [],
   "source": [
    "from warnings import warn\n",
    "from IPython.display import HTML\n",
    "def from_scratch():\n",
    "    !pip install gensim >> ~/gensim.log\n",
    "    !pip install spacy-nightly >> ~/spacy.log\n",
    "    !python -m spacy download en >> ~/spacy.log\n",
    "    !jupyter nbextension enable --py --sys-prefix widgetsnbextension\n",
    "    warn(\"Refresh notebook to reflect widget availability.\")\n",
    "\n",
    "    \n",
    "from_scratch()"
   ]
  },
  {
   "cell_type": "code",
   "execution_count": 2,
   "metadata": {},
   "outputs": [
    {
     "data": {
      "text/html": [
       "\n",
       "<center>\n",
       "<h3> Syntax </h3>\n",
       "<br>\n",
       "<h5> Exchangeability within syntactic classes. </h5>\n",
       "<br>\n",
       "<br>\n",
       "<svg class=\"displacy\" width=\"950\" height=\"220\" viewBox=\"0 0 950 220\" preserveAspectRatio=\"xMinYMax meet\" data-format=\"spacy\" id=\"displacy-svg\" style=\"color: rgb(245, 244, 240); background: rgb(39, 40, 34); font-family: inherit;\">\n",
       "\n",
       "\t<text class=\"displacy-token\" fill=\"currentColor\" data-tag=\"PRP\" text-anchor=\"middle\" y=\"140\">\n",
       "\t\t<tspan class=\"displacy-word\" x=\"300\" fill=\"currentColor\" data-tag=\"PRP\">He</tspan>\n",
       "\n",
       "\t</text>\n",
       "\n",
       "\t<text class=\"displacy-token\" fill=\"currentColor\" data-tag=\"VBD\" text-anchor=\"middle\" y=\"140\">\n",
       "\t\t<tspan class=\"displacy-word\" x=\"340\" fill=\"currentColor\" data-tag=\"VBD\">went</tspan>\n",
       "\n",
       "\t</text>\n",
       "\t<text class=\"displacy-token\" fill=\"currentColor\" data-tag=\"VBD\" text-anchor=\"middle\" y=\"140\">\n",
       "\t\t<tspan class=\"displacy-word\" x=\"380\" fill=\"currentColor\" data-tag=\"VBD\">to</tspan>\n",
       "\n",
       "\t</text>\n",
       "\n",
       "\t\t<text class=\"displacy-token\" fill=\"currentColor\" data-tag=\"VBD\" text-anchor=\"middle\" y=\"140\">\n",
       "\t\t<tspan class=\"displacy-word\" x=\"420\" fill=\"currentColor\" data-tag=\"VBD\">the</tspan>\n",
       "\n",
       "\t</text>\n",
       "\n",
       "\t\t<text class=\"displacy-token\" fill=\"currentColor\" data-tag=\"VBD\" text-anchor=\"middle\" y=\"140\">\n",
       "\t\t<tspan class=\"displacy-word\" x=\"460\" fill=\"currentColor\" data-tag=\"VBD\">store.</tspan>\n",
       "\n",
       "\t</text>\n",
       "\n",
       "\n",
       "\n",
       "\n",
       "\t\t<text class=\"displacy-token\" fill=\"currentColor\" data-tag=\"VBD\" text-anchor=\"middle\" y=\"140\">\n",
       "\t\t<tspan class=\"displacy-word\" x=\"50\" fill=\"currentColor\" data-tag=\"VBD\">She</tspan>\n",
       "\t\t<tspan class=\"displacy-word\" x=\"50\" fill=\"currentColor\" dy=\"1em\" data-tag=\"VBD\">John</tspan>\n",
       "\t\t<tspan class=\"displacy-word\" x=\"50\" fill=\"currentColor\" dy=\"1em\" data-tag=\"VBD\">The man</tspan>\n",
       "\n",
       "\n",
       "\t</text>\n",
       "\n",
       "\n",
       "\n",
       "\n",
       "\n",
       "\n",
       "\t<g class=\"displacy-arrow\" data-dir=\"left\" data-label=\"nsubj\">\n",
       "\t\t<path class=\"displacy-arc\" d=\"M50,100 C150,0 300,0 300,100\" stroke-width=\"2px\" fill=\"none\" stroke=\"currentColor\" data-dir=\"left\" data-label=\"nsubj\" id=\"arrow-0\"></path>\n",
       "\t\t<text dy=\"1em\">\n",
       "\t\t\t<textPath class=\"displacy-label\" startOffset=\"50%\" fill=\"currentColor\" text-anchor=\"middle\" data-label=\"nsubj\" data-dir=\"left\" xmlns:xlink=\"http://www.w3.org/1999/xlink\" xlink:href=\"#arrow-0\">Exchangeable subjects</textPath>\n",
       "\t\t</text>\n",
       "\t\t<path class=\"displacy-arrowhead\" d=\"M300,102 L294,92 306,92\" fill=\"currentColor\" data-label=\"nsubj\" data-dir=\"left\"></path>\n",
       "\t</g>\n",
       "\n",
       "</svg>\n",
       "\n",
       "<br>\n",
       "<br>\n",
       "<h5>Compiling Syntactic Units</h5>\n",
       "<br>\n",
       "\n",
       "<style type=\"text/css\">\n",
       ".tg  {border-collapse:collapse;border-spacing:0;}\n",
       ".tg td{font-family:Arial, sans-serif;font-size:14px;padding:10px 5px;border-style:solid;border-width:1px;overflow:hidden;word-break:normal;}\n",
       ".tg th{font-family:Arial, sans-serif;font-size:14px;font-weight:normal;padding:10px 5px;border-style:solid;border-width:1px;overflow:hidden;word-break:normal;}\n",
       ".tg .tg-yw4l{vertical-align:top}\n",
       "</style>\n",
       "<table class=\"tg\">\n",
       "  <tr>\n",
       "    <th class=\"tg-yw4l\">The</th>\n",
       "    <th class=\"tg-yw4l\">man</th>\n",
       "    <th class=\"tg-yw4l\">went</th>\n",
       "    <th class=\"tg-yw4l\">to </th>\n",
       "    <th class=\"tg-yw4l\">the</th>\n",
       "    <th class=\"tg-yw4l\">store</th>\n",
       "  </tr>\n",
       "  <tr>\n",
       "    <td class=\"tg-yw4l\">determiner</td>\n",
       "    <td class=\"tg-yw4l\">simple subject</td>\n",
       "    <td class=\"tg-yw4l\">verb</td>\n",
       "    <td class=\"tg-yw4l\">preposition<br></td>\n",
       "    <td class=\"tg-yw4l\">determiner</td>\n",
       "    <td class=\"tg-yw4l\">object (of preposition)</td>\n",
       "  </tr>\n",
       "  <tr>\n",
       "    <td class=\"tg-yw4l\" colspan=\"2\">subject phrase</td>\n",
       "    <td class=\"tg-yw4l\"></td>\n",
       "    <td class=\"tg-yw4l\" colspan=\"3\">prepositional phrase</td>\n",
       "  </tr>\n",
       "  <tr>\n",
       "    <td class=\"tg-yw4l\" colspan=\"2\"></td>\n",
       "    <td class=\"tg-yw4l\" colspan=\"4\">verb phrase</td>\n",
       "  </tr>\n",
       "</table>\n",
       "</center>\n"
      ],
      "text/plain": [
       "<IPython.core.display.HTML object>"
      ]
     },
     "execution_count": 2,
     "metadata": {},
     "output_type": "execute_result"
    }
   ],
   "source": [
    "from static_html import syntax\n",
    "HTML(syntax)"
   ]
  },
  {
   "cell_type": "code",
   "execution_count": 3,
   "metadata": {},
   "outputs": [
    {
     "data": {
      "text/html": [
       "\n",
       "<center>\n",
       "<style>\n",
       "    .un {\n",
       "    background-color:'red';\n",
       "    }\n",
       "    .reach {\n",
       "    background-color:'green';\n",
       "    }\n",
       "    .able {\n",
       "    background-color:'blue';\n",
       "    }\n",
       "</style>\n",
       "<h3>Morphology</h3>\n",
       "<h5>'<span class='un'>Un</span><span class='reach'>reach</span><span class='able'>able</span>'</h5>\n",
       "<br>\n",
       "<table border=\"1\" class=\"dataframe\">\n",
       "<thead>\n",
       "    \n",
       "<tr style=\"text-align: right;\">\n",
       "<th></th>\n",
       "<th>Effect</th>\n",
       "<th>Morpheme</th>\n",
       "</tr>\n",
       "    <tr>\n",
       "      <th></th>\n",
       "      <th></th>\n",
       "      <th></th>\n",
       "    </tr>\n",
       "  </thead>\n",
       "  <tbody>\n",
       "    <tr>\n",
       "      <th>un</th>\n",
       "      <td>Negation</td>\n",
       "      <td>Prefix</td>\n",
       "    </tr>\n",
       "    <tr>\n",
       "      <th>reach</th>\n",
       "      <td>Verb</td>\n",
       "      <td>Root</td>\n",
       "    </tr>\n",
       "    <tr>\n",
       "      <th>able</th>\n",
       "      <td>To Adjective</td>\n",
       "      <td>Suffix</td>\n",
       "    </tr>\n",
       "  </tbody>\n",
       "</table>'\n",
       "</center>\n"
      ],
      "text/plain": [
       "<IPython.core.display.HTML object>"
      ]
     },
     "execution_count": 3,
     "metadata": {},
     "output_type": "execute_result"
    }
   ],
   "source": [
    "from static_html import morphology\n",
    "HTML(morphology)"
   ]
  },
  {
   "cell_type": "code",
   "execution_count": 4,
   "metadata": {},
   "outputs": [
    {
     "data": {
      "text/html": [
       "\n",
       "\n",
       "<center>\n",
       "<h3> The importance of Morphology and Syntax:</h3>\n",
       "<h5> Word order affects semantics:</h5>\n",
       "<br>\n",
       "\n",
       "<strong>Original sentence:</strong>\n",
       "<br>\n",
       "He did not like the movie, and told the cashier he wanted his money back.\n",
       "<br>\n",
       "<br>\n",
       "<strong>With mutated morpology and word order:</strong>\n",
       "<br>\n",
       "The cashier liked the movie, and told him he did not want his money back\n",
       "<br>\n",
       "<br>\n",
       "<br>\n",
       "<br>\n",
       "<br>\n",
       "<br>\n",
       "<h5> Sometimes only syntax can reveal meaning:</h5>\n",
       "<br>\n",
       "Who was wearing the pajamas?\n",
       "<br>\n",
       "\n",
       "\n",
       "<svg class=\"displacy\" width=\"1550\" height=\"320\" viewBox=\"0 0 1550 320\" preserveAspectRatio=\"xMinYMax meet\" data-format=\"spacy\" id=\"displacy-svg\" style=\"color: rgb(245, 244, 240); background: rgb(39, 40, 34); font-family: inherit;\">\n",
       "\n",
       "\t<text class=\"displacy-token\" fill=\"currentColor\" data-tag=\"DT\" text-anchor=\"middle\" y=\"240\">\n",
       "\t\t<tspan class=\"displacy-word\" x=\"150\" fill=\"currentColor\" data-tag=\"DT\">This\n",
       "\t\t</tspan>\n",
       "\n",
       "\t\t<tspan class=\"displacy-tag\" x=\"150\" dy=\"2em\" fill=\"currentColor\" data-tag=\"DT\">DT\n",
       "\t\t</tspan>\n",
       "\t</text>\n",
       "\n",
       "\t<text class=\"displacy-token\" fill=\"currentColor\" data-tag=\"NN\" text-anchor=\"middle\" y=\"240\">\n",
       "\t\t<tspan class=\"displacy-word\" x=\"350\" fill=\"currentColor\" data-tag=\"NN\">morning</tspan>\n",
       "\n",
       "\t\t<tspan class=\"displacy-tag\" x=\"350\" dy=\"2em\" fill=\"currentColor\" data-tag=\"NN\">NN</tspan>\n",
       "\n",
       "\t</text>\n",
       "\n",
       "\t<text class=\"displacy-token\" fill=\"currentColor\" data-tag=\"PRP\" text-anchor=\"middle\" y=\"240\">\n",
       "\n",
       "\t\t<tspan class=\"displacy-word\" x=\"550\" fill=\"currentColor\" data-tag=\"PRP\">I</tspan>\n",
       "\n",
       "\t\t<tspan class=\"displacy-tag\" x=\"550\" dy=\"2em\" fill=\"currentColor\" data-tag=\"PRP\">PRP</tspan>\n",
       "\n",
       "\t</text>\n",
       "\t<text class=\"displacy-token\" fill=\"currentColor\" data-tag=\"VBD\" text-anchor=\"middle\" y=\"240\">\n",
       "\t\t<tspan class=\"displacy-word\" x=\"750\" fill=\"currentColor\" data-tag=\"VBD\">shot</tspan>\n",
       "\n",
       "\t\t<tspan class=\"displacy-tag\" x=\"750\" dy=\"2em\" fill=\"currentColor\" data-tag=\"VBD\">VBD</tspan>\n",
       "\t</text>\n",
       "\n",
       "\t<text class=\"displacy-token\" fill=\"currentColor\" data-tag=\"NN\" text-anchor=\"middle\" y=\"240\">\n",
       "\t\t<tspan class=\"displacy-word\" x=\"950\" fill=\"currentColor\" data-tag=\"NN\">an elephant</tspan>\n",
       "\n",
       "\t\t<tspan class=\"displacy-tag\" x=\"950\" dy=\"2em\" fill=\"currentColor\" data-tag=\"NN\">NN</tspan>\n",
       "\t</text>\n",
       "\n",
       "\t<text class=\"displacy-token\" fill=\"currentColor\" data-tag=\"IN\" text-anchor=\"middle\" y=\"240\">\n",
       "\t\t<tspan class=\"displacy-word\" x=\"1150\" fill=\"currentColor\" data-tag=\"IN\">in</tspan>\n",
       "\n",
       "\t\t<tspan class=\"displacy-tag\" x=\"1150\" dy=\"2em\" fill=\"currentColor\" data-tag=\"IN\">IN</tspan>\n",
       "\t</text>\n",
       "\n",
       "\t<text class=\"displacy-token\" fill=\"currentColor\" data-tag=\"NNS\" text-anchor=\"middle\" y=\"240\">\n",
       "\t\t<tspan class=\"displacy-word\" x=\"1350\" fill=\"currentColor\" data-tag=\"NNS\">my pajamas</tspan>\n",
       "\n",
       "\t\t<tspan class=\"displacy-tag\" x=\"1350\" dy=\"2em\" fill=\"currentColor\" data-tag=\"NNS\">NNS</tspan></text><g class=\"displacy-arrow\" data-dir=\"left\" data-label=\"det\">\n",
       "\n",
       "<!--\n",
       "\t<path class=\"displacy-arc\" d=\"M152.5,200 C152.5,100 347.5,100 347.5,200\" stroke-width=\"2px\" fill=\"none\" stroke=\"currentColor\" data-dir=\"left\" data-label=\"det\" id=\"arrow-0\"></path>\n",
       "\t<text dy=\"1em\">\n",
       "\t<textPath class=\"displacy-label\" startOffset=\"50%\" fill=\"currentColor\" text-anchor=\"middle\" data-label=\"det\" data-dir=\"left\" xmlns:xlink=\"http://www.w3.org/1999/xlink\" xlink:href=\"#arrow-0\">det</textPath>\n",
       "\t</text>\n",
       "\t<path class=\"displacy-arrowhead\" d=\"M152.5,202 L146.5,192 158.5,192\" fill=\"currentColor\" data-label=\"det\" data-dir=\"left\"></path></g>\n",
       "\t<g class=\"displacy-arrow\" data-dir=\"left\" data-label=\"npadvmod\"><path class=\"displacy-arc\" d=\"M350,200 C350,0 750,0 750,200\" stroke-width=\"2px\" fill=\"none\" stroke=\"currentColor\" data-dir=\"left\" data-label=\"npadvmod\" id=\"arrow-1\"></path><text dy=\"1em\">\n",
       "\t<textPath class=\"displacy-label\" startOffset=\"50%\" fill=\"currentColor\" text-anchor=\"middle\" data-label=\"npadvmod\" data-dir=\"left\" xmlns:xlink=\"http://www.w3.org/1999/xlink\" xlink:href=\"#arrow-1\">npadvmod</textPath></text><path class=\"displacy-arrowhead\" d=\"M350,202 L344,192 356,192\" fill=\"currentColor\" data-label=\"npadvmod\" data-dir=\"left\"></path></g><g class=\"displacy-arrow\" data-dir=\"left\" data-label=\"nsubj\"><path class=\"displacy-arc\" d=\"M552.5,200 C552.5,100 747.5,100 747.5,200\" stroke-width=\"2px\" fill=\"none\" stroke=\"currentColor\" data-dir=\"left\" data-label=\"nsubj\" id=\"arrow-2\"></path><text dy=\"1em\"><textPath class=\"displacy-label\" startOffset=\"50%\" fill=\"currentColor\" text-anchor=\"middle\" data-label=\"nsubj\" data-dir=\"left\" xmlns:xlink=\"http://www.w3.org/1999/xlink\" xlink:href=\"#arrow-2\">nsubj</textPath></text>\n",
       "\t<path class=\"displacy-arrowhead\" d=\"M552.5,202 L546.5,192 558.5,192\" fill=\"currentColor\" data-label=\"nsubj\" data-dir=\"left\"></path></g>\n",
       "-->\n",
       "\t<g class=\"displacy-arrow\" data-dir=\"right\" data-label=\"dobj\"><path class=\"displacy-arc\" d=\"M752.5,200 C752.5,100 947.5,100 947.5,200\" stroke-width=\"2px\" fill=\"none\" stroke=\"currentColor\" data-dir=\"right\" data-label=\"dobj\" id=\"arrow-3\"></path><text dy=\"1em\"><textPath class=\"displacy-label\" startOffset=\"50%\" fill=\"currentColor\" text-anchor=\"middle\" data-label=\"dobj\" data-dir=\"right\" xmlns:xlink=\"http://www.w3.org/1999/xlink\" xlink:href=\"#arrow-3\">dobj</textPath></text><path class=\"displacy-arrowhead\" d=\"M947.5,202 L953.5,192 941.5,192\" fill=\"currentColor\" data-label=\"dobj\" data-dir=\"right\"></path></g><g class=\"displacy-arrow\" data-dir=\"right\" data-label=\"prep\"><path class=\"displacy-arc\" d=\"M750,200 C750,0 1150,0 1150,200\" stroke-width=\"2px\" fill=\"none\" stroke=\"currentColor\" data-dir=\"right\" data-label=\"prep\" id=\"arrow-4\"></path><text dy=\"1em\">\n",
       "\n",
       "\t<textPath class=\"displacy-label\" startOffset=\"50%\" fill=\"currentColor\" text-anchor=\"middle\" data-label=\"prep\" data-dir=\"right\" xmlns:xlink=\"http://www.w3.org/1999/xlink\" xlink:href=\"#arrow-4\">prep</textPath></text><path class=\"displacy-arrowhead\" d=\"M1150,202 L1156,192 1144,192\" fill=\"currentColor\" data-label=\"prep\" data-dir=\"right\"></path></g><g class=\"displacy-arrow\" data-dir=\"right\" data-label=\"pobj\"><path class=\"displacy-arc\" d=\"M1152.5,200 C1152.5,100 1347.5,100 1347.5,200\" stroke-width=\"2px\" fill=\"none\" stroke=\"currentColor\" data-dir=\"right\" data-label=\"pobj\" id=\"arrow-5\"></path><text dy=\"1em\"><textPath class=\"displacy-label\" startOffset=\"50%\" fill=\"currentColor\" text-anchor=\"middle\" data-label=\"pobj\" data-dir=\"right\" xmlns:xlink=\"http://www.w3.org/1999/xlink\" xlink:href=\"#arrow-5\">pobj</textPath></text><path class=\"displacy-arrowhead\" d=\"M1347.5,202 L1353.5,192 1341.5,192\" fill=\"currentColor\" data-label=\"pobj\" data-dir=\"right\"></path></g>\n",
       "\n",
       "\t</svg>\n",
       "\n",
       "<br>\n",
       "<br>\n",
       "\n",
       "<svg class=\"displacy\" width=\"1550\" height=\"320\" viewBox=\"0 0 1550 320\" preserveAspectRatio=\"xMinYMax meet\" data-format=\"spacy\" id=\"displacy-svg\" style=\"color: rgb(245, 244, 240); background: rgb(39, 40, 34); font-family: inherit;\">\n",
       "\n",
       "\t<text class=\"displacy-token\" fill=\"currentColor\" data-tag=\"DT\" text-anchor=\"middle\" y=\"240\">\n",
       "\t\t<tspan class=\"displacy-word\" x=\"150\" fill=\"currentColor\" data-tag=\"DT\">This\n",
       "\t\t</tspan>\n",
       "\n",
       "\t\t<tspan class=\"displacy-tag\" x=\"150\" dy=\"2em\" fill=\"currentColor\" data-tag=\"DT\">DT\n",
       "\t\t</tspan>\n",
       "\t</text>\n",
       "\n",
       "\t<text class=\"displacy-token\" fill=\"currentColor\" data-tag=\"NN\" text-anchor=\"middle\" y=\"240\">\n",
       "\t\t<tspan class=\"displacy-word\" x=\"350\" fill=\"currentColor\" data-tag=\"NN\">morning</tspan>\n",
       "\n",
       "\t\t<tspan class=\"displacy-tag\" x=\"350\" dy=\"2em\" fill=\"currentColor\" data-tag=\"NN\">NN</tspan>\n",
       "\n",
       "\t</text>\n",
       "\n",
       "\t<text class=\"displacy-token\" fill=\"currentColor\" data-tag=\"PRP\" text-anchor=\"middle\" y=\"240\">\n",
       "\n",
       "\t\t<tspan class=\"displacy-word\" x=\"550\" fill=\"currentColor\" data-tag=\"PRP\">I</tspan>\n",
       "\n",
       "\t\t<tspan class=\"displacy-tag\" x=\"550\" dy=\"2em\" fill=\"currentColor\" data-tag=\"PRP\">PRP</tspan>\n",
       "\n",
       "\t</text>\n",
       "\t<text class=\"displacy-token\" fill=\"currentColor\" data-tag=\"VBD\" text-anchor=\"middle\" y=\"240\">\n",
       "\t\t<tspan class=\"displacy-word\" x=\"750\" fill=\"currentColor\" data-tag=\"VBD\">shot</tspan>\n",
       "\n",
       "\t\t<tspan class=\"displacy-tag\" x=\"750\" dy=\"2em\" fill=\"currentColor\" data-tag=\"VBD\">VBD</tspan>\n",
       "\t</text>\n",
       "\n",
       "\t<text class=\"displacy-token\" fill=\"currentColor\" data-tag=\"NN\" text-anchor=\"middle\" y=\"240\">\n",
       "\t\t<tspan class=\"displacy-word\" x=\"950\" fill=\"currentColor\" data-tag=\"NN\">an elephant</tspan>\n",
       "\n",
       "\t\t<tspan class=\"displacy-tag\" x=\"950\" dy=\"2em\" fill=\"currentColor\" data-tag=\"NN\">NN</tspan>\n",
       "\t</text>\n",
       "\n",
       "\t<text class=\"displacy-token\" fill=\"currentColor\" data-tag=\"IN\" text-anchor=\"middle\" y=\"240\">\n",
       "\t\t<tspan class=\"displacy-word\" x=\"1150\" fill=\"currentColor\" data-tag=\"IN\">in</tspan>\n",
       "\n",
       "\t\t<tspan class=\"displacy-tag\" x=\"1150\" dy=\"2em\" fill=\"currentColor\" data-tag=\"IN\">IN</tspan>\n",
       "\t</text>\n",
       "\n",
       "\t<text class=\"displacy-token\" fill=\"currentColor\" data-tag=\"NNS\" text-anchor=\"middle\" y=\"240\">\n",
       "\t\t<tspan class=\"displacy-word\" x=\"1350\" fill=\"currentColor\" data-tag=\"NNS\">my pajamas</tspan>\n",
       "\n",
       "\t\t<tspan class=\"displacy-tag\" x=\"1350\" dy=\"2em\" fill=\"currentColor\" data-tag=\"NNS\">NNS</tspan></text><g class=\"displacy-arrow\" data-dir=\"left\" data-label=\"det\">\n",
       "\n",
       "<!--\n",
       "\t<path class=\"displacy-arc\" d=\"M152.5,200 C152.5,100 347.5,100 347.5,200\" stroke-width=\"2px\" fill=\"none\" stroke=\"currentColor\" data-dir=\"left\" data-label=\"det\" id=\"arrow-0\"></path>\n",
       "\t<text dy=\"1em\">\n",
       "\t<textPath class=\"displacy-label\" startOffset=\"50%\" fill=\"currentColor\" text-anchor=\"middle\" data-label=\"det\" data-dir=\"left\" xmlns:xlink=\"http://www.w3.org/1999/xlink\" xlink:href=\"#arrow-0\">det</textPath>\n",
       "\t</text>\n",
       "\t<path class=\"displacy-arrowhead\" d=\"M152.5,202 L146.5,192 158.5,192\" fill=\"currentColor\" data-label=\"det\" data-dir=\"left\"></path></g>\n",
       "\t<g class=\"displacy-arrow\" data-dir=\"left\" data-label=\"npadvmod\"><path class=\"displacy-arc\" d=\"M350,200 C350,0 750,0 750,200\" stroke-width=\"2px\" fill=\"none\" stroke=\"currentColor\" data-dir=\"left\" data-label=\"npadvmod\" id=\"arrow-1\"></path><text dy=\"1em\">\n",
       "\t<textPath class=\"displacy-label\" startOffset=\"50%\" fill=\"currentColor\" text-anchor=\"middle\" data-label=\"npadvmod\" data-dir=\"left\" xmlns:xlink=\"http://www.w3.org/1999/xlink\" xlink:href=\"#arrow-1\">npadvmod</textPath></text><path class=\"displacy-arrowhead\" d=\"M350,202 L344,192 356,192\" fill=\"currentColor\" data-label=\"npadvmod\" data-dir=\"left\"></path></g><g class=\"displacy-arrow\" data-dir=\"left\" data-label=\"nsubj\"><path class=\"displacy-arc\" d=\"M552.5,200 C552.5,100 747.5,100 747.5,200\" stroke-width=\"2px\" fill=\"none\" stroke=\"currentColor\" data-dir=\"left\" data-label=\"nsubj\" id=\"arrow-2\"></path><text dy=\"1em\"><textPath class=\"displacy-label\" startOffset=\"50%\" fill=\"currentColor\" text-anchor=\"middle\" data-label=\"nsubj\" data-dir=\"left\" xmlns:xlink=\"http://www.w3.org/1999/xlink\" xlink:href=\"#arrow-2\">nsubj</textPath></text>\n",
       "\t<path class=\"displacy-arrowhead\" d=\"M552.5,202 L546.5,192 558.5,192\" fill=\"currentColor\" data-label=\"nsubj\" data-dir=\"left\"></path></g>\n",
       "-->\n",
       "\t<g class=\"displacy-arrow\" data-dir=\"right\" data-label=\"dobj\"><path class=\"displacy-arc\" d=\"M752.5,200 C752.5,100 947.5,100 947.5,200\" stroke-width=\"2px\" fill=\"none\" stroke=\"currentColor\" data-dir=\"right\" data-label=\"dobj\" id=\"arrow-3\"></path><text dy=\"1em\"><textPath class=\"displacy-label\" startOffset=\"50%\" fill=\"currentColor\" text-anchor=\"middle\" data-label=\"dobj\" data-dir=\"right\" xmlns:xlink=\"http://www.w3.org/1999/xlink\" xlink:href=\"#arrow-3\">dobj</textPath></text><path class=\"displacy-arrowhead\" d=\"M947.5,202 L953.5,192 941.5,192\" fill=\"currentColor\" data-label=\"dobj\" data-dir=\"right\"></path></g><g class=\"displacy-arrow\" data-dir=\"right\" data-label=\"prep\"><path class=\"displacy-arc\" d=\"M947.5,200 C947.5,100 1150,100 1150,200\"   stroke-width=\"2px\" fill=\"none\" stroke=\"currentColor\" data-dir=\"right\" data-label=\"prep\" id=\"arrow-51\"></path><text dy=\"1em\">\n",
       "\n",
       "\t<textPath class=\"displacy-label\" startOffset=\"50%\" fill=\"currentColor\" text-anchor=\"middle\" data-label=\"prep\" data-dir=\"right\" xmlns:xlink=\"http://www.w3.org/1999/xlink\" xlink:href=\"#arrow-51\">prep</textPath>\n",
       "\n",
       "\n",
       "\n",
       "</text><path class=\"displacy-arrowhead\" d=\"M1150,202 L1156,192 1144,192\" fill=\"currentColor\" data-label=\"prep\" data-dir=\"right\"></path></g><g class=\"displacy-arrow\" data-dir=\"right\" data-label=\"pobj\"><path class=\"displacy-arc\" d=\"M1152.5,200 C1152.5,100 1347.5,100 1347.5,200\" stroke-width=\"2px\" fill=\"none\" stroke=\"currentColor\" data-dir=\"right\" data-label=\"pobj\" id=\"arrow-5\"></path><text dy=\"1em\"><textPath class=\"displacy-label\" startOffset=\"50%\" fill=\"currentColor\" text-anchor=\"middle\" data-label=\"pobj\" data-dir=\"right\" xmlns:xlink=\"http://www.w3.org/1999/xlink\" xlink:href=\"#arrow-5\">pobj</textPath></text><path class=\"displacy-arrowhead\" d=\"M1347.5,202 L1353.5,192 1341.5,192\" fill=\"currentColor\" data-label=\"pobj\" data-dir=\"right\"></path></g>\n",
       "\n",
       "\t</svg>\n",
       "\n"
      ],
      "text/plain": [
       "<IPython.core.display.HTML object>"
      ]
     },
     "execution_count": 4,
     "metadata": {},
     "output_type": "execute_result"
    }
   ],
   "source": [
    "from static_html import morph_and_syntax\n",
    "HTML(morph_and_syntax)"
   ]
  },
  {
   "cell_type": "code",
   "execution_count": 5,
   "metadata": {},
   "outputs": [
    {
     "data": {
      "text/html": [
       "\n",
       "<center>\n",
       "<h3>Valency Grammar:</h3></center>\n",
       "\n",
       "<br>\n",
       "<!-- HTML generated using hilite.me --><div style=\"background: #ffffff; overflow:auto;width:auto;border:solid gray;border-width:.1em .1em .1em .8em;padding:.2em .6em;\"><pre style=\"margin: 0; line-height: 125%\"><span style=\"color: #008800; font-weight: bold\">def</span> transitive_verb <span style=\"color: #333333\">(</span>subject<span style=\"color: #008800; font-weight: bold\">:</span> <span style=\"color: #333399; font-weight: bold\">noun</span><span style=\"color: #333333\">,</span> object<span style=\"color: #008800; font-weight: bold\">:</span> <span style=\"color: #333399; font-weight: bold\">noun</span><span style=\"color: #333333\">)</span><span style=\"color: #008800; font-weight: bold\">:</span> <span style=\"color: #333399; font-weight: bold\">verb_phrase</span>  <span style=\"color: #333333\">=</span> <span style=\"color: #333333\">{</span>\n",
       "\n",
       "    <span style=\"color: #333333\">...</span>\n",
       "<span style=\"color: #333333\">}</span>\n",
       "</pre></div>\n",
       "\n"
      ],
      "text/plain": [
       "<IPython.core.display.HTML object>"
      ]
     },
     "execution_count": 5,
     "metadata": {},
     "output_type": "execute_result"
    }
   ],
   "source": [
    "from static_html import valency\n",
    "HTML(valency)"
   ]
  },
  {
   "cell_type": "code",
   "execution_count": 15,
   "metadata": {
    "collapsed": true
   },
   "outputs": [],
   "source": [
    "spacy.load?"
   ]
  },
  {
   "cell_type": "code",
   "execution_count": 14,
   "metadata": {},
   "outputs": [
    {
     "ename": "AttributeError",
     "evalue": "'PosixPath' object has no attribute 'endswith'",
     "output_type": "error",
     "traceback": [
      "\u001b[0;31m---------------------------------------------------------------------------\u001b[0m",
      "\u001b[0;31mAttributeError\u001b[0m                            Traceback (most recent call last)",
      "\u001b[0;32m<ipython-input-14-d84f1dc1b8dc>\u001b[0m in \u001b[0;36m<module>\u001b[0;34m()\u001b[0m\n\u001b[1;32m      1\u001b[0m \u001b[0;32mimport\u001b[0m \u001b[0mspacy\u001b[0m\u001b[0;34m\u001b[0m\u001b[0m\n\u001b[0;32m----> 2\u001b[0;31m \u001b[0mnlp\u001b[0m \u001b[0;34m=\u001b[0m \u001b[0mspacy\u001b[0m\u001b[0;34m.\u001b[0m\u001b[0mload\u001b[0m\u001b[0;34m(\u001b[0m\u001b[0;34m'en'\u001b[0m\u001b[0;34m)\u001b[0m\u001b[0;34m\u001b[0m\u001b[0m\n\u001b[0m",
      "\u001b[0;32m/opt/conda/envs/python3/lib/python3.5/site-packages/spacy/__init__.py\u001b[0m in \u001b[0;36mload\u001b[0;34m(name, **overrides)\u001b[0m\n\u001b[1;32m     11\u001b[0m \u001b[0;32mdef\u001b[0m \u001b[0mload\u001b[0m\u001b[0;34m(\u001b[0m\u001b[0mname\u001b[0m\u001b[0;34m,\u001b[0m \u001b[0;34m**\u001b[0m\u001b[0moverrides\u001b[0m\u001b[0;34m)\u001b[0m\u001b[0;34m:\u001b[0m\u001b[0;34m\u001b[0m\u001b[0m\n\u001b[1;32m     12\u001b[0m     \u001b[0mname\u001b[0m \u001b[0;34m=\u001b[0m \u001b[0mresolve_load_name\u001b[0m\u001b[0;34m(\u001b[0m\u001b[0mname\u001b[0m\u001b[0;34m,\u001b[0m \u001b[0;34m**\u001b[0m\u001b[0moverrides\u001b[0m\u001b[0;34m)\u001b[0m\u001b[0;34m\u001b[0m\u001b[0m\n\u001b[0;32m---> 13\u001b[0;31m     \u001b[0;32mreturn\u001b[0m \u001b[0mutil\u001b[0m\u001b[0;34m.\u001b[0m\u001b[0mload_model\u001b[0m\u001b[0;34m(\u001b[0m\u001b[0mname\u001b[0m\u001b[0;34m,\u001b[0m \u001b[0;34m**\u001b[0m\u001b[0moverrides\u001b[0m\u001b[0;34m)\u001b[0m\u001b[0;34m\u001b[0m\u001b[0m\n\u001b[0m\u001b[1;32m     14\u001b[0m \u001b[0;34m\u001b[0m\u001b[0m\n\u001b[1;32m     15\u001b[0m \u001b[0;34m\u001b[0m\u001b[0m\n",
      "\u001b[0;32m/opt/conda/envs/python3/lib/python3.5/site-packages/spacy/util.py\u001b[0m in \u001b[0;36mload_model\u001b[0;34m(name, **overrides)\u001b[0m\n\u001b[1;32m    101\u001b[0m     \u001b[0;32mif\u001b[0m \u001b[0misinstance\u001b[0m\u001b[0;34m(\u001b[0m\u001b[0mname\u001b[0m\u001b[0;34m,\u001b[0m \u001b[0mbasestring_\u001b[0m\u001b[0;34m)\u001b[0m\u001b[0;34m:\u001b[0m\u001b[0;34m\u001b[0m\u001b[0m\n\u001b[1;32m    102\u001b[0m         \u001b[0;32mif\u001b[0m \u001b[0mname\u001b[0m \u001b[0;32min\u001b[0m \u001b[0mset\u001b[0m\u001b[0;34m(\u001b[0m\u001b[0;34m[\u001b[0m\u001b[0md\u001b[0m\u001b[0;34m.\u001b[0m\u001b[0mname\u001b[0m \u001b[0;32mfor\u001b[0m \u001b[0md\u001b[0m \u001b[0;32min\u001b[0m \u001b[0mdata_path\u001b[0m\u001b[0;34m.\u001b[0m\u001b[0miterdir\u001b[0m\u001b[0;34m(\u001b[0m\u001b[0;34m)\u001b[0m\u001b[0;34m]\u001b[0m\u001b[0;34m)\u001b[0m\u001b[0;34m:\u001b[0m \u001b[0;31m# in data dir / shortcut\u001b[0m\u001b[0;34m\u001b[0m\u001b[0m\n\u001b[0;32m--> 103\u001b[0;31m             \u001b[0;32mreturn\u001b[0m \u001b[0mload_model_from_link\u001b[0m\u001b[0;34m(\u001b[0m\u001b[0mname\u001b[0m\u001b[0;34m,\u001b[0m \u001b[0;34m**\u001b[0m\u001b[0moverrides\u001b[0m\u001b[0;34m)\u001b[0m\u001b[0;34m\u001b[0m\u001b[0m\n\u001b[0m\u001b[1;32m    104\u001b[0m         \u001b[0;32mif\u001b[0m \u001b[0mis_package\u001b[0m\u001b[0;34m(\u001b[0m\u001b[0mname\u001b[0m\u001b[0;34m)\u001b[0m\u001b[0;34m:\u001b[0m \u001b[0;31m# installed as package\u001b[0m\u001b[0;34m\u001b[0m\u001b[0m\n\u001b[1;32m    105\u001b[0m             \u001b[0;32mreturn\u001b[0m \u001b[0mload_model_from_package\u001b[0m\u001b[0;34m(\u001b[0m\u001b[0mname\u001b[0m\u001b[0;34m,\u001b[0m \u001b[0;34m**\u001b[0m\u001b[0moverrides\u001b[0m\u001b[0;34m)\u001b[0m\u001b[0;34m\u001b[0m\u001b[0m\n",
      "\u001b[0;32m/opt/conda/envs/python3/lib/python3.5/site-packages/spacy/util.py\u001b[0m in \u001b[0;36mload_model_from_link\u001b[0;34m(name, **overrides)\u001b[0m\n\u001b[1;32m    114\u001b[0m     \u001b[0;34m\"\"\"Load a model from a shortcut link, or directory in spaCy data path.\"\"\"\u001b[0m\u001b[0;34m\u001b[0m\u001b[0m\n\u001b[1;32m    115\u001b[0m     \u001b[0minit_file\u001b[0m \u001b[0;34m=\u001b[0m \u001b[0mget_data_path\u001b[0m\u001b[0;34m(\u001b[0m\u001b[0;34m)\u001b[0m \u001b[0;34m/\u001b[0m \u001b[0mname\u001b[0m \u001b[0;34m/\u001b[0m \u001b[0;34m'__init__.py'\u001b[0m\u001b[0;34m\u001b[0m\u001b[0m\n\u001b[0;32m--> 116\u001b[0;31m     \u001b[0mspec\u001b[0m \u001b[0;34m=\u001b[0m \u001b[0mimportlib\u001b[0m\u001b[0;34m.\u001b[0m\u001b[0mutil\u001b[0m\u001b[0;34m.\u001b[0m\u001b[0mspec_from_file_location\u001b[0m\u001b[0;34m(\u001b[0m\u001b[0mname\u001b[0m\u001b[0;34m,\u001b[0m \u001b[0minit_file\u001b[0m\u001b[0;34m)\u001b[0m\u001b[0;34m\u001b[0m\u001b[0m\n\u001b[0m\u001b[1;32m    117\u001b[0m     \u001b[0;32mtry\u001b[0m\u001b[0;34m:\u001b[0m\u001b[0;34m\u001b[0m\u001b[0m\n\u001b[1;32m    118\u001b[0m         \u001b[0mcls\u001b[0m \u001b[0;34m=\u001b[0m \u001b[0mimportlib\u001b[0m\u001b[0;34m.\u001b[0m\u001b[0mutil\u001b[0m\u001b[0;34m.\u001b[0m\u001b[0mmodule_from_spec\u001b[0m\u001b[0;34m(\u001b[0m\u001b[0mspec\u001b[0m\u001b[0;34m)\u001b[0m\u001b[0;34m\u001b[0m\u001b[0m\n",
      "\u001b[0;32m/opt/conda/envs/python3/lib/python3.5/importlib/_bootstrap_external.py\u001b[0m in \u001b[0;36mspec_from_file_location\u001b[0;34m(name, location, loader, submodule_search_locations)\u001b[0m\n",
      "\u001b[0;31mAttributeError\u001b[0m: 'PosixPath' object has no attribute 'endswith'"
     ]
    }
   ],
   "source": [
    "import spacy\n",
    "nlp = spacy.load('en')\n"
   ]
  },
  {
   "cell_type": "code",
   "execution_count": 13,
   "metadata": {},
   "outputs": [
    {
     "ename": "NameError",
     "evalue": "name 'nlp' is not defined",
     "output_type": "error",
     "traceback": [
      "\u001b[0;31m---------------------------------------------------------------------------\u001b[0m",
      "\u001b[0;31mNameError\u001b[0m                                 Traceback (most recent call last)",
      "\u001b[0;32m<ipython-input-13-3b46e7add537>\u001b[0m in \u001b[0;36m<module>\u001b[0;34m()\u001b[0m\n\u001b[0;32m----> 1\u001b[0;31m \u001b[0mdoc\u001b[0m \u001b[0;34m=\u001b[0m \u001b[0mnlp\u001b[0m\u001b[0;34m(\u001b[0m\u001b[0;34m\" i like baseball!\"\u001b[0m\u001b[0;34m)\u001b[0m\u001b[0;34m\u001b[0m\u001b[0m\n\u001b[0m\u001b[1;32m      2\u001b[0m \u001b[0;32mfrom\u001b[0m \u001b[0mspacy\u001b[0m \u001b[0;32mimport\u001b[0m \u001b[0mdisplacy\u001b[0m\u001b[0;34m\u001b[0m\u001b[0m\n\u001b[1;32m      3\u001b[0m \u001b[0mdisplacy\u001b[0m\u001b[0;34m.\u001b[0m\u001b[0mserve\u001b[0m\u001b[0;34m(\u001b[0m\u001b[0mdoc\u001b[0m\u001b[0;34m,\u001b[0m \u001b[0mstyle\u001b[0m\u001b[0;34m=\u001b[0m\u001b[0;34m'dep'\u001b[0m\u001b[0;34m)\u001b[0m\u001b[0;34m\u001b[0m\u001b[0m\n",
      "\u001b[0;31mNameError\u001b[0m: name 'nlp' is not defined"
     ]
    }
   ],
   "source": [
    "doc = nlp(\" i like baseball!\")\n",
    "from spacy import displacy\n",
    "displacy.serve(doc, style='dep')"
   ]
  },
  {
   "cell_type": "code",
   "execution_count": null,
   "metadata": {
    "collapsed": true
   },
   "outputs": [],
   "source": [
    "!pip install "
   ]
  }
 ],
 "metadata": {
  "kernelspec": {
   "display_name": "Python 3",
   "language": "python",
   "name": "python3"
  },
  "language_info": {
   "codemirror_mode": {
    "name": "ipython",
    "version": 3
   },
   "file_extension": ".py",
   "mimetype": "text/x-python",
   "name": "python",
   "nbconvert_exporter": "python",
   "pygments_lexer": "ipython3",
   "version": "3.5.3"
  }
 },
 "nbformat": 4,
 "nbformat_minor": 2
}
