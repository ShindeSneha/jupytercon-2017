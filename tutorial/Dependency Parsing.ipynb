{
 "cells": [
  {
   "cell_type": "markdown",
   "metadata": {},
   "source": [
    "### Overview\n",
    "* <a href=\"#section1\">What is a grammar, how does ambiguity emerge?</a>\n",
    "* <a href=\"#section2\">What is dependency grammar?</a>\n",
    "    * contrast with constituency/CFG\n",
    "    * mention the assumptions of DG, any issues there\n",
    "    * briefly mention the shift-reduce parsing method SpaCy uses\n",
    "* <a href=\"#section3\">why is it useful?</a>\n",
    "    * deal with languages with free word order\n",
    "        * phrase structure rules/constituency parsers explode with rules.\n",
    "        * eg NP -> ADJ NN and NN ADJ\n",
    "    * applications: \n",
    "        * chunking for information retrieval: \n",
    "            * which words modify the noun or verb?\n",
    "            * extract noun phrases, verb phrases, adjective phrases, and prepositional phrases\n",
    "            * see <a href=\"#relationextractor\">example</a>\n",
    "        * question answering \n",
    "        * semantic parsing        \n",
    "        * feature engineering for coreference resolution:\n",
    "            * When Bob goes to the movies [he] likes to buy popcorn with extra butter.          \n",
    "* <a href=\"#section4\"> Dependency Grammar with SpaCy:</a>\n",
    "    * Traversing paths\n",
    "    * Grabbing entities\n",
    "    * Exercise:\n",
    "        * extract all noun phrases from a sentence"
   ]
  },
  {
   "cell_type": "code",
   "execution_count": 11,
   "metadata": {},
   "outputs": [
    {
     "name": "stdout",
     "output_type": "stream",
     "text": [
      "Enabling notebook extension jupyter-js-widgets/extension...\r\n",
      "      - Validating: \u001b[32mOK\u001b[0m\r\n"
     ]
    },
    {
     "name": "stderr",
     "output_type": "stream",
     "text": [
      "/opt/conda/envs/python3/lib/python3.5/site-packages/ipykernel_launcher.py:8: UserWarning: Refresh notebook to reflect widget availability.\n",
      "  \n"
     ]
    }
   ],
   "source": [
    "from warnings import warn\n",
    "from IPython.display import HTML\n",
    "def from_scratch():\n",
    "    !pip install gensim >> ~/gensim.log\n",
    "    !pip install spacy >> ~/spacy.log\n",
    "    !python -m spacy download en >> ~/spacy.log\n",
    "    !jupyter nbextension enable --py --sys-prefix widgetsnbextension\n",
    "    warn(\"Refresh notebook to reflect widget availability.\")\n",
    "\n",
    "    \n",
    "from_scratch()"
   ]
  },
  {
   "cell_type": "code",
   "execution_count": 2,
   "metadata": {},
   "outputs": [
    {
     "data": {
      "text/html": [
       "\n",
       "<center>\n",
       "<h3> Syntax </h3>\n",
       "<br>\n",
       "<h5> Exchangeability within syntactic classes. </h5>\n",
       "<br>\n",
       "<br>\n",
       "<svg class=\"displacy\" width=\"950\" height=\"220\" viewBox=\"0 0 950 220\" preserveAspectRatio=\"xMinYMax meet\" data-format=\"spacy\" id=\"displacy-svg\" style=\"color: rgb(245, 244, 240); background: rgb(39, 40, 34); font-family: inherit;\">\n",
       "\n",
       "\t<text class=\"displacy-token\" fill=\"currentColor\" data-tag=\"PRP\" text-anchor=\"middle\" y=\"140\">\n",
       "\t\t<tspan class=\"displacy-word\" x=\"300\" fill=\"currentColor\" data-tag=\"PRP\">He</tspan>\n",
       "\n",
       "\t</text>\n",
       "\n",
       "\t<text class=\"displacy-token\" fill=\"currentColor\" data-tag=\"VBD\" text-anchor=\"middle\" y=\"140\">\n",
       "\t\t<tspan class=\"displacy-word\" x=\"340\" fill=\"currentColor\" data-tag=\"VBD\">went</tspan>\n",
       "\n",
       "\t</text>\n",
       "\t<text class=\"displacy-token\" fill=\"currentColor\" data-tag=\"VBD\" text-anchor=\"middle\" y=\"140\">\n",
       "\t\t<tspan class=\"displacy-word\" x=\"380\" fill=\"currentColor\" data-tag=\"VBD\">to</tspan>\n",
       "\n",
       "\t</text>\n",
       "\n",
       "\t\t<text class=\"displacy-token\" fill=\"currentColor\" data-tag=\"VBD\" text-anchor=\"middle\" y=\"140\">\n",
       "\t\t<tspan class=\"displacy-word\" x=\"420\" fill=\"currentColor\" data-tag=\"VBD\">the</tspan>\n",
       "\n",
       "\t</text>\n",
       "\n",
       "\t\t<text class=\"displacy-token\" fill=\"currentColor\" data-tag=\"VBD\" text-anchor=\"middle\" y=\"140\">\n",
       "\t\t<tspan class=\"displacy-word\" x=\"460\" fill=\"currentColor\" data-tag=\"VBD\">store.</tspan>\n",
       "\n",
       "\t</text>\n",
       "\n",
       "\n",
       "\n",
       "\n",
       "\t\t<text class=\"displacy-token\" fill=\"currentColor\" data-tag=\"VBD\" text-anchor=\"middle\" y=\"140\">\n",
       "\t\t<tspan class=\"displacy-word\" x=\"50\" fill=\"currentColor\" data-tag=\"VBD\">She</tspan>\n",
       "\t\t<tspan class=\"displacy-word\" x=\"50\" fill=\"currentColor\" dy=\"1em\" data-tag=\"VBD\">John</tspan>\n",
       "\t\t<tspan class=\"displacy-word\" x=\"50\" fill=\"currentColor\" dy=\"1em\" data-tag=\"VBD\">The man</tspan>\n",
       "\n",
       "\n",
       "\t</text>\n",
       "\n",
       "\n",
       "\n",
       "\n",
       "\n",
       "\n",
       "\t<g class=\"displacy-arrow\" data-dir=\"left\" data-label=\"nsubj\">\n",
       "\t\t<path class=\"displacy-arc\" d=\"M50,100 C150,0 300,0 300,100\" stroke-width=\"2px\" fill=\"none\" stroke=\"currentColor\" data-dir=\"left\" data-label=\"nsubj\" id=\"arrow-0\"></path>\n",
       "\t\t<text dy=\"1em\">\n",
       "\t\t\t<textPath class=\"displacy-label\" startOffset=\"50%\" fill=\"currentColor\" text-anchor=\"middle\" data-label=\"nsubj\" data-dir=\"left\" xmlns:xlink=\"http://www.w3.org/1999/xlink\" xlink:href=\"#arrow-0\">Exchangeable subjects</textPath>\n",
       "\t\t</text>\n",
       "\t\t<path class=\"displacy-arrowhead\" d=\"M300,102 L294,92 306,92\" fill=\"currentColor\" data-label=\"nsubj\" data-dir=\"left\"></path>\n",
       "\t</g>\n",
       "\n",
       "</svg>\n",
       "\n",
       "<br>\n",
       "<br>\n",
       "<h5>Compiling Syntactic Units</h5>\n",
       "<br>\n",
       "\n",
       "<style type=\"text/css\">\n",
       ".tg  {border-collapse:collapse;border-spacing:0;}\n",
       ".tg td{font-family:Arial, sans-serif;font-size:14px;padding:10px 5px;border-style:solid;border-width:1px;overflow:hidden;word-break:normal;}\n",
       ".tg th{font-family:Arial, sans-serif;font-size:14px;font-weight:normal;padding:10px 5px;border-style:solid;border-width:1px;overflow:hidden;word-break:normal;}\n",
       ".tg .tg-yw4l{vertical-align:top}\n",
       "</style>\n",
       "<table class=\"tg\">\n",
       "  <tr>\n",
       "    <th class=\"tg-yw4l\">The</th>\n",
       "    <th class=\"tg-yw4l\">man</th>\n",
       "    <th class=\"tg-yw4l\">went</th>\n",
       "    <th class=\"tg-yw4l\">to </th>\n",
       "    <th class=\"tg-yw4l\">the</th>\n",
       "    <th class=\"tg-yw4l\">store</th>\n",
       "  </tr>\n",
       "  <tr>\n",
       "    <td class=\"tg-yw4l\">determiner</td>\n",
       "    <td class=\"tg-yw4l\">simple subject</td>\n",
       "    <td class=\"tg-yw4l\">verb</td>\n",
       "    <td class=\"tg-yw4l\">preposition<br></td>\n",
       "    <td class=\"tg-yw4l\">determiner</td>\n",
       "    <td class=\"tg-yw4l\">object (of preposition)</td>\n",
       "  </tr>\n",
       "  <tr>\n",
       "    <td class=\"tg-yw4l\" colspan=\"2\">subject phrase</td>\n",
       "    <td class=\"tg-yw4l\"></td>\n",
       "    <td class=\"tg-yw4l\" colspan=\"3\">prepositional phrase</td>\n",
       "  </tr>\n",
       "  <tr>\n",
       "    <td class=\"tg-yw4l\" colspan=\"2\"></td>\n",
       "    <td class=\"tg-yw4l\" colspan=\"4\">verb phrase</td>\n",
       "  </tr>\n",
       "</table>\n",
       "</center>\n"
      ],
      "text/plain": [
       "<IPython.core.display.HTML object>"
      ]
     },
     "execution_count": 2,
     "metadata": {},
     "output_type": "execute_result"
    }
   ],
   "source": [
    "from static_html import syntax\n",
    "HTML(syntax)"
   ]
  },
  {
   "cell_type": "code",
   "execution_count": 3,
   "metadata": {},
   "outputs": [
    {
     "data": {
      "text/html": [
       "\n",
       "<center>\n",
       "<style>\n",
       "    .un {\n",
       "    background-color:'red';\n",
       "    }\n",
       "    .reach {\n",
       "    background-color:'green';\n",
       "    }\n",
       "    .able {\n",
       "    background-color:'blue';\n",
       "    }\n",
       "</style>\n",
       "<h3>Morphology</h3>\n",
       "<h5>'<span class='un'>Un</span><span class='reach'>reach</span><span class='able'>able</span>'</h5>\n",
       "<br>\n",
       "<table border=\"1\" class=\"dataframe\">\n",
       "<thead>\n",
       "    \n",
       "<tr style=\"text-align: right;\">\n",
       "<th></th>\n",
       "<th>Effect</th>\n",
       "<th>Morpheme</th>\n",
       "</tr>\n",
       "    <tr>\n",
       "      <th></th>\n",
       "      <th></th>\n",
       "      <th></th>\n",
       "    </tr>\n",
       "  </thead>\n",
       "  <tbody>\n",
       "    <tr>\n",
       "      <th>un</th>\n",
       "      <td>Negation</td>\n",
       "      <td>Prefix</td>\n",
       "    </tr>\n",
       "    <tr>\n",
       "      <th>reach</th>\n",
       "      <td>Verb</td>\n",
       "      <td>Root</td>\n",
       "    </tr>\n",
       "    <tr>\n",
       "      <th>able</th>\n",
       "      <td>To Adjective</td>\n",
       "      <td>Suffix</td>\n",
       "    </tr>\n",
       "  </tbody>\n",
       "</table>'\n",
       "</center>\n"
      ],
      "text/plain": [
       "<IPython.core.display.HTML object>"
      ]
     },
     "execution_count": 3,
     "metadata": {},
     "output_type": "execute_result"
    }
   ],
   "source": [
    "from static_html import morphology\n",
    "HTML(morphology)"
   ]
  },
  {
   "cell_type": "code",
   "execution_count": 4,
   "metadata": {},
   "outputs": [
    {
     "data": {
      "text/html": [
       "\n",
       "\n",
       "<center>\n",
       "<h3> The importance of Morphology and Syntax:</h3>\n",
       "<h5> Word order affects semantics:</h5>\n",
       "<br>\n",
       "\n",
       "<strong>Original sentence:</strong>\n",
       "<br>\n",
       "He did not like the movie, and told the cashier he wanted his money back.\n",
       "<br>\n",
       "<br>\n",
       "<strong>With mutated morpology and word order:</strong>\n",
       "<br>\n",
       "The cashier liked the movie, and told him he did not want his money back\n",
       "<br>\n",
       "<br>\n",
       "<br>\n",
       "<br>\n",
       "<br>\n",
       "<br>\n",
       "<h5> Sometimes only syntax can reveal meaning:</h5>\n",
       "<br>\n",
       "Who was wearing the pajamas?\n",
       "<br>\n",
       "\n",
       "\n",
       "<svg class=\"displacy\" width=\"1550\" height=\"320\" viewBox=\"0 0 1550 320\" preserveAspectRatio=\"xMinYMax meet\" data-format=\"spacy\" id=\"displacy-svg\" style=\"color: rgb(245, 244, 240); background: rgb(39, 40, 34); font-family: inherit;\">\n",
       "\n",
       "\t<text class=\"displacy-token\" fill=\"currentColor\" data-tag=\"DT\" text-anchor=\"middle\" y=\"240\">\n",
       "\t\t<tspan class=\"displacy-word\" x=\"150\" fill=\"currentColor\" data-tag=\"DT\">This\n",
       "\t\t</tspan>\n",
       "\n",
       "\t\t<tspan class=\"displacy-tag\" x=\"150\" dy=\"2em\" fill=\"currentColor\" data-tag=\"DT\">DT\n",
       "\t\t</tspan>\n",
       "\t</text>\n",
       "\n",
       "\t<text class=\"displacy-token\" fill=\"currentColor\" data-tag=\"NN\" text-anchor=\"middle\" y=\"240\">\n",
       "\t\t<tspan class=\"displacy-word\" x=\"350\" fill=\"currentColor\" data-tag=\"NN\">morning</tspan>\n",
       "\n",
       "\t\t<tspan class=\"displacy-tag\" x=\"350\" dy=\"2em\" fill=\"currentColor\" data-tag=\"NN\">NN</tspan>\n",
       "\n",
       "\t</text>\n",
       "\n",
       "\t<text class=\"displacy-token\" fill=\"currentColor\" data-tag=\"PRP\" text-anchor=\"middle\" y=\"240\">\n",
       "\n",
       "\t\t<tspan class=\"displacy-word\" x=\"550\" fill=\"currentColor\" data-tag=\"PRP\">I</tspan>\n",
       "\n",
       "\t\t<tspan class=\"displacy-tag\" x=\"550\" dy=\"2em\" fill=\"currentColor\" data-tag=\"PRP\">PRP</tspan>\n",
       "\n",
       "\t</text>\n",
       "\t<text class=\"displacy-token\" fill=\"currentColor\" data-tag=\"VBD\" text-anchor=\"middle\" y=\"240\">\n",
       "\t\t<tspan class=\"displacy-word\" x=\"750\" fill=\"currentColor\" data-tag=\"VBD\">shot</tspan>\n",
       "\n",
       "\t\t<tspan class=\"displacy-tag\" x=\"750\" dy=\"2em\" fill=\"currentColor\" data-tag=\"VBD\">VBD</tspan>\n",
       "\t</text>\n",
       "\n",
       "\t<text class=\"displacy-token\" fill=\"currentColor\" data-tag=\"NN\" text-anchor=\"middle\" y=\"240\">\n",
       "\t\t<tspan class=\"displacy-word\" x=\"950\" fill=\"currentColor\" data-tag=\"NN\">an elephant</tspan>\n",
       "\n",
       "\t\t<tspan class=\"displacy-tag\" x=\"950\" dy=\"2em\" fill=\"currentColor\" data-tag=\"NN\">NN</tspan>\n",
       "\t</text>\n",
       "\n",
       "\t<text class=\"displacy-token\" fill=\"currentColor\" data-tag=\"IN\" text-anchor=\"middle\" y=\"240\">\n",
       "\t\t<tspan class=\"displacy-word\" x=\"1150\" fill=\"currentColor\" data-tag=\"IN\">in</tspan>\n",
       "\n",
       "\t\t<tspan class=\"displacy-tag\" x=\"1150\" dy=\"2em\" fill=\"currentColor\" data-tag=\"IN\">IN</tspan>\n",
       "\t</text>\n",
       "\n",
       "\t<text class=\"displacy-token\" fill=\"currentColor\" data-tag=\"NNS\" text-anchor=\"middle\" y=\"240\">\n",
       "\t\t<tspan class=\"displacy-word\" x=\"1350\" fill=\"currentColor\" data-tag=\"NNS\">my pajamas</tspan>\n",
       "\n",
       "\t\t<tspan class=\"displacy-tag\" x=\"1350\" dy=\"2em\" fill=\"currentColor\" data-tag=\"NNS\">NNS</tspan></text><g class=\"displacy-arrow\" data-dir=\"left\" data-label=\"det\">\n",
       "\n",
       "<!--\n",
       "\t<path class=\"displacy-arc\" d=\"M152.5,200 C152.5,100 347.5,100 347.5,200\" stroke-width=\"2px\" fill=\"none\" stroke=\"currentColor\" data-dir=\"left\" data-label=\"det\" id=\"arrow-0\"></path>\n",
       "\t<text dy=\"1em\">\n",
       "\t<textPath class=\"displacy-label\" startOffset=\"50%\" fill=\"currentColor\" text-anchor=\"middle\" data-label=\"det\" data-dir=\"left\" xmlns:xlink=\"http://www.w3.org/1999/xlink\" xlink:href=\"#arrow-0\">det</textPath>\n",
       "\t</text>\n",
       "\t<path class=\"displacy-arrowhead\" d=\"M152.5,202 L146.5,192 158.5,192\" fill=\"currentColor\" data-label=\"det\" data-dir=\"left\"></path></g>\n",
       "\t<g class=\"displacy-arrow\" data-dir=\"left\" data-label=\"npadvmod\"><path class=\"displacy-arc\" d=\"M350,200 C350,0 750,0 750,200\" stroke-width=\"2px\" fill=\"none\" stroke=\"currentColor\" data-dir=\"left\" data-label=\"npadvmod\" id=\"arrow-1\"></path><text dy=\"1em\">\n",
       "\t<textPath class=\"displacy-label\" startOffset=\"50%\" fill=\"currentColor\" text-anchor=\"middle\" data-label=\"npadvmod\" data-dir=\"left\" xmlns:xlink=\"http://www.w3.org/1999/xlink\" xlink:href=\"#arrow-1\">npadvmod</textPath></text><path class=\"displacy-arrowhead\" d=\"M350,202 L344,192 356,192\" fill=\"currentColor\" data-label=\"npadvmod\" data-dir=\"left\"></path></g><g class=\"displacy-arrow\" data-dir=\"left\" data-label=\"nsubj\"><path class=\"displacy-arc\" d=\"M552.5,200 C552.5,100 747.5,100 747.5,200\" stroke-width=\"2px\" fill=\"none\" stroke=\"currentColor\" data-dir=\"left\" data-label=\"nsubj\" id=\"arrow-2\"></path><text dy=\"1em\"><textPath class=\"displacy-label\" startOffset=\"50%\" fill=\"currentColor\" text-anchor=\"middle\" data-label=\"nsubj\" data-dir=\"left\" xmlns:xlink=\"http://www.w3.org/1999/xlink\" xlink:href=\"#arrow-2\">nsubj</textPath></text>\n",
       "\t<path class=\"displacy-arrowhead\" d=\"M552.5,202 L546.5,192 558.5,192\" fill=\"currentColor\" data-label=\"nsubj\" data-dir=\"left\"></path></g>\n",
       "-->\n",
       "\t<g class=\"displacy-arrow\" data-dir=\"right\" data-label=\"dobj\"><path class=\"displacy-arc\" d=\"M752.5,200 C752.5,100 947.5,100 947.5,200\" stroke-width=\"2px\" fill=\"none\" stroke=\"currentColor\" data-dir=\"right\" data-label=\"dobj\" id=\"arrow-3\"></path><text dy=\"1em\"><textPath class=\"displacy-label\" startOffset=\"50%\" fill=\"currentColor\" text-anchor=\"middle\" data-label=\"dobj\" data-dir=\"right\" xmlns:xlink=\"http://www.w3.org/1999/xlink\" xlink:href=\"#arrow-3\">dobj</textPath></text><path class=\"displacy-arrowhead\" d=\"M947.5,202 L953.5,192 941.5,192\" fill=\"currentColor\" data-label=\"dobj\" data-dir=\"right\"></path></g><g class=\"displacy-arrow\" data-dir=\"right\" data-label=\"prep\"><path class=\"displacy-arc\" d=\"M750,200 C750,0 1150,0 1150,200\" stroke-width=\"2px\" fill=\"none\" stroke=\"currentColor\" data-dir=\"right\" data-label=\"prep\" id=\"arrow-4\"></path><text dy=\"1em\">\n",
       "\n",
       "\t<textPath class=\"displacy-label\" startOffset=\"50%\" fill=\"currentColor\" text-anchor=\"middle\" data-label=\"prep\" data-dir=\"right\" xmlns:xlink=\"http://www.w3.org/1999/xlink\" xlink:href=\"#arrow-4\">prep</textPath></text><path class=\"displacy-arrowhead\" d=\"M1150,202 L1156,192 1144,192\" fill=\"currentColor\" data-label=\"prep\" data-dir=\"right\"></path></g><g class=\"displacy-arrow\" data-dir=\"right\" data-label=\"pobj\"><path class=\"displacy-arc\" d=\"M1152.5,200 C1152.5,100 1347.5,100 1347.5,200\" stroke-width=\"2px\" fill=\"none\" stroke=\"currentColor\" data-dir=\"right\" data-label=\"pobj\" id=\"arrow-5\"></path><text dy=\"1em\"><textPath class=\"displacy-label\" startOffset=\"50%\" fill=\"currentColor\" text-anchor=\"middle\" data-label=\"pobj\" data-dir=\"right\" xmlns:xlink=\"http://www.w3.org/1999/xlink\" xlink:href=\"#arrow-5\">pobj</textPath></text><path class=\"displacy-arrowhead\" d=\"M1347.5,202 L1353.5,192 1341.5,192\" fill=\"currentColor\" data-label=\"pobj\" data-dir=\"right\"></path></g>\n",
       "\n",
       "\t</svg>\n",
       "\n",
       "<br>\n",
       "<br>\n",
       "\n",
       "<svg class=\"displacy\" width=\"1550\" height=\"320\" viewBox=\"0 0 1550 320\" preserveAspectRatio=\"xMinYMax meet\" data-format=\"spacy\" id=\"displacy-svg\" style=\"color: rgb(245, 244, 240); background: rgb(39, 40, 34); font-family: inherit;\">\n",
       "\n",
       "\t<text class=\"displacy-token\" fill=\"currentColor\" data-tag=\"DT\" text-anchor=\"middle\" y=\"240\">\n",
       "\t\t<tspan class=\"displacy-word\" x=\"150\" fill=\"currentColor\" data-tag=\"DT\">This\n",
       "\t\t</tspan>\n",
       "\n",
       "\t\t<tspan class=\"displacy-tag\" x=\"150\" dy=\"2em\" fill=\"currentColor\" data-tag=\"DT\">DT\n",
       "\t\t</tspan>\n",
       "\t</text>\n",
       "\n",
       "\t<text class=\"displacy-token\" fill=\"currentColor\" data-tag=\"NN\" text-anchor=\"middle\" y=\"240\">\n",
       "\t\t<tspan class=\"displacy-word\" x=\"350\" fill=\"currentColor\" data-tag=\"NN\">morning</tspan>\n",
       "\n",
       "\t\t<tspan class=\"displacy-tag\" x=\"350\" dy=\"2em\" fill=\"currentColor\" data-tag=\"NN\">NN</tspan>\n",
       "\n",
       "\t</text>\n",
       "\n",
       "\t<text class=\"displacy-token\" fill=\"currentColor\" data-tag=\"PRP\" text-anchor=\"middle\" y=\"240\">\n",
       "\n",
       "\t\t<tspan class=\"displacy-word\" x=\"550\" fill=\"currentColor\" data-tag=\"PRP\">I</tspan>\n",
       "\n",
       "\t\t<tspan class=\"displacy-tag\" x=\"550\" dy=\"2em\" fill=\"currentColor\" data-tag=\"PRP\">PRP</tspan>\n",
       "\n",
       "\t</text>\n",
       "\t<text class=\"displacy-token\" fill=\"currentColor\" data-tag=\"VBD\" text-anchor=\"middle\" y=\"240\">\n",
       "\t\t<tspan class=\"displacy-word\" x=\"750\" fill=\"currentColor\" data-tag=\"VBD\">shot</tspan>\n",
       "\n",
       "\t\t<tspan class=\"displacy-tag\" x=\"750\" dy=\"2em\" fill=\"currentColor\" data-tag=\"VBD\">VBD</tspan>\n",
       "\t</text>\n",
       "\n",
       "\t<text class=\"displacy-token\" fill=\"currentColor\" data-tag=\"NN\" text-anchor=\"middle\" y=\"240\">\n",
       "\t\t<tspan class=\"displacy-word\" x=\"950\" fill=\"currentColor\" data-tag=\"NN\">an elephant</tspan>\n",
       "\n",
       "\t\t<tspan class=\"displacy-tag\" x=\"950\" dy=\"2em\" fill=\"currentColor\" data-tag=\"NN\">NN</tspan>\n",
       "\t</text>\n",
       "\n",
       "\t<text class=\"displacy-token\" fill=\"currentColor\" data-tag=\"IN\" text-anchor=\"middle\" y=\"240\">\n",
       "\t\t<tspan class=\"displacy-word\" x=\"1150\" fill=\"currentColor\" data-tag=\"IN\">in</tspan>\n",
       "\n",
       "\t\t<tspan class=\"displacy-tag\" x=\"1150\" dy=\"2em\" fill=\"currentColor\" data-tag=\"IN\">IN</tspan>\n",
       "\t</text>\n",
       "\n",
       "\t<text class=\"displacy-token\" fill=\"currentColor\" data-tag=\"NNS\" text-anchor=\"middle\" y=\"240\">\n",
       "\t\t<tspan class=\"displacy-word\" x=\"1350\" fill=\"currentColor\" data-tag=\"NNS\">my pajamas</tspan>\n",
       "\n",
       "\t\t<tspan class=\"displacy-tag\" x=\"1350\" dy=\"2em\" fill=\"currentColor\" data-tag=\"NNS\">NNS</tspan></text><g class=\"displacy-arrow\" data-dir=\"left\" data-label=\"det\">\n",
       "\n",
       "<!--\n",
       "\t<path class=\"displacy-arc\" d=\"M152.5,200 C152.5,100 347.5,100 347.5,200\" stroke-width=\"2px\" fill=\"none\" stroke=\"currentColor\" data-dir=\"left\" data-label=\"det\" id=\"arrow-0\"></path>\n",
       "\t<text dy=\"1em\">\n",
       "\t<textPath class=\"displacy-label\" startOffset=\"50%\" fill=\"currentColor\" text-anchor=\"middle\" data-label=\"det\" data-dir=\"left\" xmlns:xlink=\"http://www.w3.org/1999/xlink\" xlink:href=\"#arrow-0\">det</textPath>\n",
       "\t</text>\n",
       "\t<path class=\"displacy-arrowhead\" d=\"M152.5,202 L146.5,192 158.5,192\" fill=\"currentColor\" data-label=\"det\" data-dir=\"left\"></path></g>\n",
       "\t<g class=\"displacy-arrow\" data-dir=\"left\" data-label=\"npadvmod\"><path class=\"displacy-arc\" d=\"M350,200 C350,0 750,0 750,200\" stroke-width=\"2px\" fill=\"none\" stroke=\"currentColor\" data-dir=\"left\" data-label=\"npadvmod\" id=\"arrow-1\"></path><text dy=\"1em\">\n",
       "\t<textPath class=\"displacy-label\" startOffset=\"50%\" fill=\"currentColor\" text-anchor=\"middle\" data-label=\"npadvmod\" data-dir=\"left\" xmlns:xlink=\"http://www.w3.org/1999/xlink\" xlink:href=\"#arrow-1\">npadvmod</textPath></text><path class=\"displacy-arrowhead\" d=\"M350,202 L344,192 356,192\" fill=\"currentColor\" data-label=\"npadvmod\" data-dir=\"left\"></path></g><g class=\"displacy-arrow\" data-dir=\"left\" data-label=\"nsubj\"><path class=\"displacy-arc\" d=\"M552.5,200 C552.5,100 747.5,100 747.5,200\" stroke-width=\"2px\" fill=\"none\" stroke=\"currentColor\" data-dir=\"left\" data-label=\"nsubj\" id=\"arrow-2\"></path><text dy=\"1em\"><textPath class=\"displacy-label\" startOffset=\"50%\" fill=\"currentColor\" text-anchor=\"middle\" data-label=\"nsubj\" data-dir=\"left\" xmlns:xlink=\"http://www.w3.org/1999/xlink\" xlink:href=\"#arrow-2\">nsubj</textPath></text>\n",
       "\t<path class=\"displacy-arrowhead\" d=\"M552.5,202 L546.5,192 558.5,192\" fill=\"currentColor\" data-label=\"nsubj\" data-dir=\"left\"></path></g>\n",
       "-->\n",
       "\t<g class=\"displacy-arrow\" data-dir=\"right\" data-label=\"dobj\"><path class=\"displacy-arc\" d=\"M752.5,200 C752.5,100 947.5,100 947.5,200\" stroke-width=\"2px\" fill=\"none\" stroke=\"currentColor\" data-dir=\"right\" data-label=\"dobj\" id=\"arrow-3\"></path><text dy=\"1em\"><textPath class=\"displacy-label\" startOffset=\"50%\" fill=\"currentColor\" text-anchor=\"middle\" data-label=\"dobj\" data-dir=\"right\" xmlns:xlink=\"http://www.w3.org/1999/xlink\" xlink:href=\"#arrow-3\">dobj</textPath></text><path class=\"displacy-arrowhead\" d=\"M947.5,202 L953.5,192 941.5,192\" fill=\"currentColor\" data-label=\"dobj\" data-dir=\"right\"></path></g><g class=\"displacy-arrow\" data-dir=\"right\" data-label=\"prep\"><path class=\"displacy-arc\" d=\"M947.5,200 C947.5,100 1150,100 1150,200\"   stroke-width=\"2px\" fill=\"none\" stroke=\"currentColor\" data-dir=\"right\" data-label=\"prep\" id=\"arrow-51\"></path><text dy=\"1em\">\n",
       "\n",
       "\t<textPath class=\"displacy-label\" startOffset=\"50%\" fill=\"currentColor\" text-anchor=\"middle\" data-label=\"prep\" data-dir=\"right\" xmlns:xlink=\"http://www.w3.org/1999/xlink\" xlink:href=\"#arrow-51\">prep</textPath>\n",
       "\n",
       "\n",
       "\n",
       "</text><path class=\"displacy-arrowhead\" d=\"M1150,202 L1156,192 1144,192\" fill=\"currentColor\" data-label=\"prep\" data-dir=\"right\"></path></g><g class=\"displacy-arrow\" data-dir=\"right\" data-label=\"pobj\"><path class=\"displacy-arc\" d=\"M1152.5,200 C1152.5,100 1347.5,100 1347.5,200\" stroke-width=\"2px\" fill=\"none\" stroke=\"currentColor\" data-dir=\"right\" data-label=\"pobj\" id=\"arrow-5\"></path><text dy=\"1em\"><textPath class=\"displacy-label\" startOffset=\"50%\" fill=\"currentColor\" text-anchor=\"middle\" data-label=\"pobj\" data-dir=\"right\" xmlns:xlink=\"http://www.w3.org/1999/xlink\" xlink:href=\"#arrow-5\">pobj</textPath></text><path class=\"displacy-arrowhead\" d=\"M1347.5,202 L1353.5,192 1341.5,192\" fill=\"currentColor\" data-label=\"pobj\" data-dir=\"right\"></path></g>\n",
       "\n",
       "\t</svg>\n",
       "\n"
      ],
      "text/plain": [
       "<IPython.core.display.HTML object>"
      ]
     },
     "execution_count": 4,
     "metadata": {},
     "output_type": "execute_result"
    }
   ],
   "source": [
    "from static_html import morph_and_syntax\n",
    "HTML(morph_and_syntax)"
   ]
  },
  {
   "cell_type": "markdown",
   "metadata": {},
   "source": [
    "# Models of Grammar"
   ]
  },
  {
   "cell_type": "code",
   "execution_count": 5,
   "metadata": {},
   "outputs": [
    {
     "data": {
      "text/html": [
       "\n",
       "<center>\n",
       "<h3>Valency Grammar:</h3></center>\n",
       "\n",
       "<br>\n",
       "<!-- HTML generated using hilite.me --><div style=\"background: #ffffff; overflow:auto;width:auto;border:solid gray;border-width:.1em .1em .1em .8em;padding:.2em .6em;\"><pre style=\"margin: 0; line-height: 125%\"><span style=\"color: #008800; font-weight: bold\">def</span> transitive_verb <span style=\"color: #333333\">(</span>subject<span style=\"color: #008800; font-weight: bold\">:</span> <span style=\"color: #333399; font-weight: bold\">noun</span><span style=\"color: #333333\">,</span> object<span style=\"color: #008800; font-weight: bold\">:</span> <span style=\"color: #333399; font-weight: bold\">noun</span><span style=\"color: #333333\">)</span><span style=\"color: #008800; font-weight: bold\">:</span> <span style=\"color: #333399; font-weight: bold\">verb_phrase</span>  <span style=\"color: #333333\">=</span> <span style=\"color: #333333\">{</span>\n",
       "\n",
       "    <span style=\"color: #333333\">...</span>\n",
       "<span style=\"color: #333333\">}</span>\n",
       "</pre></div>\n",
       "\n"
      ],
      "text/plain": [
       "<IPython.core.display.HTML object>"
      ]
     },
     "execution_count": 5,
     "metadata": {},
     "output_type": "execute_result"
    }
   ],
   "source": [
    "from static_html import valency\n",
    "HTML(valency)"
   ]
  },
  {
   "cell_type": "markdown",
   "metadata": {},
   "source": [
    "### Context Free Grammar, production rules"
   ]
  },
  {
   "cell_type": "markdown",
   "metadata": {},
   "source": [
    "|Root| |Components |\n",
    "|-----||---------------------------------------|\n",
    "| S   |$\\rightarrow$|NP VP                                 |\n",
    "| NP |$\\rightarrow$| Pron or PropN or Det Nom   |\n",
    "| VP  |$\\rightarrow$|V or V NP or V NP NN or V PP |\n",
    "| PP  |$\\rightarrow$|Prep NP                        |\n",
    "| etc |$\\rightarrow$|etc                                   |"
   ]
  },
  {
   "cell_type": "markdown",
   "metadata": {},
   "source": [
    "### Constituency and Dependency Grammars"
   ]
  },
  {
   "cell_type": "code",
   "execution_count": 123,
   "metadata": {},
   "outputs": [
    {
     "data": {
      "text/html": [
       "<img src=\"https://upload.wikimedia.org/wikipedia/commons/8/8e/Thistreeisillustratingtherelation%28PSG%29.png\"/>"
      ],
      "text/plain": [
       "<IPython.core.display.Image object>"
      ]
     },
     "execution_count": 123,
     "metadata": {},
     "output_type": "execute_result"
    }
   ],
   "source": [
    "from IPython.display import Image\n",
    "Image(url='https://upload.wikimedia.org/wikipedia/commons/8/8e/Thistreeisillustratingtherelation%28PSG%29.png')"
   ]
  },
  {
   "cell_type": "code",
   "execution_count": 121,
   "metadata": {},
   "outputs": [
    {
     "data": {
      "text/html": [
       "\n",
       "<center>\n",
       "<h3> Axioms of Dependency Grammar: </h3>\n",
       "<br>\n",
       "<h4>1) Each sentence has exactly one root.</h4>\n",
       "<br>\n",
       "<object data=\"assets/axiom1.svg\" type=\"image/svg+xml\">\n",
       "  <img src=\"assets/axiom1.jpg\" />\n",
       "</object>\n",
       "<br>\n",
       "<h4>2) Every word other than the root depends on another element.</h4>\n",
       "<br>\n",
       "<object data=\"assets/singlehead.svg\" type=\"image/svg+xml\">\n",
       "  <img src=\"assets/singlehead.jpg\" width = 50/>\n",
       "</object>\n",
       "<br>\n",
       "<h4>3) No word can depend on more than one element.</h4>\n",
       "<br>\n",
       "<object data=\"assets/non-multi-headed.svg\" type=\"image/svg+xml\">\n",
       "  <img src=\"assets/non-multi-headed.jpg\" width = 50/>\n",
       "</object>\n",
       "\n",
       "<br>\n",
       "<object data=\"assets/non-multi-headed-normative.svg\" type=\"image/svg+xml\">\n",
       "  <img src=\"assets/non-multi-headed-normative.jpg\" width = 50/>\n",
       "</object>\n",
       "<br>\n",
       "<h4>4) Dependencies do not cross each other (planar trees).</h4>\n",
       "<br>\n",
       "<object data=\"assets/planar-parse.svg\" type=\"image/svg+xml\">\n",
       "  <img src=\"assets/planar-parse.jpg\" width = 50/>\n",
       "</object>\n",
       "\n",
       "<br>\n",
       "<object data=\"assets/non-planar-parse.svg\" type=\"image/svg+xml\">\n",
       "  <img src=\"assets/non-planar-parse.jpg\" width = 50/>\n",
       "</object>\n",
       "\n",
       "</center>"
      ],
      "text/plain": [
       "<IPython.core.display.HTML object>"
      ]
     },
     "execution_count": 121,
     "metadata": {},
     "output_type": "execute_result"
    }
   ],
   "source": [
    "from static_html import dep_axioms\n",
    "HTML(dep_axioms)"
   ]
  },
  {
   "cell_type": "markdown",
   "metadata": {},
   "source": [
    "<a name=\"section3\"</a>\n",
    "### Applications of DG"
   ]
  },
  {
   "cell_type": "markdown",
   "metadata": {},
   "source": [
    "<a name=\"section4\"</a>\n",
    "### DG with SpaCy"
   ]
  },
  {
   "cell_type": "code",
   "execution_count": 2,
   "metadata": {
    "scrolled": false
   },
   "outputs": [
    {
     "data": {
      "text/html": [
       "\n",
       "<center>\n",
       "<h1>Accessing Dependents</h1>\n",
       "<br>\n",
       "\n",
       "<br>\n",
       "<h2>token.subtree</h2><br>\n",
       "\n",
       "<object data=\"assets/subtree.svg\" type=\"image/svg+xml\">\n",
       "  <img src=\"subtree.jpg\" width = 50/>\n",
       "</object>\n",
       "</center>\n",
       "\n",
       "<!-- HTML generated using hilite.me --><div style=\"background: #ffffff; overflow:auto;width:auto;border:solid gray;border-width:.1em .1em .1em .8em;padding:.2em .6em;\"><pre style=\"margin: 0; line-height: 125%\">doc <span style=\"color: #333333\">=</span> nlp(<span style=\"background-color: #fff0f0\">u&#39;Harry and little Sally like to eat&#39;</span>)\n",
       "<span style=\"color: #008800; font-weight: bold\">for</span> word <span style=\"color: #000000; font-weight: bold\">in</span> doc:\n",
       "    <span style=\"color: #008800; font-weight: bold\">if</span> word<span style=\"color: #333333\">.</span>dep_ <span style=\"color: #333333\">==</span> <span style=\"background-color: #fff0f0\">u&#39;conj&#39;</span>:\n",
       "        <span style=\"color: #008800; font-weight: bold\">print</span>(<span style=\"background-color: #fff0f0\">&#39; &#39;</span><span style=\"color: #333333\">.</span>join(w<span style=\"color: #333333\">.</span>text <span style=\"color: #008800; font-weight: bold\">for</span> w <span style=\"color: #000000; font-weight: bold\">in</span> word<span style=\"color: #333333\">.</span>subtree))\n",
       "</pre></div>\n",
       "\n",
       "<br>\n",
       "<br>\n",
       "\n",
       "\n",
       "\n",
       "<br>\n",
       "<br>\n",
       "<center>\n",
       "<h2>token.children</h2><br>\n",
       "\n",
       "<object data=\"assets/children.svg\" type=\"image/svg+xml\">\n",
       "  <img src=\"children.jpg\" width = 50/>\n",
       "</object>\n",
       "</center>\n",
       "<!-- HTML generated using hilite.me --><div style=\"background: #ffffff; overflow:auto;width:auto;border:solid gray;border-width:.1em .1em .1em .8em;padding:.2em .6em;\"><pre style=\"margin: 0; line-height: 125%\"><span style=\"color: #008800; font-weight: bold\">from</span> <span style=\"color: #0e84b5; font-weight: bold\">spacy.symbols</span> <span style=\"color: #008800; font-weight: bold\">import</span> nsubj, VERB\n",
       "\n",
       "<span style=\"color: #008800; font-weight: bold\">def</span> <span style=\"color: #0066BB; font-weight: bold\">get_subject_verb_pairs</span>(doc):\n",
       "    <span style=\"color: #008800; font-weight: bold\">for</span> word <span style=\"color: #000000; font-weight: bold\">in</span> doc:\n",
       "        <span style=\"color: #008800; font-weight: bold\">if</span> word<span style=\"color: #333333\">.</span>pos <span style=\"color: #333333\">==</span> VERB:\n",
       "            <span style=\"color: #008800; font-weight: bold\">for</span> child <span style=\"color: #000000; font-weight: bold\">in</span> word<span style=\"color: #333333\">.</span>children:\n",
       "                <span style=\"color: #008800; font-weight: bold\">if</span> child<span style=\"color: #333333\">.</span>dep <span style=\"color: #333333\">==</span> nsubj:\n",
       "                    <span style=\"color: #008800; font-weight: bold\">yield</span> ({<span style=\"background-color: #fff0f0\">&#39;subject&#39;</span>:child, <span style=\"background-color: #fff0f0\">&#39;verb&#39;</span>:word})\n",
       "</pre></div>\n",
       "<br>\n",
       "<br>\n",
       "\n",
       "\n",
       "\n",
       "\n",
       "\n",
       "<br>\n",
       "<br>\n",
       "<center>\n",
       "<h2>token.head</h2><br>\n",
       "\n",
       "<object data=\"assets/head.svg\" type=\"image/svg+xml\">\n",
       "  <img src=\"head.jpg\" width = 50/>\n",
       "</object>\n",
       "</center>\n",
       "<!-- HTML generated using hilite.me --><div style=\"background: #ffffff; overflow:auto;width:auto;border:solid gray;border-width:.1em .1em .1em .8em;padding:.2em .6em;\"><pre style=\"margin: 0; line-height: 125%\"><span style=\"color: #008800; font-weight: bold\">def</span> <span style=\"color: #0066BB; font-weight: bold\">degrees_from_root</span>(token):\n",
       "    <span style=\"color: #008800; font-weight: bold\">def</span> <span style=\"color: #0066BB; font-weight: bold\">recurse_token</span>(token, count):\n",
       "        <span style=\"color: #008800; font-weight: bold\">if</span> token<span style=\"color: #333333\">.</span>dep_ <span style=\"color: #333333\">==</span> <span style=\"background-color: #fff0f0\">&#39;ROOT&#39;</span>:\n",
       "            <span style=\"color: #008800; font-weight: bold\">return</span> count\n",
       "        <span style=\"color: #008800; font-weight: bold\">else</span>:\n",
       "            <span style=\"color: #008800; font-weight: bold\">return</span> recurse_token(token<span style=\"color: #333333\">.</span>head, count <span style=\"color: #333333\">+</span> <span style=\"color: #0000DD; font-weight: bold\">1</span>)\n",
       "    <span style=\"color: #008800; font-weight: bold\">return</span> recurse_token(token, <span style=\"color: #0000DD; font-weight: bold\">0</span>)\n",
       "</pre></div>\n",
       "\n",
       "\n",
       "<br>\n",
       "<br>\n",
       "\n",
       "\n",
       "\n",
       "\n",
       "\n",
       "\n",
       "\n",
       "\n",
       "\n",
       "\n",
       "\n",
       "<br>\n",
       "<br>\n",
       "<center>\n",
       "<h2>token.lefts and token.rights</h2><br>\n",
       "\n",
       "<object data=\"assets/lefts_and_rights.svg\" type=\"image/svg+xml\">\n",
       "  <img src=\"lefts_and_rights.jpg\" width = 50/>\n",
       "</object>\n",
       "</center>\n",
       "\n",
       "\n",
       "<br>\n",
       "<br>\n",
       "\n",
       "\n",
       "\n",
       "\n",
       "\n",
       "\n",
       "\n",
       "<br>\n",
       "<br>\n",
       "<center>\n",
       "<h2>token.left_edge and token.right_edge</h2><br>\n",
       "<object data=\"assets/edges.svg\" type=\"image/svg+xml\">\n",
       "  <img src=\"edges.jpg\" width = 50/>\n",
       "</object>\n",
       "</center>\n",
       "<!-- HTML generated using hilite.me --><div style=\"background: #ffffff; overflow:auto;width:auto;border:solid gray;border-width:.1em .1em .1em .8em;padding:.2em .6em;\"><pre style=\"margin: 0; line-height: 125%\"><span style=\"color: #008800; font-weight: bold\">def</span> <span style=\"color: #0066BB; font-weight: bold\">sub_span</span>(token):\n",
       "    <span style=\"color: #DD4422\">&quot;&quot;&quot;</span>\n",
       "<span style=\"color: #DD4422\">    Returns the span of tokens that span the bounds of a token&#39;s subtree</span>\n",
       "<span style=\"color: #DD4422\">    &quot;&quot;&quot;</span>\n",
       "    \n",
       "    left_idx, right_idx <span style=\"color: #333333\">=</span> token<span style=\"color: #333333\">.</span>left_edge<span style=\"color: #333333\">.</span>i, token<span style=\"color: #333333\">.</span>right_edge<span style=\"color: #333333\">.</span>i\n",
       "    <span style=\"color: #008800; font-weight: bold\">return</span> token<span style=\"color: #333333\">.</span>doc[left_idx:right_idx <span style=\"color: #333333\">+</span> <span style=\"color: #0000DD; font-weight: bold\">1</span>]\n",
       "</pre></div>\n",
       "\n",
       "\n",
       "\n",
       "\n",
       "\n",
       "\n",
       "\n",
       "<br>\n",
       "<br>\n",
       "<center>\n",
       "<h2>token.ancestors</h2><br>\n",
       "\n",
       "<object data=\"assets/ancestors.svg\" type=\"image/svg+xml\">\n",
       "  <img src=\"ancestors.jpg\" width = 50/>\n",
       "</object>\n",
       "</center>\n",
       "<br>\n",
       "<br>\n",
       "\n",
       "\n",
       "<br>\n",
       "<br>\n",
       "<center>\n",
       "<h2>token.nbor</h2><br>\n",
       "\n",
       "\n",
       "<object data=\"assets/nbor.svg\" type=\"image/svg+xml\">\n",
       "  <img src=\"nbor.jpg\" width = 50/>\n",
       "</object>\n",
       "</center>\n",
       "<!-- HTML generated using hilite.me --><div style=\"background: #ffffff; overflow:auto;width:auto;border:solid gray;border-width:.1em .1em .1em .8em;padding:.2em .6em;\"><pre style=\"margin: 0; line-height: 125%\"><span style=\"color: #008800; font-weight: bold\">def</span> <span style=\"color: #0066BB; font-weight: bold\">mergeHashTags</span>(doc):\n",
       "    <span style=\"color: #DD4422\">&quot;&quot;&quot;Merges a token with its previous neighbor if its previous neighbor is a hashtag.&quot;&quot;&quot;</span>\n",
       "    \n",
       "    tag_idx <span style=\"color: #333333\">=</span> []\n",
       "    <span style=\"color: #008800; font-weight: bold\">for</span> token <span style=\"color: #000000; font-weight: bold\">in</span> doc:\n",
       "        <span style=\"color: #008800; font-weight: bold\">if</span> token<span style=\"color: #333333\">.</span>i <span style=\"color: #333333\">&gt;</span> <span style=\"color: #0000DD; font-weight: bold\">0</span> <span style=\"color: #000000; font-weight: bold\">and</span> token<span style=\"color: #333333\">.</span>nbor(<span style=\"color: #333333\">-</span><span style=\"color: #0000DD; font-weight: bold\">1</span>)<span style=\"color: #333333\">.</span>text <span style=\"color: #333333\">==</span> <span style=\"background-color: #fff0f0\">&quot;#&quot;</span>:\n",
       "            <span style=\"color: #008800; font-weight: bold\">if</span> <span style=\"color: #000000; font-weight: bold\">not</span> token<span style=\"color: #333333\">.</span>nbor(<span style=\"color: #333333\">-</span><span style=\"color: #0000DD; font-weight: bold\">1</span>)<span style=\"color: #333333\">.</span>whitespace_:\n",
       "                tag_idx<span style=\"color: #333333\">.</span>append((token<span style=\"color: #333333\">.</span>i <span style=\"color: #333333\">-</span> <span style=\"color: #0000DD; font-weight: bold\">1</span>, token<span style=\"color: #333333\">.</span>i <span style=\"color: #333333\">+</span> <span style=\"color: #0000DD; font-weight: bold\">1</span>))\n",
       "            \n",
       "    <span style=\"color: #008800; font-weight: bold\">for</span> idx_pair <span style=\"color: #000000; font-weight: bold\">in</span> tag_idx:\n",
       "        doc[<span style=\"color: #007020\">slice</span>(<span style=\"color: #333333\">*</span>idx_pair)]<span style=\"color: #333333\">.</span>merge()\n",
       "</pre></div>\n",
       "\n",
       "\n",
       "<br>\n",
       "<br>\n",
       "\n",
       "\n",
       "<br>\n",
       "<br>\n",
       "<center>\n",
       "<h2>token.conjuncts</h2><br>\n",
       "\n",
       "<object data=\"assets/conjuncts.svg\" type=\"image/svg+xml\">\n",
       "  <img src=\"conjuncts.jpg\" width = 50/>\n",
       "</object>\n",
       "</center>\n",
       "<!-- HTML generated using hilite.me --><div style=\"background: #ffffff; overflow:auto;width:auto;border:solid gray;border-width:.1em .1em .1em .8em;padding:.2em .6em;\"><pre style=\"margin: 0; line-height: 125%\"><span style=\"color: #008800; font-weight: bold\">def</span> <span style=\"color: #0066BB; font-weight: bold\">get_conjuctive_phrases</span>(doc):\n",
       "    <span style=\"color: #DD4422\">&quot;&quot;&quot;</span>\n",
       "<span style=\"color: #DD4422\">    Looks for conjuncts, Uses the subspan function to convert the subtree to a span</span>\n",
       "<span style=\"color: #DD4422\">    &quot;&quot;&quot;</span>\n",
       "    <span style=\"color: #008800; font-weight: bold\">for</span> token <span style=\"color: #000000; font-weight: bold\">in</span> doc:\n",
       "        <span style=\"color: #008800; font-weight: bold\">for</span> conj <span style=\"color: #000000; font-weight: bold\">in</span> token<span style=\"color: #333333\">.</span>conjuncts:\n",
       "            <span style=\"color: #008800; font-weight: bold\">yield</span> sub_span(conj)\n",
       "</pre></div>\n",
       "\n",
       "<br>\n",
       "<br>\n",
       "\n",
       "\n",
       "</center>\n"
      ],
      "text/plain": [
       "<IPython.core.display.HTML object>"
      ]
     },
     "execution_count": 2,
     "metadata": {},
     "output_type": "execute_result"
    }
   ],
   "source": [
    "from IPython.display import HTML\n",
    "from static_html import accessing_dependents\n",
    "HTML(accessing_dependents)"
   ]
  },
  {
   "cell_type": "code",
   "execution_count": 79,
   "metadata": {},
   "outputs": [],
   "source": [
    "from IPython.display import HTML\n",
    "import urllib\n",
    "from IPython.display import IFrame\n",
    "html = \"\"\"\n",
    "<style>\n",
    "#wrapper {{ width: 710px; height: 1420px; padding: 0; overflow: hidden; }}\n",
    "#scaled-frame {{ width: 1000px; height: 2000px; border: 0px; }}\n",
    "#scaled-frame {{\n",
    "    zoom: 0.71;\n",
    "    -moz-transform: scale(0.71);\n",
    "    -moz-transform-origin: 0 0;\n",
    "    -o-transform: scale(0.71);\n",
    "    -o-transform-origin: 0 0;\n",
    "    -webkit-transform: scale(0.71);\n",
    "    -webkit-transform-origin: 0 0;\n",
    "}}\n",
    "\n",
    "@media screen and (-webkit-min-device-pixel-ratio:0) {{\n",
    " #scaled-frame  {{ zoom: 1;  }}\n",
    "}}\n",
    "</style>\n",
    "\n",
    "<div id=\"wrapper\" style=\"overflow: hidden; position: relative; left: -200px; width:1500px ;height: 300px\"><iframe id=\"scaled-frame\" src=\"{}/\"></iframe></div>\n",
    "\"\"\"\n",
    "\n",
    "def displacy(text):\n",
    "    body = {\"model\":'en', 'cpu':1, 'cph':1}\n",
    "    query_string = urllib.parse.urlencode(body)\n",
    "    url = \"https://demos.explosion.ai/displacy/?{0}&text={1}\"\n",
    "    url = url.format(query_string, text.replace(\" \", \"%20\"), )\n",
    "    code = html.format(url)\n",
    "\n",
    "    return HTML(code)"
   ]
  },
  {
   "cell_type": "code",
   "execution_count": 78,
   "metadata": {},
   "outputs": [
    {
     "data": {
      "text/html": [
       "\n",
       "<style>\n",
       "#wrapper { width: 710px; height: 1420px; padding: 0; overflow: hidden; }\n",
       "#scaled-frame { width: 1000px; height: 2000px; border: 0px; }\n",
       "#scaled-frame {\n",
       "    zoom: 0.71;\n",
       "    -moz-transform: scale(0.71);\n",
       "    -moz-transform-origin: 0 0;\n",
       "    -o-transform: scale(0.71);\n",
       "    -o-transform-origin: 0 0;\n",
       "    -webkit-transform: scale(0.71);\n",
       "    -webkit-transform-origin: 0 0;\n",
       "}\n",
       "\n",
       "@media screen and (-webkit-min-device-pixel-ratio:0) {\n",
       " #scaled-frame  { zoom: 1;  }\n",
       "}\n",
       "</style>\n",
       "\n",
       "<div id=\"wrapper\" style=\"overflow: hidden; position: relative; left: -200px; width:1500px ;height: 300px\"><iframe id=\"scaled-frame\" src=\"https://demos.explosion.ai/displacy/?cpu=1&cph=1&model=en&text=hey%20how%20are%20you/\"></iframe></div>\n"
      ],
      "text/plain": [
       "<IPython.core.display.HTML object>"
      ]
     },
     "execution_count": 78,
     "metadata": {},
     "output_type": "execute_result"
    }
   ],
   "source": [
    "displacy(\"hey how are you\")"
   ]
  },
  {
   "cell_type": "code",
   "execution_count": 81,
   "metadata": {
    "collapsed": true
   },
   "outputs": [],
   "source": [
    "import spacy\n",
    "nlp = spacy.load('en')\n"
   ]
  },
  {
   "cell_type": "code",
   "execution_count": null,
   "metadata": {
    "collapsed": true
   },
   "outputs": [],
   "source": []
  },
  {
   "cell_type": "markdown",
   "metadata": {},
   "source": [
    "## Appendix\n",
    "<a name=\"relationextractor\"></a>\n",
    "### Relation Extractor"
   ]
  },
  {
   "cell_type": "code",
   "execution_count": 112,
   "metadata": {},
   "outputs": [
    {
     "data": {
      "text/plain": [
       "[{'property': [cake], 'relation': eats, 'subject': man},\n",
       " {'property': [ice, cream], 'relation': eats, 'subject': woman}]"
      ]
     },
     "execution_count": 112,
     "metadata": {},
     "output_type": "execute_result"
    }
   ],
   "source": [
    "def has_subject_and_attribute(verb):\n",
    "    children_depencies =list(map(lambda i: i.dep_, verb.children))\n",
    "    return 'nsubj' in children_depencies and any(i in children_depencies for i in ('attr','acomp','dobj'))\n",
    "def is_verb(token):\n",
    "    return token.pos_ == 'VERB'\n",
    "def extract_simple_relations(sentence):\n",
    "    relations = []\n",
    "    for VERB in filter(is_verb,sentence):\n",
    "        if has_subject_and_attribute(VERB):\n",
    "            #property_attribute = []\n",
    "            for child in VERB.children:\n",
    "                if child.dep_ == 'nsubj':\n",
    "                    SUBJECT = child\n",
    "                if child.dep_ in ('attr','acomp','dobj','pobj','prep'):\n",
    "                    PROPERTY = list(child.subtree)\n",
    "                    \n",
    "            relation = {'subject':SUBJECT,'property':PROPERTY,'relation':VERB}\n",
    "            relations.append(relation)\n",
    "    return relations\n",
    "\n",
    "doc = nlp('The man eats cake, but the woman eats ice cream.')\n",
    "extract_relations(doc)"
   ]
  },
  {
   "cell_type": "code",
   "execution_count": 113,
   "metadata": {},
   "outputs": [
    {
     "data": {
      "text/plain": [
       "[{'property': [a, camera], 'relation': bought, 'subject': He}]"
      ]
     },
     "execution_count": 113,
     "metadata": {},
     "output_type": "execute_result"
    }
   ],
   "source": [
    "extract_simple_relations(nlp('He bought a camera, but could not figure out how to use it'))"
   ]
  },
  {
   "cell_type": "code",
   "execution_count": 116,
   "metadata": {},
   "outputs": [
    {
     "data": {
      "text/plain": [
       "[{'property': [very, smooth, and, flavorful],\n",
       "  'relation': is,\n",
       "  'subject': coffee},\n",
       " {'property': [more, as, gifts, and, more, for, myself],\n",
       "  'relation': buying,\n",
       "  'subject': I},\n",
       " {'property': [this, company], 'relation': like, 'subject': I},\n",
       " {'property': [what, other, flavors], 'relation': check, 'subject': I},\n",
       " {'property': [a, chance, on, this, coffee], 'relation': took, 'subject': I}]"
      ]
     },
     "execution_count": 116,
     "metadata": {},
     "output_type": "execute_result"
    }
   ],
   "source": [
    "text = \"\"\"\n",
    "This coffee is very smooth and flavorful. \n",
    "I will be buying more as gifts and more for myself. \n",
    "I like this company and will be seeing what other flavors I can check out. \n",
    "So glad I took a chance on this coffee.\n",
    "\"\"\"\n",
    "extract_simple_relations(nlp(text))"
   ]
  },
  {
   "cell_type": "code",
   "execution_count": null,
   "metadata": {
    "collapsed": true
   },
   "outputs": [],
   "source": []
  }
 ],
 "metadata": {
  "kernelspec": {
   "display_name": "Python 3",
   "language": "python",
   "name": "python3"
  },
  "language_info": {
   "codemirror_mode": {
    "name": "ipython",
    "version": 3
   },
   "file_extension": ".py",
   "mimetype": "text/x-python",
   "name": "python",
   "nbconvert_exporter": "python",
   "pygments_lexer": "ipython3",
   "version": "3.5.3"
  }
 },
 "nbformat": 4,
 "nbformat_minor": 2
}
