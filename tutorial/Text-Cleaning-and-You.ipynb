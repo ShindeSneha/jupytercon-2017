{
 "cells": [
  {
   "cell_type": "markdown",
   "metadata": {
    "_datascience": {}
   },
   "source": [
    "### Fair Warning:\n",
    "\n",
    "* I will show you cool things, in random order\n",
    "* I am very very biased toward the English language"
   ]
  },
  {
   "cell_type": "markdown",
   "metadata": {
    "_datascience": {}
   },
   "source": [
    "### Word Tokenization and Sentence Segmentation: What is a lexical unit?\n",
    "\n",
    "What is a word? [Dictionary entries + alternate word forms]\n",
    "\n",
    "### Basic, Deterministic Approach:\n",
    "* words: split on white space\n",
    "* sentences: split on punctuation\n",
    "\n",
    "#### Regex Examples:\n",
    "\n",
    "Regex | Matches | Example\n",
    "--- | --- \n",
    "Jupyter | Instances of \"Jupyter\" | Welcome to **Jupyter**Con 2017!\n",
    "[JCe] |  Single instances of the characters of \"J\", \"C\", \"e\" | W**e**lcom**e** to **J**upyt**e**r**C**on 2017! \n",
    "[A-Z] | Any single capital letter. | **W**elcome to **J**upyter**C**on 2017!\n"
   ]
  },
  {
   "cell_type": "markdown",
   "metadata": {
    "_datascience": {}
   },
   "source": [
    "### Build a Regex Preview\n",
    "* Regex Box\n",
    "* Pattern Box\n",
    "* Results"
   ]
  },
  {
   "cell_type": "code",
   "execution_count": null,
   "metadata": {
    "_datascience": {},
    "collapsed": true
   },
   "outputs": [],
   "source": [
    "#%matplotlib notebook\n",
    "from ipywidgets import Button, Text\n",
    "from IPython.display import display\n",
    "from IPython.display import clear_output\n",
    "\n",
    "class RegexFinder(object):\n",
    "    def __init__(self):\n",
    "        \n",
    "        self.text_box = Text\n",
    "        self.display_Jupyter = Button(description=\"Jupyter\")\n",
    "        self.display_Jupyter.on_click(self.return_callable(m1))\n",
    "        \n",
    "        self.display_JCe = Button(description=\"Jce\")\n",
    "        self.display_JCe.on_click(self.return_callable(m2))        \n",
    "        \n",
    "        display(Markdown(regex_table()))\n",
    "        display(self.display_Jupyter)\n",
    "        display(self.display_JCe)\n",
    "        \n",
    "    def regex_table():\n",
    "        return \"\"\"\n",
    "Regex | Matches | Example\n",
    "--- | --- \n",
    "Jupyter | Instances of \"Jupyter\" | {0}\n",
    "[JCe] |  Single instances of the characters of \"J\", \"C\", \"e\" | {1}\n",
    "[A-Z] | Any single capital letter. | {2}\n",
    "        \"\"\".format(m1.text, m2.text, m3.text)        \n",
    "        \n",
    "    def on_button_clicked(self, b, m=None):\n",
    "        clear_output()\n",
    "        m.toggle()\n",
    "        display(Markdown(regex_table()))\n",
    "        \n",
    "    def return_callable(self, m):\n",
    "        return partial(self.on_button_clicked, m=m)\n"
   ]
  },
  {
   "cell_type": "code",
   "execution_count": 131,
   "metadata": {
    "_datascience": {},
    "collapsed": false
   },
   "outputs": [
    {
     "name": "stdout",
     "output_type": "stream",
     "text": [
      "sudo: pip3: command not found\r\n"
     ]
    }
   ],
   "source": [
    "# from ipywidgets import Layout\n",
    "!sudo pip3 install ipywidget"
   ]
  },
  {
   "cell_type": "code",
   "execution_count": 128,
   "metadata": {
    "_datascience": {},
    "collapsed": false
   },
   "outputs": [
    {
     "data": {
      "text/markdown": [
       "\n",
       "Regex | Matches | Example\n",
       "--- | --- \n",
       "Jupyter | Instances of \"Jupyter\" | Welcome to JupyterCon 2017!\n",
       "[JCe] |  Single instances of the characters of \"J\", \"C\", \"e\" | Welcome to JupyterCon 2017!\n",
       "[A-Z] | Any single capital letter. | Welcome to JupyterCon 2017!\n",
       "    "
      ],
      "text/plain": [
       "<IPython.core.display.Markdown object>"
      ]
     },
     "metadata": {},
     "output_type": "display_data"
    }
   ],
   "source": [
    "\n",
    "%matplotlib notebook\n",
    "from ipywidgets import Button, Text\n",
    "from IPython.display import display\n",
    "from IPython.display import clear_output\n",
    "import matplotlib.pyplot as plt\n",
    "\n",
    "class ToggleValue(object):\n",
    "    def __init__(self, value):\n",
    "        self.on = False\n",
    "        self.value = value\n",
    "        \n",
    "        \n",
    "    @property\n",
    "    def text(self):\n",
    "        if self.on:\n",
    "            return str(self.value)\n",
    "        else:\n",
    "            return str(self.value).replace(\"*\",\"\")\n",
    "        \n",
    "    def toggle(self):\n",
    "        self.on = not self.on\n",
    "        \n",
    "m1 = ToggleValue(\"Welcome to **Jupyter**Con 2017!\")\n",
    "m2 = ToggleValue(\"W**e**lcom**e** to **J**upyt**e**r**C**on 2017!\")\n",
    "m3 = ToggleValue(\"**W**elcome to **J**upyter**C**on 2017!\")\n",
    "\n",
    "from IPython.display import Markdown\n",
    "from IPython.display import clear_output\n",
    "from functools import partial\n",
    "\n",
    "class TextApp(object):\n",
    "    def __init__(self):\n",
    "        \n",
    "        \n",
    "        #self.display_Jupyter.on_click(self.on_button_clicked)\n",
    "        self.display_Jupyter = Button(description=\"Jupyter\")\n",
    "        self.display_Jupyter.on_click(self.return_callable(m1))\n",
    "        \n",
    "        self.display_JCe = Button(description=\"Jce\")\n",
    "        self.display_JCe.on_click(self.return_callable(m2))        \n",
    "        \n",
    "        display(Markdown(regex_table()))\n",
    "        display(self.display_Jupyter)\n",
    "        display(self.display_JCe)\n",
    "        \n",
    "    def regex_table():\n",
    "        return \"\"\"\n",
    "Regex | Matches | Example\n",
    "--- | --- \n",
    "Jupyter | Instances of \"Jupyter\" | {0}\n",
    "[JCe] |  Single instances of the characters of \"J\", \"C\", \"e\" | {1}\n",
    "[A-Z] | Any single capital letter. | {2}\n",
    "        \"\"\".format(m1.text, m2.text, m3.text)        \n",
    "        \n",
    "    def on_button_clicked(self, b, m=None):\n",
    "        clear_output()\n",
    "        m.toggle()\n",
    "        display(Markdown(regex_table()))\n",
    "        \n",
    "    def return_callable(self, m):\n",
    "        return partial(self.on_button_clicked, m=m)\n",
    "\n",
    "app = TextApp()"
   ]
  },
  {
   "cell_type": "code",
   "execution_count": 114,
   "metadata": {
    "_datascience": {},
    "collapsed": false
   },
   "outputs": [
    {
     "data": {
      "text/markdown": [
       "\n",
       "Regex | Matches | Example\n",
       "--- | --- \n",
       "Jupyter | Instances of \"Jupyter\" | Welcome to **Jupyter**Con 2017!\n",
       "[JCe] |  Single instances of the characters of \"J\", \"C\", \"e\" | \n",
       "[A-Z] | Any single capital letter. | \n",
       "    "
      ],
      "text/plain": [
       "<IPython.core.display.Markdown object>"
      ]
     },
     "metadata": {},
     "output_type": "display_data"
    }
   ],
   "source": [
    "display(Markdown(regex_table()))\n",
    "a = 1"
   ]
  },
  {
   "cell_type": "code",
   "execution_count": 103,
   "metadata": {
    "_datascience": {},
    "collapsed": false
   },
   "outputs": [
    {
     "data": {
      "text/markdown": [
       "\n",
       "Markdown | \"Less\" | Pretty\n",
       "--- | --- | ---\n",
       "*Still* | `renders` | **nicely**\n",
       "1 | 2 | 3"
      ],
      "text/plain": [
       "<IPython.core.display.Markdown object>"
      ]
     },
     "execution_count": 103,
     "metadata": {},
     "output_type": "execute_result"
    }
   ],
   "source": [
    "z = \"\"\"\n",
    "Markdown | \"Less\" | Pretty\n",
    "--- | --- | ---\n",
    "*Still* | `renders` | **nicely**\n",
    "1 | 2 | 3\"\"\"\n",
    "Markdown(z)"
   ]
  },
  {
   "cell_type": "code",
   "execution_count": 97,
   "metadata": {
    "_datascience": {},
    "collapsed": false
   },
   "outputs": [
    {
     "data": {
      "text/markdown": [
       "h | m | f \n",
       "\n",
       "\n",
       "--- | --- | ---"
      ],
      "text/plain": [
       "<IPython.core.display.Markdown object>"
      ]
     },
     "execution_count": 97,
     "metadata": {},
     "output_type": "execute_result"
    }
   ],
   "source": [
    "Markdown(\"\"\"h | m | f \n",
    "\n",
    "--- | --- | ---\"\"\")"
   ]
  },
  {
   "cell_type": "markdown",
   "metadata": {
    "_datascience": {}
   },
   "source": [
    "### Exercise: Use regex to list of sentences, where each sentence is a list of words"
   ]
  },
  {
   "cell_type": "code",
   "execution_count": 10,
   "metadata": {
    "_datascience": {},
    "collapsed": false,
    "scrolled": false
   },
   "outputs": [
    {
     "name": "stdout",
     "output_type": "stream",
     "text": [
      "Avram Noam Chomsky (US: /æˈvrɑːm ˈnoʊm ˈtʃɒmski/ a-VRAHM nohm CHOM-skee; born December 7, 1928) is an American linguist, philosopher, cognitive scientist, historian, social critic, and political activist. Sometimes described as \"the father of modern linguistics\", Chomsky is also a major figure in analytic philosophy and one of the founders of the field of cognitive science. He is Institute Professor Emeritus at the Massachusetts Institute of Technology (MIT), where he has worked since 1955, and is the author of over 100 books on topics such as linguistics, war, politics, and mass media. Ideologically, he aligns with anarcho-syndicalism and libertarian socialism.\n"
     ]
    }
   ],
   "source": [
    "!sudo pip3 install wikipedia >> pip-wiki.txt\n",
    "import wikipedia\n",
    "wiki = wikipedia.WikipediaPage('Noam Chomsky')\n",
    "intro_paragraph = wiki.content.split('\\n')[0]\n",
    "print(intro_paragraph)"
   ]
  },
  {
   "cell_type": "code",
   "execution_count": 47,
   "metadata": {
    "_datascience": {},
    "collapsed": false
   },
   "outputs": [
    {
     "name": "stdout",
     "output_type": "stream",
     "text": [
      "Avram\n",
      "Noam\n",
      "Chomsky\n",
      "(US:\n",
      "/æˈvrɑːm\n",
      "ˈnoʊm\n",
      "ˈtʃɒmski/\n",
      "a-VRAHM\n",
      "nohm\n",
      "CHOM-skee;\n",
      "born\n",
      "December\n",
      "7,\n",
      "1928)\n",
      "is\n",
      "an\n",
      "American\n",
      "linguist,\n",
      "philosopher,\n",
      "cognitive\n",
      "scientist,\n",
      "historian,\n",
      "social\n",
      "critic,\n",
      "and\n",
      "political\n",
      "activist\n"
     ]
    }
   ],
   "source": [
    "import re\n",
    "\n",
    "def sent_segmenter(doc):\n",
    "    sent_pattern = re.compile('[\\.\\?\\!]')\n",
    "    for sent in sent_pattern.split(doc):\n",
    "        yield sent\n",
    "        \n",
    "        \n",
    "def word_segmenter(sent):\n",
    "    word_pattern = re.compile('[\\s]')\n",
    "    for word in word_pattern.split(sent):\n",
    "        yield word\n",
    "        \n",
    "        \n",
    "sentences = sent_segmenter(intro_paragraph)\n",
    "for word in word_segmenter(next(sentences)):\n",
    "    print(word)"
   ]
  },
  {
   "cell_type": "markdown",
   "metadata": {
    "_datascience": {}
   },
   "source": [
    "Failures of Deterministic Approach:\n",
    "* \"Dr. White saw a patient.\" is one sentence, not two.\n",
    "* (US: ...) is probably best tokenized as \"(\", \"US\", \":\", ... I.e we missed other forms of punctuation."
   ]
  },
  {
   "cell_type": "code",
   "execution_count": 38,
   "metadata": {
    "_datascience": {},
    "collapsed": false
   },
   "outputs": [
    {
     "name": "stdout",
     "output_type": "stream",
     "text": [
      "\n",
      "\u001b[93m    Warning: no model found for 'en'\u001b[0m\n",
      "\n",
      "    Only loading the 'en' tokenizer.\n",
      "\n",
      "Avram\n",
      "Noam\n",
      "Chomsky\n",
      "(\n",
      "US\n",
      ":\n",
      "/æˈvrɑːm\n",
      "ˈnoʊm\n",
      "ˈtʃɒmski/\n",
      "a\n",
      "-\n",
      "VRAHM\n",
      "nohm\n",
      "CHOM\n",
      "-\n",
      "skee\n",
      ";\n",
      "born\n",
      "December\n",
      "7\n",
      ",\n",
      "1928\n",
      ")\n",
      "is\n",
      "an\n",
      "American\n",
      "linguist\n",
      ",\n",
      "philosopher\n",
      ",\n",
      "cognitive\n",
      "scientist\n",
      ",\n",
      "historian\n",
      ",\n",
      "social\n",
      "critic\n",
      ",\n",
      "and\n",
      "political\n",
      "activist\n",
      ".\n",
      "Sometimes\n",
      "described\n",
      "as\n",
      "\"\n",
      "the\n",
      "father\n",
      "of\n",
      "modern\n",
      "linguistics\n",
      "\"\n",
      ",\n",
      "Chomsky\n",
      "is\n",
      "also\n",
      "a\n",
      "major\n",
      "figure\n",
      "in\n",
      "analytic\n",
      "philosophy\n",
      "and\n",
      "one\n",
      "of\n",
      "the\n",
      "founders\n",
      "of\n",
      "the\n",
      "field\n",
      "of\n",
      "cognitive\n",
      "science\n",
      ".\n",
      "He\n",
      "is\n",
      "Institute\n",
      "Professor\n",
      "Emeritus\n",
      "at\n",
      "the\n",
      "Massachusetts\n",
      "Institute\n",
      "of\n",
      "Technology\n",
      "(\n",
      "MIT\n",
      ")\n",
      ",\n",
      "where\n",
      "he\n",
      "has\n",
      "worked\n",
      "since\n",
      "1955\n",
      ",\n",
      "and\n",
      "is\n",
      "the\n",
      "author\n",
      "of\n",
      "over\n",
      "100\n",
      "books\n",
      "on\n",
      "topics\n",
      "such\n",
      "as\n",
      "linguistics\n",
      ",\n",
      "war\n",
      ",\n",
      "politics\n",
      ",\n",
      "and\n",
      "mass\n",
      "media\n",
      ".\n",
      "Ideologically\n",
      ",\n",
      "he\n",
      "aligns\n",
      "with\n",
      "anarcho\n",
      "-\n",
      "syndicalism\n",
      "and\n",
      "libertarian\n",
      "socialism\n",
      ".\n"
     ]
    }
   ],
   "source": [
    "nlp = spacy.load('en')\n",
    "\n",
    "for word in nlp(intro_paragraph):\n",
    "    print(word)"
   ]
  },
  {
   "cell_type": "code",
   "execution_count": 35,
   "metadata": {
    "_datascience": {},
    "collapsed": false
   },
   "outputs": [
    {
     "name": "stdout",
     "output_type": "stream",
     "text": [
      "Avram\n",
      "Noam\n",
      "Chomsky\n",
      "(US:\n",
      "/æˈvrɑːm\n",
      "ˈnoʊm\n",
      "ˈtʃɒmski/\n",
      "a-VRAHM\n",
      "nohm\n",
      "CHOM-skee;\n",
      "born\n",
      "December\n",
      "7,\n",
      "1928)\n",
      "is\n",
      "an\n",
      "American\n",
      "linguist,\n",
      "philosopher,\n",
      "cognitive\n",
      "scientist,\n",
      "historian,\n",
      "social\n",
      "critic,\n",
      "and\n",
      "political\n",
      "activist\n",
      "\n",
      "Sometimes\n",
      "described\n",
      "as\n",
      "\"the\n",
      "father\n",
      "of\n",
      "modern\n",
      "linguistics\",\n",
      "Chomsky\n",
      "is\n",
      "also\n",
      "a\n",
      "major\n",
      "figure\n",
      "in\n",
      "analytic\n",
      "philosophy\n",
      "and\n",
      "one\n",
      "of\n",
      "the\n",
      "founders\n",
      "of\n",
      "the\n",
      "field\n",
      "of\n",
      "cognitive\n",
      "science\n",
      "\n",
      "He\n",
      "is\n",
      "Institute\n",
      "Professor\n",
      "Emeritus\n",
      "at\n",
      "the\n",
      "Massachusetts\n",
      "Institute\n",
      "of\n",
      "Technology\n",
      "(MIT),\n",
      "where\n",
      "he\n",
      "has\n",
      "worked\n",
      "since\n",
      "1955,\n",
      "and\n",
      "is\n",
      "the\n",
      "author\n",
      "of\n",
      "over\n",
      "100\n",
      "books\n",
      "on\n",
      "topics\n",
      "such\n",
      "as\n",
      "linguistics,\n",
      "war,\n",
      "politics,\n",
      "and\n",
      "mass\n",
      "media\n",
      "\n",
      "Ideologically,\n",
      "he\n",
      "aligns\n",
      "with\n",
      "anarcho-syndicalism\n",
      "and\n",
      "libertarian\n",
      "socialism\n",
      "\n"
     ]
    }
   ],
   "source": []
  },
  {
   "cell_type": "code",
   "execution_count": 20,
   "metadata": {
    "_datascience": {},
    "collapsed": false
   },
   "outputs": [],
   "source": [
    "tweet = \"\"\"\n",
    "We shouldn't be looking for heroes, we should be looking for good ideas.” \n",
    "― Noam Chomsky\n",
    "@allenmichael89 #NoamChomsky #Literature\n",
    "\"\"\""
   ]
  },
  {
   "cell_type": "code",
   "execution_count": 28,
   "metadata": {
    "_datascience": {},
    "collapsed": false,
    "scrolled": false
   },
   "outputs": [],
   "source": [
    "import spacy"
   ]
  },
  {
   "cell_type": "code",
   "execution_count": null,
   "metadata": {
    "_datascience": {},
    "collapsed": true
   },
   "outputs": [],
   "source": []
  },
  {
   "cell_type": "code",
   "execution_count": null,
   "metadata": {
    "_datascience": {},
    "collapsed": true
   },
   "outputs": [],
   "source": []
  }
 ],
 "metadata": {
  "_datascience": {},
  "kernelspec": {
   "display_name": "Python 3",
   "language": "python",
   "name": "python3"
  },
  "language_info": {
   "codemirror_mode": {
    "name": "ipython",
    "version": 3
   },
   "file_extension": ".py",
   "mimetype": "text/x-python",
   "name": "python",
   "nbconvert_exporter": "python",
   "pygments_lexer": "ipython3",
   "version": "3.4.3"
  }
 },
 "nbformat": 4,
 "nbformat_minor": 0
}
