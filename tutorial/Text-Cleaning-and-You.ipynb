{
 "cells": [
  {
   "cell_type": "markdown",
   "metadata": {
    "_datascience": {}
   },
   "source": [
    "### Errata:\n",
    "\n",
    "* I will show you cool things, in random order\n",
    "* I am very very biased toward the English language\n",
    "* May need to run for ipywidgets\n",
    "    * ```jupyter nbextension enable --py widgetsnbextension```"
   ]
  },
  {
   "cell_type": "markdown",
   "metadata": {},
   "source": [
    "### Topics Covered: \n",
    "* Discuss challenges with tokenization\n",
    "* Refresher/Intro to Regex\n",
    "* Demo using ipywidgets\n",
    "\n",
    "\n",
    "### Execises:\n",
    "* Write a regex for proper nouns as best you can.\n",
    "* Write a regex tokenizer, and ipywidget that shows results"
   ]
  },
  {
   "cell_type": "markdown",
   "metadata": {
    "_datascience": {}
   },
   "source": [
    "# Word Tokenization and Sentence Segmentation\n",
    "\n",
    "What is a word? [Dictionary entries + alternate word forms]\n",
    "\n",
    "### Basic, Deterministic Approach:\n",
    "* words: split on white space\n",
    "* sentences: split on punctuation\n",
    "\n",
    "#### Regex Examples:\n",
    "\n",
    "Regex | Matches | Example\n",
    "--- | --- \n",
    "Jupyter | Instances of \"Jupyter\" | Welcome to **Jupyter**Con 2017!\n",
    "[JCe] |  Single instances of the characters of \"J\", \"C\", \"e\" | W**e**lcom**e** to **J**upyt**e**r**C**on 2017! \n",
    "[A-Z] | Any single capital letter. | **W**elcome to **J**upyter**C**on 2017!\n",
    "[\\w]+ | Any sequence of alphanumeric characters | **Welcome** **to** **JupyterCon** **2017**!\n",
    "^Welcome | \"Welcome\" that occurs at beginning of line. | **Welcome** to JupyterCon 2017!\n",
    "[^A-Za-z0-9] | Anything that is not a character or number | Welcome to JupyterCon**?**\n",
    "2017!? | \"2017\", and optionally followed by one instance of \"!\"  | Welcome to JupyterCon **2017!**\n",
    "[ ?] | Instances of \"?\" or \" \". | Welcome** **to** **JupyterCon 2017**?**\n",
    "[\\\\[] | Instances of \"[\" | Welcome to JupyterCon **[**2017]\n"
   ]
  },
  {
   "cell_type": "markdown",
   "metadata": {
    "_datascience": {}
   },
   "source": [
    "### Build a Regex Preview\n",
    "* Regex Box\n",
    "* Pattern Box\n",
    "* Results"
   ]
  },
  {
   "cell_type": "code",
   "execution_count": 1,
   "metadata": {
    "_datascience": {}
   },
   "outputs": [
    {
     "data": {
      "text/markdown": [
       "<b style='color:blue;'><u></u></b>W<b style='color:blue;'><u></u></b>e<b style='color:blue;'><u></u></b>l<b style='color:blue;'><u></u></b>c<b style='color:blue;'><u></u></b>o<b style='color:blue;'><u></u></b>m<b style='color:blue;'><u></u></b>e<b style='color:blue;'><u></u></b> <b style='color:blue;'><u></u></b>t<b style='color:blue;'><u></u></b>o<b style='color:blue;'><u></u></b> <b style='color:blue;'><u></u></b>J<b style='color:blue;'><u></u></b>u<b style='color:blue;'><u></u></b>p<b style='color:blue;'><u></u></b>y<b style='color:blue;'><u></u></b>t<b style='color:blue;'><u></u></b>e<b style='color:blue;'><u></u></b>r<b style='color:blue;'><u></u></b>C<b style='color:blue;'><u></u></b>o<b style='color:blue;'><u></u></b>n<b style='color:blue;'><u></u></b> <b style='color:blue;'><u></u></b>2<b style='color:blue;'><u></u></b>0<b style='color:blue;'><u></u></b>1<b style='color:blue;'><u></u></b>7<b style='color:blue;'><u></u></b>!<b style='color:blue;'><u></u></b>"
      ],
      "text/plain": [
       "<IPython.core.display.Markdown object>"
      ]
     },
     "metadata": {},
     "output_type": "display_data"
    }
   ],
   "source": [
    "#%matplotlib notebook\n",
    "from ipywidgets import Button, Textarea, Layout, Box, Label\n",
    "from IPython.display import display, Markdown, clear_output\n",
    "import re\n",
    "import sys\n",
    "\n",
    "class RegexFinder(object):\n",
    "    def __init__(self, init_text=\"\", init_pattern=\"\"):\n",
    "        \n",
    "        \n",
    "        self.text_field = Textarea(init_text, layout=Layout(height='100px'))\n",
    "        self.pattern_field = Textarea(init_pattern, layout=Layout(height='20px'))\n",
    "        self.text_box = Box([Label(value='Text Box'), self.text_field])\n",
    "        self.pattern_box = Box([Label(value='Pattern Box'), self.pattern_field])\n",
    "        \n",
    "        self.match_button = Button(description='Match Pattern', )\n",
    "        self.match_button.on_click(self.match_pattern)\n",
    "        \n",
    "        display(self.text_box)\n",
    "        display(self.pattern_box)\n",
    "        display(self.match_button)\n",
    "        self.match_pattern(None)\n",
    "        \n",
    "    @property\n",
    "    def pattern(self):\n",
    "        return re.compile(self.pattern_field.value)\n",
    "    \n",
    "    @property\n",
    "    def text(self):\n",
    "        return self.text_field.value    \n",
    "    \n",
    "    def match_pattern(self, b):\n",
    "        clear_output()\n",
    "        try:\n",
    "            result = self.format_match_markdown(self.text, self.pattern)\n",
    "        except:\n",
    "            print(\"Issue with regex pattern: {}\".format(sys.exc_info()[1]))\n",
    "            result = self.text\n",
    "        display(Markdown(result))\n",
    "        \n",
    "    def format_match_markdown(self, text, pattern):\n",
    "\n",
    "        new_string = \"\"\n",
    "        last = 0\n",
    "\n",
    "        for i in pattern.finditer(text):\n",
    "            start, stop = i.span()\n",
    "            new_string += text[last:start] + \"<b style='color:blue;'><u>\" + text[start:stop] +  \"</u></b>\"\n",
    "            last = stop\n",
    "\n",
    "        new_string += text[last:]\n",
    "        return new_string\n",
    "        \n",
    "    \n",
    "    \n",
    "r = RegexFinder(init_text=\"Welcome to JupyterCon 2017!\")"
   ]
  },
  {
   "cell_type": "markdown",
   "metadata": {
    "_datascience": {}
   },
   "source": [
    "### Exercise: Match all proper nouns"
   ]
  },
  {
   "cell_type": "code",
   "execution_count": 11,
   "metadata": {
    "_datascience": {},
    "scrolled": false
   },
   "outputs": [
    {
     "data": {
      "text/markdown": [
       "<b style='color:blue;'><u></u></b>A<b style='color:blue;'><u></u></b>v<b style='color:blue;'><u></u></b>r<b style='color:blue;'><u></u></b>a<b style='color:blue;'><u></u></b>m<b style='color:blue;'><u></u></b> <b style='color:blue;'><u></u></b>N<b style='color:blue;'><u></u></b>o<b style='color:blue;'><u></u></b>a<b style='color:blue;'><u></u></b>m<b style='color:blue;'><u></u></b> <b style='color:blue;'><u></u></b>C<b style='color:blue;'><u></u></b>h<b style='color:blue;'><u></u></b>o<b style='color:blue;'><u></u></b>m<b style='color:blue;'><u></u></b>s<b style='color:blue;'><u></u></b>k<b style='color:blue;'><u></u></b>y<b style='color:blue;'><u></u></b> <b style='color:blue;'><u></u></b>(<b style='color:blue;'><u></u></b>U<b style='color:blue;'><u></u></b>S<b style='color:blue;'><u></u></b>:<b style='color:blue;'><u></u></b> <b style='color:blue;'><u></u></b>/<b style='color:blue;'><u></u></b>æ<b style='color:blue;'><u></u></b>ˈ<b style='color:blue;'><u></u></b>v<b style='color:blue;'><u></u></b>r<b style='color:blue;'><u></u></b>ɑ<b style='color:blue;'><u></u></b>ː<b style='color:blue;'><u></u></b>m<b style='color:blue;'><u></u></b> <b style='color:blue;'><u></u></b>ˈ<b style='color:blue;'><u></u></b>n<b style='color:blue;'><u></u></b>o<b style='color:blue;'><u></u></b>ʊ<b style='color:blue;'><u></u></b>m<b style='color:blue;'><u></u></b> <b style='color:blue;'><u></u></b>ˈ<b style='color:blue;'><u></u></b>t<b style='color:blue;'><u></u></b>ʃ<b style='color:blue;'><u></u></b>ɒ<b style='color:blue;'><u></u></b>m<b style='color:blue;'><u></u></b>s<b style='color:blue;'><u></u></b>k<b style='color:blue;'><u></u></b>i<b style='color:blue;'><u></u></b>/<b style='color:blue;'><u></u></b> <b style='color:blue;'><u></u></b>a<b style='color:blue;'><u></u></b>-<b style='color:blue;'><u></u></b>V<b style='color:blue;'><u></u></b>R<b style='color:blue;'><u></u></b>A<b style='color:blue;'><u></u></b>H<b style='color:blue;'><u></u></b>M<b style='color:blue;'><u></u></b> <b style='color:blue;'><u></u></b>n<b style='color:blue;'><u></u></b>o<b style='color:blue;'><u></u></b>h<b style='color:blue;'><u></u></b>m<b style='color:blue;'><u></u></b> <b style='color:blue;'><u></u></b>C<b style='color:blue;'><u></u></b>H<b style='color:blue;'><u></u></b>O<b style='color:blue;'><u></u></b>M<b style='color:blue;'><u></u></b>-<b style='color:blue;'><u></u></b>s<b style='color:blue;'><u></u></b>k<b style='color:blue;'><u></u></b>e<b style='color:blue;'><u></u></b>e<b style='color:blue;'><u></u></b>;<b style='color:blue;'><u></u></b> <b style='color:blue;'><u></u></b>b<b style='color:blue;'><u></u></b>o<b style='color:blue;'><u></u></b>r<b style='color:blue;'><u></u></b>n<b style='color:blue;'><u></u></b> <b style='color:blue;'><u></u></b>D<b style='color:blue;'><u></u></b>e<b style='color:blue;'><u></u></b>c<b style='color:blue;'><u></u></b>e<b style='color:blue;'><u></u></b>m<b style='color:blue;'><u></u></b>b<b style='color:blue;'><u></u></b>e<b style='color:blue;'><u></u></b>r<b style='color:blue;'><u></u></b> <b style='color:blue;'><u></u></b>7<b style='color:blue;'><u></u></b>,<b style='color:blue;'><u></u></b> <b style='color:blue;'><u></u></b>1<b style='color:blue;'><u></u></b>9<b style='color:blue;'><u></u></b>2<b style='color:blue;'><u></u></b>8<b style='color:blue;'><u></u></b>)<b style='color:blue;'><u></u></b> <b style='color:blue;'><u></u></b>i<b style='color:blue;'><u></u></b>s<b style='color:blue;'><u></u></b> <b style='color:blue;'><u></u></b>a<b style='color:blue;'><u></u></b>n<b style='color:blue;'><u></u></b> <b style='color:blue;'><u></u></b>A<b style='color:blue;'><u></u></b>m<b style='color:blue;'><u></u></b>e<b style='color:blue;'><u></u></b>r<b style='color:blue;'><u></u></b>i<b style='color:blue;'><u></u></b>c<b style='color:blue;'><u></u></b>a<b style='color:blue;'><u></u></b>n<b style='color:blue;'><u></u></b> <b style='color:blue;'><u></u></b>l<b style='color:blue;'><u></u></b>i<b style='color:blue;'><u></u></b>n<b style='color:blue;'><u></u></b>g<b style='color:blue;'><u></u></b>u<b style='color:blue;'><u></u></b>i<b style='color:blue;'><u></u></b>s<b style='color:blue;'><u></u></b>t<b style='color:blue;'><u></u></b>,<b style='color:blue;'><u></u></b> <b style='color:blue;'><u></u></b>p<b style='color:blue;'><u></u></b>h<b style='color:blue;'><u></u></b>i<b style='color:blue;'><u></u></b>l<b style='color:blue;'><u></u></b>o<b style='color:blue;'><u></u></b>s<b style='color:blue;'><u></u></b>o<b style='color:blue;'><u></u></b>p<b style='color:blue;'><u></u></b>h<b style='color:blue;'><u></u></b>e<b style='color:blue;'><u></u></b>r<b style='color:blue;'><u></u></b>,<b style='color:blue;'><u></u></b> <b style='color:blue;'><u></u></b>c<b style='color:blue;'><u></u></b>o<b style='color:blue;'><u></u></b>g<b style='color:blue;'><u></u></b>n<b style='color:blue;'><u></u></b>i<b style='color:blue;'><u></u></b>t<b style='color:blue;'><u></u></b>i<b style='color:blue;'><u></u></b>v<b style='color:blue;'><u></u></b>e<b style='color:blue;'><u></u></b> <b style='color:blue;'><u></u></b>s<b style='color:blue;'><u></u></b>c<b style='color:blue;'><u></u></b>i<b style='color:blue;'><u></u></b>e<b style='color:blue;'><u></u></b>n<b style='color:blue;'><u></u></b>t<b style='color:blue;'><u></u></b>i<b style='color:blue;'><u></u></b>s<b style='color:blue;'><u></u></b>t<b style='color:blue;'><u></u></b>,<b style='color:blue;'><u></u></b> <b style='color:blue;'><u></u></b>h<b style='color:blue;'><u></u></b>i<b style='color:blue;'><u></u></b>s<b style='color:blue;'><u></u></b>t<b style='color:blue;'><u></u></b>o<b style='color:blue;'><u></u></b>r<b style='color:blue;'><u></u></b>i<b style='color:blue;'><u></u></b>a<b style='color:blue;'><u></u></b>n<b style='color:blue;'><u></u></b>,<b style='color:blue;'><u></u></b> <b style='color:blue;'><u></u></b>s<b style='color:blue;'><u></u></b>o<b style='color:blue;'><u></u></b>c<b style='color:blue;'><u></u></b>i<b style='color:blue;'><u></u></b>a<b style='color:blue;'><u></u></b>l<b style='color:blue;'><u></u></b> <b style='color:blue;'><u></u></b>c<b style='color:blue;'><u></u></b>r<b style='color:blue;'><u></u></b>i<b style='color:blue;'><u></u></b>t<b style='color:blue;'><u></u></b>i<b style='color:blue;'><u></u></b>c<b style='color:blue;'><u></u></b>,<b style='color:blue;'><u></u></b> <b style='color:blue;'><u></u></b>a<b style='color:blue;'><u></u></b>n<b style='color:blue;'><u></u></b>d<b style='color:blue;'><u></u></b> <b style='color:blue;'><u></u></b>p<b style='color:blue;'><u></u></b>o<b style='color:blue;'><u></u></b>l<b style='color:blue;'><u></u></b>i<b style='color:blue;'><u></u></b>t<b style='color:blue;'><u></u></b>i<b style='color:blue;'><u></u></b>c<b style='color:blue;'><u></u></b>a<b style='color:blue;'><u></u></b>l<b style='color:blue;'><u></u></b> <b style='color:blue;'><u></u></b>a<b style='color:blue;'><u></u></b>c<b style='color:blue;'><u></u></b>t<b style='color:blue;'><u></u></b>i<b style='color:blue;'><u></u></b>v<b style='color:blue;'><u></u></b>i<b style='color:blue;'><u></u></b>s<b style='color:blue;'><u></u></b>t<b style='color:blue;'><u></u></b>.<b style='color:blue;'><u></u></b> <b style='color:blue;'><u></u></b>S<b style='color:blue;'><u></u></b>o<b style='color:blue;'><u></u></b>m<b style='color:blue;'><u></u></b>e<b style='color:blue;'><u></u></b>t<b style='color:blue;'><u></u></b>i<b style='color:blue;'><u></u></b>m<b style='color:blue;'><u></u></b>e<b style='color:blue;'><u></u></b>s<b style='color:blue;'><u></u></b> <b style='color:blue;'><u></u></b>d<b style='color:blue;'><u></u></b>e<b style='color:blue;'><u></u></b>s<b style='color:blue;'><u></u></b>c<b style='color:blue;'><u></u></b>r<b style='color:blue;'><u></u></b>i<b style='color:blue;'><u></u></b>b<b style='color:blue;'><u></u></b>e<b style='color:blue;'><u></u></b>d<b style='color:blue;'><u></u></b> <b style='color:blue;'><u></u></b>a<b style='color:blue;'><u></u></b>s<b style='color:blue;'><u></u></b> <b style='color:blue;'><u></u></b>\"<b style='color:blue;'><u></u></b>t<b style='color:blue;'><u></u></b>h<b style='color:blue;'><u></u></b>e<b style='color:blue;'><u></u></b> <b style='color:blue;'><u></u></b>f<b style='color:blue;'><u></u></b>a<b style='color:blue;'><u></u></b>t<b style='color:blue;'><u></u></b>h<b style='color:blue;'><u></u></b>e<b style='color:blue;'><u></u></b>r<b style='color:blue;'><u></u></b> <b style='color:blue;'><u></u></b>o<b style='color:blue;'><u></u></b>f<b style='color:blue;'><u></u></b> <b style='color:blue;'><u></u></b>m<b style='color:blue;'><u></u></b>o<b style='color:blue;'><u></u></b>d<b style='color:blue;'><u></u></b>e<b style='color:blue;'><u></u></b>r<b style='color:blue;'><u></u></b>n<b style='color:blue;'><u></u></b> <b style='color:blue;'><u></u></b>l<b style='color:blue;'><u></u></b>i<b style='color:blue;'><u></u></b>n<b style='color:blue;'><u></u></b>g<b style='color:blue;'><u></u></b>u<b style='color:blue;'><u></u></b>i<b style='color:blue;'><u></u></b>s<b style='color:blue;'><u></u></b>t<b style='color:blue;'><u></u></b>i<b style='color:blue;'><u></u></b>c<b style='color:blue;'><u></u></b>s<b style='color:blue;'><u></u></b>\"<b style='color:blue;'><u></u></b>,<b style='color:blue;'><u></u></b> <b style='color:blue;'><u></u></b>C<b style='color:blue;'><u></u></b>h<b style='color:blue;'><u></u></b>o<b style='color:blue;'><u></u></b>m<b style='color:blue;'><u></u></b>s<b style='color:blue;'><u></u></b>k<b style='color:blue;'><u></u></b>y<b style='color:blue;'><u></u></b> <b style='color:blue;'><u></u></b>i<b style='color:blue;'><u></u></b>s<b style='color:blue;'><u></u></b> <b style='color:blue;'><u></u></b>a<b style='color:blue;'><u></u></b>l<b style='color:blue;'><u></u></b>s<b style='color:blue;'><u></u></b>o<b style='color:blue;'><u></u></b> <b style='color:blue;'><u></u></b>a<b style='color:blue;'><u></u></b> <b style='color:blue;'><u></u></b>m<b style='color:blue;'><u></u></b>a<b style='color:blue;'><u></u></b>j<b style='color:blue;'><u></u></b>o<b style='color:blue;'><u></u></b>r<b style='color:blue;'><u></u></b> <b style='color:blue;'><u></u></b>f<b style='color:blue;'><u></u></b>i<b style='color:blue;'><u></u></b>g<b style='color:blue;'><u></u></b>u<b style='color:blue;'><u></u></b>r<b style='color:blue;'><u></u></b>e<b style='color:blue;'><u></u></b> <b style='color:blue;'><u></u></b>i<b style='color:blue;'><u></u></b>n<b style='color:blue;'><u></u></b> <b style='color:blue;'><u></u></b>a<b style='color:blue;'><u></u></b>n<b style='color:blue;'><u></u></b>a<b style='color:blue;'><u></u></b>l<b style='color:blue;'><u></u></b>y<b style='color:blue;'><u></u></b>t<b style='color:blue;'><u></u></b>i<b style='color:blue;'><u></u></b>c<b style='color:blue;'><u></u></b> <b style='color:blue;'><u></u></b>p<b style='color:blue;'><u></u></b>h<b style='color:blue;'><u></u></b>i<b style='color:blue;'><u></u></b>l<b style='color:blue;'><u></u></b>o<b style='color:blue;'><u></u></b>s<b style='color:blue;'><u></u></b>o<b style='color:blue;'><u></u></b>p<b style='color:blue;'><u></u></b>h<b style='color:blue;'><u></u></b>y<b style='color:blue;'><u></u></b> <b style='color:blue;'><u></u></b>a<b style='color:blue;'><u></u></b>n<b style='color:blue;'><u></u></b>d<b style='color:blue;'><u></u></b> <b style='color:blue;'><u></u></b>o<b style='color:blue;'><u></u></b>n<b style='color:blue;'><u></u></b>e<b style='color:blue;'><u></u></b> <b style='color:blue;'><u></u></b>o<b style='color:blue;'><u></u></b>f<b style='color:blue;'><u></u></b> <b style='color:blue;'><u></u></b>t<b style='color:blue;'><u></u></b>h<b style='color:blue;'><u></u></b>e<b style='color:blue;'><u></u></b> <b style='color:blue;'><u></u></b>f<b style='color:blue;'><u></u></b>o<b style='color:blue;'><u></u></b>u<b style='color:blue;'><u></u></b>n<b style='color:blue;'><u></u></b>d<b style='color:blue;'><u></u></b>e<b style='color:blue;'><u></u></b>r<b style='color:blue;'><u></u></b>s<b style='color:blue;'><u></u></b> <b style='color:blue;'><u></u></b>o<b style='color:blue;'><u></u></b>f<b style='color:blue;'><u></u></b> <b style='color:blue;'><u></u></b>t<b style='color:blue;'><u></u></b>h<b style='color:blue;'><u></u></b>e<b style='color:blue;'><u></u></b> <b style='color:blue;'><u></u></b>f<b style='color:blue;'><u></u></b>i<b style='color:blue;'><u></u></b>e<b style='color:blue;'><u></u></b>l<b style='color:blue;'><u></u></b>d<b style='color:blue;'><u></u></b> <b style='color:blue;'><u></u></b>o<b style='color:blue;'><u></u></b>f<b style='color:blue;'><u></u></b> <b style='color:blue;'><u></u></b>c<b style='color:blue;'><u></u></b>o<b style='color:blue;'><u></u></b>g<b style='color:blue;'><u></u></b>n<b style='color:blue;'><u></u></b>i<b style='color:blue;'><u></u></b>t<b style='color:blue;'><u></u></b>i<b style='color:blue;'><u></u></b>v<b style='color:blue;'><u></u></b>e<b style='color:blue;'><u></u></b> <b style='color:blue;'><u></u></b>s<b style='color:blue;'><u></u></b>c<b style='color:blue;'><u></u></b>i<b style='color:blue;'><u></u></b>e<b style='color:blue;'><u></u></b>n<b style='color:blue;'><u></u></b>c<b style='color:blue;'><u></u></b>e<b style='color:blue;'><u></u></b>.<b style='color:blue;'><u></u></b> <b style='color:blue;'><u></u></b>H<b style='color:blue;'><u></u></b>e<b style='color:blue;'><u></u></b> <b style='color:blue;'><u></u></b>i<b style='color:blue;'><u></u></b>s<b style='color:blue;'><u></u></b> <b style='color:blue;'><u></u></b>I<b style='color:blue;'><u></u></b>n<b style='color:blue;'><u></u></b>s<b style='color:blue;'><u></u></b>t<b style='color:blue;'><u></u></b>i<b style='color:blue;'><u></u></b>t<b style='color:blue;'><u></u></b>u<b style='color:blue;'><u></u></b>t<b style='color:blue;'><u></u></b>e<b style='color:blue;'><u></u></b> <b style='color:blue;'><u></u></b>P<b style='color:blue;'><u></u></b>r<b style='color:blue;'><u></u></b>o<b style='color:blue;'><u></u></b>f<b style='color:blue;'><u></u></b>e<b style='color:blue;'><u></u></b>s<b style='color:blue;'><u></u></b>s<b style='color:blue;'><u></u></b>o<b style='color:blue;'><u></u></b>r<b style='color:blue;'><u></u></b> <b style='color:blue;'><u></u></b>E<b style='color:blue;'><u></u></b>m<b style='color:blue;'><u></u></b>e<b style='color:blue;'><u></u></b>r<b style='color:blue;'><u></u></b>i<b style='color:blue;'><u></u></b>t<b style='color:blue;'><u></u></b>u<b style='color:blue;'><u></u></b>s<b style='color:blue;'><u></u></b> <b style='color:blue;'><u></u></b>a<b style='color:blue;'><u></u></b>t<b style='color:blue;'><u></u></b> <b style='color:blue;'><u></u></b>t<b style='color:blue;'><u></u></b>h<b style='color:blue;'><u></u></b>e<b style='color:blue;'><u></u></b> <b style='color:blue;'><u></u></b>M<b style='color:blue;'><u></u></b>a<b style='color:blue;'><u></u></b>s<b style='color:blue;'><u></u></b>s<b style='color:blue;'><u></u></b>a<b style='color:blue;'><u></u></b>c<b style='color:blue;'><u></u></b>h<b style='color:blue;'><u></u></b>u<b style='color:blue;'><u></u></b>s<b style='color:blue;'><u></u></b>e<b style='color:blue;'><u></u></b>t<b style='color:blue;'><u></u></b>t<b style='color:blue;'><u></u></b>s<b style='color:blue;'><u></u></b> <b style='color:blue;'><u></u></b>I<b style='color:blue;'><u></u></b>n<b style='color:blue;'><u></u></b>s<b style='color:blue;'><u></u></b>t<b style='color:blue;'><u></u></b>i<b style='color:blue;'><u></u></b>t<b style='color:blue;'><u></u></b>u<b style='color:blue;'><u></u></b>t<b style='color:blue;'><u></u></b>e<b style='color:blue;'><u></u></b> <b style='color:blue;'><u></u></b>o<b style='color:blue;'><u></u></b>f<b style='color:blue;'><u></u></b> <b style='color:blue;'><u></u></b>T<b style='color:blue;'><u></u></b>e<b style='color:blue;'><u></u></b>c<b style='color:blue;'><u></u></b>h<b style='color:blue;'><u></u></b>n<b style='color:blue;'><u></u></b>o<b style='color:blue;'><u></u></b>l<b style='color:blue;'><u></u></b>o<b style='color:blue;'><u></u></b>g<b style='color:blue;'><u></u></b>y<b style='color:blue;'><u></u></b> <b style='color:blue;'><u></u></b>(<b style='color:blue;'><u></u></b>M<b style='color:blue;'><u></u></b>I<b style='color:blue;'><u></u></b>T<b style='color:blue;'><u></u></b>)<b style='color:blue;'><u></u></b>,<b style='color:blue;'><u></u></b> <b style='color:blue;'><u></u></b>w<b style='color:blue;'><u></u></b>h<b style='color:blue;'><u></u></b>e<b style='color:blue;'><u></u></b>r<b style='color:blue;'><u></u></b>e<b style='color:blue;'><u></u></b> <b style='color:blue;'><u></u></b>h<b style='color:blue;'><u></u></b>e<b style='color:blue;'><u></u></b> <b style='color:blue;'><u></u></b>h<b style='color:blue;'><u></u></b>a<b style='color:blue;'><u></u></b>s<b style='color:blue;'><u></u></b> <b style='color:blue;'><u></u></b>w<b style='color:blue;'><u></u></b>o<b style='color:blue;'><u></u></b>r<b style='color:blue;'><u></u></b>k<b style='color:blue;'><u></u></b>e<b style='color:blue;'><u></u></b>d<b style='color:blue;'><u></u></b> <b style='color:blue;'><u></u></b>s<b style='color:blue;'><u></u></b>i<b style='color:blue;'><u></u></b>n<b style='color:blue;'><u></u></b>c<b style='color:blue;'><u></u></b>e<b style='color:blue;'><u></u></b> <b style='color:blue;'><u></u></b>1<b style='color:blue;'><u></u></b>9<b style='color:blue;'><u></u></b>5<b style='color:blue;'><u></u></b>5<b style='color:blue;'><u></u></b>,<b style='color:blue;'><u></u></b> <b style='color:blue;'><u></u></b>a<b style='color:blue;'><u></u></b>n<b style='color:blue;'><u></u></b>d<b style='color:blue;'><u></u></b> <b style='color:blue;'><u></u></b>i<b style='color:blue;'><u></u></b>s<b style='color:blue;'><u></u></b> <b style='color:blue;'><u></u></b>t<b style='color:blue;'><u></u></b>h<b style='color:blue;'><u></u></b>e<b style='color:blue;'><u></u></b> <b style='color:blue;'><u></u></b>a<b style='color:blue;'><u></u></b>u<b style='color:blue;'><u></u></b>t<b style='color:blue;'><u></u></b>h<b style='color:blue;'><u></u></b>o<b style='color:blue;'><u></u></b>r<b style='color:blue;'><u></u></b> <b style='color:blue;'><u></u></b>o<b style='color:blue;'><u></u></b>f<b style='color:blue;'><u></u></b> <b style='color:blue;'><u></u></b>o<b style='color:blue;'><u></u></b>v<b style='color:blue;'><u></u></b>e<b style='color:blue;'><u></u></b>r<b style='color:blue;'><u></u></b> <b style='color:blue;'><u></u></b>1<b style='color:blue;'><u></u></b>0<b style='color:blue;'><u></u></b>0<b style='color:blue;'><u></u></b> <b style='color:blue;'><u></u></b>b<b style='color:blue;'><u></u></b>o<b style='color:blue;'><u></u></b>o<b style='color:blue;'><u></u></b>k<b style='color:blue;'><u></u></b>s<b style='color:blue;'><u></u></b> <b style='color:blue;'><u></u></b>o<b style='color:blue;'><u></u></b>n<b style='color:blue;'><u></u></b> <b style='color:blue;'><u></u></b>t<b style='color:blue;'><u></u></b>o<b style='color:blue;'><u></u></b>p<b style='color:blue;'><u></u></b>i<b style='color:blue;'><u></u></b>c<b style='color:blue;'><u></u></b>s<b style='color:blue;'><u></u></b> <b style='color:blue;'><u></u></b>s<b style='color:blue;'><u></u></b>u<b style='color:blue;'><u></u></b>c<b style='color:blue;'><u></u></b>h<b style='color:blue;'><u></u></b> <b style='color:blue;'><u></u></b>a<b style='color:blue;'><u></u></b>s<b style='color:blue;'><u></u></b> <b style='color:blue;'><u></u></b>l<b style='color:blue;'><u></u></b>i<b style='color:blue;'><u></u></b>n<b style='color:blue;'><u></u></b>g<b style='color:blue;'><u></u></b>u<b style='color:blue;'><u></u></b>i<b style='color:blue;'><u></u></b>s<b style='color:blue;'><u></u></b>t<b style='color:blue;'><u></u></b>i<b style='color:blue;'><u></u></b>c<b style='color:blue;'><u></u></b>s<b style='color:blue;'><u></u></b>,<b style='color:blue;'><u></u></b> <b style='color:blue;'><u></u></b>w<b style='color:blue;'><u></u></b>a<b style='color:blue;'><u></u></b>r<b style='color:blue;'><u></u></b>,<b style='color:blue;'><u></u></b> <b style='color:blue;'><u></u></b>p<b style='color:blue;'><u></u></b>o<b style='color:blue;'><u></u></b>l<b style='color:blue;'><u></u></b>i<b style='color:blue;'><u></u></b>t<b style='color:blue;'><u></u></b>i<b style='color:blue;'><u></u></b>c<b style='color:blue;'><u></u></b>s<b style='color:blue;'><u></u></b>,<b style='color:blue;'><u></u></b> <b style='color:blue;'><u></u></b>a<b style='color:blue;'><u></u></b>n<b style='color:blue;'><u></u></b>d<b style='color:blue;'><u></u></b> <b style='color:blue;'><u></u></b>m<b style='color:blue;'><u></u></b>a<b style='color:blue;'><u></u></b>s<b style='color:blue;'><u></u></b>s<b style='color:blue;'><u></u></b> <b style='color:blue;'><u></u></b>m<b style='color:blue;'><u></u></b>e<b style='color:blue;'><u></u></b>d<b style='color:blue;'><u></u></b>i<b style='color:blue;'><u></u></b>a<b style='color:blue;'><u></u></b>.<b style='color:blue;'><u></u></b> <b style='color:blue;'><u></u></b>I<b style='color:blue;'><u></u></b>d<b style='color:blue;'><u></u></b>e<b style='color:blue;'><u></u></b>o<b style='color:blue;'><u></u></b>l<b style='color:blue;'><u></u></b>o<b style='color:blue;'><u></u></b>g<b style='color:blue;'><u></u></b>i<b style='color:blue;'><u></u></b>c<b style='color:blue;'><u></u></b>a<b style='color:blue;'><u></u></b>l<b style='color:blue;'><u></u></b>l<b style='color:blue;'><u></u></b>y<b style='color:blue;'><u></u></b>,<b style='color:blue;'><u></u></b> <b style='color:blue;'><u></u></b>h<b style='color:blue;'><u></u></b>e<b style='color:blue;'><u></u></b> <b style='color:blue;'><u></u></b>a<b style='color:blue;'><u></u></b>l<b style='color:blue;'><u></u></b>i<b style='color:blue;'><u></u></b>g<b style='color:blue;'><u></u></b>n<b style='color:blue;'><u></u></b>s<b style='color:blue;'><u></u></b> <b style='color:blue;'><u></u></b>w<b style='color:blue;'><u></u></b>i<b style='color:blue;'><u></u></b>t<b style='color:blue;'><u></u></b>h<b style='color:blue;'><u></u></b> <b style='color:blue;'><u></u></b>a<b style='color:blue;'><u></u></b>n<b style='color:blue;'><u></u></b>a<b style='color:blue;'><u></u></b>r<b style='color:blue;'><u></u></b>c<b style='color:blue;'><u></u></b>h<b style='color:blue;'><u></u></b>o<b style='color:blue;'><u></u></b>-<b style='color:blue;'><u></u></b>s<b style='color:blue;'><u></u></b>y<b style='color:blue;'><u></u></b>n<b style='color:blue;'><u></u></b>d<b style='color:blue;'><u></u></b>i<b style='color:blue;'><u></u></b>c<b style='color:blue;'><u></u></b>a<b style='color:blue;'><u></u></b>l<b style='color:blue;'><u></u></b>i<b style='color:blue;'><u></u></b>s<b style='color:blue;'><u></u></b>m<b style='color:blue;'><u></u></b> <b style='color:blue;'><u></u></b>a<b style='color:blue;'><u></u></b>n<b style='color:blue;'><u></u></b>d<b style='color:blue;'><u></u></b> <b style='color:blue;'><u></u></b>l<b style='color:blue;'><u></u></b>i<b style='color:blue;'><u></u></b>b<b style='color:blue;'><u></u></b>e<b style='color:blue;'><u></u></b>r<b style='color:blue;'><u></u></b>t<b style='color:blue;'><u></u></b>a<b style='color:blue;'><u></u></b>r<b style='color:blue;'><u></u></b>i<b style='color:blue;'><u></u></b>a<b style='color:blue;'><u></u></b>n<b style='color:blue;'><u></u></b> <b style='color:blue;'><u></u></b>s<b style='color:blue;'><u></u></b>o<b style='color:blue;'><u></u></b>c<b style='color:blue;'><u></u></b>i<b style='color:blue;'><u></u></b>a<b style='color:blue;'><u></u></b>l<b style='color:blue;'><u></u></b>i<b style='color:blue;'><u></u></b>s<b style='color:blue;'><u></u></b>m<b style='color:blue;'><u></u></b>.<b style='color:blue;'><u></u></b>"
      ],
      "text/plain": [
       "<IPython.core.display.Markdown object>"
      ]
     },
     "metadata": {},
     "output_type": "display_data"
    }
   ],
   "source": [
    "!pip3 install wikipedia >> pip-wiki.txt\n",
    "import wikipedia\n",
    "wiki = wikipedia.WikipediaPage('Noam Chomsky')\n",
    "intro_paragraph = wiki.content.split('\\n')[0]\n",
    "finder = RegexFinder(intro_paragraph)"
   ]
  },
  {
   "cell_type": "code",
   "execution_count": 47,
   "metadata": {
    "_datascience": {}
   },
   "outputs": [
    {
     "name": "stdout",
     "output_type": "stream",
     "text": [
      "Avram\n",
      "Noam\n",
      "Chomsky\n",
      "(US:\n",
      "/æˈvrɑːm\n",
      "ˈnoʊm\n",
      "ˈtʃɒmski/\n",
      "a-VRAHM\n",
      "nohm\n",
      "CHOM-skee;\n",
      "born\n",
      "December\n",
      "7,\n",
      "1928)\n",
      "is\n",
      "an\n",
      "American\n",
      "linguist,\n",
      "philosopher,\n",
      "cognitive\n",
      "scientist,\n",
      "historian,\n",
      "social\n",
      "critic,\n",
      "and\n",
      "political\n",
      "activist\n"
     ]
    }
   ],
   "source": [
    "import re\n",
    "\n",
    "def sent_segmenter(doc):\n",
    "    sent_pattern = re.compile('[\\.\\?\\!]')\n",
    "    for sent in sent_pattern.split(doc):\n",
    "        yield sent\n",
    "        \n",
    "        \n",
    "def word_segmenter(sent):\n",
    "    word_pattern = re.compile('[\\s]')\n",
    "    for word in word_pattern.split(sent):\n",
    "        yield word\n",
    "        \n",
    "        \n",
    "sentences = sent_segmenter(intro_paragraph)\n",
    "for word in word_segmenter(next(sentences)):\n",
    "    print(word)"
   ]
  },
  {
   "cell_type": "markdown",
   "metadata": {
    "_datascience": {}
   },
   "source": [
    "#### Failures of Deterministic Approach:\n",
    "* \"Dr. White saw a patient.\" is one sentence, not two.\n",
    "* Los Angeles -> One token!\n",
    "* (US: ...) is probably best tokenized as \"(\", \"US\", \":\", ... I.e we missed other forms of punctuation.\n",
    "* Special cases: URLs, email addresses, phone numbers, etc\n",
    "* What should we do hyphens?\n",
    "\n",
    "#### Strategy 1\n",
    "** Use additional special rules.** \n",
    "\n",
    "1) replace the following characters with spaces: ! ” # $%&∗<=>?@\\|∼\n",
    "\n",
    "2) remove the following characters if they are followed byaspace: . : ;,\n",
    "\n",
    "3) remove the following pairs of brackets if the open bracket is preceded by a space and the close bracket is followed by a space: ( ) [ ]\n",
    "\n",
    "4) remove the single quotation mark if it is preceded by a space or if it is followed by a space: ’\n",
    "\n",
    "5) remove “’s” and “’t” if they are followed by a space 6) remove slash “/” if it is followed by a space\n",
    "\n",
    "#### Strategy 2\n",
    "**Begin with a liberal tokenizer, then \"match\" to join what should be joined.**"
   ]
  },
  {
   "cell_type": "code",
   "execution_count": 46,
   "metadata": {},
   "outputs": [
    {
     "name": "stdout",
     "output_type": "stream",
     "text": [
      "\n",
      "IS_ALPHA\n",
      "IS_ASCII\n",
      "IS_DIGIT\n",
      "IS_LOWER\n",
      "IS_PUNCT\n",
      "IS_SPACE\n",
      "IS_TITLE\n",
      "IS_UPPER\n",
      "LIKE_URL\n",
      "LIKE_NUM\n",
      "LIKE_EMAIL\n",
      "IS_STOP\n",
      "IS_OOV\n",
      "FLAG14\n",
      "FLAG15\n",
      "FLAG16\n",
      "FLAG17\n",
      "FLAG18\n",
      "FLAG19\n",
      "FLAG20\n",
      "FLAG21\n",
      "FLAG22\n",
      "FLAG23\n",
      "FLAG24\n",
      "FLAG25\n",
      "FLAG26\n",
      "FLAG27\n",
      "FLAG28\n",
      "FLAG29\n",
      "FLAG30\n",
      "FLAG31\n",
      "FLAG32\n",
      "FLAG33\n",
      "FLAG34\n",
      "FLAG35\n",
      "FLAG36\n",
      "FLAG37\n",
      "FLAG38\n",
      "FLAG39\n",
      "FLAG40\n",
      "FLAG41\n",
      "FLAG42\n",
      "FLAG43\n",
      "FLAG44\n",
      "FLAG45\n",
      "FLAG46\n",
      "FLAG47\n",
      "FLAG48\n",
      "FLAG49\n",
      "FLAG50\n",
      "FLAG51\n",
      "FLAG52\n",
      "FLAG53\n",
      "FLAG54\n",
      "FLAG55\n",
      "FLAG56\n",
      "FLAG57\n",
      "FLAG58\n",
      "FLAG59\n",
      "FLAG60\n",
      "FLAG61\n",
      "FLAG62\n",
      "FLAG63\n",
      "ID\n",
      "ORTH\n",
      "LOWER\n",
      "NORM\n",
      "SHAPE\n",
      "PREFIX\n",
      "SUFFIX\n",
      "LENGTH\n",
      "CLUSTER\n",
      "LEMMA\n",
      "POS\n",
      "TAG\n",
      "DEP\n",
      "ENT_IOB\n",
      "ENT_TYPE\n",
      "HEAD\n",
      "SPACY\n",
      "PROB\n",
      "ADJ\n",
      "ADP\n",
      "ADV\n",
      "AUX\n",
      "CONJ\n",
      "CCONJ\n",
      "DET\n",
      "INTJ\n",
      "NOUN\n",
      "NUM\n",
      "PART\n",
      "PRON\n",
      "PROPN\n",
      "PUNCT\n",
      "SCONJ\n",
      "SYM\n",
      "VERB\n",
      "X\n",
      "EOL\n",
      "SPACE\n",
      "Animacy_anim\n",
      "Animacy_inam\n",
      "Animacy_hum\n",
      "Aspect_freq\n",
      "Aspect_imp\n",
      "Aspect_mod\n",
      "Aspect_none\n",
      "Aspect_perf\n",
      "Aspect_iter\n",
      "Aspect_hab\n",
      "Case_abe\n",
      "Case_abl\n",
      "Case_abs\n",
      "Case_acc\n",
      "Case_ade\n",
      "Case_all\n",
      "Case_cau\n",
      "Case_com\n",
      "Case_cmp\n",
      "Case_dat\n",
      "Case_del\n",
      "Case_dis\n",
      "Case_ela\n",
      "Case_equ\n",
      "Case_ess\n",
      "Case_gen\n",
      "Case_ill\n",
      "Case_ine\n",
      "Case_ins\n",
      "Case_loc\n",
      "Case_lat\n",
      "Case_nom\n",
      "Case_par\n",
      "Case_sub\n",
      "Case_sup\n",
      "Case_tem\n",
      "Case_ter\n",
      "Case_tra\n",
      "Case_voc\n",
      "Definite_two\n",
      "Definite_def\n",
      "Definite_red\n",
      "Definite_cons\n",
      "Definite_ind\n",
      "Definite_spec\n",
      "Degree_cmp\n",
      "Degree_comp\n",
      "Degree_none\n",
      "Degree_pos\n",
      "Degree_sup\n",
      "Degree_abs\n",
      "Degree_com\n",
      "Degree_dim \n",
      "Degree_equ\n",
      "Evident_nfh\n",
      "Gender_com\n",
      "Gender_fem\n",
      "Gender_masc\n",
      "Gender_neut\n",
      "Mood_cnd\n",
      "Mood_imp\n",
      "Mood_ind\n",
      "Mood_n\n",
      "Mood_pot\n",
      "Mood_sub\n",
      "Mood_opt\n",
      "Mood_prp\n",
      "Mood_adm\n",
      "Negative_neg\n",
      "Negative_pos\n",
      "Negative_yes\n",
      "Polarity_neg\n",
      "Polarity_pos\n",
      "Number_com\n",
      "Number_dual\n",
      "Number_none\n",
      "Number_plur\n",
      "Number_sing\n",
      "Number_ptan \n",
      "Number_count \n",
      "Number_tri\n",
      "NumType_card\n",
      "NumType_dist\n",
      "NumType_frac\n",
      "NumType_gen\n",
      "NumType_mult\n",
      "NumType_none\n",
      "NumType_ord\n",
      "NumType_sets\n",
      "Person_one\n",
      "Person_two\n",
      "Person_three\n",
      "Person_none\n",
      "Poss_yes\n",
      "PronType_advPart\n",
      "PronType_art\n",
      "PronType_default\n",
      "PronType_dem\n",
      "PronType_ind\n",
      "PronType_int\n",
      "PronType_neg\n",
      "PronType_prs\n",
      "PronType_rcp\n",
      "PronType_rel\n",
      "PronType_tot\n",
      "PronType_clit\n",
      "PronType_exc\n",
      "PronType_emp\n",
      "Reflex_yes\n",
      "Tense_fut\n",
      "Tense_imp\n",
      "Tense_past\n",
      "Tense_pres\n",
      "VerbForm_fin\n",
      "VerbForm_ger\n",
      "VerbForm_inf\n",
      "VerbForm_none\n",
      "VerbForm_part\n",
      "VerbForm_partFut\n",
      "VerbForm_partPast\n",
      "VerbForm_partPres\n",
      "VerbForm_sup\n",
      "VerbForm_trans\n",
      "VerbForm_conv\n",
      "VerbForm_gdv \n",
      "VerbForm_vnoun\n",
      "Voice_act\n",
      "Voice_cau\n",
      "Voice_pass\n",
      "Voice_mid\n",
      "Voice_int\n",
      "Voice_antip\n",
      "Voice_dir\n",
      "Voice_inv\n",
      "Abbr_yes\n",
      "AdpType_prep\n",
      "AdpType_post\n",
      "AdpType_voc\n",
      "AdpType_comprep\n",
      "AdpType_circ\n",
      "AdvType_man\n",
      "AdvType_loc\n",
      "AdvType_tim\n",
      "AdvType_deg\n",
      "AdvType_cau\n",
      "AdvType_mod\n",
      "AdvType_sta\n",
      "AdvType_ex\n",
      "AdvType_adadj\n",
      "ConjType_oper\n",
      "ConjType_comp\n",
      "Connegative_yes\n",
      "Derivation_minen\n",
      "Derivation_sti\n",
      "Derivation_inen\n",
      "Derivation_lainen\n",
      "Derivation_ja\n",
      "Derivation_ton\n",
      "Derivation_vs\n",
      "Derivation_ttain\n",
      "Derivation_ttaa\n",
      "Echo_rdp\n",
      "Echo_ech\n",
      "Foreign_foreign\n",
      "Foreign_fscript\n",
      "Foreign_tscript\n",
      "Foreign_yes\n",
      "Gender_dat_masc\n",
      "Gender_dat_fem\n",
      "Gender_erg_masc\n",
      "Gender_erg_fem\n",
      "Gender_psor_masc\n",
      "Gender_psor_fem\n",
      "Gender_psor_neut\n",
      "Hyph_yes\n",
      "InfForm_one\n",
      "InfForm_two\n",
      "InfForm_three\n",
      "NameType_geo\n",
      "NameType_prs\n",
      "NameType_giv\n",
      "NameType_sur\n",
      "NameType_nat\n",
      "NameType_com\n",
      "NameType_pro\n",
      "NameType_oth\n",
      "NounType_com\n",
      "NounType_prop\n",
      "NounType_class\n",
      "Number_abs_sing\n",
      "Number_abs_plur\n",
      "Number_dat_sing\n",
      "Number_dat_plur\n",
      "Number_erg_sing\n",
      "Number_erg_plur\n",
      "Number_psee_sing\n",
      "Number_psee_plur\n",
      "Number_psor_sing\n",
      "Number_psor_plur\n",
      "Number_pauc\n",
      "Number_grpa\n",
      "Number_grpl\n",
      "Number_inv\n",
      "NumForm_digit\n",
      "NumForm_roman \n",
      "NumForm_word\n",
      "NumValue_one\n",
      "NumValue_two\n",
      "NumValue_three\n",
      "PartForm_pres\n",
      "PartForm_past\n",
      "PartForm_agt\n",
      "PartForm_neg\n",
      "PartType_mod\n",
      "PartType_emp\n",
      "PartType_res\n",
      "PartType_inf\n",
      "PartType_vbp\n",
      "Person_abs_one\n",
      "Person_abs_two\n",
      "Person_abs_three\n",
      "Person_dat_one\n",
      "Person_dat_two\n",
      "Person_dat_three\n",
      "Person_erg_one\n",
      "Person_erg_two\n",
      "Person_erg_three\n",
      "Person_psor_one\n",
      "Person_psor_two\n",
      "Person_psor_three\n",
      "Person_zero\n",
      "Person_four\n",
      "Polite_inf\n",
      "Polite_pol\n",
      "Polite_abs_inf\n",
      "Polite_abs_pol\n",
      "Polite_erg_inf\n",
      "Polite_erg_pol\n",
      "Polite_dat_inf\n",
      "Polite_dat_pol\n",
      "Polite_infm\n",
      "Polite_form\n",
      "Polite_form_elev\n",
      "Polite_form_humb\n",
      "Prefix_yes\n",
      "PrepCase_npr\n",
      "PrepCase_pre\n",
      "PunctSide_ini\n",
      "PunctSide_fin\n",
      "PunctType_peri\n",
      "PunctType_qest\n",
      "PunctType_excl\n",
      "PunctType_quot\n",
      "PunctType_brck\n",
      "PunctType_comm\n",
      "PunctType_colo\n",
      "PunctType_semi\n",
      "PunctType_dash\n",
      "Style_arch\n",
      "Style_rare\n",
      "Style_poet\n",
      "Style_norm\n",
      "Style_coll\n",
      "Style_vrnc\n",
      "Style_sing\n",
      "Style_expr\n",
      "Style_derg\n",
      "Style_vulg\n",
      "Style_yes\n",
      "StyleVariant_styleShort\n",
      "StyleVariant_styleBound\n",
      "VerbType_aux\n",
      "VerbType_cop\n",
      "VerbType_mod\n",
      "VerbType_light\n",
      "PERSON\n",
      "NORP\n",
      "FACILITY\n",
      "ORG\n",
      "GPE\n",
      "LOC\n",
      "PRODUCT\n",
      "EVENT\n",
      "WORK_OF_ART\n",
      "LANGUAGE\n",
      "DATE\n",
      "TIME\n",
      "PERCENT\n",
      "MONEY\n",
      "QUANTITY\n",
      "ORDINAL\n",
      "CARDINAL\n",
      "acomp\n",
      "advcl\n",
      "advmod\n",
      "agent\n",
      "amod\n",
      "appos\n",
      "attr\n",
      "aux\n",
      "auxpass\n",
      "cc\n",
      "ccomp\n",
      "complm\n",
      "conj\n",
      "cop\n",
      "csubj\n",
      "csubjpass\n",
      "dep\n",
      "det\n",
      "dobj\n",
      "expl\n",
      "hmod\n",
      "hyph\n",
      "infmod\n",
      "intj\n",
      "iobj\n",
      "mark\n",
      "meta\n",
      "neg\n",
      "nmod\n",
      "nn\n",
      "npadvmod\n",
      "nsubj\n",
      "nsubjpass\n",
      "num\n",
      "number\n",
      "oprd\n",
      "obj\n",
      "obl\n",
      "parataxis\n",
      "partmod\n",
      "pcomp\n",
      "pobj\n",
      "poss\n",
      "possessive\n",
      "preconj\n",
      "prep\n",
      "prt\n",
      "punct\n",
      "quantmod\n",
      "rcmod\n",
      "root\n",
      "xcomp\n",
      "\"\"\n",
      "#\n",
      "$\n",
      "''\n",
      ",\n",
      "-LRB-\n",
      "-RRB-\n",
      ".\n",
      ":\n",
      "ADD\n",
      "AFX\n",
      "BES\n",
      "CC\n",
      "CD\n",
      "DT\n",
      "EX\n",
      "FW\n",
      "GW\n",
      "HVS\n",
      "HYPH\n",
      "IN\n",
      "JJ\n",
      "JJR\n",
      "JJS\n",
      "LS\n",
      "MD\n",
      "NFP\n",
      "NIL\n",
      "NN\n",
      "NNP\n",
      "NNPS\n",
      "NNS\n",
      "PDT\n",
      "PRP\n",
      "PRP$\n",
      "RB\n",
      "RBR\n",
      "RBS\n",
      "RP\n",
      "SP\n",
      "TO\n",
      "UH\n",
      "VB\n",
      "VBD\n",
      "VBG\n",
      "VBN\n",
      "VBP\n",
      "VBZ\n",
      "WDT\n",
      "WP\n",
      "WP$\n",
      "WRB\n",
      "XX\n",
      "``\n",
      "en\n",
      "the\n",
      "xxx\n",
      "t\n",
      "to\n",
      "xx\n",
      "a\n",
      "x\n",
      "I\n",
      "i\n",
      "of\n",
      "o\n",
      "and\n",
      "is\n",
      "that\n",
      "xxxx\n",
      "hat\n",
      "\n",
      "\n",
      "\n",
      "\n",
      "\n",
      "it\n",
      "you\n",
      "y\n",
      "in\n",
      " \n",
      "\"\n",
      "'s\n",
      "'x\n",
      "'\n",
      "n't\n",
      "x'x\n",
      "n\n",
      "for\n",
      "f\n",
      "?\n",
      "are\n",
      "-\n",
      "be\n",
      "b\n",
      "not\n",
      "have\n",
      "h\n",
      "ave\n",
      "on\n",
      "[\n",
      "do\n",
      "d\n",
      "*\n",
      ")\n",
      "with\n",
      "w\n",
      "ith\n",
      "was\n",
      "this\n",
      "his\n",
      "they\n",
      "hey\n",
      "]\n",
      "as\n",
      "!\n",
      "but\n",
      "deleted\n",
      "ted\n",
      "(\n",
      "or\n",
      "would\n",
      "uld\n",
      "The\n",
      "Xxx\n",
      "T\n",
      "...\n",
      "like\n",
      "l\n",
      "ike\n",
      "just\n",
      "j\n",
      "ust\n",
      "people\n",
      "p\n",
      "ple\n",
      "your\n",
      "our\n",
      "about\n",
      "out\n",
      "if\n",
      "at\n",
      "all\n",
      "can\n",
      "c\n",
      "my\n",
      "m\n",
      "he\n",
      "an\n",
      "It\n",
      "Xx\n",
      "what\n",
      "from\n",
      "rom\n",
      "more\n",
      "ore\n",
      "so\n",
      "s\n",
      "we\n",
      "one\n",
      "will\n",
      "ill\n",
      "by\n",
      "up\n",
      "u\n",
      "there\n",
      "ere\n",
      "think\n",
      "ink\n",
      "me\n",
      "their\n",
      "eir\n",
      "has\n",
      "'m\n",
      "who\n",
      "get\n",
      "g\n",
      ";\n",
      "them\n",
      "hem\n",
      "You\n",
      "Y\n",
      "no\n",
      "than\n",
      "han\n",
      "'re\n",
      "'xx\n",
      "does\n",
      "oes\n",
      "some\n",
      "ome\n",
      "when\n",
      "hen\n",
      "because\n",
      "use\n",
      "know\n",
      "k\n",
      "now\n",
      "did\n",
      "If\n",
      "only\n",
      "nly\n",
      "how\n",
      "time\n",
      "ime\n",
      "That\n",
      "Xxxx\n",
      "should\n",
      "were\n",
      "\n",
      "\n",
      "\n",
      "\n",
      "\n",
      "\n",
      "\n",
      "other\n",
      "her\n",
      "could\n",
      "really\n",
      "r\n",
      "lly\n",
      "any\n",
      "then\n",
      "had\n",
      "make\n",
      "ake\n",
      "been\n",
      "een\n",
      "much\n",
      "uch\n",
      "even\n",
      "e\n",
      "ven\n",
      "good\n",
      "ood\n",
      "which\n",
      "ich\n",
      "way\n",
      "see\n",
      "right\n",
      "ght\n",
      "This\n",
      "Obama\n",
      "obama\n",
      "Xxxxx\n",
      "O\n",
      "ama\n",
      "And\n",
      "A\n",
      "'ve\n",
      "want\n",
      "ant\n",
      "say\n",
      "going\n",
      "ing\n",
      "being\n",
      "into\n",
      "nto\n",
      "too\n",
      "she\n",
      "&gt\n",
      "&xx\n",
      "&\n",
      "But\n",
      "B\n",
      "They\n",
      "go\n",
      "most\n",
      "ost\n",
      "something\n",
      "McCain\n",
      "mccain\n",
      "XxXxxx\n",
      "M\n",
      "ain\n",
      "those\n",
      "ose\n",
      "very\n",
      "v\n",
      "ery\n",
      "still\n",
      "over\n",
      "ver\n",
      "money\n",
      "ney\n",
      "same\n",
      "ame\n",
      "What\n",
      "W\n",
      "thing\n",
      "need\n",
      "eed\n",
      "why\n",
      "well\n",
      "ell\n",
      "ca\n",
      "'d\n",
      "him\n",
      "also\n",
      "lso\n",
      "years\n",
      "ars\n",
      "these\n",
      "ese\n",
      "So\n",
      "S\n",
      "'ll\n",
      "work\n",
      "ork\n",
      "here\n",
      "said\n",
      "aid\n",
      "where\n",
      "things\n",
      "ngs\n",
      "He\n",
      "H\n",
      "point\n",
      "int\n",
      "actually\n",
      "never\n",
      "better\n",
      "ter\n",
      "many\n",
      "off\n",
      "down\n",
      "own\n",
      "back\n",
      "ack\n",
      "There\n",
      "vote\n",
      "ote\n",
      "take\n",
      "In\n",
      "first\n",
      "rst\n",
      "got\n",
      "No\n",
      "N\n",
      "government\n",
      "ent\n",
      "am\n",
      "its\n",
      "someone\n",
      "We\n",
      "lot\n",
      "sure\n",
      "ure\n",
      "%\n",
      "us\n",
      "world\n",
      "rld\n",
      "before\n",
      "though\n",
      "ugh\n",
      "pretty\n",
      "tty\n",
      "every\n",
      "made\n",
      "ade\n",
      "two\n",
      "anything\n",
      "mean\n",
      "ean\n",
      "bad\n",
      "after\n",
      "enough\n",
      "believe\n",
      "eve\n",
      "around\n",
      "und\n",
      "read\n",
      "ead\n",
      "probably\n",
      "bly\n",
      "find\n",
      "ind\n",
      "new\n",
      "little\n",
      "tle\n",
      "look\n",
      "ook\n",
      "used\n",
      "sed\n",
      "long\n",
      "ong\n",
      "might\n",
      "may\n",
      "ever\n",
      "such\n",
      "system\n",
      "tem\n",
      "problem\n",
      "lem\n",
      "thought\n",
      "while\n",
      "ile\n",
      "wrong\n",
      "day\n",
      "Do\n",
      "D\n",
      "always\n",
      "ays\n",
      "real\n",
      "eal\n",
      "without\n",
      "guy\n",
      "least\n",
      "ast\n",
      "few\n",
      "fact\n",
      "act\n",
      "man\n",
      "life\n",
      "ife\n",
      "doing\n",
      "give\n",
      "ive\n",
      "makes\n",
      "kes\n",
      "My\n",
      "Not\n",
      "How\n",
      "less\n",
      "ess\n",
      " \n",
      "\n",
      "\n",
      "saying\n",
      "nothing\n",
      "shit\n",
      "hit\n",
      "put\n",
      "country\n",
      "try\n",
      "person\n",
      "son\n",
      "through\n",
      "reddit\n",
      "dit\n",
      "part\n",
      "art\n",
      "2\n",
      "another\n",
      "free\n",
      "ree\n",
      "US\n",
      "U\n",
      "old\n",
      "year\n",
      "ear\n",
      "different\n",
      "come\n",
      "last\n",
      "since\n",
      "nce\n",
      "against\n",
      "nst\n",
      "anyone\n",
      "both\n",
      "oth\n",
      "great\n",
      "eat\n",
      "Why\n",
      "best\n",
      "est\n",
      "pay\n",
      "agree\n",
      "reason\n",
      "else\n",
      "lse\n",
      "Well\n",
      "already\n",
      "ady\n",
      "getting\n",
      "article\n",
      "cle\n",
      "trying\n",
      "far\n",
      "again\n",
      "idea\n",
      "dea\n",
      "Palin\n",
      "palin\n",
      "P\n",
      "lin\n",
      "state\n",
      "ate\n",
      "As\n",
      "..\n",
      "1\n",
      "using\n",
      "everyone\n",
      "feel\n",
      "eel\n",
      "kind\n",
      "market\n",
      "ket\n",
      "keep\n",
      "eep\n",
      "either\n",
      "making\n",
      "done\n",
      "let\n",
      "understand\n",
      "live\n",
      "away\n",
      "Oh\n",
      "oh\n",
      "big\n",
      "end\n",
      "love\n",
      "ove\n",
      "fucking\n",
      "case\n",
      "ase\n",
      "hard\n",
      "ard\n",
      "true\n",
      "rue\n",
      "course\n",
      "rse\n",
      "means\n",
      "ans\n",
      "care\n",
      "whole\n",
      "ole\n",
      "Yes\n",
      "yes\n",
      "seems\n",
      "ems\n",
      "having\n",
      "\n",
      "\n",
      "\n",
      "\n",
      "tell\n",
      "change\n",
      "nge\n",
      "When\n",
      "power\n",
      "wer\n",
      "between\n",
      "party\n",
      "rty\n",
      "must\n",
      "American\n",
      "american\n",
      "place\n",
      "ace\n",
      "Just\n",
      "J\n",
      "help\n",
      "elp\n",
      "talking\n",
      "etc\n",
      "voting\n",
      "game\n",
      "question\n",
      "q\n",
      "ion\n",
      "Yeah\n",
      "yeah\n",
      "eah\n",
      "high\n"
     ]
    }
   ],
   "source": [
    "for i in range(1000):\n",
    "    print(nlp.vocab.strings[i])"
   ]
  },
  {
   "cell_type": "code",
   "execution_count": 41,
   "metadata": {},
   "outputs": [
    {
     "data": {
      "text/plain": [
       "'I went to the store and emailed joingoogle.com which is normal(0 2)'"
      ]
     },
     "execution_count": 41,
     "metadata": {},
     "output_type": "execute_result"
    }
   ],
   "source": [
    "def tokenizer(doc):\n",
    "    replace_pattern = re.compile('[!”#$%&∗<=>?@|~]')\n",
    "    replace_pattern1 = re.compile('[.:;,] ')\n",
    "    doc = replace_pattern.sub(\"\", doc)\n",
    "    doc = replace_pattern1.sub(\" \", doc)\n",
    "    return doc\n",
    "    \n",
    "\n",
    "tokenizer(\"I went to the store! and emailed join@google.com, which is normal~(0, 2)\")"
   ]
  },
  {
   "cell_type": "code",
   "execution_count": 74,
   "metadata": {
    "collapsed": true
   },
   "outputs": [],
   "source": [
    "!python3 -m spacy download en >> spacy-download.log"
   ]
  },
  {
   "cell_type": "code",
   "execution_count": 13,
   "metadata": {
    "_datascience": {},
    "scrolled": false
   },
   "outputs": [
    {
     "name": "stdout",
     "output_type": "stream",
     "text": [
      "[Are, n't, you, glad, to, see, me, ?, Go, at, the, bread@dox.com, to, the, store, in, Los, Angeles]\n"
     ]
    }
   ],
   "source": [
    "import spacy\n",
    "#nlp = spacy.load('en')\n",
    "intro_paragraph = \"Aren't you glad to see me? Go at the bread@dox.com to the store in Los Angeles\"\n",
    "print(list(nlp(intro_paragraph)))"
   ]
  },
  {
   "cell_type": "code",
   "execution_count": 9,
   "metadata": {
    "_datascience": {}
   },
   "outputs": [
    {
     "data": {
      "text/plain": [
       "True"
      ]
     },
     "execution_count": 9,
     "metadata": {},
     "output_type": "execute_result"
    }
   ],
   "source": [
    "\"n't\" in nlp.vocab.strings"
   ]
  },
  {
   "cell_type": "code",
   "execution_count": 20,
   "metadata": {
    "_datascience": {},
    "collapsed": true
   },
   "outputs": [],
   "source": [
    "tweet = \"\"\"\n",
    "We shouldn't be looking for heroes, we should be looking for good ideas.” \n",
    "― Noam Chomsky\n",
    "@allenmichael89 #NoamChomsky #Literature\n",
    "\"\"\""
   ]
  },
  {
   "cell_type": "code",
   "execution_count": 28,
   "metadata": {
    "_datascience": {},
    "collapsed": true,
    "scrolled": false
   },
   "outputs": [],
   "source": [
    "import spacy"
   ]
  },
  {
   "cell_type": "markdown",
   "metadata": {
    "_datascience": {},
    "collapsed": true
   },
   "source": [
    "### Extensions and Additional Concepts:\n",
    "* Dictionary matching / Longest common substring\n",
    "    * Generalized Prefix Tree"
   ]
  },
  {
   "cell_type": "code",
   "execution_count": null,
   "metadata": {
    "_datascience": {},
    "collapsed": true
   },
   "outputs": [],
   "source": []
  }
 ],
 "metadata": {
  "_datascience": {},
  "kernelspec": {
   "display_name": "Python 3",
   "language": "python",
   "name": "python3"
  },
  "language_info": {
   "codemirror_mode": {
    "name": "ipython",
    "version": 3
   },
   "file_extension": ".py",
   "mimetype": "text/x-python",
   "name": "python",
   "nbconvert_exporter": "python",
   "pygments_lexer": "ipython3",
   "version": "3.5.3"
  },
  "widgets": {
   "application/vnd.jupyter.widget-state+json": {
    "state": {
     "00afba28c8df421097b65c44a48a485e": {
      "model_module": "jupyter-js-widgets",
      "model_module_version": "~2.1.4",
      "model_name": "LabelModel",
      "state": {
       "_model_module_version": "~2.1.4",
       "_view_module_version": "~2.1.4",
       "layout": "IPY_MODEL_d5132bc0fa914474a58968dd4559dcfa",
       "value": "Pattern Box"
      }
     },
     "02a9eea54e0d42a988aa431b3d1cd4d9": {
      "model_module": "jupyter-js-widgets",
      "model_module_version": "~2.1.4",
      "model_name": "TextareaModel",
      "state": {
       "_model_module_version": "~2.1.4",
       "_view_module_version": "~2.1.4",
       "layout": "IPY_MODEL_4a03635ed3a0449e861dd76e2efd9e55",
       "value": "Welcome to JupyterCon 2017!"
      }
     },
     "05137c593af7499899650a335c2eb7cc": {
      "model_module": "jupyter-js-widgets",
      "model_module_version": "~2.1.4",
      "model_name": "TextareaModel",
      "state": {
       "_model_module_version": "~2.1.4",
       "_view_module_version": "~2.1.4",
       "layout": "IPY_MODEL_3326855147904d4f92d22aa0e0fcbffd",
       "value": "[A-Z]"
      }
     },
     "051fc5db23fb4312828949790019534d": {
      "model_module": "jupyter-js-widgets",
      "model_module_version": "~2.1.4",
      "model_name": "ButtonModel",
      "state": {
       "_model_module_version": "~2.1.4",
       "_view_module_version": "~2.1.4",
       "description": "Match Pattern",
       "layout": "IPY_MODEL_53590f2bc0b94197aad815e4480f4c8a",
       "style": "IPY_MODEL_fdc052398c834951916318236c2876a6"
      }
     },
     "0532788d135f4c32a01cc9aef7a15ba0": {
      "model_module": "jupyter-js-widgets",
      "model_module_version": "~2.1.4",
      "model_name": "TextareaModel",
      "state": {
       "_model_module_version": "~2.1.4",
       "_view_module_version": "~2.1.4",
       "layout": "IPY_MODEL_78e1d6d94b6341c787b943d472efb1f3"
      }
     },
     "05d64e0ef1b14702b19eabac1debe622": {
      "model_module": "jupyter-js-widgets",
      "model_module_version": "~2.1.4",
      "model_name": "TextareaModel",
      "state": {
       "_model_module_version": "~2.1.4",
       "_view_module_version": "~2.1.4",
       "layout": "IPY_MODEL_1dce00a067e44492bca1e89836f247db"
      }
     },
     "06269a295d4348afa7c4e90fca54c15f": {
      "model_module": "jupyter-js-widgets",
      "model_module_version": "~2.1.4",
      "model_name": "LabelModel",
      "state": {
       "_model_module_version": "~2.1.4",
       "_view_module_version": "~2.1.4",
       "layout": "IPY_MODEL_bcaa053aa4b0476dbf7c4a704080f200",
       "value": "Text Box"
      }
     },
     "0759c0593f5c4e988c21f973f491048c": {
      "model_module": "jupyter-js-widgets",
      "model_module_version": "~2.1.4",
      "model_name": "LayoutModel",
      "state": {
       "_model_module_version": "~2.1.4",
       "_view_module_version": "~2.1.4",
       "height": "100px"
      }
     },
     "08c56523446a49188a2931d1a915ceec": {
      "model_module": "jupyter-js-widgets",
      "model_module_version": "~2.1.4",
      "model_name": "BoxModel",
      "state": {
       "_model_module_version": "~2.1.4",
       "_view_module_version": "~2.1.4",
       "children": [
        "IPY_MODEL_09bace03ad8b48d5b1e2e276a4c61e48",
        "IPY_MODEL_642b3cb9d71a419391366eb3a228c6f7"
       ],
       "layout": "IPY_MODEL_9fd41407db454c4aa140ae0eab861d07"
      }
     },
     "09bace03ad8b48d5b1e2e276a4c61e48": {
      "model_module": "jupyter-js-widgets",
      "model_module_version": "~2.1.4",
      "model_name": "LabelModel",
      "state": {
       "_model_module_version": "~2.1.4",
       "_view_module_version": "~2.1.4",
       "layout": "IPY_MODEL_25e778c621694250874341e4581a46a1",
       "value": "Pattern Box"
      }
     },
     "09cdfdcb44684da293ec0359fccfb6c7": {
      "model_module": "jupyter-js-widgets",
      "model_module_version": "~2.1.4",
      "model_name": "LayoutModel",
      "state": {
       "_model_module_version": "~2.1.4",
       "_view_module_version": "~2.1.4",
       "height": "20px"
      }
     },
     "0abe7fda1e8f48199cec48061eb8c89f": {
      "model_module": "jupyter-js-widgets",
      "model_module_version": "~2.1.4",
      "model_name": "LayoutModel",
      "state": {
       "_model_module_version": "~2.1.4",
       "_view_module_version": "~2.1.4",
       "height": "20px"
      }
     },
     "0b949fdca4834247b8744c1ac64e64be": {
      "model_module": "jupyter-js-widgets",
      "model_module_version": "~2.1.4",
      "model_name": "LayoutModel",
      "state": {
       "_model_module_version": "~2.1.4",
       "_view_module_version": "~2.1.4",
       "height": "20px"
      }
     },
     "0c6d6cbde52e4fb0975ceeb254e12cce": {
      "model_module": "jupyter-js-widgets",
      "model_module_version": "~2.1.4",
      "model_name": "BoxModel",
      "state": {
       "_model_module_version": "~2.1.4",
       "_view_module_version": "~2.1.4",
       "children": [
        "IPY_MODEL_d8bd509a38b44687a63b01f563005107",
        "IPY_MODEL_137d8d4a87974b16823e890918aa0714"
       ],
       "layout": "IPY_MODEL_3d4c1e924d9a45c0aa1d3858f133ea5f"
      }
     },
     "0c9fc347c9444fefb4de26a93cb3384b": {
      "model_module": "jupyter-js-widgets",
      "model_module_version": "~2.1.4",
      "model_name": "ButtonModel",
      "state": {
       "_model_module_version": "~2.1.4",
       "_view_module_version": "~2.1.4",
       "description": "Match Pattern",
       "layout": "IPY_MODEL_fe72b0749e3440fa8c7c690cbeb43a03",
       "style": "IPY_MODEL_0d8b5be3d1ac4bf48af01c64fcffaa07"
      }
     },
     "0ce48c132862442fa7c3d085aa9e20cf": {
      "model_module": "jupyter-js-widgets",
      "model_module_version": "~2.1.4",
      "model_name": "BoxModel",
      "state": {
       "_model_module_version": "~2.1.4",
       "_view_module_version": "~2.1.4",
       "children": [
        "IPY_MODEL_06269a295d4348afa7c4e90fca54c15f",
        "IPY_MODEL_5572c91775aa4dae99767f2e8e92b640"
       ],
       "layout": "IPY_MODEL_1ef673d2e56a4e2aa42ae1459841e7b9"
      }
     },
     "0cf35dee325e4acead9f52d63b584a7d": {
      "model_module": "jupyter-js-widgets",
      "model_module_version": "~2.1.4",
      "model_name": "BoxModel",
      "state": {
       "_model_module_version": "~2.1.4",
       "_view_module_version": "~2.1.4",
       "children": [
        "IPY_MODEL_0ee11382d9f34f1d815d91d2251bbf21",
        "IPY_MODEL_c46674eb0adc4a48b1ba836156949e1e"
       ],
       "layout": "IPY_MODEL_456092312c47427684364ed437d18d1e"
      }
     },
     "0d8b5be3d1ac4bf48af01c64fcffaa07": {
      "model_module": "jupyter-js-widgets",
      "model_module_version": "~2.1.4",
      "model_name": "ButtonStyleModel",
      "state": {
       "_model_module_version": "~2.1.4",
       "_view_module_version": "~2.1.4"
      }
     },
     "0e516e1c6f6e483c8e9b926000a5a2f1": {
      "model_module": "jupyter-js-widgets",
      "model_module_version": "~2.1.4",
      "model_name": "BoxModel",
      "state": {
       "_model_module_version": "~2.1.4",
       "_view_module_version": "~2.1.4",
       "children": [
        "IPY_MODEL_86678d2bb02647ecb1d1560f04395f0b",
        "IPY_MODEL_237330ac0a6e439c850a6359147db16a"
       ],
       "layout": "IPY_MODEL_7e481358519e4be3beab7ead70c0ede1"
      }
     },
     "0e7def68729e4e88847804a95f66cdea": {
      "model_module": "jupyter-js-widgets",
      "model_module_version": "~2.1.4",
      "model_name": "LayoutModel",
      "state": {
       "_model_module_version": "~2.1.4",
       "_view_module_version": "~2.1.4"
      }
     },
     "0ee11382d9f34f1d815d91d2251bbf21": {
      "model_module": "jupyter-js-widgets",
      "model_module_version": "~2.1.4",
      "model_name": "LabelModel",
      "state": {
       "_model_module_version": "~2.1.4",
       "_view_module_version": "~2.1.4",
       "layout": "IPY_MODEL_ca59c7e54a69476b94c3ed3da1952b17",
       "value": "Text Box"
      }
     },
     "100c64264647447385d45799466b57bd": {
      "model_module": "jupyter-js-widgets",
      "model_module_version": "~2.1.4",
      "model_name": "BoxModel",
      "state": {
       "_model_module_version": "~2.1.4",
       "_view_module_version": "~2.1.4",
       "children": [
        "IPY_MODEL_3591a93336bf48bf94256dba9414f970",
        "IPY_MODEL_36622ffde4a44bb59cc59e73b879b885"
       ],
       "layout": "IPY_MODEL_28201484e2674b49a5d22e3418f026c3"
      }
     },
     "101c111eea164880b35a19debacd6479": {
      "model_module": "jupyter-js-widgets",
      "model_module_version": "~2.1.4",
      "model_name": "LayoutModel",
      "state": {
       "_model_module_version": "~2.1.4",
       "_view_module_version": "~2.1.4"
      }
     },
     "107ad09ed3ed4217b30cdf0a10c29fcd": {
      "model_module": "jupyter-js-widgets",
      "model_module_version": "~2.1.4",
      "model_name": "LayoutModel",
      "state": {
       "_model_module_version": "~2.1.4",
       "_view_module_version": "~2.1.4"
      }
     },
     "10c67b8f417f428e9aefdd5c93bb0802": {
      "model_module": "jupyter-js-widgets",
      "model_module_version": "~2.1.4",
      "model_name": "LayoutModel",
      "state": {
       "_model_module_version": "~2.1.4",
       "_view_module_version": "~2.1.4"
      }
     },
     "1170323326d84ed3871112623fdd6cac": {
      "model_module": "jupyter-js-widgets",
      "model_module_version": "~2.1.4",
      "model_name": "BoxModel",
      "state": {
       "_model_module_version": "~2.1.4",
       "_view_module_version": "~2.1.4",
       "children": [
        "IPY_MODEL_6dc5a7d22438458591f3dc5b4b38a4b6",
        "IPY_MODEL_e5de82989fdd4bb89b455d30fdc974ac"
       ],
       "layout": "IPY_MODEL_e00a78f7cd294966b50508bc446c8e10"
      }
     },
     "11a6d1c6c90043ad83184a69518c73a2": {
      "model_module": "jupyter-js-widgets",
      "model_module_version": "~2.1.4",
      "model_name": "TextareaModel",
      "state": {
       "_model_module_version": "~2.1.4",
       "_view_module_version": "~2.1.4",
       "layout": "IPY_MODEL_3979c5612faf49008b5fbc2983739280",
       "value": "Welcome to JupyterCon 2017!"
      }
     },
     "1241c0815f7b4a158abe269270d75002": {
      "model_module": "jupyter-js-widgets",
      "model_module_version": "~2.1.4",
      "model_name": "BoxModel",
      "state": {
       "_model_module_version": "~2.1.4",
       "_view_module_version": "~2.1.4",
       "children": [
        "IPY_MODEL_ca1f0b3a45bb4aafa762d8f2d9ba2efa",
        "IPY_MODEL_bcfeaab4690341b18ca4c13c3c14bb43"
       ],
       "layout": "IPY_MODEL_926de690e41c4c108849c50329ef58a7"
      }
     },
     "131482f5fb09432393723b52cdec6bc5": {
      "model_module": "jupyter-js-widgets",
      "model_module_version": "~2.1.4",
      "model_name": "LayoutModel",
      "state": {
       "_model_module_version": "~2.1.4",
       "_view_module_version": "~2.1.4",
       "height": "20px"
      }
     },
     "1338a7b11eb0473baec3cb39175aa4d5": {
      "model_module": "jupyter-js-widgets",
      "model_module_version": "~2.1.4",
      "model_name": "LayoutModel",
      "state": {
       "_model_module_version": "~2.1.4",
       "_view_module_version": "~2.1.4"
      }
     },
     "1364cfe953c9492f87d6a24d920d08e1": {
      "model_module": "jupyter-js-widgets",
      "model_module_version": "~2.1.4",
      "model_name": "LayoutModel",
      "state": {
       "_model_module_version": "~2.1.4",
       "_view_module_version": "~2.1.4"
      }
     },
     "137d8d4a87974b16823e890918aa0714": {
      "model_module": "jupyter-js-widgets",
      "model_module_version": "~2.1.4",
      "model_name": "TextareaModel",
      "state": {
       "_model_module_version": "~2.1.4",
       "_view_module_version": "~2.1.4",
       "layout": "IPY_MODEL_791e1592e2804847a776d7e5acf1ddc5",
       "value": "[\\s]"
      }
     },
     "141ab40b93f7425d8a675a52e62fbace": {
      "model_module": "jupyter-js-widgets",
      "model_module_version": "~2.1.4",
      "model_name": "TextareaModel",
      "state": {
       "_model_module_version": "~2.1.4",
       "_view_module_version": "~2.1.4",
       "layout": "IPY_MODEL_0759c0593f5c4e988c21f973f491048c",
       "value": "Welcome to JupyterCon 2017!"
      }
     },
     "14a5f19551894d3385666f6aa0998014": {
      "model_module": "jupyter-js-widgets",
      "model_module_version": "~2.1.4",
      "model_name": "BoxModel",
      "state": {
       "_model_module_version": "~2.1.4",
       "_view_module_version": "~2.1.4",
       "children": [
        "IPY_MODEL_15b7b60ce56d48579d91190e85a4d195",
        "IPY_MODEL_c9f17699ef784e01abc9ee5a39530be1"
       ],
       "layout": "IPY_MODEL_5151680f37da44d0aa2302e64e2d31ba"
      }
     },
     "15701f20353f437cabe560e4f0d88d16": {
      "model_module": "jupyter-js-widgets",
      "model_module_version": "~2.1.4",
      "model_name": "BoxModel",
      "state": {
       "_model_module_version": "~2.1.4",
       "_view_module_version": "~2.1.4",
       "children": [
        "IPY_MODEL_b5a77b5662ce430b84286071496ea22c",
        "IPY_MODEL_5b5288b601994d30a20c165c9304ebba"
       ],
       "layout": "IPY_MODEL_8112167a646f4957b0c9e023eef230f3"
      }
     },
     "15b7b60ce56d48579d91190e85a4d195": {
      "model_module": "jupyter-js-widgets",
      "model_module_version": "~2.1.4",
      "model_name": "LabelModel",
      "state": {
       "_model_module_version": "~2.1.4",
       "_view_module_version": "~2.1.4",
       "layout": "IPY_MODEL_28c5204a0d9e42d78c2bff985dcd07b2",
       "value": "Pattern Box"
      }
     },
     "1693c6952dda4c37b1655afc6261afd6": {
      "model_module": "jupyter-js-widgets",
      "model_module_version": "~2.1.4",
      "model_name": "ButtonStyleModel",
      "state": {
       "_model_module_version": "~2.1.4",
       "_view_module_version": "~2.1.4"
      }
     },
     "19da752237cd4da28c3d166bb905c0b0": {
      "model_module": "jupyter-js-widgets",
      "model_module_version": "~2.1.4",
      "model_name": "ButtonStyleModel",
      "state": {
       "_model_module_version": "~2.1.4",
       "_view_module_version": "~2.1.4"
      }
     },
     "1a167917cad24b4a91ac0ca29652f2ee": {
      "model_module": "jupyter-js-widgets",
      "model_module_version": "~2.1.4",
      "model_name": "ButtonModel",
      "state": {
       "_model_module_version": "~2.1.4",
       "_view_module_version": "~2.1.4",
       "description": "Match Pattern",
       "layout": "IPY_MODEL_101c111eea164880b35a19debacd6479",
       "style": "IPY_MODEL_e27daac2841a45a785edf5664b06b83e"
      }
     },
     "1a79c85d364040268059a83322a2b6eb": {
      "model_module": "jupyter-js-widgets",
      "model_module_version": "~2.1.4",
      "model_name": "LayoutModel",
      "state": {
       "_model_module_version": "~2.1.4",
       "_view_module_version": "~2.1.4"
      }
     },
     "1b40e02a93fc4e2395bdf2c14b1c14e6": {
      "model_module": "jupyter-js-widgets",
      "model_module_version": "~2.1.4",
      "model_name": "BoxModel",
      "state": {
       "_model_module_version": "~2.1.4",
       "_view_module_version": "~2.1.4",
       "children": [
        "IPY_MODEL_67f55fc4ea7a4b9f8b60d34170659557",
        "IPY_MODEL_8750656116e647c4878f5d38f75e2067"
       ],
       "layout": "IPY_MODEL_d3a35f9b25464eeda7b2c2cf248ee940"
      }
     },
     "1bffce7597734e8daa4e0f5ad17fa7de": {
      "model_module": "jupyter-js-widgets",
      "model_module_version": "~2.1.4",
      "model_name": "ButtonModel",
      "state": {
       "_model_module_version": "~2.1.4",
       "_view_module_version": "~2.1.4",
       "description": "Match Pattern",
       "layout": "IPY_MODEL_397f3056153541708440285d941cd04b",
       "style": "IPY_MODEL_37c28d9e3de1479c89219366c1092c6e"
      }
     },
     "1c4c724724f946b8ae8fa62f8cc4547d": {
      "model_module": "jupyter-js-widgets",
      "model_module_version": "~2.1.4",
      "model_name": "LabelModel",
      "state": {
       "_model_module_version": "~2.1.4",
       "_view_module_version": "~2.1.4",
       "layout": "IPY_MODEL_311ea8c0a4bd4e1f8d03e63386461645",
       "value": "Text Box"
      }
     },
     "1ca021ea3e6a486fac2baae94d6fd229": {
      "model_module": "jupyter-js-widgets",
      "model_module_version": "~2.1.4",
      "model_name": "TextareaModel",
      "state": {
       "_model_module_version": "~2.1.4",
       "_view_module_version": "~2.1.4",
       "layout": "IPY_MODEL_44ac86932f214f50bba5181b09e965b1",
       "value": "Welcome to JupyterCon 2017!"
      }
     },
     "1dce00a067e44492bca1e89836f247db": {
      "model_module": "jupyter-js-widgets",
      "model_module_version": "~2.1.4",
      "model_name": "LayoutModel",
      "state": {
       "_model_module_version": "~2.1.4",
       "_view_module_version": "~2.1.4",
       "height": "20px"
      }
     },
     "1ef673d2e56a4e2aa42ae1459841e7b9": {
      "model_module": "jupyter-js-widgets",
      "model_module_version": "~2.1.4",
      "model_name": "LayoutModel",
      "state": {
       "_model_module_version": "~2.1.4",
       "_view_module_version": "~2.1.4"
      }
     },
     "1f64cb941f164304a6d16f8d3b52f918": {
      "model_module": "jupyter-js-widgets",
      "model_module_version": "~2.1.4",
      "model_name": "LayoutModel",
      "state": {
       "_model_module_version": "~2.1.4",
       "_view_module_version": "~2.1.4"
      }
     },
     "1fd9e9468ccc451fb1b9f1c27f127665": {
      "model_module": "jupyter-js-widgets",
      "model_module_version": "~2.1.4",
      "model_name": "ButtonModel",
      "state": {
       "_model_module_version": "~2.1.4",
       "_view_module_version": "~2.1.4",
       "description": "Match Pattern",
       "layout": "IPY_MODEL_39d40c97520c47c3b96fffc22fb4426b",
       "style": "IPY_MODEL_19da752237cd4da28c3d166bb905c0b0"
      }
     },
     "20ddcd89f2884e818386bc874e1854b9": {
      "model_module": "jupyter-js-widgets",
      "model_module_version": "~2.1.4",
      "model_name": "TextModel",
      "state": {
       "_model_module_version": "~2.1.4",
       "_view_module_version": "~2.1.4",
       "layout": "IPY_MODEL_8d9f307b87694f5b909fe9cf6e9b8188"
      }
     },
     "22714fcb83e246b4a892dacda1ac0740": {
      "model_module": "jupyter-js-widgets",
      "model_module_version": "~2.1.4",
      "model_name": "LayoutModel",
      "state": {
       "_model_module_version": "~2.1.4",
       "_view_module_version": "~2.1.4"
      }
     },
     "23153ba2a28a44a49abb354527fef0ce": {
      "model_module": "jupyter-js-widgets",
      "model_module_version": "~2.1.4",
      "model_name": "TextareaModel",
      "state": {
       "_model_module_version": "~2.1.4",
       "_view_module_version": "~2.1.4",
       "layout": "IPY_MODEL_41bf4f490a8c4e3184341d62bdf1dd8e",
       "value": "Welcome to JupyterCon 2017!"
      }
     },
     "237330ac0a6e439c850a6359147db16a": {
      "model_module": "jupyter-js-widgets",
      "model_module_version": "~2.1.4",
      "model_name": "TextareaModel",
      "state": {
       "_model_module_version": "~2.1.4",
       "_view_module_version": "~2.1.4",
       "layout": "IPY_MODEL_deca546f470c4aa5bdb7ddbf783af48a",
       "value": "[A-Z]"
      }
     },
     "25e778c621694250874341e4581a46a1": {
      "model_module": "jupyter-js-widgets",
      "model_module_version": "~2.1.4",
      "model_name": "LayoutModel",
      "state": {
       "_model_module_version": "~2.1.4",
       "_view_module_version": "~2.1.4"
      }
     },
     "264c4c4300fe490dbd6e6ed2ca02dd35": {
      "model_module": "jupyter-js-widgets",
      "model_module_version": "~2.1.4",
      "model_name": "ButtonModel",
      "state": {
       "_model_module_version": "~2.1.4",
       "_view_module_version": "~2.1.4",
       "description": "Match Pattern",
       "layout": "IPY_MODEL_e0ca00af11df4f65b88e6543d5c2e8b5",
       "style": "IPY_MODEL_29c97426d5cb458191052e8a2f8f01f5"
      }
     },
     "28201484e2674b49a5d22e3418f026c3": {
      "model_module": "jupyter-js-widgets",
      "model_module_version": "~2.1.4",
      "model_name": "LayoutModel",
      "state": {
       "_model_module_version": "~2.1.4",
       "_view_module_version": "~2.1.4"
      }
     },
     "28c5204a0d9e42d78c2bff985dcd07b2": {
      "model_module": "jupyter-js-widgets",
      "model_module_version": "~2.1.4",
      "model_name": "LayoutModel",
      "state": {
       "_model_module_version": "~2.1.4",
       "_view_module_version": "~2.1.4"
      }
     },
     "295100f870974d5494aa18653a4eb540": {
      "model_module": "jupyter-js-widgets",
      "model_module_version": "~2.1.4",
      "model_name": "TextareaModel",
      "state": {
       "_model_module_version": "~2.1.4",
       "_view_module_version": "~2.1.4",
       "layout": "IPY_MODEL_96b560f28d1848beabdc0dbc9900485d",
       "value": "[a-z]"
      }
     },
     "2970c6da408f42dda377580e5155873a": {
      "model_module": "jupyter-js-widgets",
      "model_module_version": "~2.1.4",
      "model_name": "BoxModel",
      "state": {
       "_model_module_version": "~2.1.4",
       "_view_module_version": "~2.1.4",
       "children": [
        "IPY_MODEL_af5af935acb44ad780b56a65f8f6eeec",
        "IPY_MODEL_c6654529b7af4ddfa14cecc18ff9dfd5"
       ],
       "layout": "IPY_MODEL_5c58853acfb5421bab4f084060ddeda0"
      }
     },
     "29c97426d5cb458191052e8a2f8f01f5": {
      "model_module": "jupyter-js-widgets",
      "model_module_version": "~2.1.4",
      "model_name": "ButtonStyleModel",
      "state": {
       "_model_module_version": "~2.1.4",
       "_view_module_version": "~2.1.4"
      }
     },
     "2acd38ccf31b49a18eab7a3154642bb3": {
      "model_module": "jupyter-js-widgets",
      "model_module_version": "~2.1.4",
      "model_name": "LayoutModel",
      "state": {
       "_model_module_version": "~2.1.4",
       "_view_module_version": "~2.1.4",
       "height": "20px"
      }
     },
     "2b0edf0b93b34ecf8322bce2e1870314": {
      "model_module": "jupyter-js-widgets",
      "model_module_version": "~2.1.4",
      "model_name": "LayoutModel",
      "state": {
       "_model_module_version": "~2.1.4",
       "_view_module_version": "~2.1.4"
      }
     },
     "2b19b6b64358434c950858d44f29d7e5": {
      "model_module": "jupyter-js-widgets",
      "model_module_version": "~2.1.4",
      "model_name": "LayoutModel",
      "state": {
       "_model_module_version": "~2.1.4",
       "_view_module_version": "~2.1.4"
      }
     },
     "2b43ac4e957343e4acda67f1a40a7527": {
      "model_module": "jupyter-js-widgets",
      "model_module_version": "~2.1.4",
      "model_name": "LabelModel",
      "state": {
       "_model_module_version": "~2.1.4",
       "_view_module_version": "~2.1.4",
       "layout": "IPY_MODEL_1f64cb941f164304a6d16f8d3b52f918",
       "value": "Text Box"
      }
     },
     "2ca1726347464d3ba55b9bef1c02bf67": {
      "model_module": "jupyter-js-widgets",
      "model_module_version": "~2.1.4",
      "model_name": "TextareaModel",
      "state": {
       "_model_module_version": "~2.1.4",
       "_view_module_version": "~2.1.4",
       "layout": "IPY_MODEL_302a66a891144143b2c9072e674d0b46"
      }
     },
     "2d6e1ed506714979b48f0518fd8102f3": {
      "model_module": "jupyter-js-widgets",
      "model_module_version": "~2.1.4",
      "model_name": "LayoutModel",
      "state": {
       "_model_module_version": "~2.1.4",
       "_view_module_version": "~2.1.4",
       "height": "20px"
      }
     },
     "300eb61b6d2045d39e967660a17f6e9a": {
      "model_module": "jupyter-js-widgets",
      "model_module_version": "~2.1.4",
      "model_name": "LayoutModel",
      "state": {
       "_model_module_version": "~2.1.4",
       "_view_module_version": "~2.1.4"
      }
     },
     "30218252c3774a2ca44b7ac6a02b2300": {
      "model_module": "jupyter-js-widgets",
      "model_module_version": "~2.1.4",
      "model_name": "TextareaModel",
      "state": {
       "_model_module_version": "~2.1.4",
       "_view_module_version": "~2.1.4",
       "layout": "IPY_MODEL_fa6e86e706684ead9588de0d11240a0e"
      }
     },
     "302a66a891144143b2c9072e674d0b46": {
      "model_module": "jupyter-js-widgets",
      "model_module_version": "~2.1.4",
      "model_name": "LayoutModel",
      "state": {
       "_model_module_version": "~2.1.4",
       "_view_module_version": "~2.1.4",
       "height": "20px"
      }
     },
     "311ea8c0a4bd4e1f8d03e63386461645": {
      "model_module": "jupyter-js-widgets",
      "model_module_version": "~2.1.4",
      "model_name": "LayoutModel",
      "state": {
       "_model_module_version": "~2.1.4",
       "_view_module_version": "~2.1.4"
      }
     },
     "320569bed57b46478df9b32f9b4773ce": {
      "model_module": "jupyter-js-widgets",
      "model_module_version": "~2.1.4",
      "model_name": "LayoutModel",
      "state": {
       "_model_module_version": "~2.1.4",
       "_view_module_version": "~2.1.4"
      }
     },
     "324938ec611f46828ebefe4f5f844a29": {
      "model_module": "jupyter-js-widgets",
      "model_module_version": "~2.1.4",
      "model_name": "LayoutModel",
      "state": {
       "_model_module_version": "~2.1.4",
       "_view_module_version": "~2.1.4",
       "height": "100px"
      }
     },
     "3326855147904d4f92d22aa0e0fcbffd": {
      "model_module": "jupyter-js-widgets",
      "model_module_version": "~2.1.4",
      "model_name": "LayoutModel",
      "state": {
       "_model_module_version": "~2.1.4",
       "_view_module_version": "~2.1.4",
       "height": "20px"
      }
     },
     "33c68ecd8cb4417baff57c22249b1314": {
      "model_module": "jupyter-js-widgets",
      "model_module_version": "~2.1.4",
      "model_name": "LayoutModel",
      "state": {
       "_model_module_version": "~2.1.4",
       "_view_module_version": "~2.1.4"
      }
     },
     "343b0cd6a9bb49118b3b85c83468185f": {
      "model_module": "jupyter-js-widgets",
      "model_module_version": "~2.1.4",
      "model_name": "LayoutModel",
      "state": {
       "_model_module_version": "~2.1.4",
       "_view_module_version": "~2.1.4"
      }
     },
     "34736fdd16114f5f8fb06333b6e7eb95": {
      "model_module": "jupyter-js-widgets",
      "model_module_version": "~2.1.4",
      "model_name": "LayoutModel",
      "state": {
       "_model_module_version": "~2.1.4",
       "_view_module_version": "~2.1.4",
       "height": "100px"
      }
     },
     "3591a93336bf48bf94256dba9414f970": {
      "model_module": "jupyter-js-widgets",
      "model_module_version": "~2.1.4",
      "model_name": "LabelModel",
      "state": {
       "_model_module_version": "~2.1.4",
       "_view_module_version": "~2.1.4",
       "layout": "IPY_MODEL_b8ce4d7496c44ba09bef8b484e4d9d4a",
       "value": "Pattern Box"
      }
     },
     "36622ffde4a44bb59cc59e73b879b885": {
      "model_module": "jupyter-js-widgets",
      "model_module_version": "~2.1.4",
      "model_name": "TextareaModel",
      "state": {
       "_model_module_version": "~2.1.4",
       "_view_module_version": "~2.1.4",
       "layout": "IPY_MODEL_aaa62c54b5cf4ea19107980fe0f5d041"
      }
     },
     "37c28d9e3de1479c89219366c1092c6e": {
      "model_module": "jupyter-js-widgets",
      "model_module_version": "~2.1.4",
      "model_name": "ButtonStyleModel",
      "state": {
       "_model_module_version": "~2.1.4",
       "_view_module_version": "~2.1.4"
      }
     },
     "38149321254141e8b2bf6085301ec939": {
      "model_module": "jupyter-js-widgets",
      "model_module_version": "~2.1.4",
      "model_name": "LayoutModel",
      "state": {
       "_model_module_version": "~2.1.4",
       "_view_module_version": "~2.1.4"
      }
     },
     "3979c5612faf49008b5fbc2983739280": {
      "model_module": "jupyter-js-widgets",
      "model_module_version": "~2.1.4",
      "model_name": "LayoutModel",
      "state": {
       "_model_module_version": "~2.1.4",
       "_view_module_version": "~2.1.4",
       "height": "100px"
      }
     },
     "397f3056153541708440285d941cd04b": {
      "model_module": "jupyter-js-widgets",
      "model_module_version": "~2.1.4",
      "model_name": "LayoutModel",
      "state": {
       "_model_module_version": "~2.1.4",
       "_view_module_version": "~2.1.4"
      }
     },
     "39d40c97520c47c3b96fffc22fb4426b": {
      "model_module": "jupyter-js-widgets",
      "model_module_version": "~2.1.4",
      "model_name": "LayoutModel",
      "state": {
       "_model_module_version": "~2.1.4",
       "_view_module_version": "~2.1.4"
      }
     },
     "3aaab5e0878f4bbd89e13e24fc160ae0": {
      "model_module": "jupyter-js-widgets",
      "model_module_version": "~2.1.4",
      "model_name": "BoxModel",
      "state": {
       "_model_module_version": "~2.1.4",
       "_view_module_version": "~2.1.4",
       "children": [
        "IPY_MODEL_f3098d89a4cd492fbf0803527ba936ba",
        "IPY_MODEL_dcc68beac9fe42f2b5d73085cf4cbdef"
       ],
       "layout": "IPY_MODEL_888e4b7bed5244f787e0fce552255754"
      }
     },
     "3b5c9440385746c0b23544fdaceab7c9": {
      "model_module": "jupyter-js-widgets",
      "model_module_version": "~2.1.4",
      "model_name": "LayoutModel",
      "state": {
       "_model_module_version": "~2.1.4",
       "_view_module_version": "~2.1.4",
       "height": "100px"
      }
     },
     "3b70737cd31c4753b58bc7cdbf5eb54f": {
      "model_module": "jupyter-js-widgets",
      "model_module_version": "~2.1.4",
      "model_name": "ButtonModel",
      "state": {
       "_model_module_version": "~2.1.4",
       "_view_module_version": "~2.1.4",
       "description": "Match Pattern",
       "layout": "IPY_MODEL_300eb61b6d2045d39e967660a17f6e9a",
       "style": "IPY_MODEL_aadae808691b4bba8b87124daabc01bc"
      }
     },
     "3c8a77b3089d4594addf4e1b80b32eab": {
      "model_module": "jupyter-js-widgets",
      "model_module_version": "~2.1.4",
      "model_name": "ButtonStyleModel",
      "state": {
       "_model_module_version": "~2.1.4",
       "_view_module_version": "~2.1.4"
      }
     },
     "3d3055270e48489ebd2ea6e5b83c4d27": {
      "model_module": "jupyter-js-widgets",
      "model_module_version": "~2.1.4",
      "model_name": "ButtonModel",
      "state": {
       "_model_module_version": "~2.1.4",
       "_view_module_version": "~2.1.4",
       "description": "Match Pattern",
       "layout": "IPY_MODEL_fc67d640585b4191973536c866773339",
       "style": "IPY_MODEL_b1b2b46b729d42009e6c6b2cc1d751bf"
      }
     },
     "3d321bf7029749d58e3a7816f684e788": {
      "model_module": "jupyter-js-widgets",
      "model_module_version": "~2.1.4",
      "model_name": "BoxModel",
      "state": {
       "_model_module_version": "~2.1.4",
       "_view_module_version": "~2.1.4",
       "children": [
        "IPY_MODEL_7d55170c706f4b6e932264041493ea89",
        "IPY_MODEL_7826c0fff7684913ae1bfaca6882ee44"
       ],
       "layout": "IPY_MODEL_5cc794810de24a66929cde77dcabe6bb"
      }
     },
     "3d400bc581e947d7b870f2f883fb7a7d": {
      "model_module": "jupyter-js-widgets",
      "model_module_version": "~2.1.4",
      "model_name": "LayoutModel",
      "state": {
       "_model_module_version": "~2.1.4",
       "_view_module_version": "~2.1.4",
       "height": "100px"
      }
     },
     "3d4c1e924d9a45c0aa1d3858f133ea5f": {
      "model_module": "jupyter-js-widgets",
      "model_module_version": "~2.1.4",
      "model_name": "LayoutModel",
      "state": {
       "_model_module_version": "~2.1.4",
       "_view_module_version": "~2.1.4"
      }
     },
     "3ed6cee0f9994a4d9945e0f79dc2f26f": {
      "model_module": "jupyter-js-widgets",
      "model_module_version": "~2.1.4",
      "model_name": "LayoutModel",
      "state": {
       "_model_module_version": "~2.1.4",
       "_view_module_version": "~2.1.4",
       "height": "100px"
      }
     },
     "3efcc96cc4ab4e9489f40648485af700": {
      "model_module": "jupyter-js-widgets",
      "model_module_version": "~2.1.4",
      "model_name": "LabelModel",
      "state": {
       "_model_module_version": "~2.1.4",
       "_view_module_version": "~2.1.4",
       "layout": "IPY_MODEL_4c4cc05b405f4524b6de036e03397125",
       "value": "Pattern Box"
      }
     },
     "41638012d71d48b198e9f07c72a3d080": {
      "model_module": "jupyter-js-widgets",
      "model_module_version": "~2.1.4",
      "model_name": "ButtonModel",
      "state": {
       "_model_module_version": "~2.1.4",
       "_view_module_version": "~2.1.4",
       "description": "Match Pattern",
       "layout": "IPY_MODEL_c4f025ef0f474340831871e363c9981c",
       "style": "IPY_MODEL_ff389c80489244afb9f2cf7f6070b88f"
      }
     },
     "41bf4f490a8c4e3184341d62bdf1dd8e": {
      "model_module": "jupyter-js-widgets",
      "model_module_version": "~2.1.4",
      "model_name": "LayoutModel",
      "state": {
       "_model_module_version": "~2.1.4",
       "_view_module_version": "~2.1.4",
       "height": "100px"
      }
     },
     "42cf8681ec7640fc99b6d3cf5c0b6b9a": {
      "model_module": "jupyter-js-widgets",
      "model_module_version": "~2.1.4",
      "model_name": "LayoutModel",
      "state": {
       "_model_module_version": "~2.1.4",
       "_view_module_version": "~2.1.4"
      }
     },
     "4369aa947e3240d4b49a4a47e10f7e95": {
      "model_module": "jupyter-js-widgets",
      "model_module_version": "~2.1.4",
      "model_name": "LayoutModel",
      "state": {
       "_model_module_version": "~2.1.4",
       "_view_module_version": "~2.1.4",
       "height": "20px"
      }
     },
     "4439ff844fb14dfd81ddc42c1a9a6cf4": {
      "model_module": "jupyter-js-widgets",
      "model_module_version": "~2.1.4",
      "model_name": "LayoutModel",
      "state": {
       "_model_module_version": "~2.1.4",
       "_view_module_version": "~2.1.4"
      }
     },
     "44ac86932f214f50bba5181b09e965b1": {
      "model_module": "jupyter-js-widgets",
      "model_module_version": "~2.1.4",
      "model_name": "LayoutModel",
      "state": {
       "_model_module_version": "~2.1.4",
       "_view_module_version": "~2.1.4",
       "height": "100px"
      }
     },
     "44c27fb30ab445529acc12d3de1108de": {
      "model_module": "jupyter-js-widgets",
      "model_module_version": "~2.1.4",
      "model_name": "LayoutModel",
      "state": {
       "_model_module_version": "~2.1.4",
       "_view_module_version": "~2.1.4",
       "height": "100px"
      }
     },
     "456092312c47427684364ed437d18d1e": {
      "model_module": "jupyter-js-widgets",
      "model_module_version": "~2.1.4",
      "model_name": "LayoutModel",
      "state": {
       "_model_module_version": "~2.1.4",
       "_view_module_version": "~2.1.4"
      }
     },
     "45cfd1b4471a46c687db939999aa1b66": {
      "model_module": "jupyter-js-widgets",
      "model_module_version": "~2.1.4",
      "model_name": "BoxModel",
      "state": {
       "_model_module_version": "~2.1.4",
       "_view_module_version": "~2.1.4",
       "children": [
        "IPY_MODEL_67b6675850f24cec8264ae48d23e5f44",
        "IPY_MODEL_05d64e0ef1b14702b19eabac1debe622"
       ],
       "layout": "IPY_MODEL_fb18152c1ac64b6783e01ef3ce5a82bb"
      }
     },
     "4885b7c6af8b4feebd26b8b014ca5ae9": {
      "model_module": "jupyter-js-widgets",
      "model_module_version": "~2.1.4",
      "model_name": "TextareaModel",
      "state": {
       "_model_module_version": "~2.1.4",
       "_view_module_version": "~2.1.4",
       "layout": "IPY_MODEL_a3748541323041cf9d00e1fb869fa94f",
       "value": "[a-z]"
      }
     },
     "48d6589853444d4ba1af7b4edd2a5afc": {
      "model_module": "jupyter-js-widgets",
      "model_module_version": "~2.1.4",
      "model_name": "LayoutModel",
      "state": {
       "_model_module_version": "~2.1.4",
       "_view_module_version": "~2.1.4",
       "height": "100px"
      }
     },
     "49300503d2434d9bacf3e0aef1adf505": {
      "model_module": "jupyter-js-widgets",
      "model_module_version": "~2.1.4",
      "model_name": "LayoutModel",
      "state": {
       "_model_module_version": "~2.1.4",
       "_view_module_version": "~2.1.4",
       "height": "100px"
      }
     },
     "4956973231c349f5b3e0b493f7d5ea43": {
      "model_module": "jupyter-js-widgets",
      "model_module_version": "~2.1.4",
      "model_name": "TextareaModel",
      "state": {
       "_model_module_version": "~2.1.4",
       "_view_module_version": "~2.1.4",
       "layout": "IPY_MODEL_0b949fdca4834247b8744c1ac64e64be"
      }
     },
     "49e7ce4777bf49fc973a955073852022": {
      "model_module": "jupyter-js-widgets",
      "model_module_version": "~2.1.4",
      "model_name": "LayoutModel",
      "state": {
       "_model_module_version": "~2.1.4",
       "_view_module_version": "~2.1.4",
       "height": "100px"
      }
     },
     "4a03635ed3a0449e861dd76e2efd9e55": {
      "model_module": "jupyter-js-widgets",
      "model_module_version": "~2.1.4",
      "model_name": "LayoutModel",
      "state": {
       "_model_module_version": "~2.1.4",
       "_view_module_version": "~2.1.4",
       "height": "100px"
      }
     },
     "4b7b28c23f424d44836efeea8175f672": {
      "model_module": "jupyter-js-widgets",
      "model_module_version": "~2.1.4",
      "model_name": "BoxModel",
      "state": {
       "_model_module_version": "~2.1.4",
       "_view_module_version": "~2.1.4",
       "children": [
        "IPY_MODEL_c041ff9a202d417b8ca0516dc8000fd6",
        "IPY_MODEL_141ab40b93f7425d8a675a52e62fbace"
       ],
       "layout": "IPY_MODEL_54b2e8815bbd4df199ad521c42160d11"
      }
     },
     "4c4cc05b405f4524b6de036e03397125": {
      "model_module": "jupyter-js-widgets",
      "model_module_version": "~2.1.4",
      "model_name": "LayoutModel",
      "state": {
       "_model_module_version": "~2.1.4",
       "_view_module_version": "~2.1.4"
      }
     },
     "4d788691a5294c43b1bf6e491bc7c315": {
      "model_module": "jupyter-js-widgets",
      "model_module_version": "~2.1.4",
      "model_name": "BoxModel",
      "state": {
       "_model_module_version": "~2.1.4",
       "_view_module_version": "~2.1.4",
       "children": [
        "IPY_MODEL_ad14709d16ba4f2ab4f337fad4f41647",
        "IPY_MODEL_c34d2109d29a402d9ad9c3a3583d0f68"
       ],
       "layout": "IPY_MODEL_73e25f318de24f53b3d5fd4feaf1253a"
      }
     },
     "4e71ff25c3234fec80deb04c96add18f": {
      "model_module": "jupyter-js-widgets",
      "model_module_version": "~2.1.4",
      "model_name": "LayoutModel",
      "state": {
       "_model_module_version": "~2.1.4",
       "_view_module_version": "~2.1.4"
      }
     },
     "4f0d166bd3ff4c14be7eca64d3baec7d": {
      "model_module": "jupyter-js-widgets",
      "model_module_version": "~2.1.4",
      "model_name": "ButtonModel",
      "state": {
       "_model_module_version": "~2.1.4",
       "_view_module_version": "~2.1.4",
       "description": "Custom color",
       "layout": "IPY_MODEL_4439ff844fb14dfd81ddc42c1a9a6cf4",
       "style": "IPY_MODEL_83e674812b5b494398c724effbea6816"
      }
     },
     "4f7d3fb891d84896bd1d509075bf7f59": {
      "model_module": "jupyter-js-widgets",
      "model_module_version": "~2.1.4",
      "model_name": "BoxModel",
      "state": {
       "_model_module_version": "~2.1.4",
       "_view_module_version": "~2.1.4",
       "children": [
        "IPY_MODEL_b18e39b5e0fc4839b1c92593bfd6712b",
        "IPY_MODEL_1ca021ea3e6a486fac2baae94d6fd229"
       ],
       "layout": "IPY_MODEL_343b0cd6a9bb49118b3b85c83468185f"
      }
     },
     "4f88eb0b8e6d4843a07c13d863d671d8": {
      "model_module": "jupyter-js-widgets",
      "model_module_version": "~2.1.4",
      "model_name": "TextareaModel",
      "state": {
       "_model_module_version": "~2.1.4",
       "_view_module_version": "~2.1.4",
       "layout": "IPY_MODEL_49300503d2434d9bacf3e0aef1adf505",
       "value": "Welcome to JupyterCon 2017!"
      }
     },
     "5055df230d7449498aacc8ddf6709be8": {
      "model_module": "jupyter-js-widgets",
      "model_module_version": "~2.1.4",
      "model_name": "LayoutModel",
      "state": {
       "_model_module_version": "~2.1.4",
       "_view_module_version": "~2.1.4",
       "height": "100px"
      }
     },
     "5151680f37da44d0aa2302e64e2d31ba": {
      "model_module": "jupyter-js-widgets",
      "model_module_version": "~2.1.4",
      "model_name": "LayoutModel",
      "state": {
       "_model_module_version": "~2.1.4",
       "_view_module_version": "~2.1.4"
      }
     },
     "52ed7a0143c44bb8807ed8fcfb5f1b2a": {
      "model_module": "jupyter-js-widgets",
      "model_module_version": "~2.1.4",
      "model_name": "LayoutModel",
      "state": {
       "_model_module_version": "~2.1.4",
       "_view_module_version": "~2.1.4",
       "height": "100px"
      }
     },
     "53590f2bc0b94197aad815e4480f4c8a": {
      "model_module": "jupyter-js-widgets",
      "model_module_version": "~2.1.4",
      "model_name": "LayoutModel",
      "state": {
       "_model_module_version": "~2.1.4",
       "_view_module_version": "~2.1.4"
      }
     },
     "53c74bef5e8947bd88957a9a6c54db3b": {
      "model_module": "jupyter-js-widgets",
      "model_module_version": "~2.1.4",
      "model_name": "BoxModel",
      "state": {
       "_model_module_version": "~2.1.4",
       "_view_module_version": "~2.1.4",
       "children": [
        "IPY_MODEL_c16274863f6c4eecb457b7a8884777d7",
        "IPY_MODEL_6e54f18999dd492893b302044e88386f"
       ],
       "layout": "IPY_MODEL_d2e3800423414dfe895041ed183c550d"
      }
     },
     "53f8b6419c2b409e88874589d37d7f76": {
      "model_module": "jupyter-js-widgets",
      "model_module_version": "~2.1.4",
      "model_name": "LayoutModel",
      "state": {
       "_model_module_version": "~2.1.4",
       "_view_module_version": "~2.1.4"
      }
     },
     "54b2e8815bbd4df199ad521c42160d11": {
      "model_module": "jupyter-js-widgets",
      "model_module_version": "~2.1.4",
      "model_name": "LayoutModel",
      "state": {
       "_model_module_version": "~2.1.4",
       "_view_module_version": "~2.1.4"
      }
     },
     "5508cd5e9c724c68a7dd0262d3eaeff2": {
      "model_module": "jupyter-js-widgets",
      "model_module_version": "~2.1.4",
      "model_name": "LayoutModel",
      "state": {
       "_model_module_version": "~2.1.4",
       "_view_module_version": "~2.1.4"
      }
     },
     "5572c91775aa4dae99767f2e8e92b640": {
      "model_module": "jupyter-js-widgets",
      "model_module_version": "~2.1.4",
      "model_name": "TextareaModel",
      "state": {
       "_model_module_version": "~2.1.4",
       "_view_module_version": "~2.1.4",
       "layout": "IPY_MODEL_cf7c0783a0234360a080401570df7eda"
      }
     },
     "5803f07614d846659cc9aac4f0b5cf5d": {
      "model_module": "jupyter-js-widgets",
      "model_module_version": "~2.1.4",
      "model_name": "LabelModel",
      "state": {
       "_model_module_version": "~2.1.4",
       "_view_module_version": "~2.1.4",
       "layout": "IPY_MODEL_921547dfa6474d26a59b1a281cd3c84a",
       "value": "Pattern Box"
      }
     },
     "581924f37a9a4b9bbc8a69b5534ec0e5": {
      "model_module": "jupyter-js-widgets",
      "model_module_version": "~2.1.4",
      "model_name": "ButtonModel",
      "state": {
       "_model_module_version": "~2.1.4",
       "_view_module_version": "~2.1.4",
       "description": "Match Pattern",
       "layout": "IPY_MODEL_bfff7dff0c914040949ff0c844b0387c",
       "style": "IPY_MODEL_d8b59eeab7bd4deb96098b0da9b03e73"
      }
     },
     "58472209073240dd92f53fee0e45d3a4": {
      "model_module": "jupyter-js-widgets",
      "model_module_version": "~2.1.4",
      "model_name": "BoxModel",
      "state": {
       "_model_module_version": "~2.1.4",
       "_view_module_version": "~2.1.4",
       "children": [
        "IPY_MODEL_c82397af7b5541b181e5432f6c24dcf3",
        "IPY_MODEL_f2e6c151d765448d960e9909a5935a3d"
       ],
       "layout": "IPY_MODEL_5e017ebb65364f7b9ef6aab78090df99"
      }
     },
     "58ffaddb8dde4a18a6bef185de0c6d82": {
      "model_module": "jupyter-js-widgets",
      "model_module_version": "~2.1.4",
      "model_name": "ButtonStyleModel",
      "state": {
       "_model_module_version": "~2.1.4",
       "_view_module_version": "~2.1.4"
      }
     },
     "595d30dd7fe944a9b113a38bf61440d1": {
      "model_module": "jupyter-js-widgets",
      "model_module_version": "~2.1.4",
      "model_name": "LayoutModel",
      "state": {
       "_model_module_version": "~2.1.4",
       "_view_module_version": "~2.1.4"
      }
     },
     "5962bca71f6d444b9457c67bc7f2646b": {
      "model_module": "jupyter-js-widgets",
      "model_module_version": "~2.1.4",
      "model_name": "LayoutModel",
      "state": {
       "_model_module_version": "~2.1.4",
       "_view_module_version": "~2.1.4"
      }
     },
     "5a769e4e955b4ecb9a5b74ff90808061": {
      "model_module": "jupyter-js-widgets",
      "model_module_version": "~2.1.4",
      "model_name": "ButtonModel",
      "state": {
       "_model_module_version": "~2.1.4",
       "_view_module_version": "~2.1.4",
       "description": "Match Pattern",
       "layout": "IPY_MODEL_595d30dd7fe944a9b113a38bf61440d1",
       "style": "IPY_MODEL_f28874f821284c92a0a31094934c5f8f"
      }
     },
     "5b5288b601994d30a20c165c9304ebba": {
      "model_module": "jupyter-js-widgets",
      "model_module_version": "~2.1.4",
      "model_name": "TextareaModel",
      "state": {
       "_model_module_version": "~2.1.4",
       "_view_module_version": "~2.1.4",
       "layout": "IPY_MODEL_9aa9265823fc4c9c8a64f68cfaf0f3be",
       "value": "[A-Z]"
      }
     },
     "5c0c580421624dce9fd60ce21805bf92": {
      "model_module": "jupyter-js-widgets",
      "model_module_version": "~2.1.4",
      "model_name": "LayoutModel",
      "state": {
       "_model_module_version": "~2.1.4",
       "_view_module_version": "~2.1.4"
      }
     },
     "5c58853acfb5421bab4f084060ddeda0": {
      "model_module": "jupyter-js-widgets",
      "model_module_version": "~2.1.4",
      "model_name": "LayoutModel",
      "state": {
       "_model_module_version": "~2.1.4",
       "_view_module_version": "~2.1.4"
      }
     },
     "5c95fe331b1b499cbdc8aa5e681a4d79": {
      "model_module": "jupyter-js-widgets",
      "model_module_version": "~2.1.4",
      "model_name": "LayoutModel",
      "state": {
       "_model_module_version": "~2.1.4",
       "_view_module_version": "~2.1.4",
       "height": "100px"
      }
     },
     "5cc794810de24a66929cde77dcabe6bb": {
      "model_module": "jupyter-js-widgets",
      "model_module_version": "~2.1.4",
      "model_name": "LayoutModel",
      "state": {
       "_model_module_version": "~2.1.4",
       "_view_module_version": "~2.1.4"
      }
     },
     "5e017ebb65364f7b9ef6aab78090df99": {
      "model_module": "jupyter-js-widgets",
      "model_module_version": "~2.1.4",
      "model_name": "LayoutModel",
      "state": {
       "_model_module_version": "~2.1.4",
       "_view_module_version": "~2.1.4"
      }
     },
     "5e6491f43a144ba48c7e560e2177c2da": {
      "model_module": "jupyter-js-widgets",
      "model_module_version": "~2.1.4",
      "model_name": "TextareaModel",
      "state": {
       "_model_module_version": "~2.1.4",
       "_view_module_version": "~2.1.4",
       "layout": "IPY_MODEL_dfd05cd5015240ff909b8418898aa910"
      }
     },
     "5e8d72b1d9bd4188b4829179fe464c71": {
      "model_module": "jupyter-js-widgets",
      "model_module_version": "~2.1.4",
      "model_name": "BoxModel",
      "state": {
       "_model_module_version": "~2.1.4",
       "_view_module_version": "~2.1.4",
       "children": [
        "IPY_MODEL_dee7a823486747f185056ceafef1430b",
        "IPY_MODEL_f50dcd4af3c849f380615b828e27e5a0"
       ],
       "layout": "IPY_MODEL_1a79c85d364040268059a83322a2b6eb"
      }
     },
     "5f5bf526db5844938a11ee29c2bc4454": {
      "model_module": "jupyter-js-widgets",
      "model_module_version": "~2.1.4",
      "model_name": "BoxModel",
      "state": {
       "_model_module_version": "~2.1.4",
       "_view_module_version": "~2.1.4",
       "children": [
        "IPY_MODEL_f593a8a75b354b0eb5151ab346d82231",
        "IPY_MODEL_bf12933cd29f49b8b30a8c512fdecfce"
       ],
       "layout": "IPY_MODEL_1364cfe953c9492f87d6a24d920d08e1"
      }
     },
     "5fda8688aeda49fcac4b853668ed8165": {
      "model_module": "jupyter-js-widgets",
      "model_module_version": "~2.1.4",
      "model_name": "LayoutModel",
      "state": {
       "_model_module_version": "~2.1.4",
       "_view_module_version": "~2.1.4",
       "height": "20px"
      }
     },
     "60cdfe9cf0ff4353941163b2afdb0f14": {
      "model_module": "jupyter-js-widgets",
      "model_module_version": "~2.1.4",
      "model_name": "LayoutModel",
      "state": {
       "_model_module_version": "~2.1.4",
       "_view_module_version": "~2.1.4"
      }
     },
     "63c46320a3b9421c81cdbf9ebcd5f3a5": {
      "model_module": "jupyter-js-widgets",
      "model_module_version": "~2.1.4",
      "model_name": "TextareaModel",
      "state": {
       "_model_module_version": "~2.1.4",
       "_view_module_version": "~2.1.4",
       "layout": "IPY_MODEL_5fda8688aeda49fcac4b853668ed8165",
       "value": "[A-Z]"
      }
     },
     "642b3cb9d71a419391366eb3a228c6f7": {
      "model_module": "jupyter-js-widgets",
      "model_module_version": "~2.1.4",
      "model_name": "TextareaModel",
      "state": {
       "_model_module_version": "~2.1.4",
       "_view_module_version": "~2.1.4",
       "layout": "IPY_MODEL_2acd38ccf31b49a18eab7a3154642bb3",
       "value": "to\\s[A-Za-z]+"
      }
     },
     "663f8f1fb22f46faa9b2efabe00c65e9": {
      "model_module": "jupyter-js-widgets",
      "model_module_version": "~2.1.4",
      "model_name": "ButtonModel",
      "state": {
       "_model_module_version": "~2.1.4",
       "_view_module_version": "~2.1.4",
       "description": "Match Pattern",
       "layout": "IPY_MODEL_1338a7b11eb0473baec3cb39175aa4d5",
       "style": "IPY_MODEL_3c8a77b3089d4594addf4e1b80b32eab"
      }
     },
     "66bca06bb22b490db40a08e834d2c232": {
      "model_module": "jupyter-js-widgets",
      "model_module_version": "~2.1.4",
      "model_name": "TextModel",
      "state": {
       "_model_module_version": "~2.1.4",
       "_view_module_version": "~2.1.4",
       "layout": "IPY_MODEL_f6938151289e4259b1bc8040377091b6"
      }
     },
     "67b6675850f24cec8264ae48d23e5f44": {
      "model_module": "jupyter-js-widgets",
      "model_module_version": "~2.1.4",
      "model_name": "LabelModel",
      "state": {
       "_model_module_version": "~2.1.4",
       "_view_module_version": "~2.1.4",
       "layout": "IPY_MODEL_6d8aeec7ec17426eb68fd719057f1570",
       "value": "Pattern Box"
      }
     },
     "67f55fc4ea7a4b9f8b60d34170659557": {
      "model_module": "jupyter-js-widgets",
      "model_module_version": "~2.1.4",
      "model_name": "LabelModel",
      "state": {
       "_model_module_version": "~2.1.4",
       "_view_module_version": "~2.1.4",
       "layout": "IPY_MODEL_ca6b3059378a4ae3ba12a63af3fe25a3",
       "value": "Pattern Box"
      }
     },
     "6a7a1af15f5e4620bfe2c5436aed5058": {
      "model_module": "jupyter-js-widgets",
      "model_module_version": "~2.1.4",
      "model_name": "ButtonModel",
      "state": {
       "_model_module_version": "~2.1.4",
       "_view_module_version": "~2.1.4",
       "description": "Match Pattern",
       "layout": "IPY_MODEL_8f12415d3e0748a380bc58ef16fc472e",
       "style": "IPY_MODEL_1693c6952dda4c37b1655afc6261afd6"
      }
     },
     "6c14fe122f06438ba856ba7757ab4fbd": {
      "model_module": "jupyter-js-widgets",
      "model_module_version": "~2.1.4",
      "model_name": "LayoutModel",
      "state": {
       "_model_module_version": "~2.1.4",
       "_view_module_version": "~2.1.4",
       "height": "100px"
      }
     },
     "6c7956960530446b9bd40a29a035ddcc": {
      "model_module": "jupyter-js-widgets",
      "model_module_version": "~2.1.4",
      "model_name": "LayoutModel",
      "state": {
       "_model_module_version": "~2.1.4",
       "_view_module_version": "~2.1.4"
      }
     },
     "6d8aeec7ec17426eb68fd719057f1570": {
      "model_module": "jupyter-js-widgets",
      "model_module_version": "~2.1.4",
      "model_name": "LayoutModel",
      "state": {
       "_model_module_version": "~2.1.4",
       "_view_module_version": "~2.1.4"
      }
     },
     "6dc5a7d22438458591f3dc5b4b38a4b6": {
      "model_module": "jupyter-js-widgets",
      "model_module_version": "~2.1.4",
      "model_name": "LabelModel",
      "state": {
       "_model_module_version": "~2.1.4",
       "_view_module_version": "~2.1.4",
       "layout": "IPY_MODEL_8bd12baeaf374e3bbcedb08200f68b2d",
       "value": "Text Box"
      }
     },
     "6e54f18999dd492893b302044e88386f": {
      "model_module": "jupyter-js-widgets",
      "model_module_version": "~2.1.4",
      "model_name": "TextareaModel",
      "state": {
       "_model_module_version": "~2.1.4",
       "_view_module_version": "~2.1.4",
       "layout": "IPY_MODEL_44c27fb30ab445529acc12d3de1108de",
       "value": "Welcome to JupyterCon 2017!"
      }
     },
     "6fc17c9beabb499386a57f91ca9a3969": {
      "model_module": "jupyter-js-widgets",
      "model_module_version": "~2.1.4",
      "model_name": "ButtonModel",
      "state": {
       "_model_module_version": "~2.1.4",
       "_view_module_version": "~2.1.4",
       "description": "Match Pattern",
       "layout": "IPY_MODEL_22714fcb83e246b4a892dacda1ac0740",
       "style": "IPY_MODEL_58ffaddb8dde4a18a6bef185de0c6d82"
      }
     },
     "724ea318c9ad41ff8f85a38ad15905b2": {
      "model_module": "jupyter-js-widgets",
      "model_module_version": "~2.1.4",
      "model_name": "BoxModel",
      "state": {
       "_model_module_version": "~2.1.4",
       "_view_module_version": "~2.1.4",
       "children": [
        "IPY_MODEL_9a848a3ec19b4ab5af4888bbc34db4e5",
        "IPY_MODEL_11a6d1c6c90043ad83184a69518c73a2"
       ],
       "layout": "IPY_MODEL_0e7def68729e4e88847804a95f66cdea"
      }
     },
     "726e69bad89c4d5c8052a2c6747b441b": {
      "model_module": "jupyter-js-widgets",
      "model_module_version": "~2.1.4",
      "model_name": "LayoutModel",
      "state": {
       "_model_module_version": "~2.1.4",
       "_view_module_version": "~2.1.4"
      }
     },
     "73e25f318de24f53b3d5fd4feaf1253a": {
      "model_module": "jupyter-js-widgets",
      "model_module_version": "~2.1.4",
      "model_name": "LayoutModel",
      "state": {
       "_model_module_version": "~2.1.4",
       "_view_module_version": "~2.1.4"
      }
     },
     "74c1e9abed064558974a78412f6d8ac2": {
      "model_module": "jupyter-js-widgets",
      "model_module_version": "~2.1.4",
      "model_name": "LabelModel",
      "state": {
       "_model_module_version": "~2.1.4",
       "_view_module_version": "~2.1.4",
       "layout": "IPY_MODEL_dea1de6fde524675bba5830e22b1d20a",
       "value": "Pattern Box"
      }
     },
     "76fad614c6f14e8a8e465e3e596b7d79": {
      "model_module": "jupyter-js-widgets",
      "model_module_version": "~2.1.4",
      "model_name": "BoxModel",
      "state": {
       "_model_module_version": "~2.1.4",
       "_view_module_version": "~2.1.4",
       "children": [
        "IPY_MODEL_74c1e9abed064558974a78412f6d8ac2",
        "IPY_MODEL_f60952286be744dfa7913a3e2e5f0589"
       ],
       "layout": "IPY_MODEL_df43bf73fe8b4b8f9ff77ebd4fa51a35"
      }
     },
     "7826c0fff7684913ae1bfaca6882ee44": {
      "model_module": "jupyter-js-widgets",
      "model_module_version": "~2.1.4",
      "model_name": "TextareaModel",
      "state": {
       "_model_module_version": "~2.1.4",
       "_view_module_version": "~2.1.4",
       "layout": "IPY_MODEL_4369aa947e3240d4b49a4a47e10f7e95"
      }
     },
     "789b537fef5141e0b69332d206d91266": {
      "model_module": "jupyter-js-widgets",
      "model_module_version": "~2.1.4",
      "model_name": "TextareaModel",
      "state": {
       "_model_module_version": "~2.1.4",
       "_view_module_version": "~2.1.4",
       "layout": "IPY_MODEL_e50e2f9061b74bfa951cab298d6b0f80",
       "value": "Welcome to JupyterCon 2017!"
      }
     },
     "78cb960ab5d74a05a104568f6f401583": {
      "model_module": "jupyter-js-widgets",
      "model_module_version": "~2.1.4",
      "model_name": "LayoutModel",
      "state": {
       "_model_module_version": "~2.1.4",
       "_view_module_version": "~2.1.4"
      }
     },
     "78e1d6d94b6341c787b943d472efb1f3": {
      "model_module": "jupyter-js-widgets",
      "model_module_version": "~2.1.4",
      "model_name": "LayoutModel",
      "state": {
       "_model_module_version": "~2.1.4",
       "_view_module_version": "~2.1.4",
       "height": "20px"
      }
     },
     "791e1592e2804847a776d7e5acf1ddc5": {
      "model_module": "jupyter-js-widgets",
      "model_module_version": "~2.1.4",
      "model_name": "LayoutModel",
      "state": {
       "_model_module_version": "~2.1.4",
       "_view_module_version": "~2.1.4",
       "height": "20px"
      }
     },
     "7adf40f7b88b479b9f2d867e7578d2c1": {
      "model_module": "jupyter-js-widgets",
      "model_module_version": "~2.1.4",
      "model_name": "TextareaModel",
      "state": {
       "_model_module_version": "~2.1.4",
       "_view_module_version": "~2.1.4",
       "layout": "IPY_MODEL_5c95fe331b1b499cbdc8aa5e681a4d79",
       "value": "Welcome to JupyterCon 2017!"
      }
     },
     "7d55170c706f4b6e932264041493ea89": {
      "model_module": "jupyter-js-widgets",
      "model_module_version": "~2.1.4",
      "model_name": "LabelModel",
      "state": {
       "_model_module_version": "~2.1.4",
       "_view_module_version": "~2.1.4",
       "layout": "IPY_MODEL_ff29a98d6ae04158a5acf9cfada4d24e",
       "value": "Pattern Box"
      }
     },
     "7e481358519e4be3beab7ead70c0ede1": {
      "model_module": "jupyter-js-widgets",
      "model_module_version": "~2.1.4",
      "model_name": "LayoutModel",
      "state": {
       "_model_module_version": "~2.1.4",
       "_view_module_version": "~2.1.4"
      }
     },
     "7f5e5edde4494819b73e98820a67e863": {
      "model_module": "jupyter-js-widgets",
      "model_module_version": "~2.1.4",
      "model_name": "BoxModel",
      "state": {
       "_model_module_version": "~2.1.4",
       "_view_module_version": "~2.1.4",
       "children": [
        "IPY_MODEL_da5d50a1b10144eeb74754715e6c9191",
        "IPY_MODEL_05137c593af7499899650a335c2eb7cc"
       ],
       "layout": "IPY_MODEL_8e8159492bab45fa8e6117a8ef3b3a8c"
      }
     },
     "8112167a646f4957b0c9e023eef230f3": {
      "model_module": "jupyter-js-widgets",
      "model_module_version": "~2.1.4",
      "model_name": "LayoutModel",
      "state": {
       "_model_module_version": "~2.1.4",
       "_view_module_version": "~2.1.4"
      }
     },
     "811b69e973b8415e8434ed9719a434d6": {
      "model_module": "jupyter-js-widgets",
      "model_module_version": "~2.1.4",
      "model_name": "LabelModel",
      "state": {
       "_model_module_version": "~2.1.4",
       "_view_module_version": "~2.1.4",
       "layout": "IPY_MODEL_e94e1378feed4ff3816da30b6b77e8ed",
       "value": "Text Box"
      }
     },
     "81312166b80f4b568005d3be3d7c909d": {
      "model_module": "jupyter-js-widgets",
      "model_module_version": "~2.1.4",
      "model_name": "LabelModel",
      "state": {
       "_model_module_version": "~2.1.4",
       "_view_module_version": "~2.1.4",
       "layout": "IPY_MODEL_d597092c356b44fc83eba9026d646837",
       "value": "Text Box"
      }
     },
     "8219585b8f0b4b9285e9f61ba1144214": {
      "model_module": "jupyter-js-widgets",
      "model_module_version": "~2.1.4",
      "model_name": "LayoutModel",
      "state": {
       "_model_module_version": "~2.1.4",
       "_view_module_version": "~2.1.4"
      }
     },
     "83c5e6a861da4bfc869d3893c10bad42": {
      "model_module": "jupyter-js-widgets",
      "model_module_version": "~2.1.4",
      "model_name": "TextareaModel",
      "state": {
       "_model_module_version": "~2.1.4",
       "_view_module_version": "~2.1.4",
       "layout": "IPY_MODEL_48d6589853444d4ba1af7b4edd2a5afc"
      }
     },
     "83e674812b5b494398c724effbea6816": {
      "model_module": "jupyter-js-widgets",
      "model_module_version": "~2.1.4",
      "model_name": "ButtonStyleModel",
      "state": {
       "_model_module_version": "~2.1.4",
       "_view_module_version": "~2.1.4",
       "button_color": "lightgreen"
      }
     },
     "843256853feb4a0488cd8f6bf469f34f": {
      "model_module": "jupyter-js-widgets",
      "model_module_version": "~2.1.4",
      "model_name": "LayoutModel",
      "state": {
       "_model_module_version": "~2.1.4",
       "_view_module_version": "~2.1.4"
      }
     },
     "844acdd15c80461087d777a25126c903": {
      "model_module": "jupyter-js-widgets",
      "model_module_version": "~2.1.4",
      "model_name": "TextareaModel",
      "state": {
       "_model_module_version": "~2.1.4",
       "_view_module_version": "~2.1.4",
       "layout": "IPY_MODEL_52ed7a0143c44bb8807ed8fcfb5f1b2a"
      }
     },
     "86678d2bb02647ecb1d1560f04395f0b": {
      "model_module": "jupyter-js-widgets",
      "model_module_version": "~2.1.4",
      "model_name": "LabelModel",
      "state": {
       "_model_module_version": "~2.1.4",
       "_view_module_version": "~2.1.4",
       "layout": "IPY_MODEL_f12c10f5149b4c85800d135d5f92aba8",
       "value": "Pattern Box"
      }
     },
     "8750656116e647c4878f5d38f75e2067": {
      "model_module": "jupyter-js-widgets",
      "model_module_version": "~2.1.4",
      "model_name": "TextareaModel",
      "state": {
       "_model_module_version": "~2.1.4",
       "_view_module_version": "~2.1.4",
       "layout": "IPY_MODEL_131482f5fb09432393723b52cdec6bc5"
      }
     },
     "87644884d5f14cda9fdd9feabc81b911": {
      "model_module": "jupyter-js-widgets",
      "model_module_version": "~2.1.4",
      "model_name": "LayoutModel",
      "state": {
       "_model_module_version": "~2.1.4",
       "_view_module_version": "~2.1.4"
      }
     },
     "888e4b7bed5244f787e0fce552255754": {
      "model_module": "jupyter-js-widgets",
      "model_module_version": "~2.1.4",
      "model_name": "LayoutModel",
      "state": {
       "_model_module_version": "~2.1.4",
       "_view_module_version": "~2.1.4"
      }
     },
     "89ee2fc3f88b4a25b4c7db465c1b0ac4": {
      "model_module": "jupyter-js-widgets",
      "model_module_version": "~2.1.4",
      "model_name": "TextareaModel",
      "state": {
       "_model_module_version": "~2.1.4",
       "_view_module_version": "~2.1.4",
       "layout": "IPY_MODEL_eaf949c795534341911e3f66f7872b6e"
      }
     },
     "8acd6cd8ff1c458481fcf4ba6d34fdcf": {
      "model_module": "jupyter-js-widgets",
      "model_module_version": "~2.1.4",
      "model_name": "TextareaModel",
      "state": {
       "_model_module_version": "~2.1.4",
       "_view_module_version": "~2.1.4",
       "layout": "IPY_MODEL_5055df230d7449498aacc8ddf6709be8",
       "value": "Welcome to JupyterCon 2017!"
      }
     },
     "8bd12baeaf374e3bbcedb08200f68b2d": {
      "model_module": "jupyter-js-widgets",
      "model_module_version": "~2.1.4",
      "model_name": "LayoutModel",
      "state": {
       "_model_module_version": "~2.1.4",
       "_view_module_version": "~2.1.4"
      }
     },
     "8be249daab524551a440de1ea4f5bae5": {
      "model_module": "jupyter-js-widgets",
      "model_module_version": "~2.1.4",
      "model_name": "BoxModel",
      "state": {
       "_model_module_version": "~2.1.4",
       "_view_module_version": "~2.1.4",
       "children": [
        "IPY_MODEL_81312166b80f4b568005d3be3d7c909d",
        "IPY_MODEL_98f2f81a3b8a491a9c6d8eeb61b500c5"
       ],
       "layout": "IPY_MODEL_726e69bad89c4d5c8052a2c6747b441b"
      }
     },
     "8d9f307b87694f5b909fe9cf6e9b8188": {
      "model_module": "jupyter-js-widgets",
      "model_module_version": "~2.1.4",
      "model_name": "LayoutModel",
      "state": {
       "_model_module_version": "~2.1.4",
       "_view_module_version": "~2.1.4",
       "height": "100px"
      }
     },
     "8e5ebf6a253d457c8f1c5cac05f34be9": {
      "model_module": "jupyter-js-widgets",
      "model_module_version": "~2.1.4",
      "model_name": "BoxModel",
      "state": {
       "_model_module_version": "~2.1.4",
       "_view_module_version": "~2.1.4",
       "children": [
        "IPY_MODEL_5803f07614d846659cc9aac4f0b5cf5d",
        "IPY_MODEL_63c46320a3b9421c81cdbf9ebcd5f3a5"
       ],
       "layout": "IPY_MODEL_e6836c6bd24e484fb0484c7a45e46f75"
      }
     },
     "8e8159492bab45fa8e6117a8ef3b3a8c": {
      "model_module": "jupyter-js-widgets",
      "model_module_version": "~2.1.4",
      "model_name": "LayoutModel",
      "state": {
       "_model_module_version": "~2.1.4",
       "_view_module_version": "~2.1.4"
      }
     },
     "8ed39afedd0d4e97b07043228d34e849": {
      "model_module": "jupyter-js-widgets",
      "model_module_version": "~2.1.4",
      "model_name": "ButtonStyleModel",
      "state": {
       "_model_module_version": "~2.1.4",
       "_view_module_version": "~2.1.4"
      }
     },
     "8f12415d3e0748a380bc58ef16fc472e": {
      "model_module": "jupyter-js-widgets",
      "model_module_version": "~2.1.4",
      "model_name": "LayoutModel",
      "state": {
       "_model_module_version": "~2.1.4",
       "_view_module_version": "~2.1.4"
      }
     },
     "909e3e25c6664a48bdf354c4da3eef46": {
      "model_module": "jupyter-js-widgets",
      "model_module_version": "~2.1.4",
      "model_name": "ButtonStyleModel",
      "state": {
       "_model_module_version": "~2.1.4",
       "_view_module_version": "~2.1.4"
      }
     },
     "91550ee66cc64cef916c576f5f1e4f04": {
      "model_module": "jupyter-js-widgets",
      "model_module_version": "~2.1.4",
      "model_name": "LayoutModel",
      "state": {
       "_model_module_version": "~2.1.4",
       "_view_module_version": "~2.1.4"
      }
     },
     "921547dfa6474d26a59b1a281cd3c84a": {
      "model_module": "jupyter-js-widgets",
      "model_module_version": "~2.1.4",
      "model_name": "LayoutModel",
      "state": {
       "_model_module_version": "~2.1.4",
       "_view_module_version": "~2.1.4"
      }
     },
     "926de690e41c4c108849c50329ef58a7": {
      "model_module": "jupyter-js-widgets",
      "model_module_version": "~2.1.4",
      "model_name": "LayoutModel",
      "state": {
       "_model_module_version": "~2.1.4",
       "_view_module_version": "~2.1.4"
      }
     },
     "96b560f28d1848beabdc0dbc9900485d": {
      "model_module": "jupyter-js-widgets",
      "model_module_version": "~2.1.4",
      "model_name": "LayoutModel",
      "state": {
       "_model_module_version": "~2.1.4",
       "_view_module_version": "~2.1.4",
       "height": "20px"
      }
     },
     "96e2b7f936b649d393d890eec0f0b06a": {
      "model_module": "jupyter-js-widgets",
      "model_module_version": "~2.1.4",
      "model_name": "ButtonModel",
      "state": {
       "_model_module_version": "~2.1.4",
       "_view_module_version": "~2.1.4",
       "description": "Match Pattern",
       "layout": "IPY_MODEL_10c67b8f417f428e9aefdd5c93bb0802",
       "style": "IPY_MODEL_9d7f0af9efe44dbe9a70fba0011b0ed5"
      }
     },
     "98b8b81a4ed04a56b0ab850408025f2b": {
      "model_module": "jupyter-js-widgets",
      "model_module_version": "~2.1.4",
      "model_name": "LayoutModel",
      "state": {
       "_model_module_version": "~2.1.4",
       "_view_module_version": "~2.1.4"
      }
     },
     "98f2f81a3b8a491a9c6d8eeb61b500c5": {
      "model_module": "jupyter-js-widgets",
      "model_module_version": "~2.1.4",
      "model_name": "TextareaModel",
      "state": {
       "_model_module_version": "~2.1.4",
       "_view_module_version": "~2.1.4",
       "layout": "IPY_MODEL_9d568278f25149a4b32c4b610a55a99c",
       "value": "Avram Noam Chomsky (US: /æˈvrɑːm ˈnoʊm ˈtʃɒmski/ a-VRAHM nohm CHOM-skee; born December 7, 1928) is an American linguist, philosopher, cognitive scientist, historian, social critic, and political activist. Sometimes described as \"the father of modern linguistics\", Chomsky is also a major figure in analytic philosophy and one of the founders of the field of cognitive science. He is Institute Professor Emeritus at the Massachusetts Institute of Technology (MIT), where he has worked since 1955, and is the author of over 100 books on topics such as linguistics, war, politics, and mass media. Ideologically, he aligns with anarcho-syndicalism and libertarian socialism."
      }
     },
     "995563a5a06049efb6b1950f6f3e3ad1": {
      "model_module": "jupyter-js-widgets",
      "model_module_version": "~2.1.4",
      "model_name": "TextModel",
      "state": {
       "_model_module_version": "~2.1.4",
       "_view_module_version": "~2.1.4",
       "layout": "IPY_MODEL_6c14fe122f06438ba856ba7757ab4fbd"
      }
     },
     "9a848a3ec19b4ab5af4888bbc34db4e5": {
      "model_module": "jupyter-js-widgets",
      "model_module_version": "~2.1.4",
      "model_name": "LabelModel",
      "state": {
       "_model_module_version": "~2.1.4",
       "_view_module_version": "~2.1.4",
       "layout": "IPY_MODEL_5508cd5e9c724c68a7dd0262d3eaeff2",
       "value": "Text Box"
      }
     },
     "9aa9265823fc4c9c8a64f68cfaf0f3be": {
      "model_module": "jupyter-js-widgets",
      "model_module_version": "~2.1.4",
      "model_name": "LayoutModel",
      "state": {
       "_model_module_version": "~2.1.4",
       "_view_module_version": "~2.1.4",
       "height": "20px"
      }
     },
     "9c40a92bb654488c8fed9e5a2dcf0d73": {
      "model_module": "jupyter-js-widgets",
      "model_module_version": "~2.1.4",
      "model_name": "LabelModel",
      "state": {
       "_model_module_version": "~2.1.4",
       "_view_module_version": "~2.1.4",
       "layout": "IPY_MODEL_78cb960ab5d74a05a104568f6f401583",
       "value": "Text Box"
      }
     },
     "9d568278f25149a4b32c4b610a55a99c": {
      "model_module": "jupyter-js-widgets",
      "model_module_version": "~2.1.4",
      "model_name": "LayoutModel",
      "state": {
       "_model_module_version": "~2.1.4",
       "_view_module_version": "~2.1.4",
       "height": "100px"
      }
     },
     "9d7f0af9efe44dbe9a70fba0011b0ed5": {
      "model_module": "jupyter-js-widgets",
      "model_module_version": "~2.1.4",
      "model_name": "ButtonStyleModel",
      "state": {
       "_model_module_version": "~2.1.4",
       "_view_module_version": "~2.1.4"
      }
     },
     "9e33cab379564a09b3044d1e5673ad83": {
      "model_module": "jupyter-js-widgets",
      "model_module_version": "~2.1.4",
      "model_name": "LayoutModel",
      "state": {
       "_model_module_version": "~2.1.4",
       "_view_module_version": "~2.1.4"
      }
     },
     "9f1d44475ab9457a93b67be2e181bf28": {
      "model_module": "jupyter-js-widgets",
      "model_module_version": "~2.1.4",
      "model_name": "BoxModel",
      "state": {
       "_model_module_version": "~2.1.4",
       "_view_module_version": "~2.1.4",
       "children": [
        "IPY_MODEL_2b43ac4e957343e4acda67f1a40a7527",
        "IPY_MODEL_8acd6cd8ff1c458481fcf4ba6d34fdcf"
       ],
       "layout": "IPY_MODEL_a28b82ee79dc40f6bf26bfded16e73ef"
      }
     },
     "9f2f756ae74e4674bca393127faab7d4": {
      "model_module": "jupyter-js-widgets",
      "model_module_version": "~2.1.4",
      "model_name": "LayoutModel",
      "state": {
       "_model_module_version": "~2.1.4",
       "_view_module_version": "~2.1.4"
      }
     },
     "9f86fe03fe2e4f37b0ddfa39b03fc1df": {
      "model_module": "jupyter-js-widgets",
      "model_module_version": "~2.1.4",
      "model_name": "LabelModel",
      "state": {
       "_model_module_version": "~2.1.4",
       "_view_module_version": "~2.1.4",
       "layout": "IPY_MODEL_d64b720ba8e84abb81477ece2ebe2d94",
       "value": "Text Box"
      }
     },
     "9fd41407db454c4aa140ae0eab861d07": {
      "model_module": "jupyter-js-widgets",
      "model_module_version": "~2.1.4",
      "model_name": "LayoutModel",
      "state": {
       "_model_module_version": "~2.1.4",
       "_view_module_version": "~2.1.4"
      }
     },
     "a28b82ee79dc40f6bf26bfded16e73ef": {
      "model_module": "jupyter-js-widgets",
      "model_module_version": "~2.1.4",
      "model_name": "LayoutModel",
      "state": {
       "_model_module_version": "~2.1.4",
       "_view_module_version": "~2.1.4"
      }
     },
     "a2ee4c37ab5b49a9a98d5bed684d27d4": {
      "model_module": "jupyter-js-widgets",
      "model_module_version": "~2.1.4",
      "model_name": "LabelModel",
      "state": {
       "_model_module_version": "~2.1.4",
       "_view_module_version": "~2.1.4",
       "layout": "IPY_MODEL_da69e2e0239344cbbee1415236f7396d",
       "value": "Text Box"
      }
     },
     "a373b3a7045d43af92b0d5f6a502e5ba": {
      "model_module": "jupyter-js-widgets",
      "model_module_version": "~2.1.4",
      "model_name": "LayoutModel",
      "state": {
       "_model_module_version": "~2.1.4",
       "_view_module_version": "~2.1.4"
      }
     },
     "a3748541323041cf9d00e1fb869fa94f": {
      "model_module": "jupyter-js-widgets",
      "model_module_version": "~2.1.4",
      "model_name": "LayoutModel",
      "state": {
       "_model_module_version": "~2.1.4",
       "_view_module_version": "~2.1.4",
       "height": "20px"
      }
     },
     "a50ecb99e05f4af7bbb95c38cf5ccfc9": {
      "model_module": "jupyter-js-widgets",
      "model_module_version": "~2.1.4",
      "model_name": "BoxModel",
      "state": {
       "_model_module_version": "~2.1.4",
       "_view_module_version": "~2.1.4",
       "children": [
        "IPY_MODEL_d4428ac890a14d30a09940a89dbf2f79",
        "IPY_MODEL_02a9eea54e0d42a988aa431b3d1cd4d9"
       ],
       "layout": "IPY_MODEL_42cf8681ec7640fc99b6d3cf5c0b6b9a"
      }
     },
     "a51192199ecb4e2e82366f1a62350bf7": {
      "model_module": "jupyter-js-widgets",
      "model_module_version": "~2.1.4",
      "model_name": "LayoutModel",
      "state": {
       "_model_module_version": "~2.1.4",
       "_view_module_version": "~2.1.4"
      }
     },
     "a5c5a3c46cca45f891652e39de2599e3": {
      "model_module": "jupyter-js-widgets",
      "model_module_version": "~2.1.4",
      "model_name": "ButtonModel",
      "state": {
       "_model_module_version": "~2.1.4",
       "_view_module_version": "~2.1.4",
       "description": "Match Pattern",
       "layout": "IPY_MODEL_6c7956960530446b9bd40a29a035ddcc",
       "style": "IPY_MODEL_8ed39afedd0d4e97b07043228d34e849"
      }
     },
     "a8accda5bf29403fb0a0bfaec28cec01": {
      "model_module": "jupyter-js-widgets",
      "model_module_version": "~2.1.4",
      "model_name": "BoxModel",
      "state": {
       "_model_module_version": "~2.1.4",
       "_view_module_version": "~2.1.4",
       "children": [
        "IPY_MODEL_bd9a11d708464360a71f5a6372e56776",
        "IPY_MODEL_789b537fef5141e0b69332d206d91266"
       ],
       "layout": "IPY_MODEL_5c0c580421624dce9fd60ce21805bf92"
      }
     },
     "a9ae1944900c4969bf548ab4635d78cf": {
      "model_module": "jupyter-js-widgets",
      "model_module_version": "~2.1.4",
      "model_name": "LayoutModel",
      "state": {
       "_model_module_version": "~2.1.4",
       "_view_module_version": "~2.1.4"
      }
     },
     "aaa62c54b5cf4ea19107980fe0f5d041": {
      "model_module": "jupyter-js-widgets",
      "model_module_version": "~2.1.4",
      "model_name": "LayoutModel",
      "state": {
       "_model_module_version": "~2.1.4",
       "_view_module_version": "~2.1.4",
       "height": "20px"
      }
     },
     "aadae808691b4bba8b87124daabc01bc": {
      "model_module": "jupyter-js-widgets",
      "model_module_version": "~2.1.4",
      "model_name": "ButtonStyleModel",
      "state": {
       "_model_module_version": "~2.1.4",
       "_view_module_version": "~2.1.4"
      }
     },
     "ad14709d16ba4f2ab4f337fad4f41647": {
      "model_module": "jupyter-js-widgets",
      "model_module_version": "~2.1.4",
      "model_name": "LabelModel",
      "state": {
       "_model_module_version": "~2.1.4",
       "_view_module_version": "~2.1.4",
       "layout": "IPY_MODEL_a373b3a7045d43af92b0d5f6a502e5ba",
       "value": "Pattern Box"
      }
     },
     "af5af935acb44ad780b56a65f8f6eeec": {
      "model_module": "jupyter-js-widgets",
      "model_module_version": "~2.1.4",
      "model_name": "LabelModel",
      "state": {
       "_model_module_version": "~2.1.4",
       "_view_module_version": "~2.1.4",
       "layout": "IPY_MODEL_4e71ff25c3234fec80deb04c96add18f",
       "value": "Pattern Box"
      }
     },
     "b18e39b5e0fc4839b1c92593bfd6712b": {
      "model_module": "jupyter-js-widgets",
      "model_module_version": "~2.1.4",
      "model_name": "LabelModel",
      "state": {
       "_model_module_version": "~2.1.4",
       "_view_module_version": "~2.1.4",
       "layout": "IPY_MODEL_e2fc1c0540e94c598113c26b15556e85",
       "value": "Text Box"
      }
     },
     "b1b2b46b729d42009e6c6b2cc1d751bf": {
      "model_module": "jupyter-js-widgets",
      "model_module_version": "~2.1.4",
      "model_name": "ButtonStyleModel",
      "state": {
       "_model_module_version": "~2.1.4",
       "_view_module_version": "~2.1.4"
      }
     },
     "b23825c4b9624405b2ffab51221d4278": {
      "model_module": "jupyter-js-widgets",
      "model_module_version": "~2.1.4",
      "model_name": "LayoutModel",
      "state": {
       "_model_module_version": "~2.1.4",
       "_view_module_version": "~2.1.4",
       "height": "100px"
      }
     },
     "b2ca70c6a75448ca9ac68ba1cd8cf2cb": {
      "model_module": "jupyter-js-widgets",
      "model_module_version": "~2.1.4",
      "model_name": "TextareaModel",
      "state": {
       "_model_module_version": "~2.1.4",
       "_view_module_version": "~2.1.4",
       "layout": "IPY_MODEL_49e7ce4777bf49fc973a955073852022",
       "value": "Welcome to JupyterCon 2017!"
      }
     },
     "b3c159669e094a51982922807b69aa18": {
      "model_module": "jupyter-js-widgets",
      "model_module_version": "~2.1.4",
      "model_name": "BoxModel",
      "state": {
       "_model_module_version": "~2.1.4",
       "_view_module_version": "~2.1.4",
       "children": [
        "IPY_MODEL_e153276108a143babac302b0fafdd9f8",
        "IPY_MODEL_2ca1726347464d3ba55b9bef1c02bf67"
       ],
       "layout": "IPY_MODEL_843256853feb4a0488cd8f6bf469f34f"
      }
     },
     "b453e8fd687e4960a495e3074ea38d73": {
      "model_module": "jupyter-js-widgets",
      "model_module_version": "~2.1.4",
      "model_name": "LayoutModel",
      "state": {
       "_model_module_version": "~2.1.4",
       "_view_module_version": "~2.1.4",
       "height": "20px"
      }
     },
     "b5a77b5662ce430b84286071496ea22c": {
      "model_module": "jupyter-js-widgets",
      "model_module_version": "~2.1.4",
      "model_name": "LabelModel",
      "state": {
       "_model_module_version": "~2.1.4",
       "_view_module_version": "~2.1.4",
       "layout": "IPY_MODEL_53f8b6419c2b409e88874589d37d7f76",
       "value": "Pattern Box"
      }
     },
     "b67d0bda7c8c421b81095468ba8f4127": {
      "model_module": "jupyter-js-widgets",
      "model_module_version": "~2.1.4",
      "model_name": "LayoutModel",
      "state": {
       "_model_module_version": "~2.1.4",
       "_view_module_version": "~2.1.4"
      }
     },
     "b8ce4d7496c44ba09bef8b484e4d9d4a": {
      "model_module": "jupyter-js-widgets",
      "model_module_version": "~2.1.4",
      "model_name": "LayoutModel",
      "state": {
       "_model_module_version": "~2.1.4",
       "_view_module_version": "~2.1.4"
      }
     },
     "ba98168c2a1840798c51026593cb073f": {
      "model_module": "jupyter-js-widgets",
      "model_module_version": "~2.1.4",
      "model_name": "LayoutModel",
      "state": {
       "_model_module_version": "~2.1.4",
       "_view_module_version": "~2.1.4",
       "height": "20px"
      }
     },
     "bc038f306e38476091e6642cb79e9299": {
      "model_module": "jupyter-js-widgets",
      "model_module_version": "~2.1.4",
      "model_name": "BoxModel",
      "state": {
       "_model_module_version": "~2.1.4",
       "_view_module_version": "~2.1.4",
       "children": [
        "IPY_MODEL_a2ee4c37ab5b49a9a98d5bed684d27d4",
        "IPY_MODEL_23153ba2a28a44a49abb354527fef0ce"
       ],
       "layout": "IPY_MODEL_eb35695a16fa4a2c90cfc76db22b0f22"
      }
     },
     "bc0ca46925494690aaf3c3ffa48d81e7": {
      "model_module": "jupyter-js-widgets",
      "model_module_version": "~2.1.4",
      "model_name": "LayoutModel",
      "state": {
       "_model_module_version": "~2.1.4",
       "_view_module_version": "~2.1.4"
      }
     },
     "bc3974e329af4eb4a955c3bc59a1a8e4": {
      "model_module": "jupyter-js-widgets",
      "model_module_version": "~2.1.4",
      "model_name": "ButtonModel",
      "state": {
       "_model_module_version": "~2.1.4",
       "_view_module_version": "~2.1.4",
       "description": "Match Pattern",
       "layout": "IPY_MODEL_dd38d32dc51a4e08beec93461e711e98",
       "style": "IPY_MODEL_909e3e25c6664a48bdf354c4da3eef46"
      }
     },
     "bcaa053aa4b0476dbf7c4a704080f200": {
      "model_module": "jupyter-js-widgets",
      "model_module_version": "~2.1.4",
      "model_name": "LayoutModel",
      "state": {
       "_model_module_version": "~2.1.4",
       "_view_module_version": "~2.1.4"
      }
     },
     "bcfeaab4690341b18ca4c13c3c14bb43": {
      "model_module": "jupyter-js-widgets",
      "model_module_version": "~2.1.4",
      "model_name": "TextareaModel",
      "state": {
       "_model_module_version": "~2.1.4",
       "_view_module_version": "~2.1.4",
       "layout": "IPY_MODEL_e67d170b48174adeaa63ff95b9c1e199",
       "value": "Avram Noam Chomsky (US: /æˈvrɑːm ˈnoʊm ˈtʃɒmski/ a-VRAHM nohm CHOM-skee; born December 7, 1928) is an American linguist, philosopher, cognitive scientist, historian, social critic, and political activist. Sometimes described as \"the father of modern linguistics\", Chomsky is also a major figure in analytic philosophy and one of the founders of the field of cognitive science. He is Institute Professor Emeritus at the Massachusetts Institute of Technology (MIT), where he has worked since 1955, and is the author of over 100 books on topics such as linguistics, war, politics, and mass media. Ideologically, he aligns with anarcho-syndicalism and libertarian socialism."
      }
     },
     "bd6a248e1f6b44d4864355c541eaf889": {
      "model_module": "jupyter-js-widgets",
      "model_module_version": "~2.1.4",
      "model_name": "BoxModel",
      "state": {
       "_model_module_version": "~2.1.4",
       "_view_module_version": "~2.1.4",
       "children": [
        "IPY_MODEL_00afba28c8df421097b65c44a48a485e",
        "IPY_MODEL_89ee2fc3f88b4a25b4c7db465c1b0ac4"
       ],
       "layout": "IPY_MODEL_87644884d5f14cda9fdd9feabc81b911"
      }
     },
     "bd9a11d708464360a71f5a6372e56776": {
      "model_module": "jupyter-js-widgets",
      "model_module_version": "~2.1.4",
      "model_name": "LabelModel",
      "state": {
       "_model_module_version": "~2.1.4",
       "_view_module_version": "~2.1.4",
       "layout": "IPY_MODEL_2b19b6b64358434c950858d44f29d7e5",
       "value": "Text Box"
      }
     },
     "bdf8e9b772684eb28c9caf365671fe5f": {
      "model_module": "jupyter-js-widgets",
      "model_module_version": "~2.1.4",
      "model_name": "ButtonStyleModel",
      "state": {
       "_model_module_version": "~2.1.4",
       "_view_module_version": "~2.1.4"
      }
     },
     "be4c17b14a214ae08ec95fad2bb4fca7": {
      "model_module": "jupyter-js-widgets",
      "model_module_version": "~2.1.4",
      "model_name": "TextareaModel",
      "state": {
       "_model_module_version": "~2.1.4",
       "_view_module_version": "~2.1.4",
       "layout": "IPY_MODEL_3b5c9440385746c0b23544fdaceab7c9"
      }
     },
     "bf12933cd29f49b8b30a8c512fdecfce": {
      "model_module": "jupyter-js-widgets",
      "model_module_version": "~2.1.4",
      "model_name": "TextareaModel",
      "state": {
       "_model_module_version": "~2.1.4",
       "_view_module_version": "~2.1.4",
       "layout": "IPY_MODEL_3d400bc581e947d7b870f2f883fb7a7d",
       "value": "Welcome to JupyterCon 2017!"
      }
     },
     "bfff7dff0c914040949ff0c844b0387c": {
      "model_module": "jupyter-js-widgets",
      "model_module_version": "~2.1.4",
      "model_name": "LayoutModel",
      "state": {
       "_model_module_version": "~2.1.4",
       "_view_module_version": "~2.1.4"
      }
     },
     "c041ff9a202d417b8ca0516dc8000fd6": {
      "model_module": "jupyter-js-widgets",
      "model_module_version": "~2.1.4",
      "model_name": "LabelModel",
      "state": {
       "_model_module_version": "~2.1.4",
       "_view_module_version": "~2.1.4",
       "layout": "IPY_MODEL_60cdfe9cf0ff4353941163b2afdb0f14",
       "value": "Text Box"
      }
     },
     "c11d5a9b886641b4aa7618ebc562642d": {
      "model_module": "jupyter-js-widgets",
      "model_module_version": "~2.1.4",
      "model_name": "LayoutModel",
      "state": {
       "_model_module_version": "~2.1.4",
       "_view_module_version": "~2.1.4",
       "height": "20px"
      }
     },
     "c16274863f6c4eecb457b7a8884777d7": {
      "model_module": "jupyter-js-widgets",
      "model_module_version": "~2.1.4",
      "model_name": "LabelModel",
      "state": {
       "_model_module_version": "~2.1.4",
       "_view_module_version": "~2.1.4",
       "layout": "IPY_MODEL_38149321254141e8b2bf6085301ec939",
       "value": "Text Box"
      }
     },
     "c1e9fe17b3354518913ba02c1bde4c01": {
      "model_module": "jupyter-js-widgets",
      "model_module_version": "~2.1.4",
      "model_name": "LabelModel",
      "state": {
       "_model_module_version": "~2.1.4",
       "_view_module_version": "~2.1.4",
       "layout": "IPY_MODEL_9f2f756ae74e4674bca393127faab7d4",
       "value": "Text Box"
      }
     },
     "c29f437226844a19927812d296477297": {
      "model_module": "jupyter-js-widgets",
      "model_module_version": "~2.1.4",
      "model_name": "LayoutModel",
      "state": {
       "_model_module_version": "~2.1.4",
       "_view_module_version": "~2.1.4"
      }
     },
     "c34d2109d29a402d9ad9c3a3583d0f68": {
      "model_module": "jupyter-js-widgets",
      "model_module_version": "~2.1.4",
      "model_name": "TextareaModel",
      "state": {
       "_model_module_version": "~2.1.4",
       "_view_module_version": "~2.1.4",
       "layout": "IPY_MODEL_0abe7fda1e8f48199cec48061eb8c89f",
       "value": "[A-Z][a-z]+"
      }
     },
     "c46674eb0adc4a48b1ba836156949e1e": {
      "model_module": "jupyter-js-widgets",
      "model_module_version": "~2.1.4",
      "model_name": "TextareaModel",
      "state": {
       "_model_module_version": "~2.1.4",
       "_view_module_version": "~2.1.4",
       "layout": "IPY_MODEL_324938ec611f46828ebefe4f5f844a29",
       "value": "Welcome to JupyterCon 2017!"
      }
     },
     "c4f025ef0f474340831871e363c9981c": {
      "model_module": "jupyter-js-widgets",
      "model_module_version": "~2.1.4",
      "model_name": "LayoutModel",
      "state": {
       "_model_module_version": "~2.1.4",
       "_view_module_version": "~2.1.4"
      }
     },
     "c6654529b7af4ddfa14cecc18ff9dfd5": {
      "model_module": "jupyter-js-widgets",
      "model_module_version": "~2.1.4",
      "model_name": "TextareaModel",
      "state": {
       "_model_module_version": "~2.1.4",
       "_view_module_version": "~2.1.4",
       "layout": "IPY_MODEL_b453e8fd687e4960a495e3074ea38d73"
      }
     },
     "c6d46d412a36437da16de428b9078a47": {
      "model_module": "jupyter-js-widgets",
      "model_module_version": "~2.1.4",
      "model_name": "LayoutModel",
      "state": {
       "_model_module_version": "~2.1.4",
       "_view_module_version": "~2.1.4"
      }
     },
     "c82397af7b5541b181e5432f6c24dcf3": {
      "model_module": "jupyter-js-widgets",
      "model_module_version": "~2.1.4",
      "model_name": "LabelModel",
      "state": {
       "_model_module_version": "~2.1.4",
       "_view_module_version": "~2.1.4",
       "layout": "IPY_MODEL_b67d0bda7c8c421b81095468ba8f4127",
       "value": "Text Box"
      }
     },
     "c9f17699ef784e01abc9ee5a39530be1": {
      "model_module": "jupyter-js-widgets",
      "model_module_version": "~2.1.4",
      "model_name": "TextareaModel",
      "state": {
       "_model_module_version": "~2.1.4",
       "_view_module_version": "~2.1.4",
       "layout": "IPY_MODEL_c11d5a9b886641b4aa7618ebc562642d",
       "value": "[\\s]"
      }
     },
     "ca0bc73df17c4cfbbe9c87b84d175b7d": {
      "model_module": "jupyter-js-widgets",
      "model_module_version": "~2.1.4",
      "model_name": "LayoutModel",
      "state": {
       "_model_module_version": "~2.1.4",
       "_view_module_version": "~2.1.4"
      }
     },
     "ca1f0b3a45bb4aafa762d8f2d9ba2efa": {
      "model_module": "jupyter-js-widgets",
      "model_module_version": "~2.1.4",
      "model_name": "LabelModel",
      "state": {
       "_model_module_version": "~2.1.4",
       "_view_module_version": "~2.1.4",
       "layout": "IPY_MODEL_33c68ecd8cb4417baff57c22249b1314",
       "value": "Text Box"
      }
     },
     "ca59c7e54a69476b94c3ed3da1952b17": {
      "model_module": "jupyter-js-widgets",
      "model_module_version": "~2.1.4",
      "model_name": "LayoutModel",
      "state": {
       "_model_module_version": "~2.1.4",
       "_view_module_version": "~2.1.4"
      }
     },
     "ca6b3059378a4ae3ba12a63af3fe25a3": {
      "model_module": "jupyter-js-widgets",
      "model_module_version": "~2.1.4",
      "model_name": "LayoutModel",
      "state": {
       "_model_module_version": "~2.1.4",
       "_view_module_version": "~2.1.4"
      }
     },
     "caed8bb7c8be455a88754e66da8091f5": {
      "model_module": "jupyter-js-widgets",
      "model_module_version": "~2.1.4",
      "model_name": "LayoutModel",
      "state": {
       "_model_module_version": "~2.1.4",
       "_view_module_version": "~2.1.4"
      }
     },
     "cd745ecc6f9642afaa24865644e71eb7": {
      "model_module": "jupyter-js-widgets",
      "model_module_version": "~2.1.4",
      "model_name": "BoxModel",
      "state": {
       "_model_module_version": "~2.1.4",
       "_view_module_version": "~2.1.4",
       "children": [
        "IPY_MODEL_d9a9696acf9748a8a9ee646e87c1efa9",
        "IPY_MODEL_d6d9d68f75014aeeaa5965b937361334"
       ],
       "layout": "IPY_MODEL_c6d46d412a36437da16de428b9078a47"
      }
     },
     "cee5dc33de344cd8b131527921a29853": {
      "model_module": "jupyter-js-widgets",
      "model_module_version": "~2.1.4",
      "model_name": "LayoutModel",
      "state": {
       "_model_module_version": "~2.1.4",
       "_view_module_version": "~2.1.4"
      }
     },
     "cf7c0783a0234360a080401570df7eda": {
      "model_module": "jupyter-js-widgets",
      "model_module_version": "~2.1.4",
      "model_name": "LayoutModel",
      "state": {
       "_model_module_version": "~2.1.4",
       "_view_module_version": "~2.1.4",
       "height": "100px"
      }
     },
     "d2e28f58737c410a90a5ce5e3a426d04": {
      "model_module": "jupyter-js-widgets",
      "model_module_version": "~2.1.4",
      "model_name": "BoxModel",
      "state": {
       "_model_module_version": "~2.1.4",
       "_view_module_version": "~2.1.4",
       "children": [
        "IPY_MODEL_3efcc96cc4ab4e9489f40648485af700",
        "IPY_MODEL_295100f870974d5494aa18653a4eb540"
       ],
       "layout": "IPY_MODEL_caed8bb7c8be455a88754e66da8091f5"
      }
     },
     "d2e3800423414dfe895041ed183c550d": {
      "model_module": "jupyter-js-widgets",
      "model_module_version": "~2.1.4",
      "model_name": "LayoutModel",
      "state": {
       "_model_module_version": "~2.1.4",
       "_view_module_version": "~2.1.4"
      }
     },
     "d3a35f9b25464eeda7b2c2cf248ee940": {
      "model_module": "jupyter-js-widgets",
      "model_module_version": "~2.1.4",
      "model_name": "LayoutModel",
      "state": {
       "_model_module_version": "~2.1.4",
       "_view_module_version": "~2.1.4"
      }
     },
     "d4428ac890a14d30a09940a89dbf2f79": {
      "model_module": "jupyter-js-widgets",
      "model_module_version": "~2.1.4",
      "model_name": "LabelModel",
      "state": {
       "_model_module_version": "~2.1.4",
       "_view_module_version": "~2.1.4",
       "layout": "IPY_MODEL_107ad09ed3ed4217b30cdf0a10c29fcd",
       "value": "Text Box"
      }
     },
     "d5132bc0fa914474a58968dd4559dcfa": {
      "model_module": "jupyter-js-widgets",
      "model_module_version": "~2.1.4",
      "model_name": "LayoutModel",
      "state": {
       "_model_module_version": "~2.1.4",
       "_view_module_version": "~2.1.4"
      }
     },
     "d597092c356b44fc83eba9026d646837": {
      "model_module": "jupyter-js-widgets",
      "model_module_version": "~2.1.4",
      "model_name": "LayoutModel",
      "state": {
       "_model_module_version": "~2.1.4",
       "_view_module_version": "~2.1.4"
      }
     },
     "d64b720ba8e84abb81477ece2ebe2d94": {
      "model_module": "jupyter-js-widgets",
      "model_module_version": "~2.1.4",
      "model_name": "LayoutModel",
      "state": {
       "_model_module_version": "~2.1.4",
       "_view_module_version": "~2.1.4"
      }
     },
     "d6d9d68f75014aeeaa5965b937361334": {
      "model_module": "jupyter-js-widgets",
      "model_module_version": "~2.1.4",
      "model_name": "TextareaModel",
      "state": {
       "_model_module_version": "~2.1.4",
       "_view_module_version": "~2.1.4",
       "layout": "IPY_MODEL_b23825c4b9624405b2ffab51221d4278",
       "value": "Welcome to JupyterCon 2017!"
      }
     },
     "d8b59eeab7bd4deb96098b0da9b03e73": {
      "model_module": "jupyter-js-widgets",
      "model_module_version": "~2.1.4",
      "model_name": "ButtonStyleModel",
      "state": {
       "_model_module_version": "~2.1.4",
       "_view_module_version": "~2.1.4"
      }
     },
     "d8bd509a38b44687a63b01f563005107": {
      "model_module": "jupyter-js-widgets",
      "model_module_version": "~2.1.4",
      "model_name": "LabelModel",
      "state": {
       "_model_module_version": "~2.1.4",
       "_view_module_version": "~2.1.4",
       "layout": "IPY_MODEL_e2d9958cb4ff4f1ca0a1438159d7f960",
       "value": "Pattern Box"
      }
     },
     "d9a9696acf9748a8a9ee646e87c1efa9": {
      "model_module": "jupyter-js-widgets",
      "model_module_version": "~2.1.4",
      "model_name": "LabelModel",
      "state": {
       "_model_module_version": "~2.1.4",
       "_view_module_version": "~2.1.4",
       "layout": "IPY_MODEL_ca0bc73df17c4cfbbe9c87b84d175b7d",
       "value": "Text Box"
      }
     },
     "da5d50a1b10144eeb74754715e6c9191": {
      "model_module": "jupyter-js-widgets",
      "model_module_version": "~2.1.4",
      "model_name": "LabelModel",
      "state": {
       "_model_module_version": "~2.1.4",
       "_view_module_version": "~2.1.4",
       "layout": "IPY_MODEL_91550ee66cc64cef916c576f5f1e4f04",
       "value": "Pattern Box"
      }
     },
     "da69e2e0239344cbbee1415236f7396d": {
      "model_module": "jupyter-js-widgets",
      "model_module_version": "~2.1.4",
      "model_name": "LayoutModel",
      "state": {
       "_model_module_version": "~2.1.4",
       "_view_module_version": "~2.1.4"
      }
     },
     "da85515685d04457b8b419b81de95a9c": {
      "model_module": "jupyter-js-widgets",
      "model_module_version": "~2.1.4",
      "model_name": "BoxModel",
      "state": {
       "_model_module_version": "~2.1.4",
       "_view_module_version": "~2.1.4",
       "children": [
        "IPY_MODEL_c1e9fe17b3354518913ba02c1bde4c01",
        "IPY_MODEL_7adf40f7b88b479b9f2d867e7578d2c1"
       ],
       "layout": "IPY_MODEL_5962bca71f6d444b9457c67bc7f2646b"
      }
     },
     "dc84e4cf80164ef3b04df37c805c9a9f": {
      "model_module": "jupyter-js-widgets",
      "model_module_version": "~2.1.4",
      "model_name": "BoxModel",
      "state": {
       "_model_module_version": "~2.1.4",
       "_view_module_version": "~2.1.4",
       "children": [
        "IPY_MODEL_9c40a92bb654488c8fed9e5a2dcf0d73",
        "IPY_MODEL_b2ca70c6a75448ca9ac68ba1cd8cf2cb"
       ],
       "layout": "IPY_MODEL_a9ae1944900c4969bf548ab4635d78cf"
      }
     },
     "dcc68beac9fe42f2b5d73085cf4cbdef": {
      "model_module": "jupyter-js-widgets",
      "model_module_version": "~2.1.4",
      "model_name": "TextareaModel",
      "state": {
       "_model_module_version": "~2.1.4",
       "_view_module_version": "~2.1.4",
       "layout": "IPY_MODEL_deff569f5d2b4ac1a93acf8a8f434e17"
      }
     },
     "dd38d32dc51a4e08beec93461e711e98": {
      "model_module": "jupyter-js-widgets",
      "model_module_version": "~2.1.4",
      "model_name": "LayoutModel",
      "state": {
       "_model_module_version": "~2.1.4",
       "_view_module_version": "~2.1.4"
      }
     },
     "dea1de6fde524675bba5830e22b1d20a": {
      "model_module": "jupyter-js-widgets",
      "model_module_version": "~2.1.4",
      "model_name": "LayoutModel",
      "state": {
       "_model_module_version": "~2.1.4",
       "_view_module_version": "~2.1.4"
      }
     },
     "deca546f470c4aa5bdb7ddbf783af48a": {
      "model_module": "jupyter-js-widgets",
      "model_module_version": "~2.1.4",
      "model_name": "LayoutModel",
      "state": {
       "_model_module_version": "~2.1.4",
       "_view_module_version": "~2.1.4",
       "height": "20px"
      }
     },
     "dee7a823486747f185056ceafef1430b": {
      "model_module": "jupyter-js-widgets",
      "model_module_version": "~2.1.4",
      "model_name": "LabelModel",
      "state": {
       "_model_module_version": "~2.1.4",
       "_view_module_version": "~2.1.4",
       "layout": "IPY_MODEL_cee5dc33de344cd8b131527921a29853",
       "value": "Pattern Box"
      }
     },
     "deff569f5d2b4ac1a93acf8a8f434e17": {
      "model_module": "jupyter-js-widgets",
      "model_module_version": "~2.1.4",
      "model_name": "LayoutModel",
      "state": {
       "_model_module_version": "~2.1.4",
       "_view_module_version": "~2.1.4",
       "height": "20px"
      }
     },
     "df43bf73fe8b4b8f9ff77ebd4fa51a35": {
      "model_module": "jupyter-js-widgets",
      "model_module_version": "~2.1.4",
      "model_name": "LayoutModel",
      "state": {
       "_model_module_version": "~2.1.4",
       "_view_module_version": "~2.1.4"
      }
     },
     "dfd05cd5015240ff909b8418898aa910": {
      "model_module": "jupyter-js-widgets",
      "model_module_version": "~2.1.4",
      "model_name": "LayoutModel",
      "state": {
       "_model_module_version": "~2.1.4",
       "_view_module_version": "~2.1.4",
       "height": "100px"
      }
     },
     "e00a78f7cd294966b50508bc446c8e10": {
      "model_module": "jupyter-js-widgets",
      "model_module_version": "~2.1.4",
      "model_name": "LayoutModel",
      "state": {
       "_model_module_version": "~2.1.4",
       "_view_module_version": "~2.1.4"
      }
     },
     "e0ca00af11df4f65b88e6543d5c2e8b5": {
      "model_module": "jupyter-js-widgets",
      "model_module_version": "~2.1.4",
      "model_name": "LayoutModel",
      "state": {
       "_model_module_version": "~2.1.4",
       "_view_module_version": "~2.1.4"
      }
     },
     "e153276108a143babac302b0fafdd9f8": {
      "model_module": "jupyter-js-widgets",
      "model_module_version": "~2.1.4",
      "model_name": "LabelModel",
      "state": {
       "_model_module_version": "~2.1.4",
       "_view_module_version": "~2.1.4",
       "layout": "IPY_MODEL_98b8b81a4ed04a56b0ab850408025f2b",
       "value": "Pattern Box"
      }
     },
     "e27daac2841a45a785edf5664b06b83e": {
      "model_module": "jupyter-js-widgets",
      "model_module_version": "~2.1.4",
      "model_name": "ButtonStyleModel",
      "state": {
       "_model_module_version": "~2.1.4",
       "_view_module_version": "~2.1.4"
      }
     },
     "e2d9958cb4ff4f1ca0a1438159d7f960": {
      "model_module": "jupyter-js-widgets",
      "model_module_version": "~2.1.4",
      "model_name": "LayoutModel",
      "state": {
       "_model_module_version": "~2.1.4",
       "_view_module_version": "~2.1.4"
      }
     },
     "e2fc1c0540e94c598113c26b15556e85": {
      "model_module": "jupyter-js-widgets",
      "model_module_version": "~2.1.4",
      "model_name": "LayoutModel",
      "state": {
       "_model_module_version": "~2.1.4",
       "_view_module_version": "~2.1.4"
      }
     },
     "e34c84edb85d41ad945887384406d589": {
      "model_module": "jupyter-js-widgets",
      "model_module_version": "~2.1.4",
      "model_name": "BoxModel",
      "state": {
       "_model_module_version": "~2.1.4",
       "_view_module_version": "~2.1.4",
       "children": [
        "IPY_MODEL_811b69e973b8415e8434ed9719a434d6",
        "IPY_MODEL_5e6491f43a144ba48c7e560e2177c2da"
       ],
       "layout": "IPY_MODEL_c29f437226844a19927812d296477297"
      }
     },
     "e386db6a257749f28d1b74158c94d160": {
      "model_module": "jupyter-js-widgets",
      "model_module_version": "~2.1.4",
      "model_name": "ButtonModel",
      "state": {
       "_model_module_version": "~2.1.4",
       "_view_module_version": "~2.1.4",
       "description": "Match Pattern",
       "layout": "IPY_MODEL_320569bed57b46478df9b32f9b4773ce",
       "style": "IPY_MODEL_bdf8e9b772684eb28c9caf365671fe5f"
      }
     },
     "e45c357f42e449a8a022accd2e5a4ba2": {
      "model_module": "jupyter-js-widgets",
      "model_module_version": "~2.1.4",
      "model_name": "BoxModel",
      "state": {
       "_model_module_version": "~2.1.4",
       "_view_module_version": "~2.1.4",
       "children": [
        "IPY_MODEL_f6def37ed04d4f68bed595915c78f62a",
        "IPY_MODEL_4885b7c6af8b4feebd26b8b014ca5ae9"
       ],
       "layout": "IPY_MODEL_8219585b8f0b4b9285e9f61ba1144214"
      }
     },
     "e50e2f9061b74bfa951cab298d6b0f80": {
      "model_module": "jupyter-js-widgets",
      "model_module_version": "~2.1.4",
      "model_name": "LayoutModel",
      "state": {
       "_model_module_version": "~2.1.4",
       "_view_module_version": "~2.1.4",
       "height": "100px"
      }
     },
     "e5de82989fdd4bb89b455d30fdc974ac": {
      "model_module": "jupyter-js-widgets",
      "model_module_version": "~2.1.4",
      "model_name": "TextareaModel",
      "state": {
       "_model_module_version": "~2.1.4",
       "_view_module_version": "~2.1.4",
       "layout": "IPY_MODEL_3ed6cee0f9994a4d9945e0f79dc2f26f",
       "value": "Welcome to JupyterCon 2017!"
      }
     },
     "e67d170b48174adeaa63ff95b9c1e199": {
      "model_module": "jupyter-js-widgets",
      "model_module_version": "~2.1.4",
      "model_name": "LayoutModel",
      "state": {
       "_model_module_version": "~2.1.4",
       "_view_module_version": "~2.1.4",
       "height": "100px"
      }
     },
     "e6836c6bd24e484fb0484c7a45e46f75": {
      "model_module": "jupyter-js-widgets",
      "model_module_version": "~2.1.4",
      "model_name": "LayoutModel",
      "state": {
       "_model_module_version": "~2.1.4",
       "_view_module_version": "~2.1.4"
      }
     },
     "e75aebe393c84b1e9c9f34cd39dcff18": {
      "model_module": "jupyter-js-widgets",
      "model_module_version": "~2.1.4",
      "model_name": "BoxModel",
      "state": {
       "_model_module_version": "~2.1.4",
       "_view_module_version": "~2.1.4",
       "children": [
        "IPY_MODEL_1c4c724724f946b8ae8fa62f8cc4547d",
        "IPY_MODEL_844acdd15c80461087d777a25126c903"
       ],
       "layout": "IPY_MODEL_bc0ca46925494690aaf3c3ffa48d81e7"
      }
     },
     "e94e1378feed4ff3816da30b6b77e8ed": {
      "model_module": "jupyter-js-widgets",
      "model_module_version": "~2.1.4",
      "model_name": "LayoutModel",
      "state": {
       "_model_module_version": "~2.1.4",
       "_view_module_version": "~2.1.4"
      }
     },
     "eaf949c795534341911e3f66f7872b6e": {
      "model_module": "jupyter-js-widgets",
      "model_module_version": "~2.1.4",
      "model_name": "LayoutModel",
      "state": {
       "_model_module_version": "~2.1.4",
       "_view_module_version": "~2.1.4",
       "height": "20px"
      }
     },
     "eb35695a16fa4a2c90cfc76db22b0f22": {
      "model_module": "jupyter-js-widgets",
      "model_module_version": "~2.1.4",
      "model_name": "LayoutModel",
      "state": {
       "_model_module_version": "~2.1.4",
       "_view_module_version": "~2.1.4"
      }
     },
     "ed5cc89ba05a40d5afe370e7e565e9e7": {
      "model_module": "jupyter-js-widgets",
      "model_module_version": "~2.1.4",
      "model_name": "TextareaModel",
      "state": {
       "_model_module_version": "~2.1.4",
       "_view_module_version": "~2.1.4",
       "layout": "IPY_MODEL_ba98168c2a1840798c51026593cb073f"
      }
     },
     "f12c10f5149b4c85800d135d5f92aba8": {
      "model_module": "jupyter-js-widgets",
      "model_module_version": "~2.1.4",
      "model_name": "LayoutModel",
      "state": {
       "_model_module_version": "~2.1.4",
       "_view_module_version": "~2.1.4"
      }
     },
     "f28874f821284c92a0a31094934c5f8f": {
      "model_module": "jupyter-js-widgets",
      "model_module_version": "~2.1.4",
      "model_name": "ButtonStyleModel",
      "state": {
       "_model_module_version": "~2.1.4",
       "_view_module_version": "~2.1.4"
      }
     },
     "f2e6c151d765448d960e9909a5935a3d": {
      "model_module": "jupyter-js-widgets",
      "model_module_version": "~2.1.4",
      "model_name": "TextareaModel",
      "state": {
       "_model_module_version": "~2.1.4",
       "_view_module_version": "~2.1.4",
       "layout": "IPY_MODEL_34736fdd16114f5f8fb06333b6e7eb95",
       "value": "Avram Noam Chomsky (US: /æˈvrɑːm ˈnoʊm ˈtʃɒmski/ a-VRAHM nohm CHOM-skee; born December 7, 1928) is an American linguist, philosopher, cognitive scientist, historian, social critic, and political activist. Sometimes described as \"the father of modern linguistics\", Chomsky is also a major figure in analytic philosophy and one of the founders of the field of cognitive science. He is Institute Professor Emeritus at the Massachusetts Institute of Technology (MIT), where he has worked since 1955, and is the author of over 100 books on topics such as linguistics, war, politics, and mass media. Ideologically, he aligns with anarcho-syndicalism and libertarian socialism."
      }
     },
     "f3098d89a4cd492fbf0803527ba936ba": {
      "model_module": "jupyter-js-widgets",
      "model_module_version": "~2.1.4",
      "model_name": "LabelModel",
      "state": {
       "_model_module_version": "~2.1.4",
       "_view_module_version": "~2.1.4",
       "layout": "IPY_MODEL_a51192199ecb4e2e82366f1a62350bf7",
       "value": "Pattern Box"
      }
     },
     "f50dcd4af3c849f380615b828e27e5a0": {
      "model_module": "jupyter-js-widgets",
      "model_module_version": "~2.1.4",
      "model_name": "TextareaModel",
      "state": {
       "_model_module_version": "~2.1.4",
       "_view_module_version": "~2.1.4",
       "layout": "IPY_MODEL_2d6e1ed506714979b48f0518fd8102f3"
      }
     },
     "f593a8a75b354b0eb5151ab346d82231": {
      "model_module": "jupyter-js-widgets",
      "model_module_version": "~2.1.4",
      "model_name": "LabelModel",
      "state": {
       "_model_module_version": "~2.1.4",
       "_view_module_version": "~2.1.4",
       "layout": "IPY_MODEL_fc90b98918394aa697a3c92a8b896392",
       "value": "Text Box"
      }
     },
     "f60952286be744dfa7913a3e2e5f0589": {
      "model_module": "jupyter-js-widgets",
      "model_module_version": "~2.1.4",
      "model_name": "TextareaModel",
      "state": {
       "_model_module_version": "~2.1.4",
       "_view_module_version": "~2.1.4",
       "layout": "IPY_MODEL_09cdfdcb44684da293ec0359fccfb6c7"
      }
     },
     "f6938151289e4259b1bc8040377091b6": {
      "model_module": "jupyter-js-widgets",
      "model_module_version": "~2.1.4",
      "model_name": "LayoutModel",
      "state": {
       "_model_module_version": "~2.1.4",
       "_view_module_version": "~2.1.4",
       "height": "500px"
      }
     },
     "f6def37ed04d4f68bed595915c78f62a": {
      "model_module": "jupyter-js-widgets",
      "model_module_version": "~2.1.4",
      "model_name": "LabelModel",
      "state": {
       "_model_module_version": "~2.1.4",
       "_view_module_version": "~2.1.4",
       "layout": "IPY_MODEL_2b0edf0b93b34ecf8322bce2e1870314",
       "value": "Pattern Box"
      }
     },
     "f91c9e10bba549129847d63006455b37": {
      "model_module": "jupyter-js-widgets",
      "model_module_version": "~2.1.4",
      "model_name": "LayoutModel",
      "state": {
       "_model_module_version": "~2.1.4",
       "_view_module_version": "~2.1.4"
      }
     },
     "fa6e86e706684ead9588de0d11240a0e": {
      "model_module": "jupyter-js-widgets",
      "model_module_version": "~2.1.4",
      "model_name": "LayoutModel",
      "state": {
       "_model_module_version": "~2.1.4",
       "_view_module_version": "~2.1.4",
       "height": "100px"
      }
     },
     "fb18152c1ac64b6783e01ef3ce5a82bb": {
      "model_module": "jupyter-js-widgets",
      "model_module_version": "~2.1.4",
      "model_name": "LayoutModel",
      "state": {
       "_model_module_version": "~2.1.4",
       "_view_module_version": "~2.1.4"
      }
     },
     "fbf6626f6bab49889d3e59502799720a": {
      "model_module": "jupyter-js-widgets",
      "model_module_version": "~2.1.4",
      "model_name": "ButtonStyleModel",
      "state": {
       "_model_module_version": "~2.1.4",
       "_view_module_version": "~2.1.4"
      }
     },
     "fc67d640585b4191973536c866773339": {
      "model_module": "jupyter-js-widgets",
      "model_module_version": "~2.1.4",
      "model_name": "LayoutModel",
      "state": {
       "_model_module_version": "~2.1.4",
       "_view_module_version": "~2.1.4"
      }
     },
     "fc6851e6086a4a5686b249d4c5788146": {
      "model_module": "jupyter-js-widgets",
      "model_module_version": "~2.1.4",
      "model_name": "BoxModel",
      "state": {
       "_model_module_version": "~2.1.4",
       "_view_module_version": "~2.1.4",
       "children": [
        "IPY_MODEL_9f86fe03fe2e4f37b0ddfa39b03fc1df",
        "IPY_MODEL_4f88eb0b8e6d4843a07c13d863d671d8"
       ],
       "layout": "IPY_MODEL_9e33cab379564a09b3044d1e5673ad83"
      }
     },
     "fc90b98918394aa697a3c92a8b896392": {
      "model_module": "jupyter-js-widgets",
      "model_module_version": "~2.1.4",
      "model_name": "LayoutModel",
      "state": {
       "_model_module_version": "~2.1.4",
       "_view_module_version": "~2.1.4"
      }
     },
     "fdc052398c834951916318236c2876a6": {
      "model_module": "jupyter-js-widgets",
      "model_module_version": "~2.1.4",
      "model_name": "ButtonStyleModel",
      "state": {
       "_model_module_version": "~2.1.4",
       "_view_module_version": "~2.1.4"
      }
     },
     "fe0d5b074a284a4d864b29b99db871ca": {
      "model_module": "jupyter-js-widgets",
      "model_module_version": "~2.1.4",
      "model_name": "ButtonModel",
      "state": {
       "_model_module_version": "~2.1.4",
       "_view_module_version": "~2.1.4",
       "description": "Match Pattern",
       "layout": "IPY_MODEL_f91c9e10bba549129847d63006455b37",
       "style": "IPY_MODEL_fbf6626f6bab49889d3e59502799720a"
      }
     },
     "fe72b0749e3440fa8c7c690cbeb43a03": {
      "model_module": "jupyter-js-widgets",
      "model_module_version": "~2.1.4",
      "model_name": "LayoutModel",
      "state": {
       "_model_module_version": "~2.1.4",
       "_view_module_version": "~2.1.4"
      }
     },
     "ff29a98d6ae04158a5acf9cfada4d24e": {
      "model_module": "jupyter-js-widgets",
      "model_module_version": "~2.1.4",
      "model_name": "LayoutModel",
      "state": {
       "_model_module_version": "~2.1.4",
       "_view_module_version": "~2.1.4"
      }
     },
     "ff389c80489244afb9f2cf7f6070b88f": {
      "model_module": "jupyter-js-widgets",
      "model_module_version": "~2.1.4",
      "model_name": "ButtonStyleModel",
      "state": {
       "_model_module_version": "~2.1.4",
       "_view_module_version": "~2.1.4"
      }
     }
    },
    "version_major": 1,
    "version_minor": 0
   }
  }
 },
 "nbformat": 4,
 "nbformat_minor": 1
}
