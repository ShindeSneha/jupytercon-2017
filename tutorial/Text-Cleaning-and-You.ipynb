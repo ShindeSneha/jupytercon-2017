{
 "cells": [
  {
   "cell_type": "markdown",
   "metadata": {
    "_datascience": {}
   },
   "source": [
    "### Fair Warning:\n",
    "\n",
    "* I will show you cool things, in random order\n",
    "* I am very very biased toward the English language"
   ]
  },
  {
   "cell_type": "markdown",
   "metadata": {
    "_datascience": {}
   },
   "source": [
    "### Word Tokenization and Sentence Segmentation: What is a lexical unit?\n",
    "\n",
    "What is a word? [Dictionary entries + alternate word forms]\n",
    "\n",
    "### Basic, Deterministic Approach:\n",
    "* words: split on white space\n",
    "* sentences: split on punctuation\n",
    "\n",
    "#### Regex Examples:\n",
    "\n",
    "Regex | Matches | Example\n",
    "--- | --- \n",
    "Jupyter | Instances of \"Jupyter\" | Welcome to **Jupyter**Con 2017!\n",
    "[JCe] |  Single instances of the characters of \"J\", \"C\", \"e\" | W**e**lcom**e** to **J**upyt**e**r**C**on 2017! \n",
    "[A-Z] | Any single capital letter. | **W**elcome to **J**upyter**C**on 2017!\n"
   ]
  },
  {
   "cell_type": "markdown",
   "metadata": {
    "_datascience": {}
   },
   "source": [
    "### Build a Regex Preview\n",
    "* Regex Box\n",
    "* Pattern Box\n",
    "* Results"
   ]
  },
  {
   "cell_type": "code",
   "execution_count": 12,
   "metadata": {
    "_datascience": {}
   },
   "outputs": [
    {
     "data": {
      "text/markdown": [
       "<b style='color:blue;'><u>W</u></b>elcome to <b style='color:blue;'><u>J</u></b>upyter<b style='color:blue;'><u>C</u></b>on 2017!"
      ],
      "text/plain": [
       "<IPython.core.display.Markdown object>"
      ]
     },
     "metadata": {},
     "output_type": "display_data"
    }
   ],
   "source": [
    "#%matplotlib notebook\n",
    "from ipywidgets import Button, Textarea, Layout, Box, Label\n",
    "from IPython.display import display, Markdown, clear_output\n",
    "import re\n",
    "\n",
    "class RegexFinder(object):\n",
    "    def __init__(self, init_pattern=\"\"):\n",
    "        \n",
    "        \n",
    "        self.text_field = Textarea(init_pattern, layout=Layout(height='100px'))\n",
    "        self.pattern_field = Textarea(layout=Layout(height='20px'))\n",
    "        self.text_box = Box([Label(value='Text Box'), self.text_field])\n",
    "        self.pattern_box = Box([Label(value='Pattern Box'), self.pattern_field])\n",
    "        \n",
    "        self.match_button = Button(description='Match Pattern', )\n",
    "        self.match_button.on_click(self.match_pattern)\n",
    "        \n",
    "        display(self.text_box)\n",
    "        display(self.pattern_box)\n",
    "        display(self.match_button)\n",
    "        self.match_pattern(None)\n",
    "        \n",
    "    @property\n",
    "    def pattern(self):\n",
    "        return re.compile(self.pattern_field.value)\n",
    "    \n",
    "    @property\n",
    "    def text(self):\n",
    "        return self.text_field.value    \n",
    "    \n",
    "    def match_pattern(self, b):\n",
    "        clear_output()\n",
    "        display(Markdown(self.format_match_markdown(self.text, self.pattern)))\n",
    "        \n",
    "    def format_match_markdown(self, text, pattern):\n",
    "\n",
    "        new_string = \"\"\n",
    "        last = 0\n",
    "\n",
    "        for i in pattern.finditer(text):\n",
    "            start, stop = i.span()\n",
    "            new_string += text[last:start] + \"<b style='color:blue;'><u>\" + text[start:stop] +  \"</u></b>\"\n",
    "            last = stop\n",
    "\n",
    "        new_string += text[last:]\n",
    "        return new_string\n",
    "        \n",
    "    \n",
    "    \n",
    "r = RegexFinder(\"Welcome to JupyterCon 2017!\")"
   ]
  },
  {
   "cell_type": "markdown",
   "metadata": {
    "_datascience": {}
   },
   "source": [
    "### Exercise: Match all proper nouns"
   ]
  },
  {
   "cell_type": "code",
   "execution_count": 13,
   "metadata": {
    "_datascience": {},
    "scrolled": false
   },
   "outputs": [
    {
     "data": {
      "text/markdown": [
       "<b style='color:blue;'><u>Avram</u></b> <b style='color:blue;'><u>Noam</u></b> <b style='color:blue;'><u>Chomsky</u></b> (US: /æˈvrɑːm ˈnoʊm ˈtʃɒmski/ a-VRAHM nohm CHOM-skee; born <b style='color:blue;'><u>December</u></b> 7, 1928) is an <b style='color:blue;'><u>American</u></b> linguist, philosopher, cognitive scientist, historian, social critic, and political activist. <b style='color:blue;'><u>Sometimes</u></b> described as \"the father of modern linguistics\", <b style='color:blue;'><u>Chomsky</u></b> is also a major figure in analytic philosophy and one of the founders of the field of cognitive science. <b style='color:blue;'><u>He</u></b> is <b style='color:blue;'><u>Institute</u></b> <b style='color:blue;'><u>Professor</u></b> <b style='color:blue;'><u>Emeritus</u></b> at the <b style='color:blue;'><u>Massachusetts</u></b> <b style='color:blue;'><u>Institute</u></b> of <b style='color:blue;'><u>Technology</u></b> (MIT), where he has worked since 1955, and is the author of over 100 books on topics such as linguistics, war, politics, and mass media. <b style='color:blue;'><u>Ideologically</u></b>, he aligns with anarcho-syndicalism and libertarian socialism."
      ],
      "text/plain": [
       "<IPython.core.display.Markdown object>"
      ]
     },
     "metadata": {},
     "output_type": "display_data"
    }
   ],
   "source": [
    "!pip3 install wikipedia >> pip-wiki.txt\n",
    "import wikipedia\n",
    "wiki = wikipedia.WikipediaPage('Noam Chomsky')\n",
    "intro_paragraph = wiki.content.split('\\n')[0]\n",
    "finder = RegexFinder(intro_paragraph)"
   ]
  },
  {
   "cell_type": "code",
   "execution_count": 47,
   "metadata": {
    "_datascience": {}
   },
   "outputs": [
    {
     "name": "stdout",
     "output_type": "stream",
     "text": [
      "Avram\n",
      "Noam\n",
      "Chomsky\n",
      "(US:\n",
      "/æˈvrɑːm\n",
      "ˈnoʊm\n",
      "ˈtʃɒmski/\n",
      "a-VRAHM\n",
      "nohm\n",
      "CHOM-skee;\n",
      "born\n",
      "December\n",
      "7,\n",
      "1928)\n",
      "is\n",
      "an\n",
      "American\n",
      "linguist,\n",
      "philosopher,\n",
      "cognitive\n",
      "scientist,\n",
      "historian,\n",
      "social\n",
      "critic,\n",
      "and\n",
      "political\n",
      "activist\n"
     ]
    }
   ],
   "source": [
    "import re\n",
    "\n",
    "def sent_segmenter(doc):\n",
    "    sent_pattern = re.compile('[\\.\\?\\!]')\n",
    "    for sent in sent_pattern.split(doc):\n",
    "        yield sent\n",
    "        \n",
    "        \n",
    "def word_segmenter(sent):\n",
    "    word_pattern = re.compile('[\\s]')\n",
    "    for word in word_pattern.split(sent):\n",
    "        yield word\n",
    "        \n",
    "        \n",
    "sentences = sent_segmenter(intro_paragraph)\n",
    "for word in word_segmenter(next(sentences)):\n",
    "    print(word)"
   ]
  },
  {
   "cell_type": "markdown",
   "metadata": {
    "_datascience": {}
   },
   "source": [
    "Failures of Deterministic Approach:\n",
    "* \"Dr. White saw a patient.\" is one sentence, not two.\n",
    "* (US: ...) is probably best tokenized as \"(\", \"US\", \":\", ... I.e we missed other forms of punctuation."
   ]
  },
  {
   "cell_type": "code",
   "execution_count": 38,
   "metadata": {
    "_datascience": {}
   },
   "outputs": [
    {
     "name": "stdout",
     "output_type": "stream",
     "text": [
      "\n",
      "\u001b[93m    Warning: no model found for 'en'\u001b[0m\n",
      "\n",
      "    Only loading the 'en' tokenizer.\n",
      "\n",
      "Avram\n",
      "Noam\n",
      "Chomsky\n",
      "(\n",
      "US\n",
      ":\n",
      "/æˈvrɑːm\n",
      "ˈnoʊm\n",
      "ˈtʃɒmski/\n",
      "a\n",
      "-\n",
      "VRAHM\n",
      "nohm\n",
      "CHOM\n",
      "-\n",
      "skee\n",
      ";\n",
      "born\n",
      "December\n",
      "7\n",
      ",\n",
      "1928\n",
      ")\n",
      "is\n",
      "an\n",
      "American\n",
      "linguist\n",
      ",\n",
      "philosopher\n",
      ",\n",
      "cognitive\n",
      "scientist\n",
      ",\n",
      "historian\n",
      ",\n",
      "social\n",
      "critic\n",
      ",\n",
      "and\n",
      "political\n",
      "activist\n",
      ".\n",
      "Sometimes\n",
      "described\n",
      "as\n",
      "\"\n",
      "the\n",
      "father\n",
      "of\n",
      "modern\n",
      "linguistics\n",
      "\"\n",
      ",\n",
      "Chomsky\n",
      "is\n",
      "also\n",
      "a\n",
      "major\n",
      "figure\n",
      "in\n",
      "analytic\n",
      "philosophy\n",
      "and\n",
      "one\n",
      "of\n",
      "the\n",
      "founders\n",
      "of\n",
      "the\n",
      "field\n",
      "of\n",
      "cognitive\n",
      "science\n",
      ".\n",
      "He\n",
      "is\n",
      "Institute\n",
      "Professor\n",
      "Emeritus\n",
      "at\n",
      "the\n",
      "Massachusetts\n",
      "Institute\n",
      "of\n",
      "Technology\n",
      "(\n",
      "MIT\n",
      ")\n",
      ",\n",
      "where\n",
      "he\n",
      "has\n",
      "worked\n",
      "since\n",
      "1955\n",
      ",\n",
      "and\n",
      "is\n",
      "the\n",
      "author\n",
      "of\n",
      "over\n",
      "100\n",
      "books\n",
      "on\n",
      "topics\n",
      "such\n",
      "as\n",
      "linguistics\n",
      ",\n",
      "war\n",
      ",\n",
      "politics\n",
      ",\n",
      "and\n",
      "mass\n",
      "media\n",
      ".\n",
      "Ideologically\n",
      ",\n",
      "he\n",
      "aligns\n",
      "with\n",
      "anarcho\n",
      "-\n",
      "syndicalism\n",
      "and\n",
      "libertarian\n",
      "socialism\n",
      ".\n"
     ]
    }
   ],
   "source": [
    "nlp = spacy.load('en')\n",
    "\n",
    "for word in nlp(intro_paragraph):\n",
    "    print(word)"
   ]
  },
  {
   "cell_type": "code",
   "execution_count": 35,
   "metadata": {
    "_datascience": {}
   },
   "outputs": [
    {
     "name": "stdout",
     "output_type": "stream",
     "text": [
      "Avram\n",
      "Noam\n",
      "Chomsky\n",
      "(US:\n",
      "/æˈvrɑːm\n",
      "ˈnoʊm\n",
      "ˈtʃɒmski/\n",
      "a-VRAHM\n",
      "nohm\n",
      "CHOM-skee;\n",
      "born\n",
      "December\n",
      "7,\n",
      "1928)\n",
      "is\n",
      "an\n",
      "American\n",
      "linguist,\n",
      "philosopher,\n",
      "cognitive\n",
      "scientist,\n",
      "historian,\n",
      "social\n",
      "critic,\n",
      "and\n",
      "political\n",
      "activist\n",
      "\n",
      "Sometimes\n",
      "described\n",
      "as\n",
      "\"the\n",
      "father\n",
      "of\n",
      "modern\n",
      "linguistics\",\n",
      "Chomsky\n",
      "is\n",
      "also\n",
      "a\n",
      "major\n",
      "figure\n",
      "in\n",
      "analytic\n",
      "philosophy\n",
      "and\n",
      "one\n",
      "of\n",
      "the\n",
      "founders\n",
      "of\n",
      "the\n",
      "field\n",
      "of\n",
      "cognitive\n",
      "science\n",
      "\n",
      "He\n",
      "is\n",
      "Institute\n",
      "Professor\n",
      "Emeritus\n",
      "at\n",
      "the\n",
      "Massachusetts\n",
      "Institute\n",
      "of\n",
      "Technology\n",
      "(MIT),\n",
      "where\n",
      "he\n",
      "has\n",
      "worked\n",
      "since\n",
      "1955,\n",
      "and\n",
      "is\n",
      "the\n",
      "author\n",
      "of\n",
      "over\n",
      "100\n",
      "books\n",
      "on\n",
      "topics\n",
      "such\n",
      "as\n",
      "linguistics,\n",
      "war,\n",
      "politics,\n",
      "and\n",
      "mass\n",
      "media\n",
      "\n",
      "Ideologically,\n",
      "he\n",
      "aligns\n",
      "with\n",
      "anarcho-syndicalism\n",
      "and\n",
      "libertarian\n",
      "socialism\n",
      "\n"
     ]
    }
   ],
   "source": []
  },
  {
   "cell_type": "code",
   "execution_count": 20,
   "metadata": {
    "_datascience": {},
    "collapsed": true
   },
   "outputs": [],
   "source": [
    "tweet = \"\"\"\n",
    "We shouldn't be looking for heroes, we should be looking for good ideas.” \n",
    "― Noam Chomsky\n",
    "@allenmichael89 #NoamChomsky #Literature\n",
    "\"\"\""
   ]
  },
  {
   "cell_type": "code",
   "execution_count": 28,
   "metadata": {
    "_datascience": {},
    "collapsed": true,
    "scrolled": false
   },
   "outputs": [],
   "source": [
    "import spacy"
   ]
  },
  {
   "cell_type": "code",
   "execution_count": null,
   "metadata": {
    "_datascience": {},
    "collapsed": true
   },
   "outputs": [],
   "source": []
  },
  {
   "cell_type": "code",
   "execution_count": null,
   "metadata": {
    "_datascience": {},
    "collapsed": true
   },
   "outputs": [],
   "source": []
  }
 ],
 "metadata": {
  "_datascience": {},
  "kernelspec": {
   "display_name": "Python 3",
   "language": "python",
   "name": "python3"
  },
  "language_info": {
   "codemirror_mode": {
    "name": "ipython",
    "version": 3
   },
   "file_extension": ".py",
   "mimetype": "text/x-python",
   "name": "python",
   "nbconvert_exporter": "python",
   "pygments_lexer": "ipython3",
   "version": "3.5.2"
  }
 },
 "nbformat": 4,
 "nbformat_minor": 1
}
