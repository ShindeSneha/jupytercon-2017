{
 "cells": [
  {
   "cell_type": "markdown",
   "metadata": {},
   "source": [
    "<a name=\"POS-1\"></a>"
   ]
  },
  {
   "cell_type": "code",
   "execution_count": null,
   "metadata": {
    "collapsed": true
   },
   "outputs": [],
   "source": [
    "from gensim.models import Word2Vec\n",
    "import re\n",
    "\n",
    "def return_documents():\n",
    "    \"\"\"\n",
    "    Returns a list of documents, where each document is a string\n",
    "    \"\"\"\n",
    "    from sklearn.datasets import fetch_20newsgroups\n",
    "    dataset = fetch_20newsgroups()\n",
    "    corpus = dataset.data\n",
    "    return corpus\n",
    "\n",
    "def tokenize_and_tag_documents(documents, nlp, sep_char=\"||||\"):\n",
    "    \"\"\"\n",
    "    Returns a list of lists of tokens. Each token has been \n",
    "    concatenated with its part of speech\n",
    "    \"\"\"\n",
    "    for doc in nlp.pipe(documents, parse=False, entity=False):\n",
    "        yield [word.lower_ + sep_char + word.pos_ for word in doc]\n",
    "        \n",
    "\n",
    "def build_model(tokenized_docs):\n",
    "    \"\"\"\n",
    "    Returns a gensim Word2Vec model trained on our corpus\n",
    "    \"\"\"\n",
    "    return Word2Vec(list(tokenized_docs), size=128)\n",
    "\n",
    "\n",
    "documents = return_documents()\n",
    "tokenized_and_tagged_documents = tokenize_and_tag_documents(documents, nlp)\n",
    "model = build_model(tokenized_and_tagged_documents)\n",
    "\n",
    "\n",
    "def return_alts(word):\n",
    "    pattern = re.compile(\"^\" + word + \"\\|\\|\\|\\|\")\n",
    "    return list(filter(lambda x: bool(pattern.match(x)), model.wv.vocab.keys()))\n",
    "\n",
    "if model:\n",
    "    print(model.most_similar('real||||ADJ'))\n",
    "    print()\n",
    "    print(model.most_similar('real||||ADV'))"
   ]
  },
  {
   "cell_type": "markdown",
   "metadata": {},
   "source": [
    "<a href=\"#POS-1\">aaa</a>"
   ]
  },
  {
   "cell_type": "code",
   "execution_count": null,
   "metadata": {
    "collapsed": true
   },
   "outputs": [],
   "source": []
  }
 ],
 "metadata": {
  "kernelspec": {
   "display_name": "Python 3",
   "language": "python",
   "name": "python3"
  },
  "language_info": {
   "codemirror_mode": {
    "name": "ipython",
    "version": 3
   },
   "file_extension": ".py",
   "mimetype": "text/x-python",
   "name": "python",
   "nbconvert_exporter": "python",
   "pygments_lexer": "ipython3",
   "version": "3.6.1"
  }
 },
 "nbformat": 4,
 "nbformat_minor": 2
}
