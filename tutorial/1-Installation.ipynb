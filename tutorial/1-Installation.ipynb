{
 "cells": [
  {
   "cell_type": "markdown",
   "metadata": {
    "_datascience": {}
   },
   "source": [
    "### Environment for Tutorial\n",
    "\n",
    "**Everyone: Make sure you have a github account!**\n",
    "\n",
    "If you do not have one, please go to <a href=\"http://www.github.com\">www.github.com</a> and register.\n",
    "\n",
    "### First 25 Attendees:\n",
    "\n",
    "\n",
    "* navigate to nsf.datascience.com\n",
    "* Login with your username and password.\n",
    "* Enter \"JupyterCon 2017\" Project.\n",
    "* Go to Settings\n",
    "![Session](assets/Settings.png)\n",
    "* Click *Git Integrations*.\n",
    "* Select the JupyterCon 2017 Project\n",
    "\n",
    "\n",
    "\n",
    "* Create a session: \n",
    "\n",
    "![CreateSession](assets/CreateSession.png)\n",
    "\n",
    "Pick the compute resources **assigned to you** (yes some of us have smaller instances, thats ok! Theyre still a good size).\n",
    "\n",
    "![Session](assets/ComputeType.png)\n",
    "\n",
    "\n",
    "\n",
    "\n",
    "### Remaining Attendees:\n",
    "\n",
    "* Install git: https://git-scm.com/book/en/v2/Getting-Started-Installing-Git\n",
    "* Install Docker: https://docs.docker.com/engine/installation/#desktop\n",
    "* git clone https://github.com/datascienceinc/jupytercon-2017\n",
    "* run this command:\n",
    "    * docker run -it --rm -p 8888:8888 -v /path/to/jupytercon-2017:/home/jovyan/jupytercon-2017 jupyter/datascience-notebook start.sh bash\n",
    "    * conda install -c conda-forge jupyter_contrib_nbextensions -y    \n",
    "    * conda install -c conda-forge jupyter_nbextensions_configurator -y\n",
    "    * jupyter notebook\n",
    "\n",
    "### Optional:\n",
    "![nb-extension-menu](assets/nb-extension-menu.png)\n",
    "![extension](assets/nb-extension.png)"
   ]
  },
  {
   "cell_type": "code",
   "execution_count": null,
   "metadata": {
    "collapsed": true
   },
   "outputs": [],
   "source": []
  }
 ],
 "metadata": {
  "_datascience": {},
  "kernelspec": {
   "display_name": "Python 3",
   "language": "python",
   "name": "python3"
  },
  "language_info": {
   "codemirror_mode": {
    "name": "ipython",
    "version": 3
   },
   "file_extension": ".py",
   "mimetype": "text/x-python",
   "name": "python",
   "nbconvert_exporter": "python",
   "pygments_lexer": "ipython3",
   "version": "3.5.3"
  }
 },
 "nbformat": 4,
 "nbformat_minor": 2
}
