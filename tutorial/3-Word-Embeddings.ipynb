{
 "cells": [
  {
   "cell_type": "markdown",
   "metadata": {},
   "source": [
    "### Representations of Documents\n",
    "\n",
    "* This section is about feature engineering schema for documents of text.\n",
    "\n",
    "* A simple criteria for a \"good\" representation: \n",
    "\n",
    "    * $argmin_{representation}\\text{ } f(representation(text)) - y$\n",
    "    \n",
    "* Methods we will cover:\n",
    "    * Document Term Matrices\n",
    "    * Weighting Schemes\n",
    "    * Term-Context Matrices\n",
    "    * Dimensionality Reduction (Latent Semantic Analysis)\n",
    "    * Feature hashing\n",
    "    * Neural embeddings\n",
    "    \n",
    "<br>\n",
    "<br>\n",
    "* Other considerations:\n",
    "    * Few examples needed to learn (Winner -> Feature Hashing)\n",
    "    * Quick to learn/implement (Winner -> Feature Hashing, DTM)\n",
    "    * Easy to store (low dimensional) (Winner -> LSA)\n",
    "    * Generalizes to new documents (Winner -> Feature Hashing, LSA, Neural Embeddings)\n",
    "    * Generalizes to other tasks (Winner -> Neural Embeddings)\n",
    "\n",
    "### A Simple Representation: Document Term Matrices:\n"
   ]
  },
  {
   "cell_type": "code",
   "execution_count": null,
   "metadata": {
    "collapsed": true
   },
   "outputs": [],
   "source": [
    "from "
   ]
  },
  {
   "cell_type": "code",
   "execution_count": 2,
   "metadata": {},
   "outputs": [
    {
     "data": {
      "text/html": [
       "<div>\n",
       "<table border=\"1\" class=\"dataframe\">\n",
       "  <thead>\n",
       "    <tr style=\"text-align: right;\">\n",
       "      <th></th>\n",
       "      <th>baseball</th>\n",
       "      <th>football</th>\n",
       "      <th>golf</th>\n",
       "      <th>he</th>\n",
       "      <th>like</th>\n",
       "      <th>likes</th>\n",
       "      <th>play</th>\n",
       "      <th>plays</th>\n",
       "      <th>she</th>\n",
       "      <th>soccer</th>\n",
       "      <th>tennis</th>\n",
       "      <th>they</th>\n",
       "      <th>we</th>\n",
       "    </tr>\n",
       "  </thead>\n",
       "  <tbody>\n",
       "    <tr>\n",
       "      <th>we play football</th>\n",
       "      <td>0</td>\n",
       "      <td>1</td>\n",
       "      <td>0</td>\n",
       "      <td>0</td>\n",
       "      <td>0</td>\n",
       "      <td>0</td>\n",
       "      <td>1</td>\n",
       "      <td>0</td>\n",
       "      <td>0</td>\n",
       "      <td>0</td>\n",
       "      <td>0</td>\n",
       "      <td>0</td>\n",
       "      <td>1</td>\n",
       "    </tr>\n",
       "    <tr>\n",
       "      <th>we like tennis</th>\n",
       "      <td>0</td>\n",
       "      <td>0</td>\n",
       "      <td>0</td>\n",
       "      <td>0</td>\n",
       "      <td>1</td>\n",
       "      <td>0</td>\n",
       "      <td>0</td>\n",
       "      <td>0</td>\n",
       "      <td>0</td>\n",
       "      <td>0</td>\n",
       "      <td>1</td>\n",
       "      <td>0</td>\n",
       "      <td>1</td>\n",
       "    </tr>\n",
       "    <tr>\n",
       "      <th>we play baseball</th>\n",
       "      <td>1</td>\n",
       "      <td>0</td>\n",
       "      <td>0</td>\n",
       "      <td>0</td>\n",
       "      <td>0</td>\n",
       "      <td>0</td>\n",
       "      <td>1</td>\n",
       "      <td>0</td>\n",
       "      <td>0</td>\n",
       "      <td>0</td>\n",
       "      <td>0</td>\n",
       "      <td>0</td>\n",
       "      <td>1</td>\n",
       "    </tr>\n",
       "    <tr>\n",
       "      <th>she likes golf</th>\n",
       "      <td>0</td>\n",
       "      <td>0</td>\n",
       "      <td>1</td>\n",
       "      <td>0</td>\n",
       "      <td>0</td>\n",
       "      <td>1</td>\n",
       "      <td>0</td>\n",
       "      <td>0</td>\n",
       "      <td>1</td>\n",
       "      <td>0</td>\n",
       "      <td>0</td>\n",
       "      <td>0</td>\n",
       "      <td>0</td>\n",
       "    </tr>\n",
       "    <tr>\n",
       "      <th>i like football</th>\n",
       "      <td>0</td>\n",
       "      <td>1</td>\n",
       "      <td>0</td>\n",
       "      <td>0</td>\n",
       "      <td>1</td>\n",
       "      <td>0</td>\n",
       "      <td>0</td>\n",
       "      <td>0</td>\n",
       "      <td>0</td>\n",
       "      <td>0</td>\n",
       "      <td>0</td>\n",
       "      <td>0</td>\n",
       "      <td>0</td>\n",
       "    </tr>\n",
       "  </tbody>\n",
       "</table>\n",
       "</div>"
      ],
      "text/plain": [
       "                  baseball  football  golf  he  like  likes  play  plays  she  \\\n",
       "we play football         0         1     0   0     0      0     1      0    0   \n",
       "we like tennis           0         0     0   0     1      0     0      0    0   \n",
       "we play baseball         1         0     0   0     0      0     1      0    0   \n",
       "she likes golf           0         0     1   0     0      1     0      0    1   \n",
       "i like football          0         1     0   0     1      0     0      0    0   \n",
       "\n",
       "                  soccer  tennis  they  we  \n",
       "we play football       0       0     0   1  \n",
       "we like tennis         0       1     0   1  \n",
       "we play baseball       0       0     0   1  \n",
       "she likes golf         0       0     0   0  \n",
       "i like football        0       0     0   0  "
      ]
     },
     "execution_count": 2,
     "metadata": {},
     "output_type": "execute_result"
    }
   ],
   "source": [
    "import numpy as np\n",
    "import pandas as pd\n",
    "from sklearn.feature_extraction.text import CountVectorizer\n",
    "\n",
    "    \n",
    "verbs = ['like','likes','play','plays']\n",
    "sports = ['baseball','soccer','football','golf','tennis']\n",
    "pronouns = {\n",
    "    'he':['plays','likes'],\n",
    "    'she':['plays','likes'],\n",
    "    'they':['play','like'],\n",
    "    'we':['play','like'],\n",
    "    'i':['play','like']\n",
    "}\n",
    "\n",
    "choose = lambda x: np.random.choice(x)\n",
    "\n",
    "def build_clause():\n",
    "    pronoun = choose(list(pronouns.keys()))\n",
    "    verb = choose(pronouns[pronoun])\n",
    "    sport = choose(sports)\n",
    "    return \" \".join([pronoun, verb, sport])\n",
    "    \n",
    "sentences = [build_clause() for i in range(20000)]\n",
    "\n",
    "\n",
    "toDTM = CountVectorizer(lowercase=False)\n",
    "DTM = toDTM.fit_transform(sentences).todense()\n",
    "words = toDTM.get_feature_names()\n",
    "\n",
    "dtm_summary = pd.DataFrame(DTM, columns = words, index = sentences)\n",
    "dtm_summary.head()"
   ]
  },
  {
   "cell_type": "markdown",
   "metadata": {},
   "source": [
    "### Issue 1: We're not injecting as much information as we could\n",
    "* Informative v noninformative words\n",
    "* Weight words in a way that helps us distinguish documents.\n",
    "* **TFIDF**: weight words based on their frequency within a document, discounted by their frequency elsewhere."
   ]
  },
  {
   "cell_type": "code",
   "execution_count": 3,
   "metadata": {
    "hide_input": false
   },
   "outputs": [
    {
     "data": {
      "text/html": [
       "<div>\n",
       "<table border=\"1\" class=\"dataframe\">\n",
       "  <thead>\n",
       "    <tr style=\"text-align: right;\">\n",
       "      <th></th>\n",
       "      <th>baseball</th>\n",
       "      <th>football</th>\n",
       "      <th>golf</th>\n",
       "      <th>he</th>\n",
       "      <th>like</th>\n",
       "      <th>likes</th>\n",
       "      <th>play</th>\n",
       "      <th>plays</th>\n",
       "      <th>she</th>\n",
       "      <th>soccer</th>\n",
       "      <th>tennis</th>\n",
       "      <th>they</th>\n",
       "      <th>we</th>\n",
       "    </tr>\n",
       "  </thead>\n",
       "  <tbody>\n",
       "    <tr>\n",
       "      <th>we play football</th>\n",
       "      <td>0.000000</td>\n",
       "      <td>0.607764</td>\n",
       "      <td>0.000000</td>\n",
       "      <td>0.0</td>\n",
       "      <td>0.000000</td>\n",
       "      <td>0.000000</td>\n",
       "      <td>0.514199</td>\n",
       "      <td>0.0</td>\n",
       "      <td>0.000000</td>\n",
       "      <td>0.0</td>\n",
       "      <td>0.000000</td>\n",
       "      <td>0.0</td>\n",
       "      <td>0.605162</td>\n",
       "    </tr>\n",
       "    <tr>\n",
       "      <th>we like tennis</th>\n",
       "      <td>0.000000</td>\n",
       "      <td>0.000000</td>\n",
       "      <td>0.000000</td>\n",
       "      <td>0.0</td>\n",
       "      <td>0.516256</td>\n",
       "      <td>0.000000</td>\n",
       "      <td>0.000000</td>\n",
       "      <td>0.0</td>\n",
       "      <td>0.000000</td>\n",
       "      <td>0.0</td>\n",
       "      <td>0.607641</td>\n",
       "      <td>0.0</td>\n",
       "      <td>0.603533</td>\n",
       "    </tr>\n",
       "    <tr>\n",
       "      <th>we play baseball</th>\n",
       "      <td>0.605683</td>\n",
       "      <td>0.000000</td>\n",
       "      <td>0.000000</td>\n",
       "      <td>0.0</td>\n",
       "      <td>0.000000</td>\n",
       "      <td>0.000000</td>\n",
       "      <td>0.515228</td>\n",
       "      <td>0.0</td>\n",
       "      <td>0.000000</td>\n",
       "      <td>0.0</td>\n",
       "      <td>0.000000</td>\n",
       "      <td>0.0</td>\n",
       "      <td>0.606373</td>\n",
       "    </tr>\n",
       "    <tr>\n",
       "      <th>she likes golf</th>\n",
       "      <td>0.000000</td>\n",
       "      <td>0.000000</td>\n",
       "      <td>0.576835</td>\n",
       "      <td>0.0</td>\n",
       "      <td>0.000000</td>\n",
       "      <td>0.574436</td>\n",
       "      <td>0.000000</td>\n",
       "      <td>0.0</td>\n",
       "      <td>0.580762</td>\n",
       "      <td>0.0</td>\n",
       "      <td>0.000000</td>\n",
       "      <td>0.0</td>\n",
       "      <td>0.000000</td>\n",
       "    </tr>\n",
       "    <tr>\n",
       "      <th>i like football</th>\n",
       "      <td>0.000000</td>\n",
       "      <td>0.761290</td>\n",
       "      <td>0.000000</td>\n",
       "      <td>0.0</td>\n",
       "      <td>0.648412</td>\n",
       "      <td>0.000000</td>\n",
       "      <td>0.000000</td>\n",
       "      <td>0.0</td>\n",
       "      <td>0.000000</td>\n",
       "      <td>0.0</td>\n",
       "      <td>0.000000</td>\n",
       "      <td>0.0</td>\n",
       "      <td>0.000000</td>\n",
       "    </tr>\n",
       "  </tbody>\n",
       "</table>\n",
       "</div>"
      ],
      "text/plain": [
       "                  baseball  football      golf   he      like     likes  \\\n",
       "we play football  0.000000  0.607764  0.000000  0.0  0.000000  0.000000   \n",
       "we like tennis    0.000000  0.000000  0.000000  0.0  0.516256  0.000000   \n",
       "we play baseball  0.605683  0.000000  0.000000  0.0  0.000000  0.000000   \n",
       "she likes golf    0.000000  0.000000  0.576835  0.0  0.000000  0.574436   \n",
       "i like football   0.000000  0.761290  0.000000  0.0  0.648412  0.000000   \n",
       "\n",
       "                      play  plays       she  soccer    tennis  they        we  \n",
       "we play football  0.514199    0.0  0.000000     0.0  0.000000   0.0  0.605162  \n",
       "we like tennis    0.000000    0.0  0.000000     0.0  0.607641   0.0  0.603533  \n",
       "we play baseball  0.515228    0.0  0.000000     0.0  0.000000   0.0  0.606373  \n",
       "she likes golf    0.000000    0.0  0.580762     0.0  0.000000   0.0  0.000000  \n",
       "i like football   0.000000    0.0  0.000000     0.0  0.000000   0.0  0.000000  "
      ]
     },
     "execution_count": 3,
     "metadata": {},
     "output_type": "execute_result"
    }
   ],
   "source": [
    "from sklearn.feature_extraction.text import TfidfVectorizer\n",
    "toTFIDF = TfidfVectorizer(lowercase=False)\n",
    "TFIDF = toTFIDF.fit_transform(sentences).todense()\n",
    "words = toTFIDF.get_feature_names()\n",
    "\n",
    "tfidf_summary = pd.DataFrame(TFIDF, columns = words, index = sentences)\n",
    "tfidf_summary.head()"
   ]
  },
  {
   "cell_type": "markdown",
   "metadata": {},
   "source": [
    "### Issue 2: High Dimensionality:\n",
    "* Heap's law: $vocabsize = k\\cdot ntokens^{\\beta}$\n",
    "    * K usually $\\in$ (10, 100)\n",
    "    * $\\beta$ usually $\\in$ (0.4, 0.6)"
   ]
  },
  {
   "cell_type": "code",
   "execution_count": 81,
   "metadata": {
    "hide_input": true
   },
   "outputs": [
    {
     "name": "stderr",
     "output_type": "stream",
     "text": [
      "/opt/conda/lib/python3.6/site-packages/ipykernel_launcher.py:20: RuntimeWarning: divide by zero encountered in double_scalars\n",
      "/opt/conda/lib/python3.6/site-packages/scipy/optimize/optimize.py:628: RuntimeWarning: invalid value encountered in double_scalars\n",
      "  grad[k] = (f(*((xk + d,) + args)) - f0) / d[k]\n",
      "/opt/conda/lib/python3.6/site-packages/ipykernel_launcher.py:20: RuntimeWarning: divide by zero encountered in double_scalars\n"
     ]
    },
    {
     "name": "stdout",
     "output_type": "stream",
     "text": [
      "Size of vocabulary = 2.28*n_tokens^(0.80)\n"
     ]
    },
    {
     "data": {
      "image/png": "[encoded data removed]",
      "text/plain": [
       "<matplotlib.figure.Figure at 0x7f7d7c2e1e48>"
      ]
     },
     "metadata": {},
     "output_type": "display_data"
    }
   ],
   "source": [
    "%matplotlib inline\n",
    "import matplotlib.pyplot as plt\n",
    "import wikipedia\n",
    "import re\n",
    "import numpy as np\n",
    "\n",
    "page = wikipedia.page(\"List_of_Dutch_inventions_and_discoveries\")\n",
    "words = re.split(\"\\s\", page.content)\n",
    "\n",
    "\n",
    "counts = []\n",
    "for i in range(len(words)):\n",
    "    counts.append(len(set(words[:i])))\n",
    "counts = np.array(counts)\n",
    "\n",
    "from scipy.optimize import minimize\n",
    "\n",
    "def heap_error(arg):\n",
    "    k, beta = arg\n",
    "    heap_estimate = lambda x: k * x **(beta)\n",
    "    predictions = np.array(list(map(heap_estimate, range(len(words)))))\n",
    "    return np.mean(abs(predictions - counts))\n",
    "optimal_params  = minimize(heap_error, (50, .5))\n",
    "k, beta = optimal_params['x']\n",
    "heap_estimate = lambda x: k * x **(beta)\n",
    "\n",
    "\n",
    "f, ax = plt.subplots(1)\n",
    "ax.plot(counts, label=\"Actual Vocab Size\")\n",
    "ax.set_ylim(ax.get_xlim())\n",
    "\n",
    "predicted_word_counts = np.array(list(map(heap_estimate, range(len(words)))))\n",
    "ax.plot(predicted_word_counts, linestyle=\"--\", label='Predicted Vocab Size')\n",
    "ax.set_xlabel(\"N Tokens\")\n",
    "ax.set_ylabel(\"N words in vocabulary\")\n",
    "plt.legend()\n",
    "print(\"Size of vocabulary = {0:.2f}*n_tokens^({1:.2f})\".format(k, beta))"
   ]
  },
  {
   "cell_type": "code",
   "execution_count": 32,
   "metadata": {},
   "outputs": [],
   "source": [
    "from sklearn.feature_extraction.text import HashingVectorizer\n",
    "hv = HashingVectorizer(ngram_range=(1, 3), n_features=100)\n",
    "hashed_corpus = hv.transform(sentences).todense()\n"
   ]
  },
  {
   "cell_type": "code",
   "execution_count": null,
   "metadata": {},
   "outputs": [],
   "source": []
  },
  {
   "cell_type": "markdown",
   "metadata": {},
   "source": [
    "* **Solution**: Dimensionality Reduction\n",
    "* E.G. Latent Semanic Analysis\n",
    "\n",
    "* More generally: Matrix Factorization of Document, Context Matrix where context can be:\n",
    "    * Entire documents\n",
    "    * Sentences\n",
    "    * Word windows"
   ]
  },
  {
   "cell_type": "code",
   "execution_count": 4,
   "metadata": {},
   "outputs": [
    {
     "data": {
      "text/html": [
       "<div>\n",
       "<table border=\"1\" class=\"dataframe\">\n",
       "  <thead>\n",
       "    <tr style=\"text-align: right;\">\n",
       "      <th></th>\n",
       "      <th>PCA 0</th>\n",
       "      <th>PCA 1</th>\n",
       "      <th>PCA 2</th>\n",
       "      <th>PCA 3</th>\n",
       "      <th>PCA 4</th>\n",
       "    </tr>\n",
       "  </thead>\n",
       "  <tbody>\n",
       "    <tr>\n",
       "      <th>we play football</th>\n",
       "      <td>-0.630775</td>\n",
       "      <td>-0.690276</td>\n",
       "      <td>-0.397072</td>\n",
       "      <td>0.547386</td>\n",
       "      <td>-0.401107</td>\n",
       "    </tr>\n",
       "    <tr>\n",
       "      <th>we like tennis</th>\n",
       "      <td>-0.627412</td>\n",
       "      <td>0.744276</td>\n",
       "      <td>-0.489158</td>\n",
       "      <td>0.413051</td>\n",
       "      <td>-0.436502</td>\n",
       "    </tr>\n",
       "    <tr>\n",
       "      <th>we play baseball</th>\n",
       "      <td>-0.654647</td>\n",
       "      <td>-0.690757</td>\n",
       "      <td>0.348544</td>\n",
       "      <td>0.010884</td>\n",
       "      <td>-0.144642</td>\n",
       "    </tr>\n",
       "    <tr>\n",
       "      <th>she likes golf</th>\n",
       "      <td>0.765729</td>\n",
       "      <td>-0.016580</td>\n",
       "      <td>-0.102886</td>\n",
       "      <td>0.031554</td>\n",
       "      <td>-0.186356</td>\n",
       "    </tr>\n",
       "    <tr>\n",
       "      <th>i like football</th>\n",
       "      <td>-0.302798</td>\n",
       "      <td>0.718161</td>\n",
       "      <td>-0.080361</td>\n",
       "      <td>0.275443</td>\n",
       "      <td>-0.229374</td>\n",
       "    </tr>\n",
       "  </tbody>\n",
       "</table>\n",
       "</div>"
      ],
      "text/plain": [
       "                     PCA 0     PCA 1     PCA 2     PCA 3     PCA 4\n",
       "we play football -0.630775 -0.690276 -0.397072  0.547386 -0.401107\n",
       "we like tennis   -0.627412  0.744276 -0.489158  0.413051 -0.436502\n",
       "we play baseball -0.654647 -0.690757  0.348544  0.010884 -0.144642\n",
       "she likes golf    0.765729 -0.016580 -0.102886  0.031554 -0.186356\n",
       "i like football  -0.302798  0.718161 -0.080361  0.275443 -0.229374"
      ]
     },
     "execution_count": 4,
     "metadata": {},
     "output_type": "execute_result"
    }
   ],
   "source": [
    "from sklearn.decomposition import PCA\n",
    "\n",
    "k = 5\n",
    "pca = PCA(n_components=k)\n",
    "toDTM = CountVectorizer(lowercase=False)\n",
    "DTM = toDTM.fit_transform(sentences).todense()\n",
    "DTM_Rep = pca.fit_transform(DTM)\n",
    "words = toDTM.get_feature_names()\n",
    "\n",
    "lsa_summary = pd.DataFrame(DTM_Rep, columns = ['PCA {}'.format(i) for i in range(k)], index = sentences)\n",
    "lsa_summary.head()"
   ]
  },
  {
   "cell_type": "markdown",
   "metadata": {},
   "source": [
    "### Neural Embeddings\n",
    "While matrix factorization over word, context solved some key challenges, we see better performance from using neural architectures for learning word representations.\n",
    "\n",
    "**The Claim**: Words that are semantically similar should have similar contexts (aka the distributional hypothesis).\n",
    "\n",
    "**The implication 1:**Therefore, representing a words context well will provide a good representation of its underlying semantics.\n",
    "\n",
    "**The strategy:** Build a Neural Network that predicts a word given its local context. The shallow, hidden layer will learn effective context representations, and therefore semantic representations.\n",
    "\n",
    "![NN](assets/softmax-nplm.png)\n",
    "![NN](assets/BengioNN.png)\n"
   ]
  },
  {
   "cell_type": "markdown",
   "metadata": {},
   "source": [
    "### Using Gensim to implement Word2Vec, a neural embedding model."
   ]
  },
  {
   "cell_type": "markdown",
   "metadata": {},
   "source": [
    "### Exercise 1:\n",
    "Train your own word2vec model using dataset, and load those vectors into spacy. Visually inspect the results of the vector as a self organizing map.\n",
    "\n",
    "#### Gotchas and notes:\n",
    "* Due to the way the binary vector files are read and written, only single word lexemes can be mapped to a vector."
   ]
  },
  {
   "cell_type": "code",
   "execution_count": 3,
   "metadata": {
    "collapsed": true
   },
   "outputs": [],
   "source": [
    "#!pip install spacy >> ../spacy-install.log\n",
    "#!python -m spacy download en >> ../spacy-download.log\n",
    "#!pip install gensim >> ../gensim-log.txt\n",
    "#!pip install tensorflow >> ../tensorflow-log.txt\n",
    "from gensim.models import Word2Vec\n",
    "from sklearn.datasets import fetch_20newsgroups\n",
    "import spacy\n",
    "\n",
    "nlp = spacy.load('en')\n",
    "dataset = fetch_20newsgroups()\n",
    "corpus = dataset.data"
   ]
  },
  {
   "cell_type": "code",
   "execution_count": 4,
   "metadata": {
    "collapsed": true
   },
   "outputs": [],
   "source": [
    "#!pip install skater >> skaterlog.txt\n",
    "from spacy.tokens import Doc\n",
    "import spacy\n",
    "from spacy.matcher import Matcher\n",
    "from spacy.attrs import ORTH, IS_PUNCT\n",
    "from skater.util.progressbar import ProgressBar\n",
    "        \n",
    "class TextProcesser(object):\n",
    "    \n",
    "    def __init__(self, nlp=None):\n",
    "        self.nlp = nlp or spacy.load('en')\n",
    "        \n",
    "    def __call__(self, corpus, merge_ents=False, matcher=None):\n",
    "        p = ProgressBar(len(corpus))\n",
    "        for doc in self.nlp.pipe(corpus, parse=False, tag=bool(merge_ents)):\n",
    "            p.animate()\n",
    "            if matcher:\n",
    "                matcher(doc)\n",
    "            if merge_ents:\n",
    "                for ent in doc.ents:\n",
    "                    ent.merge()\n",
    "            yield list(map(self.process_token, doc))\n",
    "            \n",
    "    def process_token(self, token):\n",
    "        if token.like_url:\n",
    "            return 'URL'\n",
    "        elif token.like_email:\n",
    "            return 'EMAIL'\n",
    "        elif token.like_num:\n",
    "            return 'NUM'\n",
    "        else:\n",
    "            return token.lower_"
   ]
  },
  {
   "cell_type": "code",
   "execution_count": 5,
   "metadata": {},
   "outputs": [
    {
     "name": "stdout",
     "output_type": "stream",
     "text": [
      "[1/1] iterations ████████████████████ Time elapsed: 0 seconds[['lets', 'go', 'to', 'new', 'york', '.']]\n"
     ]
    }
   ],
   "source": [
    "from spacy.attrs import LOWER\n",
    "matcher = Matcher(nlp.vocab)\n",
    "matcher.add_entity('Twitter')\n",
    "matcher.add_pattern(\"Twitter\", [{LOWER: \"twitter\"},])\n",
    "processor = TextProcesser(nlp=nlp)\n",
    "print(list(processor([\"Lets go to New York.\"])))"
   ]
  },
  {
   "cell_type": "code",
   "execution_count": 6,
   "metadata": {},
   "outputs": [
    {
     "name": "stdout",
     "output_type": "stream",
     "text": [
      "[11314/11314] iterations ████████████████████ Time elapsed: 62 seconds"
     ]
    }
   ],
   "source": [
    "processed_sents = list(processor(corpus))"
   ]
  },
  {
   "cell_type": "code",
   "execution_count": 7,
   "metadata": {
    "collapsed": true
   },
   "outputs": [],
   "source": [
    "model = Word2Vec(sentences=processed_sents, ###tokenized senteces, list of list of strings\n",
    "                 size=250,  #size of embedding vectors\n",
    "                 workers=8, #how many threads?\n",
    "                 min_count=5, #minimum number of token instances to be considered\n",
    "                 sample=0, #weight of downsampling common words? \n",
    "                 sg = 0, #should we use skip-gram? if 0, then cbow\n",
    "                 hs=0, #heirarchical softmax?\n",
    "                 iter=5 #training epocs\n",
    "        )\n",
    "with open('gensim-model.pkl', 'wb') as model_file:\n",
    "    model.save(model_file)\n",
    "    \n",
    "    \n",
    "#load vectors here?"
   ]
  },
  {
   "cell_type": "code",
   "execution_count": 19,
   "metadata": {},
   "outputs": [
    {
     "data": {
      "text/html": [
       "<div>\n",
       "<style>\n",
       "    .dataframe thead tr:only-child th {\n",
       "        text-align: right;\n",
       "    }\n",
       "\n",
       "    .dataframe thead th {\n",
       "        text-align: left;\n",
       "    }\n",
       "\n",
       "    .dataframe tbody tr th {\n",
       "        vertical-align: top;\n",
       "    }\n",
       "</style>\n",
       "<table border=\"1\" class=\"dataframe\">\n",
       "  <thead>\n",
       "    <tr style=\"text-align: right;\">\n",
       "      <th></th>\n",
       "      <th>custom</th>\n",
       "      <th>default</th>\n",
       "    </tr>\n",
       "  </thead>\n",
       "  <tbody>\n",
       "    <tr>\n",
       "      <th>agency</th>\n",
       "      <td>0.639094</td>\n",
       "      <td>0.538254</td>\n",
       "    </tr>\n",
       "    <tr>\n",
       "      <th>congress</th>\n",
       "      <td>0.549838</td>\n",
       "      <td>0.523014</td>\n",
       "    </tr>\n",
       "    <tr>\n",
       "      <th>president</th>\n",
       "      <td>0.532845</td>\n",
       "      <td>0.512542</td>\n",
       "    </tr>\n",
       "    <tr>\n",
       "      <th>sport</th>\n",
       "      <td>0.210933</td>\n",
       "      <td>0.173088</td>\n",
       "    </tr>\n",
       "  </tbody>\n",
       "</table>\n",
       "</div>"
      ],
      "text/plain": [
       "             custom   default\n",
       "agency     0.639094  0.538254\n",
       "congress   0.549838  0.523014\n",
       "president  0.532845  0.512542\n",
       "sport      0.210933  0.173088"
      ]
     },
     "execution_count": 19,
     "metadata": {},
     "output_type": "execute_result"
    }
   ],
   "source": [
    "import pandas as pd\n",
    "sims = {}\n",
    "test_word = 'government'\n",
    "for word in ['president', 'congress', 'sport', 'agency']:\n",
    "    custom_similarity = model.similarity(test_word, word)\n",
    "    spacy_similarity = nlp(test_word).similarity(nlp(word))\n",
    "    sims[word] = {'default': spacy_similarity, 'custom':custom_similarity}\n",
    "pd.DataFrame(sims).T"
   ]
  },
  {
   "cell_type": "code",
   "execution_count": 20,
   "metadata": {
    "collapsed": true
   },
   "outputs": [],
   "source": [
    "import bz2\n",
    "import spacy\n",
    "#write to disk\n",
    "vector_file = 'custom-vectors.word2vec'\n",
    "model.wv.save_word2vec_format(str(vector_file), binary=False)\n",
    "\n",
    "\n",
    "#delete first 2 lines; contains non-decodeable stuff\n",
    "with open(str(vector_file), 'rb') as f:\n",
    "    data = f.readlines()\n",
    "f.close()\n",
    "with open(str(vector_file), 'wb') as f:\n",
    "    f.writelines(data)\n",
    "    \n",
    "\n",
    "#compress via bz2\n",
    "compressed_filename = vector_file + '.bz2'\n",
    "z = bz2.compress(open(vector_file, 'rb').read())\n",
    "with open(compressed_filename, 'wb') as out:\n",
    "    out.write(z)\n",
    "spacy.vocab.write_binary_vectors('custom-vectors.word2vec.bz2', 'custom-vectors.bin')    "
   ]
  },
  {
   "cell_type": "code",
   "execution_count": 2,
   "metadata": {},
   "outputs": [
    {
     "data": {
      "text/plain": [
       "250"
      ]
     },
     "execution_count": 2,
     "metadata": {},
     "output_type": "execute_result"
    }
   ],
   "source": [
    "nlp_new = spacy.load('en')\n",
    "nlp_new.vocab.load_vectors_from_bin_loc('custom-vectors.bin')"
   ]
  },
  {
   "cell_type": "code",
   "execution_count": 23,
   "metadata": {},
   "outputs": [
    {
     "data": {
      "text/html": [
       "<div>\n",
       "<style>\n",
       "    .dataframe thead tr:only-child th {\n",
       "        text-align: right;\n",
       "    }\n",
       "\n",
       "    .dataframe thead th {\n",
       "        text-align: left;\n",
       "    }\n",
       "\n",
       "    .dataframe tbody tr th {\n",
       "        vertical-align: top;\n",
       "    }\n",
       "</style>\n",
       "<table border=\"1\" class=\"dataframe\">\n",
       "  <thead>\n",
       "    <tr style=\"text-align: right;\">\n",
       "      <th></th>\n",
       "      <th>custom</th>\n",
       "      <th>default</th>\n",
       "    </tr>\n",
       "  </thead>\n",
       "  <tbody>\n",
       "    <tr>\n",
       "      <th>agency</th>\n",
       "      <td>0.639094</td>\n",
       "      <td>0.639094</td>\n",
       "    </tr>\n",
       "    <tr>\n",
       "      <th>congress</th>\n",
       "      <td>0.549838</td>\n",
       "      <td>0.549838</td>\n",
       "    </tr>\n",
       "    <tr>\n",
       "      <th>president</th>\n",
       "      <td>0.532845</td>\n",
       "      <td>0.532845</td>\n",
       "    </tr>\n",
       "    <tr>\n",
       "      <th>sport</th>\n",
       "      <td>0.210933</td>\n",
       "      <td>0.210933</td>\n",
       "    </tr>\n",
       "  </tbody>\n",
       "</table>\n",
       "</div>"
      ],
      "text/plain": [
       "             custom   default\n",
       "agency     0.639094  0.639094\n",
       "congress   0.549838  0.549838\n",
       "president  0.532845  0.532845\n",
       "sport      0.210933  0.210933"
      ]
     },
     "execution_count": 23,
     "metadata": {},
     "output_type": "execute_result"
    }
   ],
   "source": [
    "\n",
    "sims = {}\n",
    "test_word = 'government'\n",
    "for word in ['president', 'congress', 'sport', 'agency']:\n",
    "    custom_similarity = model.similarity(test_word, word)\n",
    "    spacy_similarity = nlp(test_word).similarity(nlp_new(word))\n",
    "    sims[word] = {'default': spacy_similarity, 'custom':custom_similarity}\n",
    "pd.DataFrame(sims).T"
   ]
  },
  {
   "cell_type": "markdown",
   "metadata": {},
   "source": [
    "### Tailoring the word embeddings can improve classification results"
   ]
  },
  {
   "cell_type": "code",
   "execution_count": 11,
   "metadata": {},
   "outputs": [
    {
     "data": {
      "text/plain": [
       "SVC(C=1.0, cache_size=200, class_weight=None, coef0=0.0,\n",
       "  decision_function_shape=None, degree=3, gamma='auto', kernel='rbf',\n",
       "  max_iter=-1, probability=False, random_state=None, shrinking=True,\n",
       "  tol=0.001, verbose=False)"
      ]
     },
     "execution_count": 11,
     "metadata": {},
     "output_type": "execute_result"
    }
   ],
   "source": [
    "from sklearn.svm import SVC\n",
    "from sklearn.model_selection import train_test_split\n",
    "import numpy as np\n",
    "X1 = np.array(list(map(lambda doc: doc.vector, nlp.pipe(corpus, tag=False, parse=False))))\n",
    "X2 = np.array(list(map(lambda doc: doc.vector, nlp_new.pipe(corpus, tag=False, parse=False))))\n",
    "y = dataset.target\n",
    "\n",
    "X1_train, X1_test, X2_train, X2_test, y_train, y_test = train_test_split(X1, X2, y, test_size=.3)\n",
    "svm1 = SVC()\n",
    "svm1.fit(X1_train, y_train)\n",
    "\n",
    "svm2 = SVC()\n",
    "svm2.fit(X2_train, y_train)\n",
    "\n",
    "from sklearn.metrics import accuracy_score\n",
    "preds1 = svm1.predict(X1_test)\n",
    "preds2 = svm2.predict(X2_test)\n",
    "\n",
    "print(accuracy_score(y_test, preds1))\n",
    "print(accuracy_score(y_test, preds2))\n"
   ]
  },
  {
   "cell_type": "code",
   "execution_count": 32,
   "metadata": {},
   "outputs": [
    {
     "name": "stdout",
     "output_type": "stream",
     "text": [
      "WARNING:tensorflow:From /opt/conda/envs/python3/lib/python3.5/site-packages/tensorflow/python/util/tf_should_use.py:170: initialize_all_variables (from tensorflow.python.ops.variables) is deprecated and will be removed after 2017-03-02.\n",
      "Instructions for updating:\n",
      "Use `tf.global_variables_initializer` instead.\n"
     ]
    }
   ],
   "source": [
    "colors = np.array(\n",
    "     [[0., 0., 0.],\n",
    "      [0., 0., 1.],\n",
    "      [0., 0., 0.5],\n",
    "      [0.125, 0.529, 1.0],\n",
    "      [0.33, 0.4, 0.67],\n",
    "      [0.6, 0.5, 1.0],\n",
    "      [0., 1., 0.],\n",
    "      [1., 0., 0.],\n",
    "      [0., 1., 1.],\n",
    "      [1., 0., 1.],\n",
    "      [1., 1., 0.],\n",
    "      [1., 1., 1.],\n",
    "      [.33, .33, .33],\n",
    "      [.5, .5, .5],\n",
    "      [.66, .66, .66]])\n",
    "color_names = \\\n",
    "    ['black', 'blue', 'darkblue', 'skyblue',\n",
    "     'greyblue', 'lilac', 'green', 'red',\n",
    "     'cyan', 'violet', 'yellow', 'white',\n",
    "     'darkgrey', 'mediumgrey', 'lightgrey']\n",
    "    \n",
    "som = SOM(20, 30, 3, 400)\n",
    "som.train(colors)"
   ]
  },
  {
   "cell_type": "code",
   "execution_count": null,
   "metadata": {
    "collapsed": true
   },
   "outputs": [],
   "source": []
  },
  {
   "cell_type": "code",
   "execution_count": 34,
   "metadata": {
    "collapsed": true
   },
   "outputs": [],
   "source": [
    "#Get output grid\n",
    "image_grid = som.get_centroids()\n",
    " \n",
    "#Map colours to their closest neurons\n",
    "mapped = som.map_vects(colors)"
   ]
  },
  {
   "cell_type": "code",
   "execution_count": 35,
   "metadata": {},
   "outputs": [
    {
     "data": {
      "image/png": "[encoded data removed]",
      "text/plain": [
       "<matplotlib.figure.Figure at 0x7ff7b0b02668>"
      ]
     },
     "metadata": {},
     "output_type": "display_data"
    }
   ],
   "source": [
    "import matplotlib.pyplot as plt\n",
    "#Plot\n",
    "plt.imshow(image_grid)\n",
    "plt.title('Color SOM')\n",
    "for i, m in enumerate(mapped):\n",
    "    plt.text(m[1], m[0], color_names[i], ha='center', va='center',\n",
    "             bbox=dict(facecolor='white', alpha=0.5, lw=0))\n",
    "plt.show()"
   ]
  },
  {
   "cell_type": "code",
   "execution_count": null,
   "metadata": {
    "collapsed": true
   },
   "outputs": [],
   "source": []
  },
  {
   "cell_type": "code",
   "execution_count": null,
   "metadata": {
    "collapsed": true
   },
   "outputs": [],
   "source": [
    "\n",
    "def merge_phrases(matcher, doc, i, matches):\n",
    "    '''\n",
    "    Merge a phrase. We have to be careful here because we'll change the token indices.\n",
    "    To avoid problems, merge all the phrases once we're called on the last match.\n",
    "    '''\n",
    "    if i != len(matches)-1:\n",
    "        return None\n",
    "    # Get Span objects\n",
    "    spans = [(ent_id, label, doc[start : end]) for ent_id, label, start, end in matches]\n",
    "    for ent_id, label, span in spans:\n",
    "        span.merge(label=label, tag='NNP' if label else span.root.tag_)"
   ]
  },
  {
   "cell_type": "code",
   "execution_count": null,
   "metadata": {
    "collapsed": true
   },
   "outputs": [],
   "source": []
  },
  {
   "cell_type": "code",
   "execution_count": null,
   "metadata": {
    "collapsed": true
   },
   "outputs": [],
   "source": [
    "<p id=\"note1\">\n",
    "turns out the distinction may not be that important. (see [Levy and Goldberg (2014), Pennington et al. (2014), Österlund et al. (2015)] as referenced in https://www.gavagai.se/blog/2015/09/30/a-brief-history-of-word-embeddings/).\n",
    "</p>"
   ]
  },
  {
   "cell_type": "code",
   "execution_count": null,
   "metadata": {
    "collapsed": true
   },
   "outputs": [],
   "source": []
  },
  {
   "cell_type": "code",
   "execution_count": null,
   "metadata": {
    "collapsed": true
   },
   "outputs": [],
   "source": []
  },
  {
   "cell_type": "code",
   "execution_count": null,
   "metadata": {
    "collapsed": true
   },
   "outputs": [],
   "source": []
  },
  {
   "cell_type": "code",
   "execution_count": null,
   "metadata": {
    "collapsed": true
   },
   "outputs": [],
   "source": []
  },
  {
   "cell_type": "markdown",
   "metadata": {
    "collapsed": true
   },
   "source": [
    "### In this section:\n",
    "* Thoughts on word embeddings as a means of representing text\n",
    "* Integrating your embeddings into SpaCy\n",
    "* Integrating your classifier into SpaCy\n",
    "* Visualizing your embeddings[if time permits]\n",
    "* Visualizing your model[if time permits]\n",
    "\n",
    "\n",
    "### How to represent words for NLP\n",
    "* motivator on why bag of words/ one hot encoding is bad\n",
    "    * curse of dimensionality, sparsity, ignores context, new words, etc.\n",
    "* Word vectors\n",
    "    * distributional hypothesis \n",
    "        * describing the landscape of models as using different types of \"context\"   \n",
    "        * count and predictive approachs [<a href=\"#note1\">note.</a>]\n",
    "        * larger context: semantic relatedness (e.g. “boat” – “water”)\n",
    "        * smaller context: semantic similarity (e.g. “boat” – “ship”)\n",
    "    * quick overview on methods\n",
    "    * SVD on doc/word matrices\n",
    "    * SVD on co-occurance matrices with window\n",
    "    \n",
    "    * some issues:\n",
    "        * large matrices!\n",
    "        * expensive to SVD (quadratic time)\n",
    "        * Sparse\n",
    "    * Glove\n",
    "    * word2vec: make word vectors the parameters of a model with the objective of defining local context.\n",
    "    * go over word2vec in a little more detail\n",
    "        * skip gram\n",
    "        * cbow\n",
    "        * negative sampling\n",
    "    * word embeddings in python:\n",
    "        * sklearn/pydsm + numpy (vectorizers + matrix decompositions)\n",
    "        * gensim (word2vec)\n",
    "* Neural models \n",
    "\n",
    "        \n",
    "        \n",
    "* Inspecting results of word embeddings:\n",
    "    * self organizing maps\n",
    "* Validating word vectors:\n",
    "    * intrinsic vs extrinsic\n",
    "    \n",
    "* A note on NNs:\n",
    "    * transferable features in shallow parts of a network, theres an analogy their with word2vec (shallow networks)."
   ]
  }
 ],
 "metadata": {
  "celltoolbar": "Tags",
  "kernelspec": {
   "display_name": "Python 3",
   "language": "python",
   "name": "python3"
  },
  "language_info": {
   "codemirror_mode": {
    "name": "ipython",
    "version": 3
   },
   "file_extension": ".py",
   "mimetype": "text/x-python",
   "name": "python",
   "nbconvert_exporter": "python",
   "pygments_lexer": "ipython3",
   "version": "3.6.1"
  }
 },
 "nbformat": 4,
 "nbformat_minor": 2
}
