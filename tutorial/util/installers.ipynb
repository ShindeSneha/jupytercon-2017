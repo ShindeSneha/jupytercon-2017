{
 "cells": [
  {
   "cell_type": "code",
   "execution_count": 2,
   "metadata": {},
   "outputs": [],
   "source": [
    "def from_scratch():\n",
    "    from warnings import warn\n",
    "    try:\n",
    "        import spacy\n",
    "    except ModuleNotFoundError:\n",
    "        warn(\"Installing Spacy\")\n",
    "        !conda install spacy=1.8.1 -y >> ~/install.log\n",
    "        import spacy        \n",
    "    except ImportError:\n",
    "        warn(\"Installing Spacy\")        \n",
    "        !conda install spacy=1.8.1 -y >> ~/install.log\n",
    "        import spacy\n",
    "        \n",
    "    try:\n",
    "        import gensim\n",
    "    except ModuleNotFoundError:\n",
    "        warn(\"Installing Gensim\")\n",
    "        !pip install gensim >> ~/install.log\n",
    "        import gensim\n",
    "\n",
    "    nlp = spacy.load('en')\n",
    "    if nlp.parser is None:\n",
    "        warn(\"Downloading Spacy Model\")        \n",
    "        !python -m spacy download en >> ~/install.log\n",
    "    del nlp\n",
    "    try:\n",
    "        import nltk\n",
    "    except ModuleNotFoundError:\n",
    "        warn(\"Installing nltk\")        \n",
    "        !conda install nltk -y\n",
    "    try:\n",
    "        import tensorflow\n",
    "    except ModuleNotFoundError:\n",
    "        warn(\"Installing Tensorflow\")        \n",
    "        !conda install tensorflow -y >> ~/install.log        \n",
    "    try:\n",
    "        import keras\n",
    "    except ModuleNotFoundError:\n",
    "        warn(\"Installing keras\")        \n",
    "        !conda install keras -y >> ~/install.log\n",
    "        \n",
    "    try:\n",
    "        import skater\n",
    "    except ModuleNotFoundError:\n",
    "        warn(\"Installing skater\")        \n",
    "        !conda install skater -y >> ~/install.log    \n",
    "        \n",
    "    warn(\"You may need to refresh the notebook.\")\n",
    "from_scratch()"
   ]
  },
  {
   "cell_type": "code",
   "execution_count": null,
   "metadata": {
    "collapsed": true
   },
   "outputs": [],
   "source": []
  }
 ],
 "metadata": {
  "kernelspec": {
   "display_name": "Python 3",
   "language": "python",
   "name": "python3"
  },
  "language_info": {
   "codemirror_mode": {
    "name": "ipython",
    "version": 3
   },
   "file_extension": ".py",
   "mimetype": "text/x-python",
   "name": "python",
   "nbconvert_exporter": "python",
   "pygments_lexer": "ipython3",
   "version": "3.6.2"
  }
 },
 "nbformat": 4,
 "nbformat_minor": 2
}
