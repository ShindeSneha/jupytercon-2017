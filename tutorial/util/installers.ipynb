{
 "cells": [
  {
   "cell_type": "code",
   "execution_count": null,
   "metadata": {
    "collapsed": true
   },
   "outputs": [],
   "source": [
    "def from_scratch():\n",
    "    try:\n",
    "        import gensim\n",
    "    except ModuleNotFoundError:\n",
    "        !pip install gensim >> ~/install.log\n",
    "    try:\n",
    "        import spacy\n",
    "    except ModuleNotFoundError:\n",
    "        !conda install spacy -y >> ~/install.log\n",
    "    \n",
    "    import spacy\n",
    "    nlp = spacy.load('en')\n",
    "    if nlp.parser is None:\n",
    "        !python -m spacy download en >> ~/install.log\n",
    "    del nlp\n",
    "    \n",
    "    !jupyter nbextension enable --py --sys-prefix widgetsnbextension >> ~/install.log\n",
    "    try:\n",
    "        import nltk\n",
    "    except ModuleNotFoundError:\n",
    "        !conda install nltk -y\n",
    "    try:\n",
    "        import tensorflow\n",
    "    except ModuleNotFoundError:\n",
    "        !conda install tensorflow -y >> ~/install.log        \n",
    "    try:\n",
    "        import keras\n",
    "    except ModuleNotFoundError:\n",
    "        !conda install keras -y >> ~/install.log\n",
    "        \n",
    "    try:\n",
    "        import skater\n",
    "    except ModuleNotFoundError:\n",
    "        !conda install skater -y >> ~/install.log    \n",
    "        \n",
    "from_scratch()"
   ]
  }
 ],
 "metadata": {
  "kernelspec": {
   "display_name": "Python 3",
   "language": "python",
   "name": "python3"
  },
  "language_info": {
   "codemirror_mode": {
    "name": "ipython",
    "version": 3
   },
   "file_extension": ".py",
   "mimetype": "text/x-python",
   "name": "python",
   "nbconvert_exporter": "python",
   "pygments_lexer": "ipython3",
   "version": "3.6.1"
  }
 },
 "nbformat": 4,
 "nbformat_minor": 2
}
