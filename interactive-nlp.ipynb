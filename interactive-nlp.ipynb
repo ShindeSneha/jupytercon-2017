{
 "cells": [
  {
   "cell_type": "markdown",
   "metadata": {
    "_datascience": {}
   },
   "source": [
    "### Goals of tutorial\n",
    "* feature jupyter as much as possible\n",
    "* cover useful concepts related to nlp\n",
    "* showcase core spacy capabilities\n",
    "* showcase spacy integrations with other libs"
   ]
  },
  {
   "cell_type": "code",
   "execution_count": null,
   "metadata": {
    "_datascience": {},
    "collapsed": true
   },
   "outputs": [],
   "source": [
    "%matplotlib inline\n",
    "from ipywidgets import Layout, Button, Text\n",
    "from IPython.display import display\n",
    "from IPython.display import clear_output\n",
    "import matplotlib.pyplot as plt\n",
    "\n",
    "class TextApp(object):\n",
    "    def __init__(self):\n",
    "\n",
    "        self.text_box = Text()\n",
    "        self.run_button = Button(description=\"Run Model\")\n",
    "        self.run_button.on_click(self.on_button_clicked)\n",
    "        display(self.run_button)\n",
    "        display(self.text_box)        \n",
    "        self.ax = None\n",
    "        self.f = None\n",
    "        \n",
    "    def on_button_clicked(self, b):\n",
    "        #clear_output()\n",
    "        if self.ax is None:\n",
    "            self.f, self.ax = plt.subplots(1)\n",
    "        #self.ax.set_title(self.text_box.value)\n",
    "        plt.title(self.text_box.value)\n",
    "        plt.show()\n",
    "\n",
    "app = TextApp()"
   ]
  }
 ],
 "metadata": {
  "_datascience": {},
  "kernelspec": {
   "display_name": "Python 2",
   "language": "python",
   "name": "python2"
  },
  "language_info": {
   "codemirror_mode": {
    "name": "ipython",
    "version": 2
   },
   "file_extension": ".py",
   "mimetype": "text/x-python",
   "name": "python",
   "nbconvert_exporter": "python",
   "pygments_lexer": "ipython2",
   "version": "2.7.6"
  }
 },
 "nbformat": 4,
 "nbformat_minor": 0
}
